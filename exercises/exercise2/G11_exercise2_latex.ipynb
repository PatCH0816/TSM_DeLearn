{
 "cells": [
  {
   "cell_type": "markdown",
   "metadata": {},
   "source": [
    "# Exercise 2"
   ]
  },
  {
   "cell_type": "markdown",
   "metadata": {},
   "source": [
    "## a) Derivative of sigmoid function: \n",
    "$$\\sigma(z) = \\frac{1}{1 + e^{-z}}$$"
   ]
  },
  {
   "cell_type": "markdown",
   "metadata": {},
   "source": [
    "Use **Chain Rule**:"
   ]
  },
  {
   "cell_type": "markdown",
   "metadata": {},
   "source": [
    "$$\n",
    "\\sigma'(z)=\\frac{d}{dz}\\sigma(z)=\\frac{d}{dz}\\frac{1}{1 + e^{-z}}\\\\\n",
    "\\sigma'(z)=\\frac{d}{dz}(1 + e^{-z})^{-1}\\\\\n",
    "\\sigma'(z)=-1 * (1 + e^{-z})^{-2} * e^{-z} * -1\\\\\n",
    "\\sigma'(z)=\\frac{e^{-z}}{(1 + e^{-z})^{2}}\\\\\n",
    "$$"
   ]
  },
  {
   "cell_type": "markdown",
   "metadata": {},
   "source": [
    "## b) Equation: \n",
    "$$\\sigma'(z) = \\sigma(z).(1-\\sigma(z))$$"
   ]
  },
  {
   "cell_type": "markdown",
   "metadata": {},
   "source": [
    "Reformat the derivative to use $\\sigma(z)$:"
   ]
  },
  {
   "cell_type": "markdown",
   "metadata": {},
   "source": [
    "$$\n",
    "\\sigma'(z)=\\frac{e^{-z}}{(1 + e^{-z})^{2}}\\\\\n",
    "\\sigma'(z)=\\frac{e^{-z}}{(1 + e^{-z})*(1 + e^{-z})}\\\\\n",
    "\\sigma'(z)=\\frac{1}{(1 + e^{-z})}*\\frac{e^{-z}}{(1 + e^{-z})}\\\\\n",
    "\\sigma'(z)=\\frac{1}{(1 + e^{-z})}*\\frac{1+e^{-z}-1}{(1 + e^{-z})}\\\\\n",
    "\\sigma'(z)=\\frac{1}{(1 + e^{-z})}*(\\frac{(1+e^{-z})}{(1 + e^{-z})} - \\frac{1}{(1 + e^{-z})})\\\\\n",
    "\\sigma'(z)=\\frac{1}{(1 + e^{-z})}*(1 - \\frac{1}{(1 + e^{-z})})\\\\\n",
    "\\sigma'(z) = \\sigma(z).(1-\\sigma(z))\\\\\n",
    "$$"
   ]
  },
  {
   "cell_type": "markdown",
   "metadata": {},
   "source": [
    "## c) First and second derivative of: \n",
    "$$\\zeta(z) = -log(\\sigma(-z))$$"
   ]
  },
  {
   "cell_type": "markdown",
   "metadata": {},
   "source": [
    "$$\n",
    "\\sigma(-z) = \\frac{1}{1 + e^{z}}\\\\\n",
    "\\zeta(z) = -log(\\frac{1}{1 + e^{z}})\\\\\n",
    "\\zeta(z) = -(log(1)-log(1 + e^{z}))\\\\\n",
    "\\zeta(z) = -(0-log(1 + e^{z}))\\\\\n",
    "\\zeta(z) = log(1 + e^{z})\\\\\n",
    "$$"
   ]
  },
  {
   "cell_type": "markdown",
   "metadata": {},
   "source": [
    "### First derivative:\n",
    "$$\n",
    "\\zeta'(z) = \\frac{1}{1 + e^z}* e^z * 1 \\\\\n",
    "\\zeta'(z) = \\frac{e^z}{1 + e^z} \\\\\n",
    "$$"
   ]
  },
  {
   "cell_type": "markdown",
   "metadata": {},
   "source": [
    "### Second derivative:\n",
    "$$\n",
    "f = \\frac{g}{h}\\\\\n",
    "f' = \\frac{g'.h-g.h'}{h^2} \\\\\n",
    "$$\n",
    "Applied for $\\zeta''(z)$:\n",
    "$$\n",
    "\\zeta''(z) = \\frac{(e^z * (1 + e^z))-(e^z * e^z)} {(1 + e^z)^2} \\\\\n",
    "\\zeta''(z) = \\frac{(e^z + e^{2z})-(e^{2z})} {(1 + e^z)^2} \\\\\n",
    "\\zeta''(z) = \\frac{e^z} {(1 + e^z)^2} \\\\\n",
    "$$"
   ]
  },
  {
   "cell_type": "code",
   "execution_count": 18,
   "metadata": {},
   "outputs": [],
   "source": [
    "import numpy as np\n",
    "\n",
    "def zeta(x):\n",
    "    \"\"\"\n",
    "    Zeta function zeta = -ln(sigma(-x)) = ln(1 + e^x)\n",
    "\n",
    "    Arguments:\n",
    "    x -- array of inputs of size (1,m)\n",
    "    \n",
    "    Returns:\n",
    "    y -- array of outputs of size (1,m)\n",
    "    \"\"\"\n",
    "    \n",
    "    y = np.log(1 + np.exp(x))\n",
    "    return y"
   ]
  },
  {
   "cell_type": "code",
   "execution_count": 19,
   "metadata": {},
   "outputs": [
    {
     "data": {
      "image/png": "[encoded data removed]",
      "text/plain": [
       "<Figure size 432x288 with 1 Axes>"
      ]
     },
     "metadata": {
      "needs_background": "light"
     },
     "output_type": "display_data"
    }
   ],
   "source": [
    "import matplotlib.pyplot as plt\n",
    "\n",
    "x = np.linspace(-100, 100, 200)\n",
    "y = zeta(x)\n",
    "\n",
    "plt.plot(x, y)\n",
    "plt.show()"
   ]
  },
  {
   "cell_type": "markdown",
   "metadata": {},
   "source": [
    "For $z \\to -\\infty$:\n",
    "$$\n",
    "\\lim\\limits_{z \\to -\\infty} \\zeta(z) = \\lim\\limits_{z \\to -\\infty}log(1 + e^{z})=0\\\\\n",
    "$$\n",
    "For $z \\to \\infty$:\n",
    "$$\n",
    "\\lim\\limits_{z \\to \\infty} \\zeta(z) = \\lim\\limits_{z \\to \\infty}log(1 + e^{z})=\\infty\\\\\n",
    "$$\n",
    "Consider limit of $\\zeta(z)/z$:\n",
    "$$\n",
    "\\lim\\limits_{z \\to \\infty} \\frac {\\zeta(z)}{z} = \\lim\\limits_{z \\to \\infty} \\frac {log(1 + e^{z})}{z}=1\\\\\n",
    "$$"
   ]
  },
  {
   "cell_type": "markdown",
   "metadata": {},
   "source": [
    "Asymptotes: \n",
    "- y = 0\n",
    "- y = x"
   ]
  },
  {
   "cell_type": "markdown",
   "metadata": {},
   "source": [
    "## d) Sigmoid function and its derivative: "
   ]
  },
  {
   "cell_type": "code",
   "execution_count": 20,
   "metadata": {},
   "outputs": [],
   "source": [
    "import numpy as np\n",
    "\n",
    "def sigmoid(x):\n",
    "    \"\"\"\n",
    "    Sigmoid function sigma = 1/(1 + e^-x)\n",
    "\n",
    "    Arguments:\n",
    "    x -- array of inputs of size (1,m)\n",
    "    \n",
    "    Returns:\n",
    "    y -- array of outputs of size (1,m)\n",
    "    \"\"\"\n",
    "    \n",
    "    y = 1 / (1 + np.exp(-x))\n",
    "    return y\n",
    "\n",
    "def d_sigmoid(x):\n",
    "    \"\"\"\n",
    "    Derivative of sigmoid function dsigma = sigma(x)*(1-sigma(x))\n",
    "\n",
    "    Arguments:\n",
    "    x -- array of inputs of size (1,m)\n",
    "    \n",
    "    Returns:\n",
    "    y -- array of outputs of size (1,m)\n",
    "    \"\"\"\n",
    "    \n",
    "    y = sigmoid(x)*(1 - sigmoid(x))\n",
    "    return y\n",
    "    "
   ]
  },
  {
   "cell_type": "code",
   "execution_count": 21,
   "metadata": {},
   "outputs": [
    {
     "data": {
      "image/png": "[encoded data removed]",
      "text/plain": [
       "<Figure size 432x288 with 1 Axes>"
      ]
     },
     "metadata": {
      "needs_background": "light"
     },
     "output_type": "display_data"
    },
    {
     "data": {
      "image/png": "[encoded data removed]",
      "text/plain": [
       "<Figure size 432x288 with 1 Axes>"
      ]
     },
     "metadata": {
      "needs_background": "light"
     },
     "output_type": "display_data"
    }
   ],
   "source": [
    "import matplotlib.pyplot as plt\n",
    "\n",
    "x = np.linspace(-10, 10, 100)\n",
    "y = sigmoid(x)\n",
    "\n",
    "plt.plot(x, y)\n",
    "plt.show()\n",
    "\n",
    "y1 = d_sigmoid(x)\n",
    "plt.plot(x, y1)\n",
    "plt.show()"
   ]
  },
  {
   "cell_type": "markdown",
   "metadata": {},
   "source": [
    "## e) No exercise "
   ]
  },
  {
   "cell_type": "markdown",
   "metadata": {},
   "source": [
    "## f) Non-convex function: \n",
    "$$\n",
    "c_1(x) =(\\sigma(x)-1)^2\n",
    "$$"
   ]
  },
  {
   "cell_type": "code",
   "execution_count": 22,
   "metadata": {},
   "outputs": [],
   "source": [
    "def c1(x):\n",
    "    \"\"\"\n",
    "    Function c1 from exercise 2f\n",
    "\n",
    "    Arguments:\n",
    "    x -- array of inputs of size (1,m)\n",
    "    \n",
    "    Returns:\n",
    "    y -- array of outputs of size (1,m)\n",
    "    \"\"\"\n",
    "    \n",
    "    y = (sigmoid(x)-1)**2\n",
    "    return y"
   ]
  },
  {
   "cell_type": "code",
   "execution_count": 27,
   "metadata": {},
   "outputs": [
    {
     "data": {
      "image/png": "[encoded data removed]",
      "text/plain": [
       "<Figure size 432x288 with 1 Axes>"
      ]
     },
     "metadata": {
      "needs_background": "light"
     },
     "output_type": "display_data"
    }
   ],
   "source": [
    "x = np.linspace(-10, 10, 100)\n",
    "y = c1(x)\n",
    "\n",
    "x1 = np.array([-5, 5])\n",
    "y1 = c1(x1)\n",
    "\n",
    "plt.plot(x, y)\n",
    "plt.plot(x1, y1, 'g', linestyle=':', marker='o')\n",
    "plt.show()"
   ]
  },
  {
   "cell_type": "markdown",
   "metadata": {},
   "source": [
    "A line segment of two points, which lies above and below the graph, can be constructed, thus the function is non-convex."
   ]
  },
  {
   "cell_type": "markdown",
   "metadata": {},
   "source": [
    "## g) Another function: \n",
    "$$\n",
    "c_2(x)=-(y.log(\\sigma(w.x))+(1-y).log(1-\\sigma(w.x)))\n",
    "$$"
   ]
  },
  {
   "cell_type": "markdown",
   "metadata": {},
   "source": [
    "### First derivative:\n",
    "Use **Chain-** and **Sum-Rules**:\n",
    "#### Separate in a and b:\n",
    "$$\n",
    "a = y.log(\\sigma(w.x))=y.log(\\frac{1}{1+e^{-w.x}})\\\\\n",
    "b = (1-y).log(1-\\sigma(w.x))=(1-y).log(1-\\frac{1}{1+e^{-w.x}})\\\\\n",
    "$$"
   ]
  },
  {
   "cell_type": "markdown",
   "metadata": {},
   "source": [
    "#### Derivative a:\n",
    "$$\n",
    "a' = y. \\frac{1}{\\frac{1}{1+e^{-w.x}}}.-1.(1+e^{-w.x})^{-2}.e^{-w.x}.-w\\\\\n",
    "a' = \\frac{y.w.e^{-w.x}}{1+e^{-w.x}}\\\\\n",
    "$$"
   ]
  },
  {
   "cell_type": "markdown",
   "metadata": {},
   "source": [
    "#### Derivative b:\n",
    "$$\n",
    "b' = (1-y). \\frac{1}{1- \\frac{1}{1+e^{-w.x}}} .-1.-1.(1+e^{-w.x})^{-2} .e^{-w.x}.-w\\\\\n",
    "b' = (1-y). \\frac{1}{\\frac{1+e^{-w.x}-1}{1+e^{-w.x}}}.(1+e^{-w.x})^{-2}.-w.e^{-w.x}\\\\\n",
    "b' = (1-y). \\frac{1+e^{-w.x}}{e^{-w.x}}.\\frac{-w.e^{-w.x}}{(1+e^{-w.x})^2}\\\\\n",
    "b' = (1-y). \\frac{-w}{1+e^{-w.x}}\\\\\n",
    "$$"
   ]
  },
  {
   "cell_type": "markdown",
   "metadata": {},
   "source": [
    "#### Derivative $c_2$:\n",
    "$$\n",
    "c'_2 = -(a'+b')\\\\\n",
    "c'_2 = -( \\frac{y.w.e^{-w.x}}{1+e^{-w.x}} + (1-y). \\frac{-w}{1+e^{-w.x}} )\\\\\n",
    "c'_2 = -( \\frac{y.w.e^{-w.x}}{1+e^{-w.x}} + \\frac{-w}{1+e^{-w.x}} - \\frac{-w.y}{1+e^{-w.x}} )\\\\\n",
    "c'_2 = -( \\frac{y.w.e^{-w.x}-w+w.y}{1+e^{-w.x}})\\\\\n",
    "c'_2 = -( \\frac{y.w.e^{-w.x}-w+w.y}{1+e^{-w.x}})\\,\\times\\,\\frac{e^{w.x}}{e^{w.x}}\\\\\n",
    "c'_2 = -( \\frac{y.w-w.e^{w.x}+w.y.e^{w.x}}{e^{w.x}+1})\\\\\n",
    "c'_2 = \\frac{-w.(y-e^{w.x}+y.e^{w.x})}{e^{w.x}+1}\\\\\n",
    "c'_2 = \\frac{-w.(y+(y-1).e^{w.x})}{e^{w.x}+1}\\\\\n",
    "$$"
   ]
  },
  {
   "cell_type": "markdown",
   "metadata": {},
   "source": [
    "### Second derivative:\n",
    "Use **Quotient-Rule**:\n",
    "$$\n",
    "c''_2 = - (\\frac{(w.(y-1).w.e^{w.x}.(e^{w.x}+1)) - (w.(y+(y-1).e^{w.x}).w.e^{w.x})} {(e^{w.x}+1)^2})\\\\\n",
    "c''_2 = - (\\frac{w.e^{w.x}.(w.(y-1).e^{w.x}+w.(y-1)-w.y-w.(y-1).e^{w.x})} {(e^{w.x}+1)^2})\\\\\n",
    "c''_2 = - (\\frac{w.e^{w.x}.(w.(y-1)-w.y)} {(e^{w.x}+1)^2})\\\\\n",
    "c''_2 = - (\\frac{w.e^{w.x}.(-w)} {(e^{w.x}+1)^2})\\\\\n",
    "c''_2 = \\frac{w^2.e^{w.x}} {(e^{w.x}+1)^2}\\\\\n",
    "$$"
   ]
  },
  {
   "cell_type": "code",
   "execution_count": 30,
   "metadata": {},
   "outputs": [],
   "source": [
    "#Compute second derivative\n",
    "def dd_c2(w, x):\n",
    "    \"\"\"\n",
    "    Second derivative of c2\n",
    "\n",
    "    Arguments:\n",
    "    w -- array of inputs of size (1,m)\n",
    "    x -- array of inputs of size (1,m)\n",
    "    \n",
    "    Returns:\n",
    "    y -- array of outputs of size (1,m)\n",
    "    \"\"\"\n",
    "    \n",
    "    y = (w**2)*np.exp(w*x)/ (np.exp(w*x) + 1)**2\n",
    "    return y"
   ]
  },
  {
   "cell_type": "code",
   "execution_count": 35,
   "metadata": {},
   "outputs": [
    {
     "data": {
      "image/png": "[encoded data removed]",
      "text/plain": [
       "<Figure size 432x288 with 1 Axes>"
      ]
     },
     "metadata": {
      "needs_background": "light"
     },
     "output_type": "display_data"
    }
   ],
   "source": [
    "x = np.linspace(-10, 10, 100)\n",
    "w = -10\n",
    "y = dd_c2(w, x)\n",
    "\n",
    "plt.plot(x, y)\n",
    "plt.show()"
   ]
  },
  {
   "cell_type": "markdown",
   "metadata": {},
   "source": [
    "Second derivative is non-negative, this function should be convex."
   ]
  }
 ],
 "metadata": {
  "kernelspec": {
   "display_name": "Python 3",
   "language": "python",
   "name": "python3"
  },
  "language_info": {
   "codemirror_mode": {
    "name": "ipython",
    "version": 3
   },
   "file_extension": ".py",
   "mimetype": "text/x-python",
   "name": "python",
   "nbconvert_exporter": "python",
   "pygments_lexer": "ipython3",
   "version": "3.7.7"
  }
 },
 "nbformat": 4,
 "nbformat_minor": 4
}
