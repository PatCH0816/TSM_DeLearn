{
 "cells": [
  {
   "cell_type": "markdown",
   "metadata": {},
   "source": [
    "## MNIST Digits Classification - Binary Case\n",
    "\n",
    "In this exercise, you will implement a binary classification of MNIST digits. You will restrict the classification problem to two digits selected from the MNIST dataset.\n",
    "\n",
    "You will conduct the follwing steps:\n",
    "1. Prepare the data: \n",
    "    * Load the MNIST dataset\n",
    "    * Select the digits\n",
    "    * Split the dataset into train and test (we keep it simpler at the moment and ignore the validation set)\n",
    "    * Standardize the data\n",
    "\n",
    "\n",
    "2. Implement the training algorithm consisting of\n",
    "    * sigmoid model function and predict function\n",
    "    * cost function\n",
    "    * parameter update rules \n",
    "    * optimize loop\n",
    "\n",
    "\n",
    "3. Train the model for specific settings and get a feeling for how the training evolves\n",
    "    * learning rate\n",
    "    * number of epochs\n",
    "    * CE / MSE loss\n",
    "    * differently, randomly initialized weights\n",
    "    \n",
    "Some of the functions are already implemented. You just need to use these functions - but we highly recommend to inspect them and try to understand each and every line of the code. - In case you have suggestions for improvements we are very happy to receive your feedback.\n",
    "\n",
    "Other functions need to be implemented by you. Carefully read the markdown sections and also the doc-strings and run the test cells often given in the cell right after. \n",
    "\n",
    "The following notation is used: <br>\n",
    "<code>m</code>: Number of samples <br>\n",
    "<code>n</code>: Number of features"
   ]
  },
  {
   "cell_type": "markdown",
   "metadata": {},
   "source": [
    "### 1. Data Preparation\n",
    "\n",
    "Some preparatory steps to be applied before training:\n",
    "* Loading the data\n",
    "* Some plots\n",
    "* Filtering the dataset for two digits\n",
    "* Splitting the dataset into train and test\n",
    "* Normalizing the data\n",
    "\n",
    "#### Data Folder\n",
    "\n",
    "The data can be loaded by using suitable functionality in sklearn which will use a dedicated folder on your local disk for caching. Specify the folder to be used with a variable of your choice. "
   ]
  },
  {
   "cell_type": "code",
   "execution_count": 1,
   "metadata": {},
   "outputs": [],
   "source": [
    "### START YOUR CODE ###\n",
    "\n",
    "# adjust:\n",
    "path_data = './data/'\n",
    "\n",
    "### END YOUR CODE ###"
   ]
  },
  {
   "cell_type": "code",
   "execution_count": 2,
   "metadata": {},
   "outputs": [],
   "source": [
    "import numpy as np\n",
    "import matplotlib.pyplot as plt"
   ]
  },
  {
   "cell_type": "markdown",
   "metadata": {},
   "source": [
    "#### Plotting Utility"
   ]
  },
  {
   "cell_type": "code",
   "execution_count": 3,
   "metadata": {},
   "outputs": [],
   "source": [
    "def plot_img(img, label, shape):\n",
    "    \"\"\"\n",
    "    Plot the x array by reshaping it into a square array of given shape\n",
    "    and print the label.\n",
    "    \n",
    "    Parameters:\n",
    "    img -- array with the intensities to be plotted of shape (shape[0]*shape[1])\n",
    "    label -- label \n",
    "    shape -- 2d tuple with the dimensions of the image to be plotted.\n",
    "    \"\"\"\n",
    "    plt.imshow(np.reshape(img, shape), cmap=plt.cm.gray)\n",
    "    plt.title(\"Label %i\"%label)\n",
    "\n",
    "def plot_digits(x,y,selection,shape,selected_digits, cols=5):\n",
    "    \"\"\"\n",
    "    Plots the digits in a mosaic with up to 8 columns\n",
    "\n",
    "    Arguments:\n",
    "    x -- array of images of size (n,m)\n",
    "    y -- array of labels of size (1,m)\n",
    "    selection -- list of selection of samples to be plotted\n",
    "    shape -- shape of the images (a 2d tuple)\n",
    "    selected_digits -- tuple with the two selected digits (the first associated with label 1, the second with label 0)\n",
    "    \"\"\"\n",
    "    if len(selection)==0:\n",
    "        print(\"No images in the selection!\")\n",
    "        return\n",
    "    cols = min(cols, len(selection))\n",
    "    rows = int(len(selection)/cols)+1\n",
    "    plt.figure(figsize=(20,4*rows))\n",
    "    digit1 = selected_digits[0]\n",
    "    digit2 = selected_digits[1]    \n",
    "    for index, (image, label) in enumerate(zip(x.T[selection,:], y.T[selection,:])):\n",
    "        digit = digit1 if label==1 else digit2\n",
    "        plt.subplot(rows, cols, index+1)\n",
    "        plt.imshow(np.reshape(image, shape), cmap=plt.cm.gray)\n",
    "        plt.title('Sample %i\\n Label %i\\n' % (selection[index],digit), fontsize = 12)\n",
    "    plt.tight_layout()"
   ]
  },
  {
   "cell_type": "markdown",
   "metadata": {},
   "source": [
    "#### Load Data \n",
    "\n",
    "Follow the instructions in the doc string of the <span style=\"color:blue\">load_mnist</span>-method defined below so that you can load the \"MNIST original\" dataset.\n",
    "\n",
    "Load the data MNIST dataset and plot the 17th image by using the <span style=\"color:blue\">plot_image</span>-method defined above."
   ]
  },
  {
   "cell_type": "code",
   "execution_count": 4,
   "metadata": {},
   "outputs": [],
   "source": [
    "from sklearn.datasets import fetch_openml\n",
    "\n",
    "def load_mnist(datadir):\n",
    "    \"\"\"\n",
    "    Loads the mnist dataset, prints the shape of the dataset and \n",
    "    returns the array with the images, the array with associated labels \n",
    "    and the shape of the images. Possibly, the data needs to be fetched \n",
    "    manually beforehand and put into the folder DATA_HOME/mldata \n",
    "    (see https://stackoverflow.com/questions/53096977/mnist-data-download-from-sklearn-datasets-gives-timeout-error)\n",
    "    \n",
    "    Returns:\n",
    "    x -- array with images of shape (784,m) where m is the number of images\n",
    "    y -- array with associated labels with shape (m,) where m is the number of images\n",
    "    shape -- (28,28)\n",
    "    \"\"\"\n",
    "    mnist = fetch_openml('mnist_784', data_home=datadir)\n",
    "    x, y = mnist['data'].T, np.array(mnist['target'], dtype='int').T\n",
    "    m = x.shape[1]\n",
    "    y = y.reshape(1,m)\n",
    "    print(\"Loaded MNIST original:\")\n",
    "    print(\"Image Data Shape\" , x.shape)\n",
    "    print(\"Label Data Shape\", y.shape)\n",
    "    return x,y,(28,28)"
   ]
  },
  {
   "cell_type": "code",
   "execution_count": 5,
   "metadata": {},
   "outputs": [
    {
     "name": "stdout",
     "output_type": "stream",
     "text": [
      "Loaded MNIST original:\n",
      "Image Data Shape (784, 70000)\n",
      "Label Data Shape (1, 70000)\n"
     ]
    },
    {
     "data": {
      "image/png": "[encoded data removed]",
      "text/plain": [
       "<Figure size 432x288 with 1 Axes>"
      ]
     },
     "metadata": {
      "needs_background": "light"
     },
     "output_type": "display_data"
    }
   ],
   "source": [
    "x, y, shape = load_mnist(path_data)\n",
    "\n",
    "### START YOUR CODE ###\n",
    "\n",
    "img_idx = 16\n",
    "plot_img(x[:,img_idx], y[0][img_idx], shape)\n",
    "\n",
    "### END YOUR CODE ###"
   ]
  },
  {
   "cell_type": "code",
   "execution_count": 6,
   "metadata": {},
   "outputs": [
    {
     "name": "stdout",
     "output_type": "stream",
     "text": [
      "(784, 70000)\n",
      "(1, 70000)\n"
     ]
    }
   ],
   "source": [
    "print(x.shape)\n",
    "print(y.shape)"
   ]
  },
  {
   "cell_type": "markdown",
   "metadata": {},
   "source": [
    "#### Filter the data for two selected digits and split it into train/test\n",
    "\n",
    "Load the MNIST dataset (by using <span style=\"color:blue\">load_mnist</span> from above), filter it to only use the digits '1' and '7' (by using the method <span style=\"color:blue\">filter_digits</span> and split up the result further into a training and a test set (by using the <span style=\"color:blue\">prepare_train_test</span>). Use a 80-20 split of the data into train and test.\n",
    "\n",
    "Furthermore, bring the input data (x) into the shape (n,m) where n is the number of input features and m the number of samples.  \n",
    "As a result, you can run the test which should not produce any exception."
   ]
  },
  {
   "cell_type": "code",
   "execution_count": 7,
   "metadata": {
    "scrolled": true
   },
   "outputs": [],
   "source": [
    "def filter_digits(x, y, selected_digits):\n",
    "    \"\"\"\n",
    "    Filter the dataset for given two digits (label values between 0 and 9).\n",
    "    The samples with the first digit will be associated with the label 1, the second with 0.  \n",
    "    \n",
    "    Parameters:\n",
    "    x -- Array of images of shape (n,m) where m is the number of samples\n",
    "    y -- Array of labels of shape (1,m) where m is the number of samples\n",
    "    digits -- tuple with two values\n",
    "    \n",
    "    Returns:\n",
    "    x1 -- filtered list of images of shape (n,m1)\n",
    "    y1 -- filtered list of labels of shape (1,m1)\n",
    "    \"\"\"\n",
    "    # select two given digits - will the train a model that learns to differentiate between the two\n",
    "    \n",
    "    digit1, digit2 = selected_digits\n",
    "    \n",
    "    idx_digit1 = (y[0, :] == digit1)\n",
    "    idx_digit2 = (y[0, :] == digit2)\n",
    "    \n",
    "    idx_combined = (idx_digit1 | idx_digit2)\n",
    "    \n",
    "    x1 = x[:, idx_combined]\n",
    "    y1 = y[:, idx_combined]\n",
    "    \n",
    "    idx_digit1 = (y1[0, :] == digit1)\n",
    "    idx_digit2 = (y1[0, :] == digit2)\n",
    "    \n",
    "    y1[:, idx_digit1] = 1\n",
    "    y1[:, idx_digit2] = 0\n",
    "    \n",
    "\n",
    "    print(\"Selecting {} images with digit {} and {} images with digit {}\".format(\n",
    "        np.sum(idx_digit1),digit1,np.sum(idx_digit2),digit2))\n",
    "    return x1,y1"
   ]
  },
  {
   "cell_type": "code",
   "execution_count": 8,
   "metadata": {},
   "outputs": [],
   "source": [
    "from sklearn.model_selection import train_test_split\n",
    "\n",
    "def prepare_train_test(x, y, test_size=0.20):\n",
    "    \"\"\"\n",
    "    Split the dataset consisting of an array of images (shape (m,n)) and an array of labels (shape (n,))\n",
    "    into train and test set.\n",
    "    \n",
    "    Parameters:\n",
    "    x -- Array of images of shape (n,m) where m is the number of samples\n",
    "    y -- Array of labels of shape (m,) where m is the number of samples\n",
    "    test_size -- fraction of samples to reserve as test sample\n",
    "    \n",
    "    Returns:\n",
    "    x_train -- list of images of shape (n,m1) used for training\n",
    "    y_train -- list of labels of shape (1,m1) used for training\n",
    "    x_test -- list of images of shape (n,m2) used for testing\n",
    "    y_test -- list of labels of shape (1,m2) used for testing\n",
    "    \"\"\"\n",
    "    # split \n",
    "    # We use the functionality of sklearn which assumes that the samples are enumerated with the first index \n",
    "    x_train, x_test, y_train, y_test = train_test_split(x.T, y.T, test_size=0.20, random_state=1)\n",
    "\n",
    "    # reshape - transpose back the output obtained from the train_test_split-function\n",
    "    x_train = x_train.T\n",
    "    x_test = x_test.T\n",
    "    m_train = x_train.shape[1]\n",
    "    m_test = x_test.shape[1]\n",
    "    y_train=y_train.reshape(1,m_train)\n",
    "    y_test=y_test.reshape(1,m_test)\n",
    "\n",
    "    print(\"Shape training set: \", x_train.shape, y_train.shape)\n",
    "    print(\"Shape test set:     \", x_test.shape, y_test.shape)\n",
    "    \n",
    "    return x_train, x_test, y_train, y_test"
   ]
  },
  {
   "cell_type": "code",
   "execution_count": 9,
   "metadata": {},
   "outputs": [
    {
     "name": "stdout",
     "output_type": "stream",
     "text": [
      "Selecting 7877 images with digit 1 and 7293 images with digit 7\n",
      "Shape training set:  (784, 12136) (1, 12136)\n",
      "Shape test set:      (784, 3034) (1, 3034)\n"
     ]
    }
   ],
   "source": [
    "### START YOUR CODE ###\n",
    "# call the arrays x_train1, y_train, x_test1, y_test\n",
    "\n",
    "x_1_7, y_1_7 = filter_digits(x, y, (1,7))\n",
    "x_train1, x_test1, y_train, y_test = prepare_train_test(x_1_7, y_1_7)\n",
    "\n",
    "### END YOUR CODE ###"
   ]
  },
  {
   "cell_type": "code",
   "execution_count": 10,
   "metadata": {},
   "outputs": [],
   "source": [
    "## TEST ##\n",
    "np.testing.assert_array_equal(x_train1.shape, (784, 12136))\n",
    "np.testing.assert_array_equal(y_train.shape, (1, 12136))\n",
    "np.testing.assert_array_equal(x_test1.shape, (784, 3034))\n",
    "np.testing.assert_array_equal(y_test.shape, (1, 3034))"
   ]
  },
  {
   "cell_type": "markdown",
   "metadata": {},
   "source": [
    "#### Data Normalisation\n",
    "\n",
    "Normalize the data - by using z-normalization computed over all pixels. \n",
    "Test that the result is expected."
   ]
  },
  {
   "cell_type": "code",
   "execution_count": 11,
   "metadata": {},
   "outputs": [],
   "source": [
    "def normalize(x_train,x_test):\n",
    "    \"\"\"\n",
    "    Normalizes the pixels values of the images - mean and stdev are computed from the training set.\n",
    "    \n",
    "    Parameters:\n",
    "    x_train -- Array of training samples of shape (n,m1) where n,m1 are the number of features and samples, respectively.  \n",
    "    x_test -- Array of test samples of shape (n,m2) where n,m2 are the number of features and samples, respectively. \n",
    "    \n",
    "    Returns:\n",
    "    The arrays with the normalized train and test samples.  \n",
    "    \"\"\"\n",
    "    ### START YOUR CODE ###\n",
    "    \n",
    "    # mean uk\n",
    "    uk = np.mean(x_train)\n",
    "    \n",
    "    # standard deviation sk\n",
    "    sk = np.std(x_train)\n",
    "    \n",
    "    x_train = (x_train - uk)/sk\n",
    "    x_test = (x_test - uk)/sk\n",
    "    \n",
    "    ### END YOUR CODE ###\n",
    "    return x_train, x_test"
   ]
  },
  {
   "cell_type": "code",
   "execution_count": 12,
   "metadata": {},
   "outputs": [],
   "source": [
    "## TEST ##\n",
    "xunittest_train = np.array([0,3,2,5,10,9]).reshape(1,6).astype(np.float64)\n",
    "xunittest_test = np.array([11,20,1,-1]).reshape(1,4).astype(np.float64)\n",
    "x1,x2 = normalize(xunittest_train, xunittest_test)\n",
    "np.testing.assert_array_almost_equal(x1,np.array([-1.33342142, -0.50578054, -0.78166083,  0.04598005,  1.42538152,  1.14950122]).reshape(1,6),decimal=8)\n",
    "np.testing.assert_array_almost_equal(x2,np.array([1.70126181,  4.18418446, -1.05754113, -1.60930171]).reshape(1,4),decimal=8)"
   ]
  },
  {
   "cell_type": "code",
   "execution_count": 13,
   "metadata": {},
   "outputs": [],
   "source": [
    "x_train,x_test = normalize(x_train1,x_test1)"
   ]
  },
  {
   "cell_type": "markdown",
   "metadata": {},
   "source": [
    "### 2. Implementation"
   ]
  },
  {
   "cell_type": "markdown",
   "metadata": {},
   "source": [
    "#### Perceptron-Model"
   ]
  },
  {
   "cell_type": "code",
   "execution_count": 14,
   "metadata": {
    "scrolled": true
   },
   "outputs": [],
   "source": [
    "def sigmoid(z):\n",
    "    \"\"\"\n",
    "    Compute the sigmoid of z\n",
    "    Arguments:\n",
    "    z -- A scalar or numpy array of any size.\n",
    "    Return:\n",
    "    s -- sigmoid(z)\n",
    "    \"\"\"\n",
    "    ### START YOUR CODE ###\n",
    "    \n",
    "    s = 1/(1+np.exp(-z))\n",
    "    return s\n",
    "    \n",
    "    ### END YOUR CODE ###"
   ]
  },
  {
   "cell_type": "code",
   "execution_count": 15,
   "metadata": {},
   "outputs": [],
   "source": [
    "# TEST\n",
    "zunittest = np.array([1,-2,2,0]).reshape(1,4)\n",
    "yunittest = sigmoid(zunittest)\n",
    "ytrue = np.array([0.73105858, 0.11920292, 0.88079708, 0.5]).reshape(1,4)\n",
    "np.testing.assert_array_almost_equal(yunittest,ytrue,decimal=8)"
   ]
  },
  {
   "cell_type": "code",
   "execution_count": 16,
   "metadata": {
    "scrolled": true
   },
   "outputs": [],
   "source": [
    "def predict(w, b, X, round=False):\n",
    "    '''\n",
    "    Compute the prediction for each of the m samples by using the parameters (w, b).\n",
    "    \n",
    "    Arguments:\n",
    "    w -- weights, a numpy array with shape (1, n)\n",
    "    b -- bias, a scalar\n",
    "    X -- data of size (n,m)\n",
    "    round -- return the score (number in [0,1]) if False, or round to 0 or 1 if True.\n",
    "    \n",
    "    Returns:\n",
    "    predictions -- a numpy array (vector) containing all predictions\n",
    "    '''    \n",
    "    ### START YOUR CODE ### \n",
    "\n",
    "    predictions = sigmoid(np.dot(w,X)+b)\n",
    "    \n",
    "    if (round):\n",
    "      predictions[predictions>=.5] = 1.\n",
    "      predictions[predictions<.5] = 0.\n",
    "    \n",
    "    return predictions\n",
    "    \n",
    "    ### END YOUR CODE ###\n"
   ]
  },
  {
   "cell_type": "code",
   "execution_count": 17,
   "metadata": {},
   "outputs": [],
   "source": [
    "# TEST\n",
    "X = np.array([1,-2,2,1]).reshape(4,1)\n",
    "w = np.array([1,1,0.75,0]).reshape(1,4)\n",
    "b = -0.25\n",
    "\n",
    "yunittest = predict(w,b,X)\n",
    "ytrue = np.array([sigmoid(0.25)]).reshape(1,1)\n",
    "np.testing.assert_array_almost_equal(yunittest,ytrue,decimal=8)\n",
    "\n",
    "yunittest = predict(w,b,X, round=True)\n",
    "ytrue = np.array([1]).reshape(1,1)\n",
    "np.testing.assert_array_almost_equal(yunittest,ytrue,decimal=8)"
   ]
  },
  {
   "cell_type": "markdown",
   "metadata": {},
   "source": [
    "#### Cost Function\n",
    "\n",
    "* Cross-Entropy Cost Function\n",
    "* Mean Square Error Function"
   ]
  },
  {
   "cell_type": "code",
   "execution_count": 18,
   "metadata": {
    "scrolled": true
   },
   "outputs": [],
   "source": [
    "def cost_CE(ypred, y, eps=1.0e-12):\n",
    "    \"\"\"\n",
    "    Computes the cross entropy cost function for given predicted values and labels.\n",
    "    It clips (using numpy clip) predicted values to be in the interval [eps,1-eps] so that numerical \n",
    "    issues with the calculation of logarithm are avoided.\n",
    "    \n",
    "    Parameters:\n",
    "    ypred -- Predicted values, a numpy array with shape (1,m).\n",
    "    y -- Ground truth values (labels 0 or 1), a numpy array with shape (1,m)\n",
    "    \n",
    "    Returns:\n",
    "    Cross Entropy Cost\n",
    "    \"\"\"\n",
    "    # sanity checks:\n",
    "    try:\n",
    "        if ypred.shape != y.shape:\n",
    "            raise AttributeError(\"The two input arguments ypred and y should be numpy arrays of the same shape.\")\n",
    "    except Exception:\n",
    "        raise AttributeError(\"Wrong type of argument - ypred and y should be a numpy array\")\n",
    "\n",
    "    # clip predicted values and compute the cost\n",
    "    \n",
    "    ### START YOUR CODE ### \n",
    "\n",
    "    ypred = np.clip(ypred, eps, 1-eps)\n",
    "    J = y*np.log(ypred)\n",
    "    J += (1-y)*np.log(1-ypred)\n",
    "    J = J.sum()\n",
    "    J /= y.shape[1]\n",
    "    J *= -1\n",
    "    \n",
    "    ### END YOUR CODE ### \n",
    "    return J\n"
   ]
  },
  {
   "cell_type": "code",
   "execution_count": 19,
   "metadata": {},
   "outputs": [
    {
     "name": "stdout",
     "output_type": "stream",
     "text": [
      "Exception ok\n",
      "Exception ok\n"
     ]
    }
   ],
   "source": [
    "# TEST\n",
    "# CASE 1: Numeric value computed correctly\n",
    "yhat = np.array([0.1,0.2,0.5,0.8,0.9,1.0]).reshape(1,6)\n",
    "yunittest = np.array([0,1,1,0,1,1]).reshape(1,6)\n",
    "J = cost_CE(yhat,yunittest)\n",
    "Jtrue = -(np.log(0.2)+np.log(0.5)+np.log(0.9)+np.log(1.0)+np.log(0.9)+np.log(0.2))/6\n",
    "np.testing.assert_array_almost_equal(J,Jtrue,decimal=8)\n",
    "\n",
    "# CASE 2: Both arguments should be numpy arrays of the same shape\n",
    "try:\n",
    "    cost_CE(1,1)\n",
    "except AttributeError:\n",
    "    print(\"Exception ok\")\n",
    "    \n",
    "# CASE 3: Both arguments should be numpy arrays of the same shape\n",
    "try:\n",
    "    cost_CE(yhat,1)\n",
    "except AttributeError:\n",
    "    print(\"Exception ok\")"
   ]
  },
  {
   "cell_type": "code",
   "execution_count": 20,
   "metadata": {
    "scrolled": true
   },
   "outputs": [],
   "source": [
    "def cost_MSE(ypred, y):\n",
    "    \"\"\"\n",
    "    Computes the mean square error cost function for given predicted values and labels.\n",
    "    \n",
    "    Parameters:\n",
    "    ypred -- A scalar or numpy array with shape (1,m).\n",
    "    y -- A scalar or numpy array with shape (1,m).\n",
    "    \n",
    "    Returns:\n",
    "    MSE Cost\n",
    "    \"\"\"    \n",
    "    # sanity checks:\n",
    "    try:\n",
    "        if ypred.shape != y.shape:\n",
    "            raise AttributeError(\"The two input arguments ypred and y should be numpy arrays of the same shape.\")\n",
    "    except Exception:\n",
    "        raise AttributeError(\"Wrong type of argument - ypred and y should be a numpy array\")\n",
    "\n",
    "    ### START YOUR CODE ### \n",
    "\n",
    "    J = (ypred-y)**2\n",
    "    J /= 2*J.shape[1]\n",
    "    J = J.sum()\n",
    "\n",
    "    ### END YOUR CODE ### \n",
    "    return J"
   ]
  },
  {
   "cell_type": "code",
   "execution_count": 21,
   "metadata": {},
   "outputs": [
    {
     "name": "stdout",
     "output_type": "stream",
     "text": [
      "Exception ok\n",
      "Exception ok\n"
     ]
    }
   ],
   "source": [
    "# TEST\n",
    "# CASE 1: Numeric value computed correctly\n",
    "yhat = np.array([0.1,0.2,0.5,0.8,0.9,1.0]).reshape(1,6)\n",
    "yunittest = np.array([0,1,1,0,1,1]).reshape(1,6)\n",
    "J = cost_MSE(yhat,yunittest)\n",
    "Jtrue = (0.01+0.64+0.25+0.64+0.01)/12\n",
    "np.testing.assert_almost_equal(J,Jtrue,decimal=8)\n",
    "\n",
    "# CASE 2: Both arguments should be numpy arrays of the same shape\n",
    "try:\n",
    "    cost_MSE(1,1)\n",
    "except AttributeError:\n",
    "    print(\"Exception ok\")\n",
    "    \n",
    "# CASE 3: Both arguments should be numpy arrays of the same shape\n",
    "try:\n",
    "    cost_MSE(yhat,1)\n",
    "except AttributeError:\n",
    "    print(\"Exception ok\")"
   ]
  },
  {
   "cell_type": "markdown",
   "metadata": {},
   "source": [
    "#### Update Rules for the Parameters\n",
    "\n",
    "Different update rules associated with the different cost functions."
   ]
  },
  {
   "cell_type": "code",
   "execution_count": 22,
   "metadata": {
    "scrolled": true
   },
   "outputs": [],
   "source": [
    "def step_CE(X, Y, Ypred):\n",
    "    \"\"\"\n",
    "    Computes the update of the weights and bias from the gradient of the cross entropy cost. \n",
    "    \n",
    "    Arguments:\n",
    "    X -- data of size (n, m)\n",
    "    Y -- label vector (1, m)\n",
    "    Ypred -- predicted scores (1, m)\n",
    "\n",
    "    Returns: \n",
    "    Dictionary with the gradient w.r.t. weights ('dw') and w.r.t. bias ('db')\n",
    "    \"\"\"\n",
    "\n",
    "    ### START YOUR CODE ### \n",
    "    \n",
    "    # slide 61\n",
    "    dw = np.dot((Ypred-Y), X.T)/X.shape[1]\n",
    "    db = np.sum((Ypred-Y))/X.shape[1]\n",
    "    \n",
    "    ### END YOUR CODE ### \n",
    "    \n",
    "    return {\"dw\": dw, \"db\": db}"
   ]
  },
  {
   "cell_type": "code",
   "execution_count": 23,
   "metadata": {},
   "outputs": [],
   "source": [
    "# TEST\n",
    "xunittest = np.array([[1,2,3],[4,5,6]]).reshape(2,3)\n",
    "yunittest = np.array([1,0,1]).reshape(1,3)\n",
    "ypred = np.array([0.8,0.3,0.9]).reshape(1,3)\n",
    "\n",
    "res = step_CE(xunittest,yunittest,ypred)\n",
    "dwtrue = np.array([0.033333333,0.033333333]).reshape(1,2)\n",
    "np.testing.assert_almost_equal(res[\"dw\"],dwtrue,decimal=8)"
   ]
  },
  {
   "cell_type": "code",
   "execution_count": 24,
   "metadata": {
    "scrolled": true
   },
   "outputs": [],
   "source": [
    "def step_MSE(X, Y, Ypred):\n",
    "    \"\"\"\n",
    "    Computes the update of the weights and bias from the gradient of the mean square error cost. \n",
    "\n",
    "    Arguments:\n",
    "    X -- data of size (n, m)\n",
    "    Y -- label vector (1, m)\n",
    "    Ypred -- predicted scores (1, m)\n",
    "\n",
    "    Returns:\n",
    "    Dictionary with the gradient w.r.t. weights ('dw') and w.r.t. bias ('db')\n",
    "    \"\"\"\n",
    "    \n",
    "    ### START YOUR CODE ### \n",
    "\n",
    "    # slide 45\n",
    "    dw = np.dot((Ypred*(1-Ypred)*(Ypred-Y)),X.T)/X.shape[1]\n",
    "    db = np.sum(Ypred*(1-Ypred)*(Ypred-Y))/X.shape[1]\n",
    "\n",
    "    ### END YOUR CODE ### \n",
    "        \n",
    "    return {\"dw\": dw, \"db\": db}"
   ]
  },
  {
   "cell_type": "code",
   "execution_count": 25,
   "metadata": {},
   "outputs": [],
   "source": [
    "# TEST\n",
    "xunittest = np.array([[1,2,3],[4,5,6]]).reshape(2,3)\n",
    "yunittest = np.array([1,0,1]).reshape(1,3)\n",
    "ypred = np.array([0.8,0.3,0.9]).reshape(1,3)\n",
    "\n",
    "res = step_MSE(xunittest,yunittest,ypred)\n",
    "dwtrue = np.array([0.02233333,0.04433333]).reshape(1,2)\n",
    "np.testing.assert_almost_equal(res[\"dw\"],dwtrue,decimal=8)"
   ]
  },
  {
   "cell_type": "markdown",
   "metadata": {},
   "source": [
    "#### Error rate"
   ]
  },
  {
   "cell_type": "code",
   "execution_count": 26,
   "metadata": {
    "scrolled": true
   },
   "outputs": [],
   "source": [
    "def error_rate(Ypred, Y):\n",
    "    \"\"\"\n",
    "    Computes the error rate defined as the fraction of misclassified samples.\n",
    "    \n",
    "    Arguments:\n",
    "    Ypred -- predicted scores with values in [0,1], array of shape (1,m)\n",
    "    Y -- ground truth labels with values in {0,1}, array of shape (1,m)\n",
    "\n",
    "    Returns:\n",
    "    error_rate \n",
    "    \"\"\"\n",
    "    ### START YOUR CODE ### \n",
    "\n",
    "    return np.sum(np.round(Ypred) != Y) / Y.size\n",
    "  \n",
    "    ### END YOUR CODE ### "
   ]
  },
  {
   "cell_type": "code",
   "execution_count": 27,
   "metadata": {},
   "outputs": [],
   "source": [
    "# TEST\n",
    "yunittest = np.array([1,0,1,1,0])\n",
    "ypred = np.array([0.9,0.1,0.4,0.8,0.7])\n",
    "np.testing.assert_almost_equal(error_rate(ypred, yunittest),0.4,decimal=8)"
   ]
  },
  {
   "cell_type": "markdown",
   "metadata": {},
   "source": [
    "#### Initialize Parameters\n",
    "\n",
    "First we provide a utility method to generate properly intialized parameters. You will learn later more details about it."
   ]
  },
  {
   "cell_type": "code",
   "execution_count": 28,
   "metadata": {
    "scrolled": true
   },
   "outputs": [],
   "source": [
    "def initialize_params(n, random=False):\n",
    "    \"\"\"\n",
    "    This function provides initialized parameters: a vector of shape (1,n) as weights and a scalar equal to zero as bias. \n",
    "    \n",
    "    Argument:\n",
    "    n -- size of the w vector we want (number of features)\n",
    "    rand -- if set to True stand norma distributed values are set for the weights; otherwise zeros are used.\n",
    "    \n",
    "    Returns:\n",
    "    w -- initialized vector of shape (1,n)\n",
    "    b -- initialized scalar (corresponds to the bias)\n",
    "    \"\"\"\n",
    "    if random:\n",
    "        w = np.random.randn(*(1,n)) / np.sqrt(n)\n",
    "    else:\n",
    "        w = np.zeros((1,n))\n",
    "    b = 0.0\n",
    "    \n",
    "    return w, b"
   ]
  },
  {
   "cell_type": "code",
   "execution_count": 29,
   "metadata": {},
   "outputs": [],
   "source": [
    "# TEST\n",
    "w0, b0 = initialize_params(100)\n",
    "np.testing.assert_array_equal(w0.shape, (1,100))\n",
    "\n",
    "w0, b0 = initialize_params(100, random=True)\n",
    "np.testing.assert_array_equal(w0.shape, (1,100))\n",
    "np.testing.assert_almost_equal(np.mean(w0),0.0,decimal=0.1)"
   ]
  },
  {
   "cell_type": "markdown",
   "metadata": {},
   "source": [
    "#### Metrics Class\n",
    "\n",
    "For not littering the optimization loop with code to keep track of the learning results over the epochs we defined a suitable metrics class that keeps all the data (cost function, classification error vs epochs). It also provides utility methods for updating, printing values or plotting the learning curves.\n",
    "\n",
    "It is defined as python class the metrics object then needs to be instantiated from. It means that some small knowledge about object-oriented programming is needed here.   "
   ]
  },
  {
   "cell_type": "code",
   "execution_count": 30,
   "metadata": {},
   "outputs": [],
   "source": [
    "class Metrics():\n",
    "    \"\"\"\n",
    "    Allows to collect statistics (such as classification error or cost) that are of interest over the course of training\n",
    "    and for creating learning curves that are a useful tool for analyzing the quality of the learning.\n",
    "    \"\"\"\n",
    "    \n",
    "    def __init__(self, cost_function=cost_CE):\n",
    "        \"\"\"\n",
    "        Constructor for a metrics object. \n",
    "        Initializes all the statistics to track in form of python lists.\n",
    "        \n",
    "        Parameters:\n",
    "        cost_function -- a function object that allows to compute the cost.\n",
    "        \"\"\"\n",
    "        self.epochs = []\n",
    "        self.train_costs = []\n",
    "        self.test_costs = []\n",
    "        self.train_errors = []\n",
    "        self.test_errors = []\n",
    "        self.stepsize_w = []\n",
    "        self.stepsize_b = []\n",
    "        self.cost_function = cost_function\n",
    "    \n",
    "    def update(self, epoch, ypred_train, y_train, ypred_test, y_test, dw, db):\n",
    "        \"\"\"\n",
    "        Allows to update the statistics to be tracked for a new epoch.\n",
    "        The cost is computed by using the function object passed to the constructor.\n",
    "        \n",
    "        Parameters:\n",
    "        epoch -- Epoch\n",
    "        ypred_train -- predicted values on the training samples, a numpy array of shape (1,m1)\n",
    "        y_train -- ground truth labels associated with the training samples, a numpy array of shape (1,m1)\n",
    "        ypred_test -- predicted values on the test samples, a numpy array of shape (1,m2)\n",
    "        y_test -- ground truth labels associated with the test samples, a numpy array of shape (1,m2)\n",
    "        dw -- some lenght measure for the gradient w.r.t. the weights, a scalar\n",
    "        db -- gradient w.r.t. the bias, a scalar\n",
    "        \"\"\"       \n",
    "        Jtrain = self.cost_function(ypred_train, y_train)\n",
    "        Jtest = self.cost_function(ypred_test, y_test)\n",
    "        train_error = error_rate(ypred_train, y_train)\n",
    "        test_error = error_rate(ypred_test, y_test)\n",
    "\n",
    "        self.epochs.append(epoch)\n",
    "        self.train_costs.append(Jtrain)\n",
    "        self.test_costs.append(Jtest)\n",
    "        self.train_errors.append(train_error)\n",
    "        self.test_errors.append(test_error)\n",
    "        self.stepsize_w.append(dw)\n",
    "        self.stepsize_b.append(db)\n",
    "        \n",
    "    def print_latest_errors(self):\n",
    "        print (\"Train/test error after epoch %i: %f, %f (min: %f, %f)\" %(self.epochs[-1], self.train_errors[-1], self.test_errors[-1], min(self.train_errors), min(self.test_errors)))\n",
    "    \n",
    "    def print_latest_costs(self):\n",
    "        print (\"Train/test cost after epoch %i: %f, %f\" %(self.epochs[-1], self.train_costs[-1], self.test_costs[-1]))\n",
    "\n",
    "    def plot_cost_curves(self, ymin=None, ymax=None, logy=True):\n",
    "        minvalue = 1e-5\n",
    "        if logy:\n",
    "            plt.semilogy(self.epochs, self.train_costs, \"b-\", label=\"train\")\n",
    "            plt.semilogy(self.epochs, self.test_costs, \"r-\", label=\"test\")\n",
    "        else:\n",
    "            plt.plot(self.epochs, self.train_costs, \"b-\", label=\"train\")\n",
    "            plt.plot(self.epochs, self.test_costs, \"r-\", label=\"test\")            \n",
    "            minvalue = 0.0\n",
    "        plt.ylabel('Cost')\n",
    "        plt.xlabel('Epochs')\n",
    "        xmax = self.epochs[-1]\n",
    "        if not ymin:\n",
    "            ymin = min(max(minvalue,np.min(self.train_costs)),max(minvalue,np.min(self.test_costs))) * 0.8\n",
    "        if not ymax:\n",
    "            ymax = max(np.max(self.train_costs),np.max(self.test_costs)) * 1.2\n",
    "        plt.axis([0,xmax,ymin,ymax])\n",
    "        plt.legend()\n",
    "        plt.show()        \n",
    "    \n",
    "    def plot_error_curves(self, ymin=None, ymax=None, logy=True):\n",
    "        minvalue = 1e-5\n",
    "        if logy:\n",
    "            plt.semilogy(self.epochs, self.train_errors, \"b-\", label=\"train\")\n",
    "            plt.semilogy(self.epochs, self.test_errors, \"r-\", label=\"test\")\n",
    "        else:\n",
    "            plt.plot(self.epochs, self.train_errors, \"b-\", label=\"train\")\n",
    "            plt.plot(self.epochs, self.test_errors, \"r-\", label=\"test\")            \n",
    "            minvalue = 0.0\n",
    "        plt.ylabel('Errors')\n",
    "        plt.xlabel('Epochs')\n",
    "        xmax = self.epochs[-1]\n",
    "        if not ymin:\n",
    "            ymin = min(max(minvalue,np.min(self.train_errors)),max(minvalue,np.min(self.test_errors))) * 0.8\n",
    "        if not ymax:\n",
    "            ymax = max(np.max(self.train_errors),np.max(self.test_errors)) * 1.2\n",
    "        plt.axis([0,xmax,ymin,ymax])\n",
    "        plt.legend()\n",
    "        plt.show()        \n",
    "\n",
    "    def plot_stepsize_curves(self, ymin=None, ymax=None):\n",
    "        plt.semilogy(self.epochs, self.stepsize_w, label=\"dw\")\n",
    "        plt.semilogy(self.epochs, self.stepsize_b, label=\"db\")\n",
    "        plt.ylabel('Step Sizes (dw,db)')\n",
    "        plt.xlabel('Epochs')\n",
    "        xmax = self.epochs[-1]\n",
    "        if not ymin:\n",
    "            ymin = min(max(1e-5,np.min(self.stepsize_w)),max(1e-5,np.min(self.stepsize_b))) * 0.8\n",
    "        if not ymax:\n",
    "            ymax = max(np.max(self.stepsize_w),np.max(self.stepsize_b)) * 1.2\n",
    "        plt.axis([0,xmax,ymin,ymax])\n",
    "        plt.legend()\n",
    "        plt.show()        \n",
    " "
   ]
  },
  {
   "cell_type": "code",
   "execution_count": 31,
   "metadata": {},
   "outputs": [],
   "source": [
    "#help(Metrics)"
   ]
  },
  {
   "cell_type": "markdown",
   "metadata": {},
   "source": [
    "#### Optimisation"
   ]
  },
  {
   "cell_type": "code",
   "execution_count": 32,
   "metadata": {
    "scrolled": true
   },
   "outputs": [],
   "source": [
    "def optimize(w, b, x_train, y_train, x_test, y_test, nepochs, alpha, cost_type=\"CE\", debug = False):\n",
    "    \"\"\"\n",
    "    This function optimizes w and b by running (batch) gradient descent.\n",
    "    \n",
    "    Arguments:\n",
    "    w -- weights, a numpy array of size (1,n)\n",
    "    b -- bias, a scalar\n",
    "    x -- array of samples of shape (n,m)\n",
    "    y -- ground truth labels vector (containing 0 or 1) of shape (1, m)\n",
    "    nepochs -- number of iterations of the optimization loop\n",
    "    alpha -- learning rate of the gradient descent update rule\n",
    "    cost -- type of cost function to use for the opimisation (CE or MSE)\n",
    "    debug -- True to print the loss every 100 steps\n",
    "    \n",
    "    Returns:\n",
    "    params -- dictionary containing the weights w and bias b\n",
    "    metrics -- Metrics object that contains metrics collected while training was in progress    \n",
    "    \"\"\" \n",
    "    if \"CE\" == cost_type:\n",
    "        cost_function = cost_CE\n",
    "        step_function = step_CE\n",
    "    else:\n",
    "        cost_function = cost_MSE\n",
    "        step_function = step_MSE\n",
    "    \n",
    "    metrics = Metrics(cost_function=cost_function)\n",
    "\n",
    "    # compute and set the initial values for the metrics curves  \n",
    "    ypred_train = predict(w,b,x_train)\n",
    "    ypred_test = predict(w,b,x_test)    \n",
    "    metrics.update(0, ypred_train, y_train, ypred_test, y_test, 0, 0)\n",
    "    \n",
    "    ### START YOUR CODE ###\n",
    "    for epoch in range(nepochs):\n",
    "        # compute step -> Slide 43\n",
    "        step = step_function(x_train, y_train, ypred_train)\n",
    "        dw = step[\"dw\"]\n",
    "        db = step[\"db\"]\n",
    "        w = w - alpha * dw\n",
    "        b = b - alpha * db\n",
    "        \n",
    "        ypred_train = predict(w, b, x_train)\n",
    "        ypred_test = predict(w, b, x_test)\n",
    "        \n",
    "        ndw = np.linalg.norm(dw)\n",
    "        ndb = np.linalg.norm(db)\n",
    "        metrics.update(epoch+1, ypred_train, y_train, ypred_test, y_test, ndw, ndb)\n",
    "        \n",
    "        if debug:\n",
    "            metrics.print_latest_costs()\n",
    "            metrics.print_latest_errors()\n",
    "  \n",
    "    ### END YOUR CODE ### \n",
    "        \n",
    "    # finally, we print the latest metrics values and return\n",
    "    metrics.print_latest_costs()\n",
    "    metrics.print_latest_errors()\n",
    "\n",
    "    return {\"w\": w, \"b\": b}, metrics"
   ]
  },
  {
   "cell_type": "markdown",
   "metadata": {},
   "source": [
    "### 3. Run the Training for Specific Settings\n",
    "\n",
    "#### A first run\n",
    "Compose that all in a single \"pipeline\" starting with selecting the digits in the data preparation up to performing the training.\n",
    "\n",
    "Make a first test run with \n",
    "* learning rate 0.2\n",
    "* 500 epochs\n",
    "* CE loss\n",
    "\n",
    "The training should not take more than a couple of seconds."
   ]
  },
  {
   "cell_type": "code",
   "execution_count": 33,
   "metadata": {},
   "outputs": [
    {
     "name": "stdout",
     "output_type": "stream",
     "text": [
      "Selecting 7877 images with digit 1 and 7293 images with digit 7\n",
      "Shape training set:  (784, 12136) (1, 12136)\n",
      "Shape test set:      (784, 3034) (1, 3034)\n"
     ]
    }
   ],
   "source": [
    "# preparing data\n",
    "\n",
    "selected_digits = (1,7)\n",
    "\n",
    "### START YOUR CODE ###\n",
    "\n",
    "x_train1, x_test1, y_train, y_test = prepare_train_test(*filter_digits(x, y, selected_digits))\n",
    "x_train, x_test = normalize(x_train1, x_test1)\n",
    "\n",
    "### END YOUR CODE ###"
   ]
  },
  {
   "cell_type": "code",
   "execution_count": 34,
   "metadata": {},
   "outputs": [
    {
     "name": "stdout",
     "output_type": "stream",
     "text": [
      "Train/test cost after epoch 500: 0.011005, 0.012990\n",
      "Train/test error after epoch 500: 0.003131, 0.004285 (min: 0.003131, 0.003626)\n"
     ]
    }
   ],
   "source": [
    "# run the training here\n",
    "\n",
    "### START YOUR CODE ###\n",
    "\n",
    "np.random.seed(1) # this makes the results reproduceable - change this if you want to see other initial weights\n",
    "\n",
    "learning_rate = 0.2\n",
    "nepochs = 500\n",
    "\n",
    "w,b = initialize_params(x_train.shape[0], random=False)\n",
    "params,metrics = optimize(w, b, x_train, y_train, x_test, y_test, nepochs, learning_rate, cost_type=\"CE\", debug = False)\n",
    "\n",
    "\n",
    "### END YOUR CODE ###"
   ]
  },
  {
   "cell_type": "markdown",
   "metadata": {},
   "source": [
    "#### Plot Learning Curves\n",
    "\n",
    "Cost <br>\n",
    "Error Rate <br>\n",
    "Learning Speed (Lenght of Parameter Change)<br>"
   ]
  },
  {
   "cell_type": "code",
   "execution_count": 35,
   "metadata": {},
   "outputs": [
    {
     "data": {
      "image/png": "[encoded data removed]",
      "text/plain": [
       "<Figure size 432x288 with 1 Axes>"
      ]
     },
     "metadata": {
      "needs_background": "light"
     },
     "output_type": "display_data"
    },
    {
     "data": {
      "image/png": "[encoded data removed]",
      "text/plain": [
       "<Figure size 432x288 with 1 Axes>"
      ]
     },
     "metadata": {
      "needs_background": "light"
     },
     "output_type": "display_data"
    }
   ],
   "source": [
    "metrics.plot_cost_curves(ymin=0.001, ymax=0.2,logy=False)\n",
    "metrics.plot_cost_curves(ymin=0, ymax=1,logy=True)"
   ]
  },
  {
   "cell_type": "code",
   "execution_count": 36,
   "metadata": {},
   "outputs": [
    {
     "data": {
      "image/png": "[encoded data removed]",
      "text/plain": [
       "<Figure size 432x288 with 1 Axes>"
      ]
     },
     "metadata": {
      "needs_background": "light"
     },
     "output_type": "display_data"
    },
    {
     "data": {
      "image/png": "[encoded data removed]",
      "text/plain": [
       "<Figure size 432x288 with 1 Axes>"
      ]
     },
     "metadata": {
      "needs_background": "light"
     },
     "output_type": "display_data"
    }
   ],
   "source": [
    "metrics.plot_error_curves(ymin=0.001, ymax=0.02,logy=False)\n",
    "metrics.plot_error_curves(ymax=0.02, logy=True)"
   ]
  },
  {
   "cell_type": "code",
   "execution_count": 37,
   "metadata": {},
   "outputs": [
    {
     "data": {
      "image/png": "[encoded data removed]",
      "text/plain": [
       "<Figure size 432x288 with 1 Axes>"
      ]
     },
     "metadata": {
      "needs_background": "light"
     },
     "output_type": "display_data"
    }
   ],
   "source": [
    "metrics.plot_stepsize_curves()"
   ]
  },
  {
   "cell_type": "markdown",
   "metadata": {},
   "source": [
    "#### Plot misclassified digits \n",
    "\n",
    "Plot misclassified digits and judge (with your human eye) whether the given digits should have been correctly recognized by the model or whether the digit is written with a bad handwriting."
   ]
  },
  {
   "cell_type": "code",
   "execution_count": 38,
   "metadata": {
    "scrolled": false
   },
   "outputs": [
    {
     "data": {
      "image/png": "[encoded data removed]",
      "text/plain": [
       "<Figure size 1440x864 with 13 Axes>"
      ]
     },
     "metadata": {
      "needs_background": "light"
     },
     "output_type": "display_data"
    }
   ],
   "source": [
    "### START YOUR CODE ### \n",
    "\n",
    "y_pred = predict(params['w'], params['b'], x_test, round=True)\n",
    "idx = np.where(y_test != y_pred)[1]\n",
    "\n",
    "plot_digits(x_test, y_pred, idx, shape, selected_digits, cols=5)\n",
    "\n",
    "### END YOUR CODE ### "
   ]
  },
  {
   "cell_type": "markdown",
   "metadata": {},
   "source": [
    "#### Evaluate Dependency on Learning Rate and #Epochs \n",
    "\n",
    "Try different learning rates (e.g. 0.1, 0.2, 0.5, 1.0) and explore how many epochs you need to obtain stable results.\n",
    "* Inspect the error rate curves to make sure that the rates reported in the table are stable. \n",
    "    * As it can be seen in the following four plots, the test error-rates are stable after 100-200 epochs.\n",
    "* Describe the characteristic behavior of the error rate curves for different learning rates.\n",
    "    * A larger learning rate will reach the stable area earlier, than a small learning rate. Nevertheless, the goal is to have a high learning rate as possible to reach the steady test-error as fast as possible, but the learning rate should not be too high, since it could fail to find the optimum values. -> Try to find the sweet spot."
   ]
  },
  {
   "cell_type": "code",
   "execution_count": 39,
   "metadata": {},
   "outputs": [
    {
     "name": "stdout",
     "output_type": "stream",
     "text": [
      "Train/test cost after epoch 500: 0.013942, 0.014552\n",
      "Train/test error after epoch 500: 0.004038, 0.003955 (min: 0.004038, 0.003955)\n"
     ]
    },
    {
     "data": {
      "image/png": "[encoded data removed]",
      "text/plain": [
       "<Figure size 432x288 with 1 Axes>"
      ]
     },
     "metadata": {
      "needs_background": "light"
     },
     "output_type": "display_data"
    },
    {
     "name": "stdout",
     "output_type": "stream",
     "text": [
      "Train/test cost after epoch 500: 0.007345, 0.012272\n",
      "Train/test error after epoch 500: 0.002307, 0.003296 (min: 0.002225, 0.003296)\n"
     ]
    },
    {
     "data": {
      "image/png": "[encoded data removed]",
      "text/plain": [
       "<Figure size 432x288 with 1 Axes>"
      ]
     },
     "metadata": {
      "needs_background": "light"
     },
     "output_type": "display_data"
    },
    {
     "name": "stdout",
     "output_type": "stream",
     "text": [
      "Train/test cost after epoch 500: 0.011005, 0.012990\n",
      "Train/test error after epoch 500: 0.003131, 0.004285 (min: 0.003131, 0.003626)\n"
     ]
    },
    {
     "data": {
      "image/png": "[encoded data removed]",
      "text/plain": [
       "<Figure size 432x288 with 1 Axes>"
      ]
     },
     "metadata": {
      "needs_background": "light"
     },
     "output_type": "display_data"
    },
    {
     "name": "stdout",
     "output_type": "stream",
     "text": [
      "Train/test cost after epoch 500: 0.004872, 0.014159\n",
      "Train/test error after epoch 500: 0.001895, 0.003626 (min: 0.001895, 0.003296)\n"
     ]
    },
    {
     "data": {
      "image/png": "[encoded data removed]",
      "text/plain": [
       "<Figure size 432x288 with 1 Axes>"
      ]
     },
     "metadata": {
      "needs_background": "light"
     },
     "output_type": "display_data"
    }
   ],
   "source": [
    "np.random.seed(1) # this makes the results reproduceable - change this if you want to see other initial weights\n",
    "\n",
    "# params to play around\n",
    "learning_rates = {0.1,0.2,0.5,1}\n",
    "nepochs = 500\n",
    "\n",
    "for lr in learning_rates:\n",
    "\n",
    "    w,b = initialize_params(x_train.shape[0], random=False)\n",
    "    params,metrics = optimize(w, b, x_train, y_train, x_test, y_test, nepochs, lr, cost_type=\"CE\", debug = False)\n",
    "\n",
    "    metrics.plot_error_curves()"
   ]
  },
  {
   "cell_type": "markdown",
   "metadata": {},
   "source": [
    "* Summarize the results in a small table with (learning rate, # epochs, training and test error rates.\n"
   ]
  },
  {
   "cell_type": "code",
   "execution_count": 40,
   "metadata": {},
   "outputs": [
    {
     "name": "stdout",
     "output_type": "stream",
     "text": [
      "Train/test cost after epoch 100: 0.168623, 0.166402\n",
      "Train/test error after epoch 100: 0.026203, 0.022742 (min: 0.026121, 0.022742)\n",
      "Train/test cost after epoch 500: 0.072750, 0.071498\n",
      "Train/test error after epoch 500: 0.017221, 0.018787 (min: 0.017221, 0.018787)\n",
      "Train/test cost after epoch 1000: 0.053948, 0.052983\n",
      "Train/test error after epoch 1000: 0.014090, 0.014832 (min: 0.014090, 0.014832)\n",
      "Train/test cost after epoch 1500: 0.045978, 0.045122\n",
      "Train/test error after epoch 1500: 0.012690, 0.012195 (min: 0.012690, 0.012195)\n",
      "Train/test cost after epoch 100: 0.053704, 0.052744\n",
      "Train/test error after epoch 100: 0.014090, 0.014832 (min: 0.014090, 0.014832)\n",
      "Train/test cost after epoch 500: 0.029678, 0.028856\n",
      "Train/test error after epoch 500: 0.008240, 0.007910 (min: 0.008240, 0.007910)\n",
      "Train/test cost after epoch 1000: 0.023380, 0.022523\n",
      "Train/test error after epoch 1000: 0.006262, 0.005274 (min: 0.006262, 0.005274)\n",
      "Train/test cost after epoch 1500: 0.020425, 0.019700\n",
      "Train/test error after epoch 1500: 0.005603, 0.004614 (min: 0.005521, 0.004614)\n",
      "Train/test cost after epoch 100: 0.023267, 0.022468\n",
      "Train/test error after epoch 100: 0.006262, 0.005603 (min: 0.006262, 0.005603)\n",
      "Train/test cost after epoch 500: 0.013942, 0.014552\n",
      "Train/test error after epoch 500: 0.004038, 0.003955 (min: 0.004038, 0.003955)\n",
      "Train/test cost after epoch 1000: 0.011061, 0.013034\n",
      "Train/test error after epoch 1000: 0.003049, 0.004285 (min: 0.003049, 0.003626)\n",
      "Train/test cost after epoch 1500: 0.009493, 0.012511\n",
      "Train/test error after epoch 1500: 0.002884, 0.004285 (min: 0.002884, 0.003626)\n",
      "Train/test cost after epoch 100: 0.019421, 0.020107\n",
      "Train/test error after epoch 100: 0.004202, 0.004285 (min: 0.004120, 0.003955)\n",
      "Train/test cost after epoch 500: 0.004872, 0.014159\n",
      "Train/test error after epoch 500: 0.001895, 0.003626 (min: 0.001895, 0.003296)\n",
      "Train/test cost after epoch 1000: 0.003180, 0.014626\n",
      "Train/test error after epoch 1000: 0.000659, 0.003626 (min: 0.000659, 0.003296)\n",
      "Train/test cost after epoch 1500: 0.002446, 0.015184\n",
      "Train/test error after epoch 1500: 0.000494, 0.003955 (min: 0.000494, 0.003296)\n"
     ]
    },
    {
     "name": "stderr",
     "output_type": "stream",
     "text": [
      "<ipython-input-14-da235201c826>:11: RuntimeWarning: overflow encountered in exp\n",
      "  s = 1/(1+np.exp(-z))\n"
     ]
    },
    {
     "name": "stdout",
     "output_type": "stream",
     "text": [
      "Train/test cost after epoch 100: 0.086236, 0.076470\n",
      "Train/test error after epoch 100: 0.004450, 0.004614 (min: 0.004450, 0.003955)\n",
      "Train/test cost after epoch 500: 0.005812, 0.076903\n",
      "Train/test error after epoch 500: 0.000824, 0.004614 (min: 0.000824, 0.003296)\n",
      "Train/test cost after epoch 1000: 0.000252, 0.071407\n",
      "Train/test error after epoch 1000: 0.000000, 0.004285 (min: 0.000000, 0.003296)\n",
      "Train/test cost after epoch 1500: 0.000115, 0.070573\n",
      "Train/test error after epoch 1500: 0.000000, 0.003955 (min: 0.000000, 0.003296)\n"
     ]
    }
   ],
   "source": [
    "np.random.seed(1) # this makes the results reproduceable - change this if you want to see other initial weights\n",
    "\n",
    "learning_rates = [0.001, 0.01, 0.1, 1, 10]\n",
    "epochs = [100, 500, 1000, 1500]\n",
    "\n",
    "lr_history = []\n",
    "epoch_history = []\n",
    "train_error_rates_last = []\n",
    "train_error_rates_min = []\n",
    "test_error_rates_last = []\n",
    "test_error_rates_min = []\n",
    "\n",
    "for lr in learning_rates:\n",
    "    for epoch in epochs:\n",
    "        lr_history.append(lr)\n",
    "        epoch_history.append(epoch)\n",
    "        \n",
    "        w,b = initialize_params(x_train.shape[0], random=False)\n",
    "        params,metrics = optimize(w, b, x_train, y_train, x_test, y_test, epoch, lr, cost_type=\"CE\", debug = False)\n",
    "\n",
    "        train_error_rates_last.append(metrics.train_errors[-1])\n",
    "        train_error_rates_min.append(np.min(metrics.train_errors))\n",
    "        \n",
    "        test_error_rates_last.append(metrics.test_errors[-1])\n",
    "        test_error_rates_min.append(np.min(metrics.test_errors))\n"
   ]
  },
  {
   "cell_type": "code",
   "execution_count": 41,
   "metadata": {},
   "outputs": [
    {
     "data": {
      "text/html": [
       "<div>\n",
       "<style scoped>\n",
       "    .dataframe tbody tr th:only-of-type {\n",
       "        vertical-align: middle;\n",
       "    }\n",
       "\n",
       "    .dataframe tbody tr th {\n",
       "        vertical-align: top;\n",
       "    }\n",
       "\n",
       "    .dataframe thead th {\n",
       "        text-align: right;\n",
       "    }\n",
       "</style>\n",
       "<table border=\"1\" class=\"dataframe\">\n",
       "  <thead>\n",
       "    <tr style=\"text-align: right;\">\n",
       "      <th></th>\n",
       "      <th>learning rate</th>\n",
       "      <th>nr. of epochs</th>\n",
       "      <th>last training error</th>\n",
       "      <th>min. training error</th>\n",
       "      <th>last test error</th>\n",
       "      <th>min. test error</th>\n",
       "    </tr>\n",
       "  </thead>\n",
       "  <tbody>\n",
       "    <tr>\n",
       "      <th>0</th>\n",
       "      <td>0.001</td>\n",
       "      <td>100</td>\n",
       "      <td>0.026203</td>\n",
       "      <td>0.026121</td>\n",
       "      <td>0.022742</td>\n",
       "      <td>0.022742</td>\n",
       "    </tr>\n",
       "    <tr>\n",
       "      <th>1</th>\n",
       "      <td>0.001</td>\n",
       "      <td>500</td>\n",
       "      <td>0.017221</td>\n",
       "      <td>0.017221</td>\n",
       "      <td>0.018787</td>\n",
       "      <td>0.018787</td>\n",
       "    </tr>\n",
       "    <tr>\n",
       "      <th>2</th>\n",
       "      <td>0.001</td>\n",
       "      <td>1000</td>\n",
       "      <td>0.014090</td>\n",
       "      <td>0.014090</td>\n",
       "      <td>0.014832</td>\n",
       "      <td>0.014832</td>\n",
       "    </tr>\n",
       "    <tr>\n",
       "      <th>3</th>\n",
       "      <td>0.001</td>\n",
       "      <td>1500</td>\n",
       "      <td>0.012690</td>\n",
       "      <td>0.012690</td>\n",
       "      <td>0.012195</td>\n",
       "      <td>0.012195</td>\n",
       "    </tr>\n",
       "    <tr>\n",
       "      <th>4</th>\n",
       "      <td>0.010</td>\n",
       "      <td>100</td>\n",
       "      <td>0.014090</td>\n",
       "      <td>0.014090</td>\n",
       "      <td>0.014832</td>\n",
       "      <td>0.014832</td>\n",
       "    </tr>\n",
       "    <tr>\n",
       "      <th>5</th>\n",
       "      <td>0.010</td>\n",
       "      <td>500</td>\n",
       "      <td>0.008240</td>\n",
       "      <td>0.008240</td>\n",
       "      <td>0.007910</td>\n",
       "      <td>0.007910</td>\n",
       "    </tr>\n",
       "    <tr>\n",
       "      <th>6</th>\n",
       "      <td>0.010</td>\n",
       "      <td>1000</td>\n",
       "      <td>0.006262</td>\n",
       "      <td>0.006262</td>\n",
       "      <td>0.005274</td>\n",
       "      <td>0.005274</td>\n",
       "    </tr>\n",
       "    <tr>\n",
       "      <th>7</th>\n",
       "      <td>0.010</td>\n",
       "      <td>1500</td>\n",
       "      <td>0.005603</td>\n",
       "      <td>0.005521</td>\n",
       "      <td>0.004614</td>\n",
       "      <td>0.004614</td>\n",
       "    </tr>\n",
       "    <tr>\n",
       "      <th>8</th>\n",
       "      <td>0.100</td>\n",
       "      <td>100</td>\n",
       "      <td>0.006262</td>\n",
       "      <td>0.006262</td>\n",
       "      <td>0.005603</td>\n",
       "      <td>0.005603</td>\n",
       "    </tr>\n",
       "    <tr>\n",
       "      <th>9</th>\n",
       "      <td>0.100</td>\n",
       "      <td>500</td>\n",
       "      <td>0.004038</td>\n",
       "      <td>0.004038</td>\n",
       "      <td>0.003955</td>\n",
       "      <td>0.003955</td>\n",
       "    </tr>\n",
       "    <tr>\n",
       "      <th>10</th>\n",
       "      <td>0.100</td>\n",
       "      <td>1000</td>\n",
       "      <td>0.003049</td>\n",
       "      <td>0.003049</td>\n",
       "      <td>0.004285</td>\n",
       "      <td>0.003626</td>\n",
       "    </tr>\n",
       "    <tr>\n",
       "      <th>11</th>\n",
       "      <td>0.100</td>\n",
       "      <td>1500</td>\n",
       "      <td>0.002884</td>\n",
       "      <td>0.002884</td>\n",
       "      <td>0.004285</td>\n",
       "      <td>0.003626</td>\n",
       "    </tr>\n",
       "    <tr>\n",
       "      <th>12</th>\n",
       "      <td>1.000</td>\n",
       "      <td>100</td>\n",
       "      <td>0.004202</td>\n",
       "      <td>0.004120</td>\n",
       "      <td>0.004285</td>\n",
       "      <td>0.003955</td>\n",
       "    </tr>\n",
       "    <tr>\n",
       "      <th>13</th>\n",
       "      <td>1.000</td>\n",
       "      <td>500</td>\n",
       "      <td>0.001895</td>\n",
       "      <td>0.001895</td>\n",
       "      <td>0.003626</td>\n",
       "      <td>0.003296</td>\n",
       "    </tr>\n",
       "    <tr>\n",
       "      <th>14</th>\n",
       "      <td>1.000</td>\n",
       "      <td>1000</td>\n",
       "      <td>0.000659</td>\n",
       "      <td>0.000659</td>\n",
       "      <td>0.003626</td>\n",
       "      <td>0.003296</td>\n",
       "    </tr>\n",
       "    <tr>\n",
       "      <th>15</th>\n",
       "      <td>1.000</td>\n",
       "      <td>1500</td>\n",
       "      <td>0.000494</td>\n",
       "      <td>0.000494</td>\n",
       "      <td>0.003955</td>\n",
       "      <td>0.003296</td>\n",
       "    </tr>\n",
       "    <tr>\n",
       "      <th>16</th>\n",
       "      <td>10.000</td>\n",
       "      <td>100</td>\n",
       "      <td>0.004450</td>\n",
       "      <td>0.004450</td>\n",
       "      <td>0.004614</td>\n",
       "      <td>0.003955</td>\n",
       "    </tr>\n",
       "    <tr>\n",
       "      <th>17</th>\n",
       "      <td>10.000</td>\n",
       "      <td>500</td>\n",
       "      <td>0.000824</td>\n",
       "      <td>0.000824</td>\n",
       "      <td>0.004614</td>\n",
       "      <td>0.003296</td>\n",
       "    </tr>\n",
       "    <tr>\n",
       "      <th>18</th>\n",
       "      <td>10.000</td>\n",
       "      <td>1000</td>\n",
       "      <td>0.000000</td>\n",
       "      <td>0.000000</td>\n",
       "      <td>0.004285</td>\n",
       "      <td>0.003296</td>\n",
       "    </tr>\n",
       "    <tr>\n",
       "      <th>19</th>\n",
       "      <td>10.000</td>\n",
       "      <td>1500</td>\n",
       "      <td>0.000000</td>\n",
       "      <td>0.000000</td>\n",
       "      <td>0.003955</td>\n",
       "      <td>0.003296</td>\n",
       "    </tr>\n",
       "  </tbody>\n",
       "</table>\n",
       "</div>"
      ],
      "text/plain": [
       "    learning rate  nr. of epochs  last training error  min. training error  \\\n",
       "0           0.001            100             0.026203             0.026121   \n",
       "1           0.001            500             0.017221             0.017221   \n",
       "2           0.001           1000             0.014090             0.014090   \n",
       "3           0.001           1500             0.012690             0.012690   \n",
       "4           0.010            100             0.014090             0.014090   \n",
       "5           0.010            500             0.008240             0.008240   \n",
       "6           0.010           1000             0.006262             0.006262   \n",
       "7           0.010           1500             0.005603             0.005521   \n",
       "8           0.100            100             0.006262             0.006262   \n",
       "9           0.100            500             0.004038             0.004038   \n",
       "10          0.100           1000             0.003049             0.003049   \n",
       "11          0.100           1500             0.002884             0.002884   \n",
       "12          1.000            100             0.004202             0.004120   \n",
       "13          1.000            500             0.001895             0.001895   \n",
       "14          1.000           1000             0.000659             0.000659   \n",
       "15          1.000           1500             0.000494             0.000494   \n",
       "16         10.000            100             0.004450             0.004450   \n",
       "17         10.000            500             0.000824             0.000824   \n",
       "18         10.000           1000             0.000000             0.000000   \n",
       "19         10.000           1500             0.000000             0.000000   \n",
       "\n",
       "    last test error  min. test error  \n",
       "0          0.022742         0.022742  \n",
       "1          0.018787         0.018787  \n",
       "2          0.014832         0.014832  \n",
       "3          0.012195         0.012195  \n",
       "4          0.014832         0.014832  \n",
       "5          0.007910         0.007910  \n",
       "6          0.005274         0.005274  \n",
       "7          0.004614         0.004614  \n",
       "8          0.005603         0.005603  \n",
       "9          0.003955         0.003955  \n",
       "10         0.004285         0.003626  \n",
       "11         0.004285         0.003626  \n",
       "12         0.004285         0.003955  \n",
       "13         0.003626         0.003296  \n",
       "14         0.003626         0.003296  \n",
       "15         0.003955         0.003296  \n",
       "16         0.004614         0.003955  \n",
       "17         0.004614         0.003296  \n",
       "18         0.004285         0.003296  \n",
       "19         0.003955         0.003296  "
      ]
     },
     "execution_count": 41,
     "metadata": {},
     "output_type": "execute_result"
    }
   ],
   "source": [
    "import pandas as pd\n",
    "\n",
    "\"\"\"\n",
    "lr_history = []\n",
    "epoch_history = []\n",
    "train_error_rates_last = []\n",
    "train_error_rates_min = []\n",
    "test_error_rates_last = []\n",
    "test_error_rates_min = []\n",
    "\"\"\"\n",
    "\n",
    "dict = {'learning rate': lr_history,\n",
    "        'nr. of epochs': epoch_history,\n",
    "        'last training error': train_error_rates_last,\n",
    "        'min. training error': train_error_rates_min,\n",
    "        'last test error': test_error_rates_last,\n",
    "        'min. test error': test_error_rates_min\n",
    "       }  \n",
    "\n",
    "df = pd.DataFrame(dict) \n",
    "df "
   ]
  },
  {
   "cell_type": "markdown",
   "metadata": {},
   "source": [
    "* Estimate the error bar in the estimation of the test error rates when varying the iniitial weights."
   ]
  },
  {
   "cell_type": "code",
   "execution_count": 42,
   "metadata": {},
   "outputs": [
    {
     "name": "stdout",
     "output_type": "stream",
     "text": [
      "Train/test cost after epoch 500: 0.011166, 0.012977\n",
      "Train/test error after epoch 500: 0.003296, 0.003955 (min: 0.003296, 0.003955)\n",
      "Train/test cost after epoch 500: 0.011053, 0.013538\n",
      "Train/test error after epoch 500: 0.003378, 0.004285 (min: 0.003378, 0.003955)\n",
      "Train/test cost after epoch 500: 0.010899, 0.012829\n",
      "Train/test error after epoch 500: 0.003131, 0.003955 (min: 0.003131, 0.003626)\n",
      "Train/test cost after epoch 500: 0.011117, 0.012882\n",
      "Train/test error after epoch 500: 0.003296, 0.004285 (min: 0.003296, 0.003955)\n",
      "Train/test cost after epoch 500: 0.010917, 0.012972\n",
      "Train/test error after epoch 500: 0.003131, 0.004614 (min: 0.003131, 0.004285)\n",
      "Train/test cost after epoch 500: 0.011139, 0.013264\n",
      "Train/test error after epoch 500: 0.003296, 0.004285 (min: 0.003296, 0.003955)\n",
      "Train/test cost after epoch 500: 0.010892, 0.012752\n",
      "Train/test error after epoch 500: 0.003131, 0.004614 (min: 0.003131, 0.003955)\n",
      "Train/test cost after epoch 500: 0.010884, 0.012779\n",
      "Train/test error after epoch 500: 0.003214, 0.003955 (min: 0.003214, 0.003296)\n",
      "Train/test cost after epoch 500: 0.011205, 0.012442\n",
      "Train/test error after epoch 500: 0.003214, 0.004285 (min: 0.003214, 0.003626)\n",
      "Train/test cost after epoch 500: 0.011036, 0.013787\n",
      "Train/test error after epoch 500: 0.003049, 0.004285 (min: 0.003049, 0.004285)\n",
      "Train/test cost after epoch 500: 0.010937, 0.012936\n",
      "Train/test error after epoch 500: 0.003131, 0.004285 (min: 0.003131, 0.003626)\n",
      "Train/test cost after epoch 500: 0.011052, 0.012821\n",
      "Train/test error after epoch 500: 0.003214, 0.003626 (min: 0.003214, 0.003626)\n",
      "Train/test cost after epoch 500: 0.011114, 0.013208\n",
      "Train/test error after epoch 500: 0.003296, 0.003955 (min: 0.003296, 0.003955)\n",
      "Train/test cost after epoch 500: 0.010809, 0.012730\n",
      "Train/test error after epoch 500: 0.003131, 0.004285 (min: 0.003131, 0.003955)\n",
      "Train/test cost after epoch 500: 0.011078, 0.013165\n",
      "Train/test error after epoch 500: 0.003131, 0.004614 (min: 0.003131, 0.003955)\n",
      "Train/test cost after epoch 500: 0.010956, 0.013148\n",
      "Train/test error after epoch 500: 0.003296, 0.004285 (min: 0.003296, 0.004285)\n",
      "Train/test cost after epoch 500: 0.011032, 0.013241\n",
      "Train/test error after epoch 500: 0.003131, 0.004944 (min: 0.003131, 0.003955)\n",
      "Train/test cost after epoch 500: 0.010875, 0.012962\n",
      "Train/test error after epoch 500: 0.003049, 0.004614 (min: 0.003049, 0.004285)\n",
      "Train/test cost after epoch 500: 0.010741, 0.013117\n",
      "Train/test error after epoch 500: 0.003049, 0.004285 (min: 0.003049, 0.003626)\n",
      "Train/test cost after epoch 500: 0.011125, 0.012697\n",
      "Train/test error after epoch 500: 0.003049, 0.003955 (min: 0.003049, 0.003955)\n",
      "Train/test cost after epoch 500: 0.010934, 0.012765\n",
      "Train/test error after epoch 500: 0.003214, 0.003955 (min: 0.003214, 0.003955)\n",
      "Train/test cost after epoch 500: 0.011166, 0.012992\n",
      "Train/test error after epoch 500: 0.003131, 0.003626 (min: 0.003131, 0.003626)\n",
      "Train/test cost after epoch 500: 0.011247, 0.013092\n",
      "Train/test error after epoch 500: 0.002966, 0.004285 (min: 0.002966, 0.003955)\n",
      "Train/test cost after epoch 500: 0.011119, 0.013551\n",
      "Train/test error after epoch 500: 0.003131, 0.003955 (min: 0.003131, 0.003626)\n",
      "Train/test cost after epoch 500: 0.010828, 0.013228\n",
      "Train/test error after epoch 500: 0.003049, 0.004285 (min: 0.003049, 0.003955)\n",
      "Train/test cost after epoch 500: 0.011165, 0.013716\n",
      "Train/test error after epoch 500: 0.003296, 0.004614 (min: 0.003296, 0.003955)\n",
      "Train/test cost after epoch 500: 0.010710, 0.012725\n",
      "Train/test error after epoch 500: 0.002966, 0.003955 (min: 0.002966, 0.003626)\n",
      "Train/test cost after epoch 500: 0.011190, 0.013152\n",
      "Train/test error after epoch 500: 0.003214, 0.003955 (min: 0.003214, 0.003955)\n",
      "Train/test cost after epoch 500: 0.011014, 0.013260\n",
      "Train/test error after epoch 500: 0.003131, 0.004614 (min: 0.003131, 0.004285)\n",
      "Train/test cost after epoch 500: 0.011302, 0.013059\n",
      "Train/test error after epoch 500: 0.003296, 0.003626 (min: 0.003296, 0.003626)\n",
      "Train/test cost after epoch 500: 0.011045, 0.013057\n",
      "Train/test error after epoch 500: 0.003378, 0.003955 (min: 0.003378, 0.003626)\n",
      "Train/test cost after epoch 500: 0.010931, 0.013093\n",
      "Train/test error after epoch 500: 0.003049, 0.003955 (min: 0.003049, 0.003955)\n",
      "Train/test cost after epoch 500: 0.010969, 0.012925\n",
      "Train/test error after epoch 500: 0.003296, 0.004285 (min: 0.003296, 0.003626)\n",
      "Train/test cost after epoch 500: 0.011004, 0.013579\n",
      "Train/test error after epoch 500: 0.003296, 0.003955 (min: 0.003296, 0.003955)\n",
      "Train/test cost after epoch 500: 0.010902, 0.013060\n",
      "Train/test error after epoch 500: 0.003049, 0.004285 (min: 0.003049, 0.004285)\n",
      "Train/test cost after epoch 500: 0.010868, 0.013981\n",
      "Train/test error after epoch 500: 0.003131, 0.004614 (min: 0.003131, 0.004285)\n",
      "Train/test cost after epoch 500: 0.011048, 0.013368\n",
      "Train/test error after epoch 500: 0.002966, 0.004285 (min: 0.002966, 0.003955)\n",
      "Train/test cost after epoch 500: 0.010908, 0.012821\n",
      "Train/test error after epoch 500: 0.003049, 0.004285 (min: 0.003049, 0.003626)\n",
      "Train/test cost after epoch 500: 0.011055, 0.013202\n",
      "Train/test error after epoch 500: 0.002966, 0.003955 (min: 0.002966, 0.003955)\n",
      "Train/test cost after epoch 500: 0.010837, 0.012926\n",
      "Train/test error after epoch 500: 0.003214, 0.003955 (min: 0.003214, 0.003626)\n",
      "Train/test cost after epoch 500: 0.011219, 0.013034\n",
      "Train/test error after epoch 500: 0.003296, 0.003955 (min: 0.003296, 0.003955)\n",
      "Train/test cost after epoch 500: 0.010774, 0.013067\n",
      "Train/test error after epoch 500: 0.003296, 0.003955 (min: 0.003296, 0.003955)\n",
      "Train/test cost after epoch 500: 0.011056, 0.013738\n",
      "Train/test error after epoch 500: 0.003049, 0.004944 (min: 0.003049, 0.004944)\n",
      "Train/test cost after epoch 500: 0.011011, 0.013354\n",
      "Train/test error after epoch 500: 0.003214, 0.004285 (min: 0.003214, 0.003626)\n",
      "Train/test cost after epoch 500: 0.010872, 0.013233\n",
      "Train/test error after epoch 500: 0.003214, 0.004285 (min: 0.003214, 0.003955)\n",
      "Train/test cost after epoch 500: 0.011212, 0.012731\n",
      "Train/test error after epoch 500: 0.003214, 0.004285 (min: 0.003214, 0.003626)\n",
      "Train/test cost after epoch 500: 0.011170, 0.013662\n",
      "Train/test error after epoch 500: 0.003049, 0.003955 (min: 0.003049, 0.003955)\n",
      "Train/test cost after epoch 500: 0.010778, 0.013345\n",
      "Train/test error after epoch 500: 0.003214, 0.004614 (min: 0.003214, 0.003955)\n",
      "Train/test cost after epoch 500: 0.011156, 0.013104\n",
      "Train/test error after epoch 500: 0.003049, 0.004285 (min: 0.003049, 0.003955)\n",
      "Train/test cost after epoch 500: 0.011137, 0.012979\n",
      "Train/test error after epoch 500: 0.003214, 0.003955 (min: 0.003214, 0.003626)\n",
      "Train/test cost after epoch 500: 0.010985, 0.013273\n",
      "Train/test error after epoch 500: 0.003131, 0.004285 (min: 0.003131, 0.003955)\n",
      "Train/test cost after epoch 500: 0.010817, 0.013324\n",
      "Train/test error after epoch 500: 0.003296, 0.004285 (min: 0.003296, 0.003955)\n",
      "Train/test cost after epoch 500: 0.010729, 0.013375\n",
      "Train/test error after epoch 500: 0.003296, 0.004614 (min: 0.003296, 0.003626)\n",
      "Train/test cost after epoch 500: 0.011076, 0.012941\n",
      "Train/test error after epoch 500: 0.003049, 0.003626 (min: 0.003049, 0.003296)\n",
      "Train/test cost after epoch 500: 0.010977, 0.013052\n",
      "Train/test error after epoch 500: 0.003131, 0.004285 (min: 0.003131, 0.003955)\n",
      "Train/test cost after epoch 500: 0.010994, 0.013448\n",
      "Train/test error after epoch 500: 0.003049, 0.004285 (min: 0.003049, 0.004285)\n",
      "Train/test cost after epoch 500: 0.010977, 0.013305\n",
      "Train/test error after epoch 500: 0.003214, 0.004285 (min: 0.003214, 0.003955)\n",
      "Train/test cost after epoch 500: 0.010796, 0.012303\n",
      "Train/test error after epoch 500: 0.003049, 0.002966 (min: 0.003049, 0.002966)\n",
      "Train/test cost after epoch 500: 0.010631, 0.012682\n",
      "Train/test error after epoch 500: 0.003049, 0.003955 (min: 0.003049, 0.003955)\n",
      "Train/test cost after epoch 500: 0.010985, 0.013274\n",
      "Train/test error after epoch 500: 0.003049, 0.004285 (min: 0.003049, 0.003955)\n",
      "Train/test cost after epoch 500: 0.011066, 0.012924\n",
      "Train/test error after epoch 500: 0.003131, 0.003955 (min: 0.003131, 0.003955)\n",
      "Train/test cost after epoch 500: 0.011145, 0.012998\n",
      "Train/test error after epoch 500: 0.003049, 0.004614 (min: 0.003049, 0.004285)\n",
      "Train/test cost after epoch 500: 0.011168, 0.013673\n",
      "Train/test error after epoch 500: 0.003131, 0.004614 (min: 0.003131, 0.004285)\n"
     ]
    },
    {
     "name": "stdout",
     "output_type": "stream",
     "text": [
      "Train/test cost after epoch 500: 0.011171, 0.013199\n",
      "Train/test error after epoch 500: 0.003131, 0.004614 (min: 0.003131, 0.004285)\n",
      "Train/test cost after epoch 500: 0.010928, 0.013371\n",
      "Train/test error after epoch 500: 0.003214, 0.004285 (min: 0.003214, 0.004285)\n",
      "Train/test cost after epoch 500: 0.011105, 0.012857\n",
      "Train/test error after epoch 500: 0.002966, 0.003955 (min: 0.002966, 0.003626)\n",
      "Train/test cost after epoch 500: 0.010977, 0.012894\n",
      "Train/test error after epoch 500: 0.003214, 0.003626 (min: 0.003214, 0.003296)\n",
      "Train/test cost after epoch 500: 0.011202, 0.013072\n",
      "Train/test error after epoch 500: 0.003214, 0.003955 (min: 0.003214, 0.003626)\n",
      "Train/test cost after epoch 500: 0.010804, 0.013378\n",
      "Train/test error after epoch 500: 0.003214, 0.004285 (min: 0.003214, 0.003626)\n",
      "Train/test cost after epoch 500: 0.010949, 0.013103\n",
      "Train/test error after epoch 500: 0.003049, 0.004285 (min: 0.003049, 0.003955)\n",
      "Train/test cost after epoch 500: 0.011044, 0.013000\n",
      "Train/test error after epoch 500: 0.003214, 0.003955 (min: 0.003214, 0.003955)\n",
      "Train/test cost after epoch 500: 0.011107, 0.013183\n",
      "Train/test error after epoch 500: 0.003296, 0.004285 (min: 0.003296, 0.003955)\n",
      "Train/test cost after epoch 500: 0.011056, 0.012959\n",
      "Train/test error after epoch 500: 0.003131, 0.003955 (min: 0.003131, 0.003626)\n",
      "Train/test cost after epoch 500: 0.010875, 0.013160\n",
      "Train/test error after epoch 500: 0.003049, 0.004285 (min: 0.003049, 0.003955)\n",
      "Train/test cost after epoch 500: 0.011006, 0.013373\n",
      "Train/test error after epoch 500: 0.003214, 0.004285 (min: 0.003214, 0.004285)\n",
      "Train/test cost after epoch 500: 0.010814, 0.013168\n",
      "Train/test error after epoch 500: 0.003049, 0.004614 (min: 0.003049, 0.003955)\n",
      "Train/test cost after epoch 500: 0.011160, 0.012711\n",
      "Train/test error after epoch 500: 0.003131, 0.004285 (min: 0.003131, 0.003955)\n",
      "Train/test cost after epoch 500: 0.011079, 0.013151\n",
      "Train/test error after epoch 500: 0.003131, 0.003955 (min: 0.003131, 0.003955)\n",
      "Train/test cost after epoch 500: 0.010737, 0.012892\n",
      "Train/test error after epoch 500: 0.003049, 0.003955 (min: 0.003049, 0.003955)\n",
      "Train/test cost after epoch 500: 0.011236, 0.012096\n",
      "Train/test error after epoch 500: 0.003296, 0.003955 (min: 0.003296, 0.003626)\n",
      "Train/test cost after epoch 500: 0.011156, 0.013360\n",
      "Train/test error after epoch 500: 0.003131, 0.004285 (min: 0.003131, 0.004285)\n",
      "Train/test cost after epoch 500: 0.011276, 0.013186\n",
      "Train/test error after epoch 500: 0.003049, 0.003955 (min: 0.003049, 0.003955)\n",
      "Train/test cost after epoch 500: 0.010968, 0.013239\n",
      "Train/test error after epoch 500: 0.003296, 0.004285 (min: 0.003296, 0.003955)\n",
      "Train/test cost after epoch 500: 0.011083, 0.013428\n",
      "Train/test error after epoch 500: 0.003131, 0.004285 (min: 0.003131, 0.004285)\n",
      "Train/test cost after epoch 500: 0.011276, 0.013058\n",
      "Train/test error after epoch 500: 0.003214, 0.004285 (min: 0.003214, 0.003955)\n",
      "Train/test cost after epoch 500: 0.010848, 0.012750\n",
      "Train/test error after epoch 500: 0.003049, 0.004614 (min: 0.003049, 0.004285)\n",
      "Train/test cost after epoch 500: 0.011106, 0.012997\n",
      "Train/test error after epoch 500: 0.003296, 0.003955 (min: 0.003296, 0.003626)\n",
      "Train/test cost after epoch 500: 0.011024, 0.013090\n",
      "Train/test error after epoch 500: 0.002966, 0.003955 (min: 0.002966, 0.003955)\n",
      "Train/test cost after epoch 500: 0.011128, 0.012786\n",
      "Train/test error after epoch 500: 0.003049, 0.004285 (min: 0.003049, 0.003626)\n",
      "Train/test cost after epoch 500: 0.010866, 0.013594\n",
      "Train/test error after epoch 500: 0.003131, 0.004614 (min: 0.003131, 0.004285)\n",
      "Train/test cost after epoch 500: 0.011006, 0.013275\n",
      "Train/test error after epoch 500: 0.003131, 0.004614 (min: 0.003131, 0.003955)\n",
      "Train/test cost after epoch 500: 0.011048, 0.013558\n",
      "Train/test error after epoch 500: 0.003214, 0.004285 (min: 0.003214, 0.003955)\n",
      "Train/test cost after epoch 500: 0.010945, 0.013228\n",
      "Train/test error after epoch 500: 0.003214, 0.003626 (min: 0.003214, 0.003626)\n",
      "Train/test cost after epoch 500: 0.011221, 0.012945\n",
      "Train/test error after epoch 500: 0.003214, 0.004614 (min: 0.003214, 0.004285)\n",
      "Train/test cost after epoch 500: 0.011098, 0.013000\n",
      "Train/test error after epoch 500: 0.003131, 0.004285 (min: 0.003131, 0.003955)\n",
      "Train/test cost after epoch 500: 0.011053, 0.013507\n",
      "Train/test error after epoch 500: 0.003296, 0.004285 (min: 0.003296, 0.003626)\n",
      "Train/test cost after epoch 500: 0.010736, 0.012129\n",
      "Train/test error after epoch 500: 0.003214, 0.003955 (min: 0.003214, 0.003626)\n",
      "Train/test cost after epoch 500: 0.010694, 0.012879\n",
      "Train/test error after epoch 500: 0.003131, 0.003955 (min: 0.003131, 0.003955)\n",
      "Train/test cost after epoch 500: 0.011122, 0.012935\n",
      "Train/test error after epoch 500: 0.003214, 0.004614 (min: 0.003214, 0.003626)\n",
      "Train/test cost after epoch 500: 0.010814, 0.013386\n",
      "Train/test error after epoch 500: 0.003131, 0.004285 (min: 0.003131, 0.003955)\n"
     ]
    }
   ],
   "source": [
    "np.random.seed() \n",
    "\n",
    "learning_rate = 0.2\n",
    "nepochs = 500\n",
    "\n",
    "test_error_rates_last = []\n",
    "test_error_rates_min = []\n",
    "\n",
    "for i in range(100):\n",
    "    w,b = initialize_params(x_train.shape[0], random=True)\n",
    "    params,metrics = optimize(w, b, x_train, y_train, x_test, y_test, nepochs, learning_rate, cost_type=\"CE\", debug = False)\n",
    "\n",
    "    test_error_rates_last.append(metrics.test_errors[-1])\n",
    "    test_error_rates_min.append(np.min(metrics.test_errors))\n",
    "    "
   ]
  },
  {
   "cell_type": "code",
   "execution_count": 43,
   "metadata": {},
   "outputs": [
    {
     "name": "stdout",
     "output_type": "stream",
     "text": [
      "The 95% confidence interval for the last-test-error rates       ranges from 0.0041362931781299276 to 0.0042618610736828615.\n",
      "The 95% confidence interval for the min-test-error rates       ranges from 0.0038461112857866545 to 0.003958766762993831.\n"
     ]
    },
    {
     "data": {
      "image/png": "[encoded data removed]",
      "text/plain": [
       "<Figure size 432x288 with 2 Axes>"
      ]
     },
     "metadata": {
      "needs_background": "light"
     },
     "output_type": "display_data"
    }
   ],
   "source": [
    "import scipy\n",
    "\n",
    "def mean_confidence_interval(data, confidence=0.95):\n",
    "    a = 1.0 * np.array(data)\n",
    "    n = len(a)\n",
    "    m, se = np.mean(a), scipy.stats.sem(a)\n",
    "    h = se * scipy.stats.t.ppf((1 + confidence) / 2., n-1)\n",
    "    return m, m-h, m+h\n",
    "\n",
    "plt.figure()\n",
    "\n",
    "mean, conf_min, conf_max = mean_confidence_interval(test_error_rates_last)\n",
    "print(\"The 95% confidence interval for the last-test-error rates \\\n",
    "      ranges from {} to {}.\".format(conf_min,conf_max))\n",
    "\n",
    "plt.subplot(1,2,1)\n",
    "plt.hist(test_error_rates_last)\n",
    "plt.title(\"Last-test-error rate\")\n",
    "\n",
    "mean, conf_min, conf_max = mean_confidence_interval(test_error_rates_min)\n",
    "print(\"The 95% confidence interval for the min-test-error rates \\\n",
    "      ranges from {} to {}.\".format(conf_min,conf_max))\n",
    "\n",
    "plt.subplot(1,2,2)\n",
    "plt.hist(test_error_rates_min)\n",
    "plt.title(\"Min-test-error rate\")\n",
    "plt.show()"
   ]
  },
  {
   "cell_type": "markdown",
   "metadata": {},
   "source": [
    "#### Evaluate Dependency on Cost Function\n",
    "\n",
    "Compare the train and test error curves for the learning rate 0.2 when using cross-entropy loss with when using the mean square error loss.\n",
    "\n",
    "Answer:\n",
    "Both loss-functions lead approximately to the same test-error of about 0.004X. Nevertheless, the big advantage of the cross-entropy loss (CE) against the mean-squared-error (MSE) can be observed in the following two plots quite clearly. While the MSE error curve goes down very slowly, the CE error curve goes down more steep at the beginning. This means, that one can obtain the same results with a CE loss-function in about 100 epochs as with a MSE loss-function in about 500 epochs. This is important to notice, since it shows that choosing the right loss-function can drastically decrease (In this example the gain is about factor 5) the training-time needed."
   ]
  },
  {
   "cell_type": "code",
   "execution_count": 44,
   "metadata": {},
   "outputs": [
    {
     "name": "stdout",
     "output_type": "stream",
     "text": [
      "Train/test cost after epoch 500: 0.002284, 0.002214\n",
      "Train/test error after epoch 500: 0.004532, 0.004614 (min: 0.004532, 0.003955)\n"
     ]
    },
    {
     "data": {
      "image/png": "[encoded data removed]",
      "text/plain": [
       "<Figure size 432x288 with 1 Axes>"
      ]
     },
     "metadata": {
      "needs_background": "light"
     },
     "output_type": "display_data"
    },
    {
     "name": "stdout",
     "output_type": "stream",
     "text": [
      "Train/test cost after epoch 500: 0.011005, 0.012990\n",
      "Train/test error after epoch 500: 0.003131, 0.004285 (min: 0.003131, 0.003626)\n"
     ]
    },
    {
     "data": {
      "image/png": "[encoded data removed]",
      "text/plain": [
       "<Figure size 432x288 with 1 Axes>"
      ]
     },
     "metadata": {
      "needs_background": "light"
     },
     "output_type": "display_data"
    }
   ],
   "source": [
    "np.random.seed(1) # this makes the results reproduceable - change this if you want to see other initial weights\n",
    "\n",
    "learning_rate = 0.2\n",
    "nepochs = 500\n",
    "\n",
    "loss_functions = {\"CE\",\"MSE\"}\n",
    "\n",
    "for lf in loss_functions:\n",
    "    w,b = initialize_params(x_train.shape[0], random=False)\n",
    "    params,metrics = optimize(w, b, x_train, y_train, x_test, y_test, nepochs, learning_rate, cost_type=lf, debug = False)\n",
    "\n",
    "    metrics.plot_error_curves(ymin=0.001, ymax=0.02, logy=True)"
   ]
  },
  {
   "cell_type": "markdown",
   "metadata": {},
   "source": [
    "#### (Optional) Determine the error rates for different digit pairs\n",
    "\n",
    "For which digit pairs do you obtain good classification results (measured with the test error rates) - for which not so good?"
   ]
  },
  {
   "cell_type": "markdown",
   "metadata": {},
   "source": [
    "#### Summary: (What we did learn in these exercises)\n",
    "##### Exercise 2:\n",
    "- sigmoid function maps any x value to an 0-1 y-value\n",
    "- sigmoid function is the inverse function of the logit function\n",
    "- softplus function is a smoother version (and therefore we can obtain a derivative) of the relu function.\n",
    "\n",
    "##### Exercise 3:\n",
    "- Load the mnist dataset\n",
    "- Inspect the mnist dataset\n",
    "- Split dataset in train and test\n",
    "- Normalize dataset\n",
    "- Make predictions on behalf of sigmoid(w*x+b) (Probability 0-1)\n",
    "- Cross-Entropy loss function (CE) is well suited for classification problems\n",
    "- Mean squared error loss function (MSE) is well suited for regression problems\n",
    "- The learning rate should not be too small, this this increases the training time\n",
    "- The learning rate should not be too high, because one could miss/escape a local/global optima\n",
    "- The hyperparameter \"learning rate\" can be found by using e.g. gridsearch\n",
    "- To find the optimal number of epochs, a fixed number of epochs can be used at first. The plot of the obtained error-rates vs. the epoch reveals, if the error-rate is converging (no need to increment the number of epochs anymore) or if the error-rate is still decreasing (The error-rate could be even further optimized on behalf of more epochs). Another strategy would be to keep track of the improvments in terms of the error-rate between epochs. As soon as this error-rate does not improve anymore, the algorithm could stop automatically.\n",
    "- Optimal hyperparameters can be optained on behalf of the gridsearch-strategy."
   ]
  },
  {
   "cell_type": "code",
   "execution_count": null,
   "metadata": {},
   "outputs": [],
   "source": []
  }
 ],
 "metadata": {
  "kernelspec": {
   "display_name": "Python 3",
   "language": "python",
   "name": "python3"
  },
  "language_info": {
   "codemirror_mode": {
    "name": "ipython",
    "version": 3
   },
   "file_extension": ".py",
   "mimetype": "text/x-python",
   "name": "python",
   "nbconvert_exporter": "python",
   "pygments_lexer": "ipython3",
   "version": "3.8.5"
  }
 },
 "nbformat": 4,
 "nbformat_minor": 4
}
