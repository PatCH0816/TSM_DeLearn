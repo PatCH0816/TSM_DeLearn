{
 "cells": [
  {
   "cell_type": "markdown",
   "metadata": {},
   "source": [
    "## Exercise 3\n",
    "## MLP with TensorFlow 2\n",
    "The objective of the exercise is to implement computational graphs in TensorFlow 2.0 to train and use such an architecture. The constraints we put ourselves is to use **low-level** functions of TensorFlow, i.e. we will not use high-level functions to compose layers and to train the parameters.\n",
    "\n",
    "If you get this error in the execution of the first cell: ` ModuleNotFoundError: No module named 'tensorflow' `, it probably means TensorFlow 2.0 is not installed yet on your machine."
   ]
  },
  {
   "cell_type": "code",
   "execution_count": 2,
   "metadata": {
    "ExecuteTime": {
     "end_time": "2021-04-07T19:00:21.720096Z",
     "start_time": "2021-04-07T19:00:21.388573Z"
    }
   },
   "outputs": [
    {
     "name": "stdout",
     "output_type": "stream",
     "text": [
      "Downloading data from https://storage.googleapis.com/tensorflow/tf-keras-datasets/mnist.npz\n",
      "11493376/11490434 [==============================] - 2s 0us/step\n",
      "MNIST data set ready. N=60000, D=784, n_classes=10\n"
     ]
    }
   ],
   "source": [
    "#############################\n",
    "# MNIST Dataset Preparation #\n",
    "#############################\n",
    "\n",
    "import numpy as np\n",
    "import tensorflow as tf\n",
    "import matplotlib.pyplot as plt\n",
    "import time\n",
    "\n",
    "mnist = tf.keras.datasets.mnist\n",
    "(x_train, y_train_vec),(x_test, y_test_vec) = mnist.load_data()\n",
    "x_train, x_test = x_train / 255.0, x_test / 255.0\n",
    "x_train = x_train.reshape(60000, 784)\n",
    "x_test = x_test.reshape(10000, 784)\n",
    "# convert class vectors to binary class matrices\n",
    "y_train = tf.keras.utils.to_categorical(y_train_vec, 10, dtype='float64')\n",
    "y_test = tf.keras.utils.to_categorical(y_test_vec, 10, dtype='float64')\n",
    "N = x_train.shape[0]         # number of samples\n",
    "D = x_train.shape[1]         # dimension of input sample\n",
    "n_classes = y_train.shape[1] # output dim\n",
    "print('MNIST data set ready. N={}, D={}, n_classes={}'.format(N,D,n_classes))"
   ]
  },
  {
   "cell_type": "code",
   "execution_count": 3,
   "metadata": {
    "ExecuteTime": {
     "end_time": "2021-04-07T19:00:22.503571Z",
     "start_time": "2021-04-07T19:00:22.498979Z"
    }
   },
   "outputs": [],
   "source": [
    "# Function to sample a random batch from dataset\n",
    "def next_batch(num, data, labels):\n",
    "    '''\n",
    "    Return a total of `num` random samples and labels. \n",
    "    '''\n",
    "    idx = np.arange(0,len(data))  # create an array of index values\n",
    "    np.random.shuffle(idx)        # shuffle it\n",
    "    idx = idx[:num]               # take the first n indexes = size of batch\n",
    "    data_shuffle = data[idx]      # extract the batch using the random indexes\n",
    "    labels_shuffle = labels[idx]  # extract the labels using the random indexes\n",
    "\n",
    "    return data_shuffle, labels_shuffle"
   ]
  },
  {
   "cell_type": "code",
   "execution_count": 4,
   "metadata": {
    "ExecuteTime": {
     "end_time": "2021-04-07T19:32:40.201926Z",
     "start_time": "2021-04-07T19:28:03.416072Z"
    },
    "scrolled": false
   },
   "outputs": [
    {
     "name": "stdout",
     "output_type": "stream",
     "text": [
      "WARNING:tensorflow:AutoGraph could not transform <function mlp_train at 0x0000020D812450D8> and will run it as-is.\n",
      "Please report this to the TensorFlow team. When filing the bug, set the verbosity to 10 (on Linux, `export AUTOGRAPH_VERBOSITY=10`) and attach the full output.\n",
      "Cause: name 'fscope' is not defined\n",
      "WARNING: AutoGraph could not transform <function mlp_train at 0x0000020D812450D8> and will run it as-is.\n",
      "Please report this to the TensorFlow team. When filing the bug, set the verbosity to 10 (on Linux, `export AUTOGRAPH_VERBOSITY=10`) and attach the full output.\n",
      "Cause: name 'fscope' is not defined\n",
      "epoch = 0, loss = 46.9905\n",
      "epoch = 1, loss = 41.6208\n",
      "epoch = 2, loss = 29.4246\n",
      "epoch = 3, loss = 20.0393\n",
      "epoch = 4, loss = 11.7576\n",
      "epoch = 5, loss = 5.1989\n",
      "epoch = 6, loss = 3.0188\n",
      "epoch = 7, loss = 2.5270\n",
      "epoch = 8, loss = 2.2359\n",
      "epoch = 9, loss = 2.0152\n",
      "epoch = 10, loss = 1.8419\n",
      "epoch = 11, loss = 1.7283\n",
      "epoch = 12, loss = 1.5201\n",
      "epoch = 13, loss = 1.4105\n",
      "epoch = 14, loss = 1.3244\n",
      "epoch = 15, loss = 1.3459\n",
      "epoch = 16, loss = 1.1903\n",
      "epoch = 17, loss = 1.1618\n",
      "epoch = 18, loss = 1.1366\n",
      "epoch = 19, loss = 1.0532\n",
      "epoch = 20, loss = 1.0225\n",
      "epoch = 21, loss = 0.9344\n",
      "epoch = 22, loss = 0.9072\n",
      "epoch = 23, loss = 0.9032\n",
      "epoch = 24, loss = 0.8702\n",
      "epoch = 25, loss = 0.8219\n",
      "epoch = 26, loss = 0.7893\n",
      "epoch = 27, loss = 0.7499\n",
      "epoch = 28, loss = 0.7194\n",
      "epoch = 29, loss = 0.7210\n",
      "epoch = 30, loss = 0.7258\n",
      "epoch = 31, loss = 0.7111\n",
      "epoch = 32, loss = 0.6567\n",
      "epoch = 33, loss = 0.6640\n",
      "epoch = 34, loss = 0.6157\n",
      "epoch = 35, loss = 0.6420\n",
      "epoch = 36, loss = 0.6091\n",
      "epoch = 37, loss = 0.5744\n",
      "epoch = 38, loss = 0.6072\n",
      "epoch = 39, loss = 0.5906\n",
      "epoch = 40, loss = 0.5938\n",
      "epoch = 41, loss = 0.6078\n",
      "epoch = 42, loss = 0.5863\n",
      "epoch = 43, loss = 0.5930\n",
      "epoch = 44, loss = 0.5824\n",
      "epoch = 45, loss = 0.5866\n",
      "epoch = 46, loss = 0.5445\n",
      "epoch = 47, loss = 0.5615\n",
      "epoch = 48, loss = 0.5594\n",
      "epoch = 49, loss = 0.5276\n",
      "Training took 460.69s\n"
     ]
    }
   ],
   "source": [
    "##################\n",
    "# Training phase #\n",
    "##################\n",
    "\n",
    "E = 50                # number of epochs\n",
    "B = 128               # batch size\n",
    "N = x_train.shape[0]  # number of samples\n",
    "D = x_train.shape[1]  # dimension of input sample\n",
    "H = 600               # number of neurons\n",
    "Amax = 5.0            # maximum learning rate alpha\n",
    "Amin = 0.01           # minimum learning rate alpha\n",
    "\n",
    "##############################################\n",
    "#  COMPLETE CODE BELOW WHERE YOU SEE # ...   #\n",
    "##############################################\n",
    "\n",
    "# Build the computational graph\n",
    "@tf.function # this decorator tells tf that a graph is defined\n",
    "def mlp_train(\n",
    "    x: tf.TensorSpec(shape=[None], dtype=tf.float64),\n",
    "    y: tf.TensorSpec(shape=[None], dtype=tf.float64),\n",
    "    alpha: tf.TensorSpec(shape=[None], dtype=tf.float64)\n",
    "):\n",
    "    # define nodes for forward computation for hidden neurons h and output neurons y_pred\n",
    "    \n",
    "    # h = ...  output of first layer after ReLu activation\n",
    "    # h = tf.maximum(tf.matmul(x, w1) + b1, 0)\n",
    "    h = tf.nn.relu(tf.matmul(x, w1) + b1)\n",
    "    \n",
    "    # y_pred = ... output of second layer after sigmoid activation\n",
    "    # y_pred = 1 / (1 + tf.exp(-1 * (tf.matmul(h, w2) + b2, 0)))\n",
    "    y_pred = tf.sigmoid(tf.matmul(h, w2) + b2)\n",
    "    \n",
    "    # define nodes for forward computation for hidden neurons h and output neurons y_pred\n",
    "    diff = y_pred - y\n",
    "    loss = tf.reduce_mean(tf.pow(diff, 2))\n",
    "    \n",
    "    # define the gradients\n",
    "    grad_w1, grad_b1, grad_w2, grad_b2 = tf.gradients(loss, [w1, b1, w2, b2])\n",
    "    \n",
    "    # compute the new values of the gradients with the assign method (see slides)\n",
    "    w1.assign(w1 - alpha * grad_w1)\n",
    "    b1.assign(b1 - alpha * grad_b1)\n",
    "    w2.assign(w2 - alpha * grad_w2)\n",
    "    b2.assign(b2 - alpha * grad_b2)\n",
    "    return y_pred, loss\n",
    "\n",
    "# Init the tf.Variables w1, b1, w2, b2 following the given examples\n",
    "w1 = tf.Variable(tf.random.truncated_normal((D, H), stddev = 0.1, dtype='float64'))\n",
    "b1 = tf.Variable(tf.constant(0.0, shape=[H], dtype='float64'))\n",
    "w2 = tf.Variable(tf.random.truncated_normal((H, 10), stddev = 0.1, dtype='float64'))\n",
    "b2 = tf.Variable(tf.constant(0.0, shape=[10], dtype='float64'))\n",
    "\n",
    "# Run the computational graph\n",
    "J = [] # to store the evolution of loss J for each epoch\n",
    "learning_rate = np.linspace(Amax, Amin, E)\n",
    "start_time = time.time()\n",
    "for epoch in range(E):\n",
    "    J_epoch = 0.0\n",
    "    for _ in range(int(N/B)): # number of batches to visit for 1 epoch\n",
    "        # get batches calling the next_batch method provided above\n",
    "        x_train_batch, y_train_batch = next_batch(B, x_train, y_train)\n",
    "        with tf.device('/CPU:0'):  # change to /GPU:0 to move it to GPU\n",
    "            # call the graph with the batched input, target and alpha A\n",
    "            out = mlp_train(x_train_batch, y_train_batch, learning_rate[epoch])\n",
    "        y_pred, loss_val = out\n",
    "        J_epoch += loss_val\n",
    "    J.append(J_epoch)\n",
    "    print(\"epoch = {}, loss = {:.4f}\".format(epoch, J_epoch))\n",
    "print(\"Training took {:.2f}s\".format(time.time()-start_time))"
   ]
  },
  {
   "cell_type": "code",
   "execution_count": 5,
   "metadata": {
    "ExecuteTime": {
     "end_time": "2021-04-07T19:36:26.832841Z",
     "start_time": "2021-04-07T19:36:26.727153Z"
    }
   },
   "outputs": [
    {
     "data": {
      "text/plain": [
       "[<matplotlib.lines.Line2D at 0x20d81dd58c8>]"
      ]
     },
     "execution_count": 5,
     "metadata": {},
     "output_type": "execute_result"
    },
    {
     "data": {
      "image/png": "[encoded data removed]",
      "text/plain": [
       "<Figure size 432x288 with 1 Axes>"
      ]
     },
     "metadata": {
      "needs_background": "light"
     },
     "output_type": "display_data"
    }
   ],
   "source": [
    "# Plot the evolution of the loss\n",
    "plt.plot(J)"
   ]
  },
  {
   "cell_type": "code",
   "execution_count": 6,
   "metadata": {
    "ExecuteTime": {
     "end_time": "2021-04-07T19:36:28.413736Z",
     "start_time": "2021-04-07T19:36:28.113307Z"
    }
   },
   "outputs": [
    {
     "name": "stdout",
     "output_type": "stream",
     "text": [
      "WARNING:tensorflow:AutoGraph could not transform <function mlp_test at 0x0000020DA44F3E58> and will run it as-is.\n",
      "Please report this to the TensorFlow team. When filing the bug, set the verbosity to 10 (on Linux, `export AUTOGRAPH_VERBOSITY=10`) and attach the full output.\n",
      "Cause: name 'fscope' is not defined\n",
      "WARNING: AutoGraph could not transform <function mlp_test at 0x0000020DA44F3E58> and will run it as-is.\n",
      "Please report this to the TensorFlow team. When filing the bug, set the verbosity to 10 (on Linux, `export AUTOGRAPH_VERBOSITY=10`) and attach the full output.\n",
      "Cause: name 'fscope' is not defined\n",
      "Forward pass on test set done.\n"
     ]
    }
   ],
   "source": [
    "#################\n",
    "# Testing phase #\n",
    "#################\n",
    "\n",
    "N = x_test.shape[0]  # number of samples\n",
    "D = x_test.shape[1]  # dimension of input sample\n",
    "\n",
    "##############################################\n",
    "#  COMPLETE CODE BELOW WHERE YOU SEE # ...   #\n",
    "##############################################\n",
    "# Build the computational graph\n",
    "@tf.function # this decorator tells tf that a graph is defined\n",
    "def mlp_test(\n",
    "    x: tf.TensorSpec(shape=[None], dtype=tf.float64),\n",
    "    y: tf.TensorSpec(shape=[None], dtype=tf.float64)\n",
    "):\n",
    "    h = tf.nn.relu(tf.matmul(x, w1) + b1)\n",
    "    y_pred = tf.sigmoid(tf.matmul(h, w2) + b2)\n",
    "    return y_pred\n",
    "\n",
    "# Run the computational graph\n",
    "with tf.device('/CPU:0'):  # change to /GPU:0 to move it to GPU\n",
    "    y_pred_test = mlp_test(x_test, y_test)\n",
    "\n",
    "print('Forward pass on test set done.')\n",
    "# At this stage, y_pred_test should contain the matrix of outputs on the test set with shape (N_test, 10)"
   ]
  },
  {
   "cell_type": "code",
   "execution_count": 7,
   "metadata": {
    "ExecuteTime": {
     "end_time": "2021-04-07T19:36:34.238257Z",
     "start_time": "2021-04-07T19:36:34.231150Z"
    }
   },
   "outputs": [
    {
     "name": "stdout",
     "output_type": "stream",
     "text": [
      "# samples  :  10000\n",
      "# correct  :  9830\n",
      "# missed   :  170\n",
      "accuracy   :  98.30 %\n",
      "error rate :  1.70 %\n"
     ]
    }
   ],
   "source": [
    "# compute accuracy\n",
    "y_winner = np.argmax(y_pred_test, axis=1)\n",
    "N_test = y_winner.size\n",
    "num_correct = (y_winner == y_test_vec).sum()\n",
    "num_missed = N_test - num_correct\n",
    "accuracy = num_correct * 1.0 / N_test\n",
    "error_rate = num_missed * 1.0 / N_test\n",
    "print('# samples  : ', N_test)\n",
    "print('# correct  : ', num_correct)\n",
    "print('# missed   : ', num_missed)\n",
    "print('accuracy   :  %2.2f %%'% (accuracy*100.0))\n",
    "print('error rate :  %2.2f %%'% (error_rate*100.0))"
   ]
  },
  {
   "cell_type": "markdown",
   "metadata": {},
   "source": [
    "## Exercise 4\n",
    "## MLP with TensorFlow 2 and Keras"
   ]
  },
  {
   "cell_type": "markdown",
   "metadata": {},
   "source": [
    "### Sigmoid and MSE"
   ]
  },
  {
   "cell_type": "code",
   "execution_count": 14,
   "metadata": {},
   "outputs": [
    {
     "name": "stdout",
     "output_type": "stream",
     "text": [
      "Model: \"sequential_6\"\n",
      "_________________________________________________________________\n",
      "Layer (type)                 Output Shape              Param #   \n",
      "=================================================================\n",
      "hidden-layer (Dense)         (None, 600)               471000    \n",
      "_________________________________________________________________\n",
      "output-layer (Dense)         (None, 10)                6010      \n",
      "=================================================================\n",
      "Total params: 477,010\n",
      "Trainable params: 477,010\n",
      "Non-trainable params: 0\n",
      "_________________________________________________________________\n",
      "Train on 60000 samples\n",
      "Epoch 1/50\n",
      "60000/60000 [==============================] - 2s 40us/sample - loss: 0.1201 - accuracy: 0.2660\n",
      "Epoch 2/50\n",
      "60000/60000 [==============================] - 2s 36us/sample - loss: 0.0886 - accuracy: 0.4232\n",
      "Epoch 3/50\n",
      "60000/60000 [==============================] - 2s 35us/sample - loss: 0.0837 - accuracy: 0.4927\n",
      "Epoch 4/50\n",
      "60000/60000 [==============================] - 2s 36us/sample - loss: 0.0796 - accuracy: 0.5290\n",
      "Epoch 5/50\n",
      "60000/60000 [==============================] - 2s 36us/sample - loss: 0.0754 - accuracy: 0.5589\n",
      "Epoch 6/50\n",
      "60000/60000 [==============================] - 2s 37us/sample - loss: 0.0713 - accuracy: 0.5933\n",
      "Epoch 7/50\n",
      "60000/60000 [==============================] - 2s 35us/sample - loss: 0.0675 - accuracy: 0.6312\n",
      "Epoch 8/50\n",
      "60000/60000 [==============================] - 2s 36us/sample - loss: 0.0641 - accuracy: 0.6608\n",
      "Epoch 9/50\n",
      "60000/60000 [==============================] - 2s 36us/sample - loss: 0.0611 - accuracy: 0.6842\n",
      "Epoch 10/50\n",
      "60000/60000 [==============================] - 2s 37us/sample - loss: 0.0583 - accuracy: 0.7027\n",
      "Epoch 11/50\n",
      "60000/60000 [==============================] - 2s 35us/sample - loss: 0.0559 - accuracy: 0.7204\n",
      "Epoch 12/50\n",
      "60000/60000 [==============================] - 2s 35us/sample - loss: 0.0537 - accuracy: 0.7360\n",
      "Epoch 13/50\n",
      "60000/60000 [==============================] - 2s 40us/sample - loss: 0.0517 - accuracy: 0.7527\n",
      "Epoch 14/50\n",
      "60000/60000 [==============================] - 2s 40us/sample - loss: 0.0499 - accuracy: 0.7693\n",
      "Epoch 15/50\n",
      "60000/60000 [==============================] - 2s 41us/sample - loss: 0.0483 - accuracy: 0.7827\n",
      "Epoch 16/50\n",
      "60000/60000 [==============================] - 2s 39us/sample - loss: 0.0468 - accuracy: 0.7946\n",
      "Epoch 17/50\n",
      "60000/60000 [==============================] - 2s 41us/sample - loss: 0.0454 - accuracy: 0.8032\n",
      "Epoch 18/50\n",
      "60000/60000 [==============================] - 2s 40us/sample - loss: 0.0441 - accuracy: 0.8119\n",
      "Epoch 19/50\n",
      "60000/60000 [==============================] - 2s 39us/sample - loss: 0.0429 - accuracy: 0.8189\n",
      "Epoch 20/50\n",
      "60000/60000 [==============================] - 2s 39us/sample - loss: 0.0418 - accuracy: 0.8244\n",
      "Epoch 21/50\n",
      "60000/60000 [==============================] - 2s 38us/sample - loss: 0.0408 - accuracy: 0.8286\n",
      "Epoch 22/50\n",
      "60000/60000 [==============================] - 2s 40us/sample - loss: 0.0398 - accuracy: 0.8314\n",
      "Epoch 23/50\n",
      "60000/60000 [==============================] - 2s 39us/sample - loss: 0.0390 - accuracy: 0.8359\n",
      "Epoch 24/50\n",
      "60000/60000 [==============================] - 2s 38us/sample - loss: 0.0382 - accuracy: 0.8384\n",
      "Epoch 25/50\n",
      "60000/60000 [==============================] - 2s 40us/sample - loss: 0.0374 - accuracy: 0.8411\n",
      "Epoch 26/50\n",
      "60000/60000 [==============================] - 2s 41us/sample - loss: 0.0367 - accuracy: 0.8432\n",
      "Epoch 27/50\n",
      "60000/60000 [==============================] - 2s 39us/sample - loss: 0.0360 - accuracy: 0.8461\n",
      "Epoch 28/50\n",
      "60000/60000 [==============================] - 2s 38us/sample - loss: 0.0354 - accuracy: 0.8481\n",
      "Epoch 29/50\n",
      "60000/60000 [==============================] - 2s 40us/sample - loss: 0.0348 - accuracy: 0.8501\n",
      "Epoch 30/50\n",
      "60000/60000 [==============================] - 2s 38us/sample - loss: 0.0342 - accuracy: 0.8519\n",
      "Epoch 31/50\n",
      "60000/60000 [==============================] - 2s 38us/sample - loss: 0.0337 - accuracy: 0.8537\n",
      "Epoch 32/50\n",
      "60000/60000 [==============================] - 2s 39us/sample - loss: 0.0332 - accuracy: 0.8551\n",
      "Epoch 33/50\n",
      "60000/60000 [==============================] - 2s 38us/sample - loss: 0.0328 - accuracy: 0.8563\n",
      "Epoch 34/50\n",
      "60000/60000 [==============================] - 2s 38us/sample - loss: 0.0323 - accuracy: 0.8579\n",
      "Epoch 35/50\n",
      "60000/60000 [==============================] - 2s 39us/sample - loss: 0.0319 - accuracy: 0.8594\n",
      "Epoch 36/50\n",
      "60000/60000 [==============================] - 2s 40us/sample - loss: 0.0315 - accuracy: 0.8610\n",
      "Epoch 37/50\n",
      "60000/60000 [==============================] - 2s 39us/sample - loss: 0.0311 - accuracy: 0.8625\n",
      "Epoch 38/50\n",
      "60000/60000 [==============================] - 2s 39us/sample - loss: 0.0307 - accuracy: 0.8638\n",
      "Epoch 39/50\n",
      "60000/60000 [==============================] - 2s 40us/sample - loss: 0.0304 - accuracy: 0.8651\n",
      "Epoch 40/50\n",
      "60000/60000 [==============================] - 2s 39us/sample - loss: 0.0301 - accuracy: 0.8659\n",
      "Epoch 41/50\n",
      "60000/60000 [==============================] - 2s 38us/sample - loss: 0.0297 - accuracy: 0.8672\n",
      "Epoch 42/50\n",
      "60000/60000 [==============================] - 2s 38us/sample - loss: 0.0294 - accuracy: 0.8681\n",
      "Epoch 43/50\n",
      "60000/60000 [==============================] - 2s 39us/sample - loss: 0.0291 - accuracy: 0.8690\n",
      "Epoch 44/50\n",
      "60000/60000 [==============================] - 2s 40us/sample - loss: 0.0288 - accuracy: 0.8700\n",
      "Epoch 45/50\n",
      "60000/60000 [==============================] - 2s 39us/sample - loss: 0.0286 - accuracy: 0.8710\n",
      "Epoch 46/50\n",
      "60000/60000 [==============================] - 2s 39us/sample - loss: 0.0283 - accuracy: 0.8722\n",
      "Epoch 47/50\n",
      "60000/60000 [==============================] - 2s 39us/sample - loss: 0.0280 - accuracy: 0.8731\n",
      "Epoch 48/50\n",
      "60000/60000 [==============================] - 2s 38us/sample - loss: 0.0278 - accuracy: 0.8739\n",
      "Epoch 49/50\n",
      "60000/60000 [==============================] - 2s 39us/sample - loss: 0.0276 - accuracy: 0.8748\n",
      "Epoch 50/50\n",
      "60000/60000 [==============================] - 2s 38us/sample - loss: 0.0273 - accuracy: 0.8756\n",
      "10000/10000 - 1s - loss: 0.0262 - accuracy: 0.8862\n"
     ]
    },
    {
     "data": {
      "text/plain": [
       "[0.026188663809001447, 0.8862]"
      ]
     },
     "execution_count": 14,
     "metadata": {},
     "output_type": "execute_result"
    }
   ],
   "source": [
    "# Direct from Slide 51\n",
    "\n",
    "model = tf.keras.models.Sequential()\n",
    "\n",
    "# Hidden layer - H neurons\n",
    "model.add(tf.keras.layers.Dense(H, input_shape=(D,), use_bias=True, activation='relu', name=\"hidden-layer\"))\n",
    "\n",
    "# Output layer - #classes\n",
    "model.add(tf.keras.layers.Dense(n_classes, input_shape=(H,), use_bias=True, activation='sigmoid', name=\"output-layer\"))\n",
    "\n",
    "model.summary()\n",
    "\n",
    "sgd = tf.keras.optimizers.SGD(learning_rate=Amin)\n",
    "model.compile(optimizer=sgd, loss='mse', metrics=['accuracy'])\n",
    "\n",
    "history = model.fit(x_train, y_train, batch_size=B, epochs=E)\n",
    "\n",
    "model.evaluate(x_test, y_test, verbose=2)"
   ]
  },
  {
   "cell_type": "markdown",
   "metadata": {},
   "source": [
    "### Softmax and CE"
   ]
  },
  {
   "cell_type": "code",
   "execution_count": 18,
   "metadata": {},
   "outputs": [
    {
     "name": "stdout",
     "output_type": "stream",
     "text": [
      "Model: \"sequential_10\"\n",
      "_________________________________________________________________\n",
      "Layer (type)                 Output Shape              Param #   \n",
      "=================================================================\n",
      "hidden-layer (Dense)         (None, 600)               471000    \n",
      "_________________________________________________________________\n",
      "output-layer (Dense)         (None, 10)                6010      \n",
      "=================================================================\n",
      "Total params: 477,010\n",
      "Trainable params: 477,010\n",
      "Non-trainable params: 0\n",
      "_________________________________________________________________\n",
      "Train on 60000 samples\n",
      "Epoch 1/50\n",
      "60000/60000 [==============================] - 2s 36us/sample - loss: 1.0753 - accuracy: 0.7731\n",
      "Epoch 2/50\n",
      "60000/60000 [==============================] - 2s 34us/sample - loss: 0.5134 - accuracy: 0.8743\n",
      "Epoch 3/50\n",
      "60000/60000 [==============================] - 2s 34us/sample - loss: 0.4147 - accuracy: 0.8907\n",
      "Epoch 4/50\n",
      "60000/60000 [==============================] - 2s 34us/sample - loss: 0.3696 - accuracy: 0.8990\n",
      "Epoch 5/50\n",
      "60000/60000 [==============================] - 2s 33us/sample - loss: 0.3416 - accuracy: 0.9063\n",
      "Epoch 6/50\n",
      "60000/60000 [==============================] - 2s 38us/sample - loss: 0.3217 - accuracy: 0.9107\n",
      "Epoch 7/50\n",
      "60000/60000 [==============================] - 2s 36us/sample - loss: 0.3061 - accuracy: 0.9151\n",
      "Epoch 8/50\n",
      "60000/60000 [==============================] - 2s 37us/sample - loss: 0.2931 - accuracy: 0.9183\n",
      "Epoch 9/50\n",
      "60000/60000 [==============================] - 2s 36us/sample - loss: 0.2819 - accuracy: 0.9213\n",
      "Epoch 10/50\n",
      "60000/60000 [==============================] - 2s 36us/sample - loss: 0.2722 - accuracy: 0.9238\n",
      "Epoch 11/50\n",
      "60000/60000 [==============================] - 2s 36us/sample - loss: 0.2635 - accuracy: 0.9264\n",
      "Epoch 12/50\n",
      "60000/60000 [==============================] - 2s 36us/sample - loss: 0.2554 - accuracy: 0.9284\n",
      "Epoch 13/50\n",
      "60000/60000 [==============================] - 2s 36us/sample - loss: 0.2481 - accuracy: 0.9306\n",
      "Epoch 14/50\n",
      "60000/60000 [==============================] - 2s 35us/sample - loss: 0.2413 - accuracy: 0.9325\n",
      "Epoch 15/50\n",
      "60000/60000 [==============================] - 2s 35us/sample - loss: 0.2349 - accuracy: 0.9344\n",
      "Epoch 16/50\n",
      "60000/60000 [==============================] - 2s 35us/sample - loss: 0.2289 - accuracy: 0.9359\n",
      "Epoch 17/50\n",
      "60000/60000 [==============================] - 2s 35us/sample - loss: 0.2233 - accuracy: 0.9376\n",
      "Epoch 18/50\n",
      "60000/60000 [==============================] - 2s 37us/sample - loss: 0.2179 - accuracy: 0.9394\n",
      "Epoch 19/50\n",
      "60000/60000 [==============================] - 2s 36us/sample - loss: 0.2129 - accuracy: 0.9409\n",
      "Epoch 20/50\n",
      "60000/60000 [==============================] - 2s 36us/sample - loss: 0.2081 - accuracy: 0.9420\n",
      "Epoch 21/50\n",
      "60000/60000 [==============================] - 2s 36us/sample - loss: 0.2033 - accuracy: 0.9432\n",
      "Epoch 22/50\n",
      "60000/60000 [==============================] - 2s 36us/sample - loss: 0.1990 - accuracy: 0.9448\n",
      "Epoch 23/50\n",
      "60000/60000 [==============================] - 2s 36us/sample - loss: 0.1947 - accuracy: 0.9457\n",
      "Epoch 24/50\n",
      "60000/60000 [==============================] - 2s 36us/sample - loss: 0.1907 - accuracy: 0.9469\n",
      "Epoch 25/50\n",
      "60000/60000 [==============================] - 2s 36us/sample - loss: 0.1867 - accuracy: 0.9480\n",
      "Epoch 26/50\n",
      "60000/60000 [==============================] - 2s 36us/sample - loss: 0.1829 - accuracy: 0.9490\n",
      "Epoch 27/50\n",
      "60000/60000 [==============================] - 2s 37us/sample - loss: 0.1793 - accuracy: 0.9500\n",
      "Epoch 28/50\n",
      "60000/60000 [==============================] - 2s 36us/sample - loss: 0.1759 - accuracy: 0.9511\n",
      "Epoch 29/50\n",
      "60000/60000 [==============================] - 2s 35us/sample - loss: 0.1726 - accuracy: 0.9516\n",
      "Epoch 30/50\n",
      "60000/60000 [==============================] - 2s 37us/sample - loss: 0.1693 - accuracy: 0.9527\n",
      "Epoch 31/50\n",
      "60000/60000 [==============================] - 2s 36us/sample - loss: 0.1660 - accuracy: 0.9538\n",
      "Epoch 32/50\n",
      "60000/60000 [==============================] - 2s 36us/sample - loss: 0.1632 - accuracy: 0.9548\n",
      "Epoch 33/50\n",
      "60000/60000 [==============================] - 2s 38us/sample - loss: 0.1602 - accuracy: 0.9556\n",
      "Epoch 34/50\n",
      "60000/60000 [==============================] - 2s 36us/sample - loss: 0.1574 - accuracy: 0.9564\n",
      "Epoch 35/50\n",
      "60000/60000 [==============================] - 2s 40us/sample - loss: 0.1548 - accuracy: 0.9572\n",
      "Epoch 36/50\n",
      "60000/60000 [==============================] - 2s 41us/sample - loss: 0.1521 - accuracy: 0.9577\n",
      "Epoch 37/50\n",
      "60000/60000 [==============================] - 2s 42us/sample - loss: 0.1496 - accuracy: 0.9586\n",
      "Epoch 38/50\n",
      "60000/60000 [==============================] - 3s 42us/sample - loss: 0.1471 - accuracy: 0.9591\n",
      "Epoch 39/50\n",
      "60000/60000 [==============================] - 2s 40us/sample - loss: 0.1448 - accuracy: 0.9604\n",
      "Epoch 40/50\n",
      "60000/60000 [==============================] - 2s 39us/sample - loss: 0.1425 - accuracy: 0.9609\n",
      "Epoch 41/50\n",
      "60000/60000 [==============================] - 3s 43us/sample - loss: 0.1402 - accuracy: 0.9617\n",
      "Epoch 42/50\n",
      "60000/60000 [==============================] - 2s 37us/sample - loss: 0.1381 - accuracy: 0.9622\n",
      "Epoch 43/50\n",
      "60000/60000 [==============================] - 3s 42us/sample - loss: 0.1359 - accuracy: 0.9630\n",
      "Epoch 44/50\n",
      "60000/60000 [==============================] - 3s 42us/sample - loss: 0.1339 - accuracy: 0.9638\n",
      "Epoch 45/50\n",
      "60000/60000 [==============================] - 2s 39us/sample - loss: 0.1319 - accuracy: 0.9639\n",
      "Epoch 46/50\n",
      "60000/60000 [==============================] - 3s 42us/sample - loss: 0.1300 - accuracy: 0.9647\n",
      "Epoch 47/50\n",
      "60000/60000 [==============================] - 2s 39us/sample - loss: 0.1280 - accuracy: 0.9651\n",
      "Epoch 48/50\n",
      "60000/60000 [==============================] - 2s 37us/sample - loss: 0.1262 - accuracy: 0.9658\n",
      "Epoch 49/50\n",
      "60000/60000 [==============================] - 2s 37us/sample - loss: 0.1245 - accuracy: 0.9663\n",
      "Epoch 50/50\n",
      "60000/60000 [==============================] - 2s 37us/sample - loss: 0.1228 - accuracy: 0.9668\n",
      "10000/10000 - 1s - loss: 0.1285 - accuracy: 0.9625\n"
     ]
    },
    {
     "data": {
      "text/plain": [
       "[0.12848244209513068, 0.9625]"
      ]
     },
     "execution_count": 18,
     "metadata": {},
     "output_type": "execute_result"
    }
   ],
   "source": [
    "# Direct from Slide 51\n",
    "\n",
    "model1 = tf.keras.models.Sequential()\n",
    "\n",
    "# Hidden layer - H neurons\n",
    "model1.add(tf.keras.layers.Dense(H, input_shape=(D,), use_bias=True, activation='relu', name=\"hidden-layer\"))\n",
    "\n",
    "# Output layer - #classes\n",
    "model1.add(tf.keras.layers.Dense(n_classes, input_shape=(H,), use_bias=True, activation='softmax', name=\"output-layer\"))\n",
    "\n",
    "model1.summary()\n",
    "\n",
    "model1.compile(optimizer=sgd, loss='categorical_crossentropy', metrics=['accuracy'])\n",
    "\n",
    "history1 = model1.fit(x_train, y_train, batch_size=B, epochs=E)\n",
    "\n",
    "model1.evaluate(x_test, y_test, verbose=2)"
   ]
  }
 ],
 "metadata": {
  "kernelspec": {
   "display_name": "Python 3",
   "language": "python",
   "name": "python3"
  },
  "language_info": {
   "codemirror_mode": {
    "name": "ipython",
    "version": 3
   },
   "file_extension": ".py",
   "mimetype": "text/x-python",
   "name": "python",
   "nbconvert_exporter": "python",
   "pygments_lexer": "ipython3",
   "version": "3.7.10"
  },
  "varInspector": {
   "cols": {
    "lenName": 16,
    "lenType": 16,
    "lenVar": 40
   },
   "kernels_config": {
    "python": {
     "delete_cmd_postfix": "",
     "delete_cmd_prefix": "del ",
     "library": "var_list.py",
     "varRefreshCmd": "print(var_dic_list())"
    },
    "r": {
     "delete_cmd_postfix": ") ",
     "delete_cmd_prefix": "rm(",
     "library": "var_list.r",
     "varRefreshCmd": "cat(var_dic_list()) "
    }
   },
   "types_to_exclude": [
    "module",
    "function",
    "builtin_function_or_method",
    "instance",
    "_Feature"
   ],
   "window_display": false
  }
 },
 "nbformat": 4,
 "nbformat_minor": 2
}
