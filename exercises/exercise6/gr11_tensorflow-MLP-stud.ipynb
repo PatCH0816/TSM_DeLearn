{
 "cells": [
  {
   "cell_type": "markdown",
   "metadata": {},
   "source": [
    "## MLP with TensorFlow 2\n",
    "The objective of the exercise is to implement computational graphs in TensorFlow 2.0 to train and use such an architecture. The constraints we put ourselves is to use **low-level** functions of TensorFlow, i.e. we will not use high-level functions to compose layers and to train the parameters.\n",
    "\n",
    "If you get this error in the execution of the first cell: ` ModuleNotFoundError: No module named 'tensorflow' `, it probably means TensorFlow 2.0 is not installed yet on your machine."
   ]
  },
  {
   "cell_type": "code",
   "execution_count": 85,
   "metadata": {
    "ExecuteTime": {
     "end_time": "2021-04-07T19:00:21.720096Z",
     "start_time": "2021-04-07T19:00:21.388573Z"
    }
   },
   "outputs": [
    {
     "name": "stdout",
     "output_type": "stream",
     "text": [
      "MNIST data set ready. N=60000, D=784, n_classes=10\n"
     ]
    }
   ],
   "source": [
    "#############################\n",
    "# MNIST Dataset Preparation #\n",
    "#############################\n",
    "\n",
    "import numpy as np\n",
    "import tensorflow as tf\n",
    "import matplotlib.pyplot as plt\n",
    "import time\n",
    "\n",
    "mnist = tf.keras.datasets.mnist\n",
    "(x_train, y_train_vec),(x_test, y_test_vec) = mnist.load_data()\n",
    "x_train, x_test = x_train / 255.0, x_test / 255.0\n",
    "x_train = x_train.reshape(60000, 784)\n",
    "x_test = x_test.reshape(10000, 784)\n",
    "# convert class vectors to binary class matrices\n",
    "y_train = tf.keras.utils.to_categorical(y_train_vec, 10, dtype='float64')\n",
    "y_test = tf.keras.utils.to_categorical(y_test_vec, 10, dtype='float64')\n",
    "N = x_train.shape[0]         # number of samples\n",
    "D = x_train.shape[1]         # dimension of input sample\n",
    "n_classes = y_train.shape[1] # output dim\n",
    "print('MNIST data set ready. N={}, D={}, n_classes={}'.format(N,D,n_classes))"
   ]
  },
  {
   "cell_type": "code",
   "execution_count": 86,
   "metadata": {
    "ExecuteTime": {
     "end_time": "2021-04-07T19:00:22.503571Z",
     "start_time": "2021-04-07T19:00:22.498979Z"
    }
   },
   "outputs": [],
   "source": [
    "# Function to sample a random batch from dataset\n",
    "def next_batch(num, data, labels):\n",
    "    '''\n",
    "    Return a total of `num` random samples and labels. \n",
    "    '''\n",
    "    idx = np.arange(0,len(data))  # create an array of index values\n",
    "    np.random.shuffle(idx)        # shuffle it\n",
    "    idx = idx[:num]               # take the first n indexes = size of batch\n",
    "    data_shuffle = data[idx]      # extract the batch using the random indexes\n",
    "    labels_shuffle = labels[idx]  # extract the labels using the random indexes\n",
    "\n",
    "    return data_shuffle, labels_shuffle"
   ]
  },
  {
   "cell_type": "code",
   "execution_count": 115,
   "metadata": {
    "ExecuteTime": {
     "end_time": "2021-04-07T19:32:40.201926Z",
     "start_time": "2021-04-07T19:28:03.416072Z"
    },
    "scrolled": false
   },
   "outputs": [
    {
     "name": "stdout",
     "output_type": "stream",
     "text": [
      "epoch = 0, loss = 39.1956\n",
      "epoch = 1, loss = 22.7649\n",
      "epoch = 2, loss = 10.8839\n",
      "epoch = 3, loss = 3.9587\n",
      "epoch = 4, loss = 3.0832\n",
      "epoch = 5, loss = 2.5845\n",
      "epoch = 6, loss = 2.3693\n",
      "epoch = 7, loss = 2.1169\n",
      "epoch = 8, loss = 1.8590\n",
      "epoch = 9, loss = 1.7066\n",
      "epoch = 10, loss = 1.6410\n",
      "epoch = 11, loss = 1.4696\n",
      "epoch = 12, loss = 1.3298\n",
      "epoch = 13, loss = 1.2589\n",
      "epoch = 14, loss = 1.2118\n",
      "epoch = 15, loss = 1.1250\n",
      "epoch = 16, loss = 1.0696\n",
      "epoch = 17, loss = 1.0149\n",
      "epoch = 18, loss = 0.9522\n",
      "epoch = 19, loss = 0.9507\n",
      "epoch = 20, loss = 0.9131\n",
      "epoch = 21, loss = 0.8458\n",
      "epoch = 22, loss = 0.8431\n",
      "epoch = 23, loss = 0.7779\n",
      "epoch = 24, loss = 0.7804\n",
      "epoch = 25, loss = 0.7846\n",
      "epoch = 26, loss = 0.7395\n",
      "epoch = 27, loss = 0.7019\n",
      "epoch = 28, loss = 0.6912\n",
      "epoch = 29, loss = 0.6901\n",
      "epoch = 30, loss = 0.6682\n",
      "epoch = 31, loss = 0.6303\n",
      "epoch = 32, loss = 0.6348\n",
      "epoch = 33, loss = 0.6289\n",
      "epoch = 34, loss = 0.5920\n",
      "epoch = 35, loss = 0.6052\n",
      "epoch = 36, loss = 0.5600\n",
      "epoch = 37, loss = 0.5807\n",
      "epoch = 38, loss = 0.5514\n",
      "epoch = 39, loss = 0.5570\n",
      "epoch = 40, loss = 0.5618\n",
      "epoch = 41, loss = 0.5617\n",
      "epoch = 42, loss = 0.5239\n",
      "epoch = 43, loss = 0.5159\n",
      "epoch = 44, loss = 0.5418\n",
      "epoch = 45, loss = 0.5158\n",
      "epoch = 46, loss = 0.5385\n",
      "epoch = 47, loss = 0.5038\n",
      "epoch = 48, loss = 0.5235\n",
      "epoch = 49, loss = 0.5208\n",
      "Training took 276.59s\n"
     ]
    }
   ],
   "source": [
    "##################\n",
    "# Training phase #\n",
    "##################\n",
    "\n",
    "E = 50                # number of epochs\n",
    "B = 128               # batch size\n",
    "N = x_train.shape[0]  # number of samples\n",
    "D = x_train.shape[1]  # dimension of input sample\n",
    "H = 600               # number of neurons\n",
    "Amax = 5.0            # maximum learning rate alpha\n",
    "Amin = 0.01           # minimum learning rate alpha\n",
    "\n",
    "##############################################\n",
    "#  COMPLETE CODE BELOW WHERE YOU SEE # ...   #\n",
    "##############################################\n",
    "\n",
    "# Build the computational graph\n",
    "@tf.function # this decorator tells tf that a graph is defined\n",
    "def mlp_train(\n",
    "    x: tf.TensorSpec(shape=[None], dtype=tf.float64),\n",
    "    y: tf.TensorSpec(shape=[None], dtype=tf.float64),\n",
    "    alpha: tf.TensorSpec(shape=[None], dtype=tf.float64)\n",
    "):\n",
    "    # define nodes for forward computation for hidden neurons h and output neurons y_pred\n",
    "    \n",
    "    # h = ...  output of first layer after ReLu activation\n",
    "    # h = tf.maximum(tf.matmul(x, w1) + b1, 0)\n",
    "    h = tf.nn.relu(tf.matmul(x, w1) + b1)\n",
    "    \n",
    "    # y_pred = ... output of second layer after sigmoid activation\n",
    "    # y_pred = 1 / (1 + tf.exp(-1 * (tf.matmul(h, w2) + b2, 0)))\n",
    "    y_pred = tf.sigmoid(tf.matmul(h, w2) + b2)\n",
    "    \n",
    "    # define nodes for forward computation for hidden neurons h and output neurons y_pred\n",
    "    diff = y_pred - y\n",
    "    loss = tf.reduce_mean(tf.pow(diff, 2))\n",
    "    \n",
    "    # define the gradients\n",
    "    grad_w1, grad_b1, grad_w2, grad_b2 = tf.gradients(loss, [w1, b1, w2, b2])\n",
    "    \n",
    "    # compute the new values of the gradients with the assign method (see slides)\n",
    "    w1.assign(w1 - alpha * grad_w1)\n",
    "    b1.assign(b1 - alpha * grad_b1)\n",
    "    w2.assign(w2 - alpha * grad_w2)\n",
    "    b2.assign(b2 - alpha * grad_b2)\n",
    "    return y_pred, loss\n",
    "\n",
    "# Init the tf.Variables w1, b1, w2, b2 following the given examples\n",
    "w1 = tf.Variable(tf.random.truncated_normal((D, H), stddev = 0.1, dtype='float64'))\n",
    "b1 = tf.Variable(tf.constant(0.0, shape=[H], dtype='float64'))\n",
    "w2 = tf.Variable(tf.random.truncated_normal((H, 10), stddev = 0.1, dtype='float64'))\n",
    "b2 = tf.Variable(tf.constant(0.0, shape=[10], dtype='float64'))\n",
    "\n",
    "# Run the computational graph\n",
    "J = [] # to store the evolution of loss J for each epoch\n",
    "learning_rate = np.linspace(Amax, Amin, E)\n",
    "start_time = time.time()\n",
    "for epoch in range(E):\n",
    "    J_epoch = 0.0\n",
    "    for _ in range(int(N/B)): # number of batches to visit for 1 epoch\n",
    "        # get batches calling the next_batch method provided above\n",
    "        x_train_batch, y_train_batch = next_batch(B, x_train, y_train)\n",
    "        with tf.device('/CPU:0'):  # change to /GPU:0 to move it to GPU\n",
    "            # call the graph with the batched input, target and alpha A\n",
    "            out = mlp_train(x_train_batch, y_train_batch, learning_rate[epoch])\n",
    "        y_pred, loss_val = out\n",
    "        J_epoch += loss_val\n",
    "    J.append(J_epoch)\n",
    "    print(\"epoch = {}, loss = {:.4f}\".format(epoch, J_epoch))\n",
    "print(\"Training took {:.2f}s\".format(time.time()-start_time))"
   ]
  },
  {
   "cell_type": "code",
   "execution_count": 117,
   "metadata": {
    "ExecuteTime": {
     "end_time": "2021-04-07T19:36:26.832841Z",
     "start_time": "2021-04-07T19:36:26.727153Z"
    }
   },
   "outputs": [
    {
     "data": {
      "text/plain": [
       "[<matplotlib.lines.Line2D at 0x7f145d536520>]"
      ]
     },
     "execution_count": 117,
     "metadata": {},
     "output_type": "execute_result"
    },
    {
     "data": {
      "image/png": "[encoded data removed]",
      "text/plain": [
       "<Figure size 432x288 with 1 Axes>"
      ]
     },
     "metadata": {
      "needs_background": "light"
     },
     "output_type": "display_data"
    }
   ],
   "source": [
    "# Plot the evolution of the loss\n",
    "plt.plot(J)"
   ]
  },
  {
   "cell_type": "code",
   "execution_count": 118,
   "metadata": {
    "ExecuteTime": {
     "end_time": "2021-04-07T19:36:28.413736Z",
     "start_time": "2021-04-07T19:36:28.113307Z"
    }
   },
   "outputs": [
    {
     "name": "stdout",
     "output_type": "stream",
     "text": [
      "Forward pass on test set done.\n"
     ]
    }
   ],
   "source": [
    "#################\n",
    "# Testing phase #\n",
    "#################\n",
    "\n",
    "N = x_test.shape[0]  # number of samples\n",
    "D = x_test.shape[1]  # dimension of input sample\n",
    "\n",
    "##############################################\n",
    "#  COMPLETE CODE BELOW WHERE YOU SEE # ...   #\n",
    "##############################################\n",
    "# Build the computational graph\n",
    "@tf.function # this decorator tells tf that a graph is defined\n",
    "def mlp_test(\n",
    "    x: tf.TensorSpec(shape=[None], dtype=tf.float64),\n",
    "    y: tf.TensorSpec(shape=[None], dtype=tf.float64)\n",
    "):\n",
    "    h = tf.nn.relu(tf.matmul(x, w1) + b1)\n",
    "    y_pred = tf.sigmoid(tf.matmul(h, w2) + b2)\n",
    "    return y_pred\n",
    "\n",
    "# Run the computational graph\n",
    "with tf.device('/CPU:0'):  # change to /GPU:0 to move it to GPU\n",
    "    y_pred_test = mlp_test(x_test, y_test)\n",
    "\n",
    "print('Forward pass on test set done.')\n",
    "# At this stage, y_pred_test should contain the matrix of outputs on the test set with shape (N_test, 10)"
   ]
  },
  {
   "cell_type": "code",
   "execution_count": 119,
   "metadata": {
    "ExecuteTime": {
     "end_time": "2021-04-07T19:36:34.238257Z",
     "start_time": "2021-04-07T19:36:34.231150Z"
    }
   },
   "outputs": [
    {
     "name": "stdout",
     "output_type": "stream",
     "text": [
      "# samples  :  10000\n",
      "# correct  :  9829\n",
      "# missed   :  171\n",
      "accuracy   :  98.29 %\n",
      "error rate :  1.71 %\n"
     ]
    }
   ],
   "source": [
    "# compute accuracy\n",
    "y_winner = np.argmax(y_pred_test, axis=1)\n",
    "N_test = y_winner.size\n",
    "num_correct = (y_winner == y_test_vec).sum()\n",
    "num_missed = N_test - num_correct\n",
    "accuracy = num_correct * 1.0 / N_test\n",
    "error_rate = num_missed * 1.0 / N_test\n",
    "print('# samples  : ', N_test)\n",
    "print('# correct  : ', num_correct)\n",
    "print('# missed   : ', num_missed)\n",
    "print('accuracy   :  %2.2f %%'% (accuracy*100.0))\n",
    "print('error rate :  %2.2f %%'% (error_rate*100.0))"
   ]
  },
  {
   "cell_type": "code",
   "execution_count": null,
   "metadata": {},
   "outputs": [],
   "source": []
  }
 ],
 "metadata": {
  "kernelspec": {
   "display_name": "Python 3",
   "language": "python",
   "name": "python3"
  },
  "language_info": {
   "codemirror_mode": {
    "name": "ipython",
    "version": 3
   },
   "file_extension": ".py",
   "mimetype": "text/x-python",
   "name": "python",
   "nbconvert_exporter": "python",
   "pygments_lexer": "ipython3",
   "version": "3.8.8"
  },
  "varInspector": {
   "cols": {
    "lenName": 16,
    "lenType": 16,
    "lenVar": 40
   },
   "kernels_config": {
    "python": {
     "delete_cmd_postfix": "",
     "delete_cmd_prefix": "del ",
     "library": "var_list.py",
     "varRefreshCmd": "print(var_dic_list())"
    },
    "r": {
     "delete_cmd_postfix": ") ",
     "delete_cmd_prefix": "rm(",
     "library": "var_list.r",
     "varRefreshCmd": "cat(var_dic_list()) "
    }
   },
   "types_to_exclude": [
    "module",
    "function",
    "builtin_function_or_method",
    "instance",
    "_Feature"
   ],
   "window_display": false
  }
 },
 "nbformat": 4,
 "nbformat_minor": 2
}
