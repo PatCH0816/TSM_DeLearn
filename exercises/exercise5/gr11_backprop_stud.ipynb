{
 "cells": [
  {
   "cell_type": "markdown",
   "metadata": {},
   "source": [
    "### Load and Prepare Data (MNIST)\n"
   ]
  },
  {
   "cell_type": "code",
   "execution_count": 1,
   "metadata": {
    "ExecuteTime": {
     "end_time": "2021-04-06T18:46:36.757166Z",
     "start_time": "2021-04-06T18:46:36.754164Z"
    }
   },
   "outputs": [],
   "source": [
    "### START YOUR CODE ### \n",
    "data_home = \"./data\"\n",
    "### END YOUR CODE ### "
   ]
  },
  {
   "cell_type": "code",
   "execution_count": 2,
   "metadata": {
    "ExecuteTime": {
     "end_time": "2021-04-06T18:46:37.362662Z",
     "start_time": "2021-04-06T18:46:37.143005Z"
    }
   },
   "outputs": [],
   "source": [
    "import numpy as np\n",
    "from sklearn.datasets import fetch_openml\n",
    "\n",
    "# in case you have trouble with the fetch_openml, uncomment the following two lines:\n",
    "# import ssl\n",
    "# ssl._create_default_https_context = ssl._create_unverified_context\n",
    "\n",
    "def load_mnist(data_home):\n",
    "    \"\"\"\n",
    "    Loads the mnist dataset, prints the shape of the dataset and \n",
    "    returns the array with the images, the array with associated labels \n",
    "    and the shape of the images.     \n",
    "    Parameters: \n",
    "    data_home -- Absolute path to the DATA_HOME  \n",
    "    \n",
    "    Returns:\n",
    "    x -- array with images of shape (784,m) where m is the number of images\n",
    "    y -- array with associated labels with shape (1,m) where m is the number of images\n",
    "    shape -- (28,28)\n",
    "    \"\"\"\n",
    "    mnist = fetch_openml(name='mnist_784', version=1, cache=True, data_home=data_home)\n",
    "    x, y = mnist['data'].T, np.array(mnist['target'], dtype='int').T\n",
    "    m = x.shape[1]\n",
    "    y = y.reshape(1,m)\n",
    "    print(\"Loaded MNIST original:\")\n",
    "    print(\"Image Data Shape\" , x.shape)\n",
    "    print(\"Label Data Shape\", y.shape)\n",
    "    return x,y,(28,28)\n"
   ]
  },
  {
   "cell_type": "markdown",
   "metadata": {},
   "source": [
    "#### Load and split into train/validation and test set"
   ]
  },
  {
   "cell_type": "code",
   "execution_count": 3,
   "metadata": {
    "ExecuteTime": {
     "end_time": "2021-04-06T18:46:53.526800Z",
     "start_time": "2021-04-06T18:46:37.709872Z"
    }
   },
   "outputs": [
    {
     "name": "stdout",
     "output_type": "stream",
     "text": [
      "Loaded MNIST original:\n",
      "Image Data Shape (784, 70000)\n",
      "Label Data Shape (1, 70000)\n",
      "Train/Val Set: (x: (784, 60000), y: (1, 60000)) | Test Set: (x: (784, 10000), y: (1, 10000))\n"
     ]
    }
   ],
   "source": [
    "from sklearn.model_selection import train_test_split\n",
    "\n",
    "test_size = 10000\n",
    "\n",
    "x0,y0,shape = load_mnist(data_home)\n",
    "x, xtest, y, ytest = train_test_split(x0.T, y0.T, test_size=test_size, random_state=1)\n",
    "x, xtest, y, ytest = x.T, xtest.T, y.T, ytest.T\n",
    "\n",
    "print(\"Train/Val Set: (x: %s, y: %s) | Test Set: (x: %s, y: %s)\"%(x.shape, y.shape,xtest.shape,ytest.shape))"
   ]
  },
  {
   "cell_type": "markdown",
   "metadata": {},
   "source": [
    "#### Dataset Class\n",
    "\n",
    "Used to split into train and validation set, normalize and provide batches."
   ]
  },
  {
   "cell_type": "code",
   "execution_count": 4,
   "metadata": {
    "ExecuteTime": {
     "end_time": "2021-04-06T18:46:53.556780Z",
     "start_time": "2021-04-06T18:46:53.542058Z"
    }
   },
   "outputs": [],
   "source": [
    "import numpy as np\n",
    "\n",
    "from sklearn.datasets import fetch_openml\n",
    "from sklearn.model_selection import train_test_split\n",
    "\n",
    "class Dataset(object):\n",
    "    \n",
    "    def __init__(self, x, y, val_size, random_state=0):\n",
    "        \"\"\"Splits dataset into train and val and normalize the train and val set (min/max normalization).\n",
    "        \n",
    "        Parameters:\n",
    "        x - input features, numpy array of shape(nx,m)\n",
    "        y - labels, numpy array of shape (1,m)\n",
    "        \"\"\"\n",
    "        xtrain, xval, ytrain, yval = train_test_split(x.T, y.T, test_size=val_size, random_state=random_state)\n",
    "        self.xtrain = xtrain.T\n",
    "        self.xval = xval.T\n",
    "        self.ytrain = ytrain.T\n",
    "        self.yval = yval.T\n",
    "        self._normalize()\n",
    "        \n",
    "        self.nx = self.xtrain.shape[0]\n",
    "        self.mtrain = self.xtrain.shape[1]\n",
    "        self.mval = self.xval.shape[1]\n",
    "        print(\"Training Data: x=%s | y=%s, Val Data: x=%s | y=%s\"%(str(self.xtrain.shape), str(self.ytrain.shape), \n",
    "                                                                    str(self.xval.shape), str(self.yval.shape)))\n",
    "    \n",
    "    def normalize(self, x):\n",
    "        return 2*(x - self.xmin) / (self.xmax - self.xmin) - 1\n",
    "    \n",
    "    \n",
    "    def _normalize(self):\n",
    "        \"\"\"Applies min/max-normalization - min and max values computed from the training set.\n",
    "        Common min and max values for all features are used.\"\"\"\n",
    "        self.xmax, self.xmin = np.max(self.xtrain), np.min(self.xtrain)\n",
    "        self.xtrain = self.normalize(self.xtrain)\n",
    "        self.xval = self.normalize(self.xval)\n",
    "            \n",
    "    def prepare_batches(self, batchsize=None):\n",
    "        \"\"\"Initialize training set to provide batches of size batchsize. It reshuffles the samples \n",
    "        so that new batches are provided after calling this method. \n",
    "        \"\"\"\n",
    "        if not batchsize:\n",
    "            self.batchsize = self.mtrain\n",
    "        else:\n",
    "            self.batchsize = batchsize\n",
    "        self.mb = int(self.mtrain/self.batchsize)\n",
    "        self.indices = np.arange(self.mtrain)\n",
    "        np.random.shuffle(self.indices)\n",
    "        self.counter = 0\n",
    "      \n",
    "    def number_of_batches(self):\n",
    "        \"\"\"Returns the number of batches. Provides a non-none result only after calling the `prepare_batches`-method.\n",
    "        \n",
    "        Returns:\n",
    "        mb -- number of (complete) batches.  \n",
    "        \"\"\"\n",
    "        return self.mb\n",
    "    \n",
    "    def next_batch(self):\n",
    "        \"\"\"Provides the next batch. If there are no more batches, the `prepare_batches` is called. \n",
    "        \n",
    "        Returns:\n",
    "        xbatch -- numpy array of shape (nx,batchsize)\n",
    "        ybatch -- numpy array of shape (1,batchsize)\n",
    "        \"\"\"\n",
    "        if (self.counter+1) >= self.mb:\n",
    "            self.prepare_batches(self.batchsize)\n",
    "        it = self.indices[self.counter*self.batchsize:(self.counter+1)*self.batchsize]\n",
    "        self.counter += 1\n",
    "        xbatch = self.xtrain[:,it].reshape(self.nx, self.batchsize)\n",
    "        ybatch = self.ytrain[:,it].reshape(1,self.batchsize)\n",
    "        return xbatch, ybatch"
   ]
  },
  {
   "cell_type": "code",
   "execution_count": 5,
   "metadata": {
    "ExecuteTime": {
     "end_time": "2021-04-06T18:46:54.399705Z",
     "start_time": "2021-04-06T18:46:53.569142Z"
    }
   },
   "outputs": [
    {
     "name": "stdout",
     "output_type": "stream",
     "text": [
      "Training Data: x=(784, 50000) | y=(1, 50000), Val Data: x=(784, 10000) | y=(1, 10000)\n"
     ]
    }
   ],
   "source": [
    "ds = Dataset(x, y, val_size=10000)"
   ]
  },
  {
   "cell_type": "markdown",
   "metadata": {},
   "source": [
    "### Model\n",
    "\n",
    "#### Components\n",
    "\n",
    "In this section, we define the different components of the MLP model, including \n",
    "\n",
    "* _Activation function_ including suitable methods to compute values and derivatives: here, the sigmoid activation function will be used. \n",
    "* _Softmax activation function_: Here, you just need to provide the possibility to compute the softmax values. The derivatives are needed here but will be implemented in the softmax layer.  \n",
    "* _Initializer_: For initializing the weights and bias parameters. Here, normally distributed initial values will be provided.\n",
    "* _Cost Function_ used for training - including suitable methods for computing the values and derivatives: here, the cross-entropy cost will be used.\n",
    "* _Layer_ : The first core component to be implemented/completed by the students.\n",
    "* _MLP_ : The second core component to be implemented/completed by the students. Allows to configure an arbitrary number of layers into a sequential structure.  \n"
   ]
  },
  {
   "cell_type": "code",
   "execution_count": 86,
   "metadata": {
    "ExecuteTime": {
     "end_time": "2021-04-06T21:16:42.874608Z",
     "start_time": "2021-04-06T21:16:42.869123Z"
    }
   },
   "outputs": [],
   "source": [
    "class ActivationFunction(object):\n",
    "    \"\"\"\n",
    "    Empty parent implementation of all activation functions. All child implementations should implement \n",
    "    the two methods defined below.\n",
    "    \"\"\"\n",
    "    def compute_value(self, z):\n",
    "        \"\"\"\n",
    "        Computes the value of the activation function element wise for input array z of arbitrary shape. \n",
    "        \"\"\"\n",
    "        raise NotImplementedError(\"To be implemented in the child implementation.\")\n",
    "        \n",
    "    def compute_derivative(self, z):\n",
    "        \"\"\"\n",
    "        Computes the derivative of the activation function element wise for input array z of arbitrary shape. \n",
    "        \"\"\"\n",
    "        raise NotImplementedError(\"To be implemented in the child implementation.\")\n"
   ]
  },
  {
   "cell_type": "code",
   "execution_count": 87,
   "metadata": {
    "ExecuteTime": {
     "end_time": "2021-04-06T21:16:43.096029Z",
     "start_time": "2021-04-06T21:16:43.093095Z"
    }
   },
   "outputs": [],
   "source": [
    "class SigmoidActivationFunction(ActivationFunction):\n",
    "        \n",
    "    def compute_value(self, z):\n",
    "        return 1.0 / (1.0 + np.exp(-z))\n",
    "        \n",
    "    def compute_derivative(self, z):\n",
    "        s = self.compute_value(z)\n",
    "        return s * (1 - s)"
   ]
  },
  {
   "cell_type": "code",
   "execution_count": 88,
   "metadata": {
    "ExecuteTime": {
     "end_time": "2021-04-06T21:16:43.297663Z",
     "start_time": "2021-04-06T21:16:43.293766Z"
    }
   },
   "outputs": [],
   "source": [
    "class SoftmaxActivationFunction(ActivationFunction):\n",
    "    \n",
    "    def compute_value(self, z):\n",
    "        expz = np.exp(z)\n",
    "        norm = np.sum(expz, axis=0)        \n",
    "        return expz / norm\n",
    "        \n",
    "    def compute_derivative(self, z):\n",
    "        def sigmoid(x):\n",
    "            \"\"\"\n",
    "            Sigmoid function sigma = 1/(1 + e^-x)\n",
    "\n",
    "            Arguments:\n",
    "            x -- array of inputs of size (1,m)\n",
    "\n",
    "            Returns:\n",
    "            y -- array of outputs of size (1,m)\n",
    "            \"\"\"\n",
    "\n",
    "            y = 1 / (1 + np.exp(-x))\n",
    "            return y\n",
    "\n",
    "        def d_sigmoid(x):\n",
    "            \"\"\"\n",
    "            Derivative of sigmoid function dsigma = sigma(x)*(1-sigma(x))\n",
    "\n",
    "            Arguments:\n",
    "            x -- array of inputs of size (1,m)\n",
    "\n",
    "            Returns:\n",
    "            y -- array of outputs of size (1,m)\n",
    "            \"\"\"\n",
    "\n",
    "            y = sigmoid(x)*(1 - sigmoid(x))\n",
    "            return y\n",
    "\n",
    "        return d_sigmoid(z)\n",
    "        #raise NotImplementedError(\"Computation of the gradient implemented in the Softmax Layer.\")"
   ]
  },
  {
   "cell_type": "code",
   "execution_count": 89,
   "metadata": {
    "ExecuteTime": {
     "end_time": "2021-04-06T21:16:43.482496Z",
     "start_time": "2021-04-06T21:16:43.478864Z"
    }
   },
   "outputs": [],
   "source": [
    "class NormInitializer(object):\n",
    "    \n",
    "    def initialize_weights(self, size, mu=0.0, sigma=1.0):\n",
    "        return np.random.normal(size=size, loc=mu, scale=sigma)\n",
    "    \n",
    "    def initialize_bias(self, size, mu=0.0, sigma=1.0):\n",
    "        return np.random.normal(size=size, loc=mu, scale=sigma)"
   ]
  },
  {
   "cell_type": "code",
   "execution_count": 90,
   "metadata": {
    "ExecuteTime": {
     "end_time": "2021-04-06T21:16:43.739280Z",
     "start_time": "2021-04-06T21:16:43.733188Z"
    }
   },
   "outputs": [],
   "source": [
    "class Cost(object):\n",
    "    \n",
    "    def compute_value(self, y, prob):\n",
    "        \"\"\"\n",
    "        Computes the value of the cost function for given labels y and predicted probs. \n",
    "        \n",
    "        Arguments:\n",
    "        y -- labels, a numpy array of shape (1,m)\n",
    "        prob -- predicted probabilities for the different classes, a numpy array of shape (ny,m)\n",
    "        \n",
    "        Returns:\n",
    "        cost -- a scalar        \n",
    "        \"\"\"\n",
    "        raise NotImplementedError(\"\")\n",
    "        \n",
    "    def compute_derivative(self, y, prob):\n",
    "        \"\"\"\n",
    "        Computes the derivative of the cost function w.r.t. predicted probs for given labels y and predicted probs.\n",
    "\n",
    "        Parameters:\n",
    "        y -- labels, a numpy array of shape (1,m)\n",
    "        prob -- predicted probabilities for the different classes, a numpy array of shape (ny,m)\n",
    "        \n",
    "        Returns:\n",
    "        Gradient of cost with respect to the predicted probabilities, a numpy array of shape (ny,m)\n",
    "        \"\"\"\n",
    "        raise NotImplementedError(\"\")         "
   ]
  },
  {
   "cell_type": "code",
   "execution_count": 91,
   "metadata": {
    "ExecuteTime": {
     "end_time": "2021-04-06T21:16:43.977085Z",
     "start_time": "2021-04-06T21:16:43.968742Z"
    }
   },
   "outputs": [],
   "source": [
    "class CrossEntropy(Cost):\n",
    "\n",
    "    def compute_value(self, y, prob):\n",
    "        \"\"\"\n",
    "        Computes the value of the cost function for given labels y and predicted probs.\n",
    "        \n",
    "        Arguments:\n",
    "        y -- labels, a numpy array of shape (1,m)\n",
    "        prob -- predicted probabilities for the different classes, a numpy array of shape (ny,m)\n",
    "        \n",
    "        Returns:\n",
    "        cost -- a scalar\n",
    "        \"\"\"\n",
    "        n, m = prob.shape\n",
    "        assert(np.max(y) <= n)\n",
    "        py = prob[y, np.arange(m)]\n",
    "        J = -np.sum(np.log(py)) / m    \n",
    "        return J\n",
    "    \n",
    "        \n",
    "    def compute_derivative(self, y, prob):\n",
    "        \"\"\"\n",
    "        Computes the derivative of the cost function w.r.t. predicted probs for given labels y and predicted probs.\n",
    "\n",
    "        Parameters:\n",
    "        y -- labels, a numpy array of shape (1,m)\n",
    "        prob -- predicted probabilities for the different classes, a numpy array of shape (ny,m)\n",
    "        \n",
    "        Returns:\n",
    "        Gradient of cost with respect to the predicted probabilities, a numpy array of shape (ny,m)\n",
    "        \"\"\"\n",
    "        n, m = prob.shape\n",
    "        result = np.zeros((n, m),dtype=float)\n",
    "        result[y[0,:], np.arange(m)] = 1.0\n",
    "        result /= prob\n",
    "        return -result"
   ]
  },
  {
   "cell_type": "code",
   "execution_count": 92,
   "metadata": {
    "ExecuteTime": {
     "end_time": "2021-04-06T21:16:44.329460Z",
     "start_time": "2021-04-06T21:16:44.310311Z"
    }
   },
   "outputs": [],
   "source": [
    "class Layer(object):\n",
    "    \n",
    "    def __init__(self, layerid, nunits, nunits_prev, activ_func, initializer):\n",
    "        \"\"\"\n",
    "        Instantiates a fully connected layer for an MLP, with given number of input and output activations.\n",
    "        \n",
    "        Arguments:\n",
    "        layerid -- integer id for the layer.\n",
    "        nunits -- number of units in the given layer.\n",
    "        nunits_prev -- number of units in the previous layer (= number of input activations).\n",
    "        activ_func -- activation function to be used (with a `compute_value`- and `compute_derivative`-method).\n",
    "        initializer -- initializer for the weights and the biases.        \n",
    "        \"\"\"\n",
    "        self.layerid = layerid\n",
    "        self.nunits = nunits\n",
    "        self.nunits_prev = nunits_prev\n",
    "        self.initializer = initializer\n",
    "        self.activ_func = activ_func\n",
    "        \n",
    "        self.weights = None # shape (nunits,nunits_prev)\n",
    "        self.bias = None # shape (nunits,1)\n",
    "        self.logits = None # z-values, shape(nunits,m) - will be needed for the backprop part ...\n",
    "        self.activations = None # shape(nunits,m)\n",
    "        self.grad_logits = None # grad w.r.t. z, shape(nunits,m) - will be needed as basis for different gradients\n",
    "        \n",
    "\n",
    "    def initialize(self):\n",
    "        \"\"\"\n",
    "        Initializes the weights and biases. It uses Xavier normalisation (to be discussed in \"regularisation\").\n",
    "        \"\"\"\n",
    "        sigmaw = np.sqrt(2.0/(self.nunits+self.nunits_prev)) # suited for sigmoid activation function\n",
    "        sigmab = np.sqrt(1.0/self.nunits)\n",
    "        self.weights = self.initializer.initialize_weights(size=(self.nunits,self.nunits_prev), mu=0.0, sigma=sigmaw)\n",
    "        self.bias = self.initializer.initialize_bias(size=(self.nunits,1), mu=0.0, sigma=sigmab)\n",
    "        \n",
    "    \n",
    "    def propagate(self, activations_prev):\n",
    "        \"\"\"\n",
    "        Computes the activations of the layer given the activations of the previous layer.\n",
    "        Caches the computed logits (z-values) and activations since the values will be needed \n",
    "        when using backpropagation to compute the gradients w.r.t. weigths and biases.\n",
    "\n",
    "        Arguments:\n",
    "        activations_prev -- activations of the previous layer (or input layer). A numpy array of shape \n",
    "        (nunits_prev,m).\n",
    "        \n",
    "        Returns:\n",
    "        activations -- activations of this layer, a numpy array of shape (nunits,m)\n",
    "        \"\"\"\n",
    "        np.testing.assert_equal(activations_prev.shape[0],self.nunits_prev)\n",
    "        ### START YOUR CODE ###\n",
    "\n",
    "        # 5-backprop, page 42\n",
    "        # section forward propagation\n",
    "        \n",
    "        # calculate logits (z-values)\n",
    "        self.logits = np.dot(self.weights, activations_prev) + self.bias\n",
    "        # calculate activations\n",
    "        self.activations = self.activ_func.compute_value(self.logits)\n",
    "        \n",
    "        ### END YOUR CODE ###\n",
    "        return self.activations\n",
    "\n",
    "    \n",
    "    def backpropagate(self, grad_activations):\n",
    "        \"\"\"\n",
    "        Computes the gradient of the cost w.r.t. to the input activations (activations of the previous \n",
    "        layer a^[l-1]) of the given layer. It also computes the gradient w.r.t. the logits (z-values) of \n",
    "        the given layer. This will be needed as the basis for computing the gradient of the cost w.r.t. \n",
    "        the weights and bias of the given layer. \n",
    "        \n",
    "        The method assumes that the forward propagation (`propagate`) has been invoked for the given mini-batch \n",
    "        so that consistent logit-values (self.logits) and activations (self.activations) are available.  \n",
    "        \n",
    "        Arguments:\n",
    "        grad_activations -- gradient of the cost w.r.t. to the output activations of the given layer (a^[l]). \n",
    "        A numpy array of shape (nunits_prev,m) \n",
    "        \n",
    "        Returns:\n",
    "        grad_activations_prev -- gradient of the cost w.r.t. to the input activations of the given layer.\n",
    "        \"\"\"\n",
    "        nsamples =  self.logits.shape[1]\n",
    "        np.testing.assert_equal(grad_activations.shape, (self.nunits, nsamples))\n",
    "\n",
    "        ### START YOUR CODE ###\n",
    "        \n",
    "        # 5-backprop, page 42\n",
    "        # section backward propagation\n",
    "        \n",
    "        # DL-frameworks-keras, page 11\n",
    "        # grad_activations is dL/df\n",
    "        # df/dz is self.activ_func.compute_derivative(self.logits)\n",
    "        # applying the chain rule results in:\n",
    "        self.grad_logits = self.activ_func.compute_derivative(self.logits) * grad_activations\n",
    "        \n",
    "        # useful for testing the shapes - once self.grad_logits is computed check shape with:\n",
    "        np.testing.assert_equal(self.grad_logits.shape,(self.nunits,nsamples))\n",
    " \n",
    "        # DL-frameworks-keras, page 12\n",
    "        # applying the chain rule results in:\n",
    "        grad_activations_prev = np.dot(self.weights.T, self.grad_logits)\n",
    "        \n",
    "        # useful for testing the shapes - once self.grad_activations_prev is computed check shape with:\n",
    "        np.testing.assert_equal(grad_activations_prev.shape,(self.nunits_prev,nsamples))        \n",
    "\n",
    "        return grad_activations_prev\n",
    "        \n",
    "        ### END YOUR CODE ###\n",
    "    \n",
    "    \n",
    "    def gradient_weights(self, activations_prev):\n",
    "        \"\"\"\n",
    "        Computes the gradient of the cost w.r.t. the weights of the given layer and for the given mini-batch.  \n",
    "\n",
    "        The method assumes that `backpropagate` (and `propagate`) has been invoked for the given mini-batch \n",
    "        so that consistent the gradient w.r.t. the logits is available.  \n",
    "\n",
    "        Arguments:\n",
    "        activations_prev -- activations of the previous layer (or input layer). A numpy array of shape \n",
    "        (nunits_prev,m).\n",
    "        \n",
    "        Returns:\n",
    "        grad_weights -- the gradient w.r.t. to the weights. A numpy array of shape (nunits, nunits_prev).\n",
    "        \"\"\"\n",
    "        ### START YOUR CODE ###\n",
    "\n",
    "        # 5-backprop, page 42\n",
    "        # section backward propagation\n",
    "        \n",
    "        grad_weights = np.dot(self.grad_logits, activations_prev.T) / self.grad_logits.shape[1]\n",
    "        \n",
    "        return grad_weights\n",
    "        \n",
    "        ### END YOUR CODE ###\n",
    "    \n",
    "\n",
    "    def gradient_bias(self):\n",
    "        \"\"\"\n",
    "        Computes the gradient of the cost w.r.t. the bias of the given layer and for the given mini-batch.  \n",
    "                \n",
    "        The method assumes that `backpropagate` (and `propagate`) has been invoked for the given mini-batch \n",
    "        so that consistent the gradient w.r.t. the logits is available.  \n",
    "                \n",
    "        Returns:\n",
    "        grad_bias -- the gradient w.r.t. to the bias. A numpy array of shape (nunits, 1).\n",
    "        \"\"\"\n",
    "        ### START YOUR CODE ###        \n",
    "\n",
    "        grad_bias = self.grad_logits.mean(axis=1).reshape(self.nunits, 1)\n",
    "        \n",
    "        return grad_bias\n",
    "\n",
    "        ### END YOUR CODE ###\n"
   ]
  },
  {
   "cell_type": "code",
   "execution_count": 93,
   "metadata": {
    "ExecuteTime": {
     "end_time": "2021-04-06T21:16:44.816589Z",
     "start_time": "2021-04-06T21:16:44.809462Z"
    }
   },
   "outputs": [],
   "source": [
    "class Softmax(Layer):\n",
    "\n",
    "    def __init__(self, layerid, nunits, nunits_prev, initializer):\n",
    "        \"\"\"\n",
    "        Instantiates a Softmax layer with given number of input activations and normalised scores.\n",
    "        \n",
    "        Arguments:\n",
    "        layerid -- integer id for the layer.\n",
    "        nunits -- number of units in the given layer (=number of classes).\n",
    "        nunits_prev -- number of units in the previous layer (= number of input activations).\n",
    "        initializer -- initializer for the weights and the biases.        \n",
    "        \"\"\"\n",
    "        super().__init__(layerid, nunits, nunits_prev, SoftmaxActivationFunction(), initializer)\n",
    "        \n",
    "    def backpropagate(self, grad_activations):\n",
    "        \"\"\"\n",
    "        Computes the gradient of the cost w.r.t. to the input activations (activations of the previous \n",
    "        layer, activations_prev) of the softmax layer. It also computes the gradient w.r.t. the logits (z-values) of \n",
    "        the softmax layer. This will be needed as the basis for computing the gradient of the cost w.r.t. \n",
    "        the weights and bias of the layer. \n",
    "        \n",
    "        The method assumes that the forward propagation (`propagate`) has been invoked for the given mini-batch \n",
    "        so that consistent logit-values (z-logits) and activations (self.activations) are available.  \n",
    "        \n",
    "        Arguments:\n",
    "        grad_activations -- gradient of the cost w.r.t. to the output activations of the given layer. \n",
    "        A numpy array of shape (nunits_prev,m) \n",
    "        \n",
    "        Returns:\n",
    "        grad_activations_prev -- gradient of the cost w.r.t. to the input activations of the given layer.\n",
    "        \"\"\"\n",
    "        ### START YOUR CODE ###\n",
    "\n",
    "        self.grad_logits = self.activations * grad_activations - (self.activations * grad_activations).sum(axis=0) * self.activations\n",
    "        \n",
    "        # why can't we use the derivative of the activation function?\n",
    "        #self.grad_logits = self.activ_func.compute_derivative(self.logits) * grad_activations\n",
    "        \n",
    "        grad_activations_prev = np.dot(self.weights.T, self.grad_logits)\n",
    "        \n",
    "        return grad_activations_prev\n",
    "        \n",
    "        ### END YOUR CODE ###            "
   ]
  },
  {
   "cell_type": "code",
   "execution_count": 94,
   "metadata": {
    "ExecuteTime": {
     "end_time": "2021-04-06T21:16:45.504859Z",
     "start_time": "2021-04-06T21:16:45.491203Z"
    }
   },
   "outputs": [],
   "source": [
    "class MLP(object):\n",
    "    \n",
    "    def __init__(self, units_per_layer, activ_func, initializer, softmax_as_last_layer=True):\n",
    "        \"\"\"\n",
    "        Instantiates a (fully connected) MLP with architecture specified by the list `units_per_layer` \n",
    "        which contains the number of units for the layers (including the input and the output layer).\n",
    "        It instantiates the Layer-objects and uses layerid=0 for the first hidden layer, layerid=1 \n",
    "        for the second, etc.\n",
    "        \n",
    "        Arguments:\n",
    "        units_per_layer -- list with the number of units per layers (including the input and the output layer)\n",
    "        activ_func -- activation function to be used in the different layers except possibly in the output \n",
    "        layer (in case softmax_as_last_layer=True)\n",
    "        initializer -- initializer for the weights and biases of all the layers.\n",
    "        softmax_as_last_layer -- flag to indicate whether the last layer should be a softmax layer.\n",
    "        \"\"\"\n",
    "        self.layers = [] # list of layers (instances of class Layer or Softmax or the like); ordered along the forward path.\n",
    "        self.number_of_hidden_layers = None # number of hidden layers (int) (excl. input / sofmax layer)\n",
    "        self.x = None # input data for one iteration (propagate and backpropagate) \n",
    "        \n",
    "        # Initialize self.layers and self.number_of_hidden_layers\n",
    "        \n",
    "        ### START YOUR CODE ###        \n",
    "\n",
    "        self.number_layers = len(units_per_layer)-1 # input layer not counted as layer\n",
    "        if softmax_as_last_layer:\n",
    "            self.number_layers -= 1\n",
    "        layerid = 0\n",
    "        for i in range(self.number_layers):\n",
    "            layerid += 1\n",
    "            layer = Layer(layerid=layerid, nunits=units_per_layer[i+1], nunits_prev=units_per_layer[i], activ_func=activ_func, initializer=initializer)\n",
    "            self.layers.append(layer)\n",
    "        if softmax_as_last_layer:\n",
    "            layerid += 1\n",
    "            layer = Softmax(layerid, units_per_layer[self.number_layers+1], units_per_layer[self.number_layers], initializer)\n",
    "            self.layers.append(layer)\n",
    "\n",
    "        ### END YOUR CODE ###        \n",
    "\n",
    "        \n",
    "    def initialize(self):\n",
    "        \"\"\"\n",
    "        Calls the `initialize`-method of the layers which are used to properly initialize the weights and biases. \n",
    "        \"\"\"\n",
    "        for layer in self.layers:\n",
    "            layer.initialize()\n",
    "    \n",
    "    def propagate(self, x): \n",
    "        \"\"\"\n",
    "        Computes the output of the MLP for given input (by using the propagate-method). By executing this method \n",
    "        on a given input mini-batch, the activations and the logits of all the layers are computed \n",
    "        and cached (consistent with the mini-batch). \n",
    "        \n",
    "        Arguments:\n",
    "        x -- input of shape (n_0,m)\n",
    "        \n",
    "        Returns: \n",
    "        a -- activations of the last layer of shape (n_L,m)\n",
    "        \"\"\"\n",
    "        ### START YOUR CODE ###                \n",
    "\n",
    "        self.x = x\n",
    "        a = x\n",
    "        \n",
    "        for layer in self.layers:\n",
    "            a = layer.propagate(a)\n",
    "        \n",
    "        return a\n",
    "        \n",
    "        ### END YOUR CODE ###        \n",
    "\n",
    "    def backpropagate(self, grady):\n",
    "        \"\"\"\n",
    "        Executes backpropagation for the given MLP (after having executed the `propagate`-method).\n",
    "        It starts with passing in the gradient of the cost w.r.t. the activations of the last layer \n",
    "        (i.e. the input to the cost function) and ends up with the gradient of the cost w.r.t. the \n",
    "        input to the first layer (e.g. input x). Once this method has been run, the gradients w.r.t.\n",
    "        to the logits (z-values) are computed and cached. These will be used to update the weights \n",
    "        and biases in accordance with the gradient descent principle. \n",
    "        \n",
    "        Arguments:\n",
    "        grady -- gradient with respect to the output of the network, i.e. the activations of the last layer\n",
    "        that is input to the cost function. A numpy array of shape (n_L,m)\n",
    "        \n",
    "        Returns:\n",
    "        gradient with respect to the inputs to the network. A numpy array of shape (n_0,m)\n",
    "        \"\"\"\n",
    "        ### START YOUR CODE ###        \n",
    "\n",
    "        grad =  grady\n",
    "        \n",
    "        for layer in reversed(self.layers):\n",
    "            grad = layer.backpropagate(grad)\n",
    "        \n",
    "        return grad\n",
    "        \n",
    "        ### END YOUR CODE ###        \n",
    "    \n",
    "    def update_params(self, learning_rate):\n",
    "        \"\"\"\n",
    "        Update the weights and biases of all the layers consistent with the gradient descent principle.\n",
    "        It assumes that the propagate and backpropagate methods have been executed.\n",
    "        \n",
    "        Arguments:\n",
    "        learning_rate -- learning rate to be used in the update rule.   \n",
    "        \"\"\"\n",
    "        ### START YOUR CODE ### \n",
    "\n",
    "        a = self.x\n",
    "        \n",
    "        for layer in self.layers:\n",
    "            layer.weights -= learning_rate * layer.gradient_weights(a)\n",
    "            layer.bias -= learning_rate * layer.gradient_bias()\n",
    "            a = layer.activations\n",
    "\n",
    "        ### END YOUR CODE ###        \n"
   ]
  },
  {
   "cell_type": "markdown",
   "metadata": {},
   "source": [
    "#### Check the Implementation of Forward Propagation"
   ]
  },
  {
   "cell_type": "code",
   "execution_count": 73,
   "metadata": {
    "ExecuteTime": {
     "end_time": "2021-04-06T20:58:21.455950Z",
     "start_time": "2021-04-06T20:58:21.443873Z"
    }
   },
   "outputs": [],
   "source": [
    "x00 = np.array([0.2,0.1,-0.3, 0.2, 0.5,-1.0, 1.0,1.5,-1.0]).reshape(3,3)\n",
    "layersizes = [3,10,20,10,5]\n",
    "np.random.seed(1)\n",
    "mlp = MLP(layersizes, SigmoidActivationFunction(), NormInitializer(), True)\n",
    "for layerid in range(len(layersizes)-1):\n",
    "    layer = mlp.layers[layerid]\n",
    "    layer.weights = np.ones(shape=(layer.nunits,layer.nunits_prev), dtype='float')*0.1\n",
    "    layer.bias = np.zeros(shape=(layer.nunits,1), dtype='float')\n",
    "mlp.initialize()\n",
    "y00 = mlp.propagate(x00)\n",
    "np.testing.assert_equal(y00.shape, (5,3))\n",
    "y00_expected = np.array([\n",
    "    [0.18559891, 0.18553251, 0.18809197],\n",
    "    [0.28155687, 0.28171852, 0.27895721],\n",
    "    [0.05074394, 0.05071549, 0.05141478],\n",
    "    [0.13742613, 0.13757631, 0.13833757],\n",
    "    [0.34467414, 0.34445717, 0.34319847]])\n",
    "np.testing.assert_array_almost_equal(y00, y00_expected, decimal=8)"
   ]
  },
  {
   "cell_type": "markdown",
   "metadata": {},
   "source": [
    "#### Test Performance of Forward Propagation\n",
    "\n",
    "Measure the runtimes for propagating all the MNIST training set (60'000 samples) with different batch sizes."
   ]
  },
  {
   "cell_type": "code",
   "execution_count": 83,
   "metadata": {
    "ExecuteTime": {
     "end_time": "2021-04-06T21:14:38.429266Z",
     "start_time": "2021-04-06T21:06:22.975917Z"
    }
   },
   "outputs": [
    {
     "name": "stdout",
     "output_type": "stream",
     "text": [
      "Exec time for batchsize     1 : 329.120 sec\n",
      "Exec time for batchsize    10 : 90.323 sec\n",
      "Exec time for batchsize   100 : 24.385 sec\n",
      "Exec time for batchsize  1000 : 17.365 sec\n",
      "Exec time for batchsize 10000 : 14.207 sec\n",
      "Exec time for batchsize 50000 : 19.972 sec\n"
     ]
    }
   ],
   "source": [
    "from timeit import default_timer as timer\n",
    "\n",
    "layersizes = [ds.nx,1000,800,700,600,400,200,100,100,10]\n",
    "mlp = MLP(layersizes, SigmoidActivationFunction(), NormInitializer(), True)\n",
    "mlp.initialize()\n",
    "batchsizes = [1,10,100,1000,10000,50000]\n",
    "runtimes = {}\n",
    "nsamples = ds.mtrain\n",
    "\n",
    "for batchsize in batchsizes:\n",
    "    start = timer()\n",
    "    ds.prepare_batches(batchsize)\n",
    "    for i in range(ds.number_of_batches()):\n",
    "        xx, yy = ds.next_batch()\n",
    "        yypred = mlp.propagate(xx)\n",
    "    end = timer()\n",
    "    runtime = end-start\n",
    "    print(\"Exec time for batchsize %5i : %6.3f sec\"%(batchsize,runtime))\n",
    "    runtimes[batchsize] = runtime"
   ]
  },
  {
   "cell_type": "markdown",
   "metadata": {},
   "source": [
    "#### Your Explanation of the Observed Runtime vs Batch Size\n",
    "\n",
    "The larger the batch-size the smaler the runtime.\n",
    "For each batch we need to do the forward and backward propagation. When we have a batch of 1 sample then we have 60'000 forward and backward propagation. On the other hand, if we have a batch size of 50'000 then we only need to do 2 forward and backward propagation."
   ]
  },
  {
   "cell_type": "markdown",
   "metadata": {},
   "source": [
    "#### Check the Implementation of the Gradient\n",
    "\n",
    "For checking the implementation, compute a numeric approximation of the gradient ('numeric gradient') by using the formula as explained in the class. Compare this with the analytic formulas ('analytic gradient') obtained when implementing backprop (or the derivatives of the cross entropy cost).\n",
    "\n",
    "Actually, do this checking for the cross entropy cost as well as for the MLP model.\n",
    "\n",
    "When choosing delta0~1.0e-8, we expect a difference of the numeric and the analytic gradient of <= 3.0e-7.  "
   ]
  },
  {
   "cell_type": "code",
   "execution_count": 84,
   "metadata": {
    "ExecuteTime": {
     "end_time": "2021-04-06T21:14:38.472102Z",
     "start_time": "2021-04-06T21:14:38.461777Z"
    }
   },
   "outputs": [
    {
     "name": "stdout",
     "output_type": "stream",
     "text": [
      "1.1854167203395605e-08\n",
      "0.0\n",
      "1.414096573171264e-07\n"
     ]
    }
   ],
   "source": [
    "# Check Gradient of Cross Entropy Cost\n",
    "\n",
    "ce = CrossEntropy()\n",
    "\n",
    "y = np.array([0,2]).reshape(1,2)\n",
    "probs0 = np.array([[0.7,0.1,0.2]]).reshape(1,3).T\n",
    "J0 = ce.compute_value(y,probs0)\n",
    "\n",
    "delta0 = 1.0e-8\n",
    "for i in range(3):\n",
    "    delta = np.zeros((3,1),dtype='float')\n",
    "    delta[i,0] = delta0\n",
    "    probs1 = probs0 + delta\n",
    "    J1 = ce.compute_value(y,probs1)\n",
    "    numeric = (J1-J0)/delta0\n",
    "    analytic = ce.compute_derivative(y,probs0)[i,0]\n",
    "    d = np.abs(numeric-analytic)\n",
    "    print(d)"
   ]
  },
  {
   "cell_type": "code",
   "execution_count": 95,
   "metadata": {
    "ExecuteTime": {
     "end_time": "2021-04-06T21:17:56.190367Z",
     "start_time": "2021-04-06T21:16:51.743620Z"
    }
   },
   "outputs": [
    {
     "name": "stdout",
     "output_type": "stream",
     "text": [
      "Testing layer with id 0\n",
      "Testing layer with id 1\n",
      "Testing layer with id 2\n",
      "Testing layer with id 3\n"
     ]
    }
   ],
   "source": [
    "# Check gradient of cost w.r.t. weights and biases of MLP\n",
    "# An output with a discrepancy is provided only if the difference between numeric and analytic gradient \n",
    "# exceeds the accuray of 3.0e-7. Definitely, the difference should not get much larger than this accuracy.\n",
    "\n",
    "accuracy = 3.0e-7\n",
    "\n",
    "layersizes = [100,200,300,100,10]\n",
    "mlp0 = MLP(layersizes, SigmoidActivationFunction(), NormInitializer(), True)\n",
    "mlp0.initialize()\n",
    "mlp1 = MLP(layersizes, SigmoidActivationFunction(), NormInitializer(), True)\n",
    "mlp1.initialize()\n",
    "for layerid in range(len(layersizes)-1):\n",
    "    mlp1.layers[layerid].weights = mlp0.layers[layerid].weights.copy()\n",
    "    mlp1.layers[layerid].bias = mlp0.layers[layerid].bias.copy()\n",
    "\n",
    "m = 2\n",
    "x = np.random.uniform(-0.5,0.5,size=(layersizes[0],m))\n",
    "y = np.random.randint(0,3,size=(1,m))\n",
    "probs0 = mlp0.propagate(x)\n",
    "gradJ = ce.compute_derivative(y,probs0)\n",
    "mlp0.backpropagate(gradJ)\n",
    "J0 = ce.compute_value(y,probs0)\n",
    "\n",
    "delta0 = 1.0e-8\n",
    "for layerid in range(len(layersizes)-1):\n",
    "    print(\"Testing layer with id %s\"%(layerid))\n",
    "    if layerid==0:\n",
    "        activations_prev = x\n",
    "    else:\n",
    "        activations_prev = mlp0.layers[layerid-1].activations\n",
    "    for i in range(layersizes[layerid+1]):\n",
    "        for j in range(layersizes[layerid]):\n",
    "            mlp1.layers[layerid].weights[i,j]+=delta0\n",
    "            probs1 = mlp1.propagate(x)\n",
    "            J1 = ce.compute_value(y,probs1)\n",
    "            numeric = (J1-J0)/delta0\n",
    "            analytic = mlp0.layers[layerid].gradient_weights(activations_prev)[i,j]\n",
    "            d = np.abs(numeric-analytic)\n",
    "            if d > accuracy:\n",
    "                print(\"Layer %i (%i,%i)\"%(layerid,i,j), d, numeric, analytic)\n",
    "            mlp1.layers[layerid].weights[i,j]-=delta0\n"
   ]
  },
  {
   "cell_type": "markdown",
   "metadata": {},
   "source": [
    "#### Metrics Class\n",
    "\n",
    "For not littering the optimization loop with code to keep track of the learning results over the epochs we defined a suitable metrics object that keeps all the data (cost function, classification error vs epochs). It also provides utility methods for updating, printing values or plotting the learning curves.\n",
    "\n",
    "It is defined as python class the metrics object then needs to be instantiated from. It means that some small knowledge about object-oriented programming is needed here.  "
   ]
  },
  {
   "cell_type": "code",
   "execution_count": 96,
   "metadata": {
    "ExecuteTime": {
     "end_time": "2021-04-06T21:19:56.745345Z",
     "start_time": "2021-04-06T21:19:56.725143Z"
    }
   },
   "outputs": [],
   "source": [
    "import matplotlib.pyplot as plt\n",
    "\n",
    "class Metrics():\n",
    "    \"\"\"\n",
    "    Allows to collect statistics (such as classification error or cost) that are of interest over the course of training\n",
    "    and for creating learning curves that are a useful tool for analyzing the quality of the learning.\n",
    "    \"\"\"\n",
    "    \n",
    "    def __init__(self, cost):\n",
    "        \"\"\"\n",
    "        Constructor for a metrics object. \n",
    "        Initializes all the statistics to track in form of python lists.\n",
    "        \n",
    "        Parameters:\n",
    "        cost -- cost function to use (a python function)\n",
    "        \"\"\"\n",
    "        self.epochs = []\n",
    "        self.train_costs_last = []\n",
    "        self.val_costs_last = []\n",
    "        self.train_errors_last = []\n",
    "        self.val_errors_last = []\n",
    "\n",
    "        self.cost = cost\n",
    "        self.init_epoch()\n",
    "\n",
    "            \n",
    "    def init_epoch(self):\n",
    "        self.train_costs_epoch = []\n",
    "        self.val_costs_epoch = []\n",
    "        self.train_errors_epoch = []\n",
    "        self.val_errors_epoch = []\n",
    "        \n",
    "        \n",
    "    def update_epoch(self, epoch):\n",
    "        \"\"\"\n",
    "        Computes the average of the metrics over the epoch and adds the result to the per epoch history\n",
    "        \n",
    "        Parameters:\n",
    "        epoch -- the epoch to add to the per epoch cache\n",
    "        \"\"\"\n",
    "        self.epochs.append(epoch)\n",
    "        self.train_costs_last.append(self.train_costs_epoch[-1])\n",
    "        self.val_costs_last.append(self.val_costs_epoch[-1])\n",
    "        self.train_errors_last.append(self.train_errors_epoch[-1])\n",
    "        self.val_errors_last.append(self.val_errors_epoch[-1])\n",
    "        \n",
    "        self.init_epoch()\n",
    "    \n",
    "    def error_rate(self, y, probs):\n",
    "        m = y.shape[1]\n",
    "        ypred = np.argmax(probs, axis=0).reshape(1,m)\n",
    "        rate = np.sum(y != ypred) / m\n",
    "        return rate        \n",
    "        \n",
    "    def update_iteration(self, ypred_train, y_train, ypred_val, y_val):\n",
    "        \"\"\"\n",
    "        Allows to update the statistics to be tracked for a new epoch.\n",
    "        The cost is computed by using the function object passed to the constructor.\n",
    "        \n",
    "        Parameters:\n",
    "        epoch -- Epoch\n",
    "        ypred_train -- predicted values on the training samples, a numpy array of shape (1,m1)\n",
    "        y_train -- ground truth labels associated with the training samples, a numpy array of shape (1,m1)\n",
    "        ypred_val -- predicted values on the val samples, a numpy array of shape (1,m2)\n",
    "        y_val -- ground truth labels associated with the val samples, a numpy array of shape (1,m2)\n",
    "        \"\"\"\n",
    "        Jtrain = self.cost.compute_value(y_train, ypred_train)\n",
    "        Jval = self.cost.compute_value(y_val, ypred_val)\n",
    "        train_error = self.error_rate(y_train, ypred_train)\n",
    "        val_error = self.error_rate(y_val, ypred_val)\n",
    "\n",
    "        self.train_costs_epoch.append(Jtrain)\n",
    "        self.val_costs_epoch.append(Jval)\n",
    "        self.train_errors_epoch.append(train_error)\n",
    "        self.val_errors_epoch.append(val_error)\n",
    "        \n",
    "        \n",
    "    def print_latest_errors(self):\n",
    "        print (\"Train/val error after epoch %i: %f, %f\" %(self.epochs[-1], self.train_errors_last[-1], self.val_errors_last[-1]))\n",
    "\n",
    "    def print_latest_costs(self):\n",
    "        print (\"Train/val cost after epoch %i: %f, %f\" %(self.epochs[-1], self.train_costs_last[-1], self.val_costs_last[-1]))\n",
    "\n",
    "    def plot_cost_curves(self, xrange=None, yrange=None, logscale=True):\n",
    "        if logscale:\n",
    "            plt.semilogy(self.epochs, self.train_costs_last, \"b-\", label=\"train\")\n",
    "            plt.semilogy(self.epochs, self.val_costs_last, \"r-\", label=\"val\")\n",
    "        else:\n",
    "            plt.plot(self.epochs, self.train_costs_last, \"b-\", label=\"train\")\n",
    "            plt.plot(self.epochs, self.val_costs_last, \"r-\", label=\"val\")            \n",
    "        plt.ylabel('Cost')\n",
    "        plt.xlabel('Epochs')\n",
    "        if not xrange:\n",
    "            xrange=(0,self.epochs[-1])\n",
    "        if not yrange:\n",
    "            ymin = min(max(1e-5,np.min(self.train_costs_last)),max(1e-5,np.min(self.val_costs_last))) * 0.8\n",
    "            ymax = max(np.max(self.train_costs_last),np.max(self.val_costs_last)) * 1.2\n",
    "            yrange = (ymin,ymax)\n",
    "        plt.axis([xrange[0],xrange[1],yrange[0],yrange[1]])\n",
    "        plt.legend()\n",
    "        plt.show()        \n",
    "    \n",
    "    def plot_error_curves(self, xrange=None, yrange=None, logscale=True):\n",
    "        if logscale:\n",
    "            plt.semilogy(self.epochs, self.train_errors_last, \"b-\", label=\"train\")\n",
    "            plt.semilogy(self.epochs, self.val_errors_last, \"r-\", label=\"val\")\n",
    "        else:\n",
    "            plt.plot(self.epochs, self.train_errors_last, \"b-\", label=\"train\")\n",
    "            plt.plot(self.epochs, self.val_errors_last, \"r-\", label=\"val\")            \n",
    "        plt.ylabel('Errors')\n",
    "        plt.xlabel('Epochs')\n",
    "        if not xrange:\n",
    "            xrange=(0,self.epochs[-1])\n",
    "        if not yrange:\n",
    "            ymin = min(max(1e-5,np.min(self.train_errors_last)),max(1e-5,np.min(self.val_errors_last))) * 0.8\n",
    "            ymax = max(np.max(self.train_errors_last),np.max(self.val_errors_last)) * 1.2\n",
    "            yrange = (ymin,ymax)\n",
    "        plt.axis([xrange[0],xrange[1],yrange[0],yrange[1]])        \n",
    "        plt.legend()\n",
    "        plt.show()"
   ]
  },
  {
   "cell_type": "markdown",
   "metadata": {},
   "source": [
    "### Training, Evaluating Performance"
   ]
  },
  {
   "cell_type": "code",
   "execution_count": 97,
   "metadata": {
    "ExecuteTime": {
     "end_time": "2021-04-06T21:19:58.245802Z",
     "start_time": "2021-04-06T21:19:58.240679Z"
    }
   },
   "outputs": [],
   "source": [
    "def optimize(mlp, cost, ds, nepochs, learning_rate, batchsize=32, debug=True):\n",
    "    \"\"\"\n",
    "    \n",
    "    Arguments:\n",
    "    mlp -- instance of MLP\n",
    "    cost -- instance of cost function to be used.\n",
    "    ds -- instance of Dataset class\n",
    "    nepochs -- number of epochs (sweeps through the training dataset in the optimization loop)\n",
    "    learning_rate -- learning rate of the gradient descent update rule\n",
    "    batchsize -- batch size, defaults to 32\n",
    "    debug -- if true prints training and test error values after each epoch. Defaults to True.\n",
    "    \n",
    "    Returns:\n",
    "    metrics -- contain the information about the learning curves\n",
    "    \"\"\" \n",
    "    mlp.initialize()\n",
    "    metrics = Metrics(cost = cost)\n",
    "    ds.prepare_batches(batchsize)\n",
    "    \n",
    "    # compute and set the initial values for the metrics curves\n",
    "    ypred_train = mlp.propagate(ds.xtrain)    \n",
    "    ypred_val = mlp.propagate(ds.xval)    \n",
    "    metrics.update_iteration(ypred_train, ds.ytrain, ypred_val, ds.yval)\n",
    "    metrics.update_epoch(0)\n",
    "    \n",
    "    # Loop over the epochs    \n",
    "    for i in range(nepochs):\n",
    "                \n",
    "        batches = ds.prepare_batches(batchsize)\n",
    "        \n",
    "        ### START YOUR CODE ### \n",
    "        # Loop over the batches: \n",
    "        for batch_index in range(ds.number_of_batches()):\n",
    "            xbatch, ybatch = ds.next_batch()\n",
    "\n",
    "            # propagate and then back-propagate the gradient of the cost\n",
    "            ypred_train = mlp.propagate(xbatch)\n",
    "\n",
    "            gradJ = cost.compute_derivative(ybatch, ypred_train)\n",
    "            mlp.backpropagate(gradJ)\n",
    "\n",
    "            # update the parameters by using the gradient of the costs w.r.t. these parameters and the learning rate\n",
    "            mlp.update_params(learning_rate)\n",
    "\n",
    "        # finally update the metrics object\n",
    "        ypred_train = mlp.propagate(ds.xtrain)\n",
    "        ypred_val = mlp.propagate(ds.xval)\n",
    "        metrics.update_iteration(ypred_train, ds.ytrain, ypred_val, ds.yval)\n",
    "        metrics.update_epoch(i)\n",
    "        \n",
    "        ### END YOUR CODE ### \n",
    "            \n",
    "        if debug:\n",
    "            metrics.print_latest_errors()\n",
    "        \n",
    "    metrics.print_latest_costs()\n",
    "    metrics.print_latest_errors()\n",
    "\n",
    "    return metrics    "
   ]
  },
  {
   "cell_type": "markdown",
   "metadata": {},
   "source": [
    "### Shallow Network"
   ]
  },
  {
   "cell_type": "code",
   "execution_count": 98,
   "metadata": {
    "ExecuteTime": {
     "end_time": "2021-04-06T21:30:11.916284Z",
     "start_time": "2021-04-06T21:20:00.516952Z"
    },
    "run_control": {
     "marked": false
    }
   },
   "outputs": [
    {
     "name": "stdout",
     "output_type": "stream",
     "text": [
      "Train/val error after epoch 0: 0.112320, 0.110400\n",
      "Train/val error after epoch 1: 0.095120, 0.094800\n",
      "Train/val error after epoch 2: 0.084060, 0.085000\n",
      "Train/val error after epoch 3: 0.075920, 0.076300\n",
      "Train/val error after epoch 4: 0.072400, 0.074700\n",
      "Train/val error after epoch 5: 0.067920, 0.069100\n",
      "Train/val error after epoch 6: 0.062480, 0.065500\n",
      "Train/val error after epoch 7: 0.059360, 0.060500\n",
      "Train/val error after epoch 8: 0.055320, 0.057500\n",
      "Train/val error after epoch 9: 0.052860, 0.056700\n",
      "Train/val error after epoch 10: 0.050820, 0.053200\n",
      "Train/val error after epoch 11: 0.047940, 0.052300\n",
      "Train/val error after epoch 12: 0.045820, 0.049600\n",
      "Train/val error after epoch 13: 0.043140, 0.047800\n",
      "Train/val error after epoch 14: 0.041360, 0.046800\n",
      "Train/val error after epoch 15: 0.039620, 0.045500\n",
      "Train/val error after epoch 16: 0.037200, 0.042700\n",
      "Train/val error after epoch 17: 0.037660, 0.043700\n",
      "Train/val error after epoch 18: 0.034680, 0.040600\n",
      "Train/val error after epoch 19: 0.033280, 0.040100\n",
      "Train/val error after epoch 20: 0.033080, 0.039400\n",
      "Train/val error after epoch 21: 0.031560, 0.040100\n",
      "Train/val error after epoch 22: 0.030180, 0.037400\n",
      "Train/val error after epoch 23: 0.029360, 0.036900\n",
      "Train/val error after epoch 24: 0.029140, 0.037300\n",
      "Train/val error after epoch 25: 0.027940, 0.035200\n",
      "Train/val error after epoch 26: 0.026020, 0.034000\n",
      "Train/val error after epoch 27: 0.025960, 0.034000\n",
      "Train/val error after epoch 28: 0.025080, 0.033100\n",
      "Train/val error after epoch 29: 0.024240, 0.033400\n",
      "Train/val error after epoch 30: 0.023260, 0.033500\n",
      "Train/val error after epoch 31: 0.022820, 0.031300\n",
      "Train/val error after epoch 32: 0.021820, 0.031400\n",
      "Train/val error after epoch 33: 0.022180, 0.031400\n",
      "Train/val error after epoch 34: 0.020780, 0.030900\n",
      "Train/val error after epoch 35: 0.019980, 0.029800\n",
      "Train/val error after epoch 36: 0.020380, 0.030900\n",
      "Train/val error after epoch 37: 0.019180, 0.029900\n",
      "Train/val error after epoch 38: 0.018080, 0.027800\n",
      "Train/val error after epoch 39: 0.018520, 0.027400\n",
      "Train/val error after epoch 40: 0.017320, 0.027400\n",
      "Train/val error after epoch 41: 0.016300, 0.028200\n",
      "Train/val error after epoch 42: 0.016700, 0.026300\n",
      "Train/val error after epoch 43: 0.016660, 0.028000\n",
      "Train/val error after epoch 44: 0.015920, 0.027200\n",
      "Train/val error after epoch 45: 0.015300, 0.027300\n",
      "Train/val error after epoch 46: 0.014860, 0.027100\n",
      "Train/val error after epoch 47: 0.014620, 0.026100\n",
      "Train/val error after epoch 48: 0.014060, 0.024800\n",
      "Train/val error after epoch 49: 0.013640, 0.025400\n",
      "Train/val error after epoch 50: 0.012800, 0.024800\n",
      "Train/val error after epoch 51: 0.012760, 0.025100\n",
      "Train/val error after epoch 52: 0.012440, 0.024200\n",
      "Train/val error after epoch 53: 0.012560, 0.025100\n",
      "Train/val error after epoch 54: 0.011900, 0.025100\n",
      "Train/val error after epoch 55: 0.010900, 0.024000\n",
      "Train/val error after epoch 56: 0.011000, 0.023500\n",
      "Train/val error after epoch 57: 0.010900, 0.024800\n",
      "Train/val error after epoch 58: 0.010900, 0.023800\n",
      "Train/val error after epoch 59: 0.010500, 0.024600\n",
      "Train/val error after epoch 60: 0.009920, 0.023800\n",
      "Train/val error after epoch 61: 0.009620, 0.023800\n",
      "Train/val error after epoch 62: 0.009520, 0.023900\n",
      "Train/val error after epoch 63: 0.009400, 0.023800\n",
      "Train/val error after epoch 64: 0.008560, 0.022900\n",
      "Train/val error after epoch 65: 0.008860, 0.023500\n",
      "Train/val error after epoch 66: 0.009460, 0.024700\n",
      "Train/val error after epoch 67: 0.008720, 0.023800\n",
      "Train/val error after epoch 68: 0.008580, 0.023900\n",
      "Train/val error after epoch 69: 0.008280, 0.023800\n",
      "Train/val error after epoch 70: 0.007580, 0.022900\n",
      "Train/val error after epoch 71: 0.007560, 0.023800\n",
      "Train/val error after epoch 72: 0.007400, 0.022800\n",
      "Train/val error after epoch 73: 0.007440, 0.023400\n",
      "Train/val error after epoch 74: 0.006900, 0.023200\n",
      "Train/val error after epoch 75: 0.006920, 0.022200\n",
      "Train/val error after epoch 76: 0.006280, 0.022500\n",
      "Train/val error after epoch 77: 0.006100, 0.022000\n",
      "Train/val error after epoch 78: 0.006280, 0.022600\n",
      "Train/val error after epoch 79: 0.006040, 0.022100\n",
      "Train/val error after epoch 80: 0.006120, 0.022500\n",
      "Train/val error after epoch 81: 0.005960, 0.023400\n",
      "Train/val error after epoch 82: 0.005500, 0.022100\n",
      "Train/val error after epoch 83: 0.005160, 0.021600\n",
      "Train/val error after epoch 84: 0.005400, 0.023300\n",
      "Train/val error after epoch 85: 0.004920, 0.022300\n",
      "Train/val error after epoch 86: 0.005140, 0.021400\n",
      "Train/val error after epoch 87: 0.004800, 0.022200\n",
      "Train/val error after epoch 88: 0.004600, 0.021700\n",
      "Train/val error after epoch 89: 0.004640, 0.021700\n",
      "Train/val error after epoch 90: 0.004480, 0.021900\n",
      "Train/val error after epoch 91: 0.004580, 0.021600\n",
      "Train/val error after epoch 92: 0.004260, 0.022300\n",
      "Train/val error after epoch 93: 0.004260, 0.022700\n",
      "Train/val error after epoch 94: 0.003900, 0.022100\n",
      "Train/val error after epoch 95: 0.003860, 0.021300\n",
      "Train/val error after epoch 96: 0.004000, 0.022200\n",
      "Train/val error after epoch 97: 0.003840, 0.022200\n",
      "Train/val error after epoch 98: 0.003520, 0.021700\n",
      "Train/val error after epoch 99: 0.003820, 0.022000\n",
      "Train/val cost after epoch 99: 0.023306, 0.073483\n",
      "Train/val error after epoch 99: 0.003820, 0.022000\n",
      "611.3029350020006\n"
     ]
    }
   ],
   "source": [
    "from timeit import default_timer as timer\n",
    "\n",
    "### START YOUR CODE ### \n",
    "learning_rate = 0.1\n",
    "batchsize = 128\n",
    "nepochs = 100\n",
    "layersizes = [784,150,10]\n",
    "### END YOUR CODE ### \n",
    "\n",
    "mlp = MLP(layersizes, SigmoidActivationFunction(), NormInitializer(), True)\n",
    "ce = CrossEntropy()\n",
    "\n",
    "start = timer()\n",
    "metrics = optimize(mlp, ce, ds, nepochs, learning_rate, batchsize=batchsize, debug=True)\n",
    "end = timer()\n",
    "lapsetime = end-start\n",
    "print(lapsetime)\n"
   ]
  },
  {
   "cell_type": "code",
   "execution_count": 99,
   "metadata": {
    "ExecuteTime": {
     "end_time": "2021-04-06T21:31:42.063638Z",
     "start_time": "2021-04-06T21:31:41.814628Z"
    }
   },
   "outputs": [
    {
     "data": {
      "image/png": "[encoded data removed]",
      "text/plain": [
       "<Figure size 432x288 with 1 Axes>"
      ]
     },
     "metadata": {
      "needs_background": "light"
     },
     "output_type": "display_data"
    }
   ],
   "source": [
    "metrics.plot_cost_curves()"
   ]
  },
  {
   "cell_type": "code",
   "execution_count": 100,
   "metadata": {
    "ExecuteTime": {
     "end_time": "2021-04-06T21:31:42.828187Z",
     "start_time": "2021-04-06T21:31:42.710920Z"
    }
   },
   "outputs": [
    {
     "data": {
      "image/png": "[encoded data removed]",
      "text/plain": [
       "<Figure size 432x288 with 1 Axes>"
      ]
     },
     "metadata": {
      "needs_background": "light"
     },
     "output_type": "display_data"
    },
    {
     "name": "stdout",
     "output_type": "stream",
     "text": [
      "Train/val error after epoch 99: 0.003820, 0.022000\n"
     ]
    }
   ],
   "source": [
    "metrics.plot_error_curves(yrange=(0,0.1), logscale=False)\n",
    "metrics.print_latest_errors()"
   ]
  },
  {
   "cell_type": "code",
   "execution_count": 102,
   "metadata": {
    "ExecuteTime": {
     "end_time": "2021-04-06T21:32:20.310533Z",
     "start_time": "2021-04-06T21:32:20.166174Z"
    }
   },
   "outputs": [
    {
     "name": "stdout",
     "output_type": "stream",
     "text": [
      "Test error: 0.0774 cost: 0.27071742146680516\n"
     ]
    },
    {
     "name": "stderr",
     "output_type": "stream",
     "text": [
      "<ipython-input-87-482fd3ffdbda>:4: RuntimeWarning: overflow encountered in exp\n",
      "  return 1.0 / (1.0 + np.exp(-z))\n"
     ]
    }
   ],
   "source": [
    "### START YOUR CODE ### \n",
    "\n",
    "def error_rate(y, probs):\n",
    "    m = y.shape[1]\n",
    "    ypred = np.argmax(probs, axis=0).reshape(1,m)\n",
    "    rate = np.sum(y != ypred) / m\n",
    "    return rate \n",
    "    \n",
    "ypred_test = mlp.propagate(xtest)\n",
    "costs_test = ce.compute_value(ytest, ypred_test)\n",
    "error_test = error_rate(ytest, ypred_test)\n",
    "\n",
    "### END YOUR CODE ### \n",
    "print(\"Test error:\", error_test, \"cost:\", costs_test)"
   ]
  },
  {
   "cell_type": "markdown",
   "metadata": {},
   "source": [
    "### Deeper Network"
   ]
  },
  {
   "cell_type": "code",
   "execution_count": 107,
   "metadata": {
    "ExecuteTime": {
     "end_time": "2021-04-06T22:34:44.898225Z",
     "start_time": "2021-04-06T22:12:09.770879Z"
    },
    "scrolled": true
   },
   "outputs": [
    {
     "name": "stdout",
     "output_type": "stream",
     "text": [
      "Train/val error after epoch 0: 0.151900, 0.152100\n",
      "Train/val error after epoch 1: 0.092520, 0.096100\n",
      "Train/val error after epoch 2: 0.066120, 0.071700\n",
      "Train/val error after epoch 3: 0.049500, 0.053500\n",
      "Train/val error after epoch 4: 0.040300, 0.046400\n",
      "Train/val error after epoch 5: 0.040320, 0.045000\n",
      "Train/val error after epoch 6: 0.032020, 0.037800\n",
      "Train/val error after epoch 7: 0.034000, 0.041400\n",
      "Train/val error after epoch 8: 0.024240, 0.034000\n",
      "Train/val error after epoch 9: 0.023520, 0.033000\n",
      "Train/val error after epoch 10: 0.017700, 0.028300\n",
      "Train/val error after epoch 11: 0.019380, 0.032000\n",
      "Train/val error after epoch 12: 0.013660, 0.027400\n",
      "Train/val error after epoch 13: 0.014580, 0.028000\n",
      "Train/val error after epoch 14: 0.018740, 0.030700\n",
      "Train/val error after epoch 15: 0.010020, 0.025700\n",
      "Train/val error after epoch 16: 0.009760, 0.026500\n",
      "Train/val error after epoch 17: 0.008040, 0.026900\n",
      "Train/val error after epoch 18: 0.007080, 0.023800\n",
      "Train/val error after epoch 19: 0.010300, 0.027500\n",
      "Train/val error after epoch 20: 0.006240, 0.025300\n",
      "Train/val error after epoch 21: 0.004260, 0.023400\n",
      "Train/val error after epoch 22: 0.005360, 0.024800\n",
      "Train/val error after epoch 23: 0.004040, 0.023900\n",
      "Train/val error after epoch 24: 0.006580, 0.024700\n",
      "Train/val error after epoch 25: 0.002400, 0.022700\n",
      "Train/val error after epoch 26: 0.002880, 0.023800\n",
      "Train/val error after epoch 27: 0.001500, 0.021600\n",
      "Train/val error after epoch 28: 0.001800, 0.022300\n",
      "Train/val error after epoch 29: 0.001240, 0.022300\n",
      "Train/val error after epoch 30: 0.001060, 0.022100\n",
      "Train/val error after epoch 31: 0.001180, 0.022100\n",
      "Train/val error after epoch 32: 0.002000, 0.024700\n",
      "Train/val error after epoch 33: 0.001200, 0.022700\n",
      "Train/val error after epoch 34: 0.000220, 0.021600\n",
      "Train/val error after epoch 35: 0.000360, 0.020700\n",
      "Train/val error after epoch 36: 0.000360, 0.022000\n",
      "Train/val error after epoch 37: 0.001080, 0.023700\n",
      "Train/val error after epoch 38: 0.000320, 0.021800\n",
      "Train/val error after epoch 39: 0.000040, 0.020800\n",
      "Train/val error after epoch 40: 0.000020, 0.020700\n",
      "Train/val error after epoch 41: 0.000080, 0.020500\n",
      "Train/val error after epoch 42: 0.000120, 0.021300\n",
      "Train/val error after epoch 43: 0.000040, 0.020500\n",
      "Train/val error after epoch 44: 0.000020, 0.020000\n",
      "Train/val error after epoch 45: 0.000020, 0.020000\n",
      "Train/val error after epoch 46: 0.000020, 0.021000\n",
      "Train/val error after epoch 47: 0.000000, 0.019600\n",
      "Train/val error after epoch 48: 0.000140, 0.021800\n",
      "Train/val error after epoch 49: 0.000000, 0.020000\n",
      "Train/val error after epoch 50: 0.000000, 0.020000\n",
      "Train/val error after epoch 51: 0.000000, 0.020100\n",
      "Train/val error after epoch 52: 0.000000, 0.019500\n",
      "Train/val error after epoch 53: 0.000000, 0.019400\n",
      "Train/val error after epoch 54: 0.000000, 0.019600\n",
      "Train/val error after epoch 55: 0.000000, 0.019800\n",
      "Train/val error after epoch 56: 0.000000, 0.020000\n",
      "Train/val error after epoch 57: 0.000000, 0.019900\n",
      "Train/val error after epoch 58: 0.000000, 0.019700\n",
      "Train/val error after epoch 59: 0.000000, 0.019400\n",
      "Train/val error after epoch 60: 0.000000, 0.019700\n",
      "Train/val error after epoch 61: 0.000000, 0.020000\n",
      "Train/val error after epoch 62: 0.000000, 0.019300\n",
      "Train/val error after epoch 63: 0.000000, 0.019200\n",
      "Train/val error after epoch 64: 0.000000, 0.019700\n",
      "Train/val error after epoch 65: 0.000000, 0.019800\n",
      "Train/val error after epoch 66: 0.000000, 0.019500\n",
      "Train/val error after epoch 67: 0.000000, 0.019600\n",
      "Train/val error after epoch 68: 0.000000, 0.019600\n",
      "Train/val error after epoch 69: 0.000000, 0.019800\n",
      "Train/val error after epoch 70: 0.000000, 0.019400\n",
      "Train/val error after epoch 71: 0.000000, 0.019900\n",
      "Train/val error after epoch 72: 0.000000, 0.019400\n",
      "Train/val error after epoch 73: 0.000000, 0.019500\n",
      "Train/val error after epoch 74: 0.000000, 0.019500\n",
      "Train/val error after epoch 75: 0.000000, 0.019700\n",
      "Train/val error after epoch 76: 0.000000, 0.019600\n",
      "Train/val error after epoch 77: 0.000000, 0.019500\n",
      "Train/val error after epoch 78: 0.000000, 0.019700\n",
      "Train/val error after epoch 79: 0.000000, 0.019400\n",
      "Train/val error after epoch 80: 0.000000, 0.019500\n",
      "Train/val error after epoch 81: 0.000000, 0.019500\n",
      "Train/val error after epoch 82: 0.000000, 0.020000\n",
      "Train/val error after epoch 83: 0.000000, 0.019300\n",
      "Train/val error after epoch 84: 0.000000, 0.019700\n",
      "Train/val error after epoch 85: 0.000000, 0.019500\n",
      "Train/val error after epoch 86: 0.000000, 0.019900\n",
      "Train/val error after epoch 87: 0.000000, 0.019700\n",
      "Train/val error after epoch 88: 0.000000, 0.019600\n",
      "Train/val error after epoch 89: 0.000000, 0.019400\n",
      "Train/val error after epoch 90: 0.000000, 0.019600\n",
      "Train/val error after epoch 91: 0.000000, 0.019400\n",
      "Train/val error after epoch 92: 0.000000, 0.019400\n",
      "Train/val error after epoch 93: 0.000000, 0.019400\n",
      "Train/val error after epoch 94: 0.000000, 0.019400\n",
      "Train/val error after epoch 95: 0.000000, 0.019500\n",
      "Train/val error after epoch 96: 0.000000, 0.019400\n",
      "Train/val error after epoch 97: 0.000000, 0.019400\n",
      "Train/val error after epoch 98: 0.000000, 0.019800\n",
      "Train/val error after epoch 99: 0.000000, 0.019300\n",
      "Train/val cost after epoch 99: 0.000369, 0.098336\n",
      "Train/val error after epoch 99: 0.000000, 0.019300\n",
      "1355.1221671359963\n"
     ]
    }
   ],
   "source": [
    "from timeit import default_timer as timer\n",
    "\n",
    "### START YOUR CODE ### \n",
    "learning_rate = 0.1\n",
    "batchsize = 32\n",
    "nepochs = 100\n",
    "layersizes = [784,150,200,150,10]\n",
    "### END YOUR CODE ### \n",
    "\n",
    "mlp = MLP(layersizes, SigmoidActivationFunction(), NormInitializer(), True)\n",
    "ce = CrossEntropy()\n",
    "\n",
    "start = timer()\n",
    "metrics = optimize(mlp, ce, ds, nepochs, learning_rate, batchsize=batchsize, debug=True)\n",
    "end = timer()\n",
    "lapsetime = end-start\n",
    "print(lapsetime)\n"
   ]
  },
  {
   "cell_type": "code",
   "execution_count": 108,
   "metadata": {
    "ExecuteTime": {
     "end_time": "2021-04-06T22:34:45.558279Z",
     "start_time": "2021-04-06T22:34:44.931197Z"
    }
   },
   "outputs": [
    {
     "data": {
      "image/png": "[encoded data removed]",
      "text/plain": [
       "<Figure size 432x288 with 1 Axes>"
      ]
     },
     "metadata": {
      "needs_background": "light"
     },
     "output_type": "display_data"
    }
   ],
   "source": [
    "metrics.plot_cost_curves()"
   ]
  },
  {
   "cell_type": "code",
   "execution_count": 109,
   "metadata": {
    "ExecuteTime": {
     "end_time": "2021-04-06T22:34:45.741836Z",
     "start_time": "2021-04-06T22:34:45.576098Z"
    }
   },
   "outputs": [
    {
     "data": {
      "image/png": "[encoded data removed]",
      "text/plain": [
       "<Figure size 432x288 with 1 Axes>"
      ]
     },
     "metadata": {
      "needs_background": "light"
     },
     "output_type": "display_data"
    },
    {
     "name": "stdout",
     "output_type": "stream",
     "text": [
      "Train/val error after epoch 99: 0.000000, 0.019300\n"
     ]
    }
   ],
   "source": [
    "metrics.plot_error_curves(yrange=(0,0.1), logscale=False)\n",
    "metrics.print_latest_errors()"
   ]
  },
  {
   "cell_type": "markdown",
   "metadata": {},
   "source": [
    "### Performance of the final model on test dataset"
   ]
  },
  {
   "cell_type": "code",
   "execution_count": 110,
   "metadata": {
    "ExecuteTime": {
     "end_time": "2021-04-06T22:34:46.029198Z",
     "start_time": "2021-04-06T22:34:45.760940Z"
    }
   },
   "outputs": [
    {
     "name": "stdout",
     "output_type": "stream",
     "text": [
      "Test error: 0.2515 cost: 1.843774535954638\n"
     ]
    },
    {
     "name": "stderr",
     "output_type": "stream",
     "text": [
      "<ipython-input-87-482fd3ffdbda>:4: RuntimeWarning: overflow encountered in exp\n",
      "  return 1.0 / (1.0 + np.exp(-z))\n"
     ]
    }
   ],
   "source": [
    "### START YOUR CODE ### \n",
    "\n",
    "def error_rate(y, probs):\n",
    "    m = y.shape[1]\n",
    "    ypred = np.argmax(probs, axis=0).reshape(1,m)\n",
    "    rate = np.sum(y != ypred) / m\n",
    "    return rate \n",
    "    \n",
    "ypred_test = mlp.propagate(xtest)\n",
    "costs_test = ce.compute_value(ytest, ypred_test)\n",
    "error_test = error_rate(ytest, ypred_test)\n",
    "\n",
    "### END YOUR CODE ### \n",
    "print(\"Test error:\", error_test, \"cost:\", costs_test)"
   ]
  },
  {
   "cell_type": "markdown",
   "metadata": {},
   "source": [
    "### Evaluation Results\n",
    "\n",
    "The Shallow Network (using layersizes [150] from the exersice), has a better accuracy then the deep network (using layersizes [150, 200, 150, 50] from the exersice). That's certaintly not what we expected. In the deep network we see a high variance problem. So we try to reduce the batch size and changed the layersizes to [150,200,150].\n"
   ]
  },
  {
   "cell_type": "code",
   "execution_count": null,
   "metadata": {},
   "outputs": [],
   "source": []
  }
 ],
 "metadata": {
  "kernelspec": {
   "display_name": "Python 3",
   "language": "python",
   "name": "python3"
  },
  "language_info": {
   "codemirror_mode": {
    "name": "ipython",
    "version": 3
   },
   "file_extension": ".py",
   "mimetype": "text/x-python",
   "name": "python",
   "nbconvert_exporter": "python",
   "pygments_lexer": "ipython3",
   "version": "3.8.8"
  },
  "varInspector": {
   "cols": {
    "lenName": 16,
    "lenType": 16,
    "lenVar": 40
   },
   "kernels_config": {
    "python": {
     "delete_cmd_postfix": "",
     "delete_cmd_prefix": "del ",
     "library": "var_list.py",
     "varRefreshCmd": "print(var_dic_list())"
    },
    "r": {
     "delete_cmd_postfix": ") ",
     "delete_cmd_prefix": "rm(",
     "library": "var_list.r",
     "varRefreshCmd": "cat(var_dic_list()) "
    }
   },
   "types_to_exclude": [
    "module",
    "function",
    "builtin_function_or_method",
    "instance",
    "_Feature"
   ],
   "window_display": false
  }
 },
 "nbformat": 4,
 "nbformat_minor": 4
}
