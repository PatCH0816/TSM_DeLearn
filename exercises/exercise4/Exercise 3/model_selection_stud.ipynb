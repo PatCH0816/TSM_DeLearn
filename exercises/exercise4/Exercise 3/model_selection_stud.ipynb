{
 "cells": [
  {
   "cell_type": "markdown",
   "metadata": {},
   "source": [
    "# MNIST with sklearn\n",
    "\n",
    "The goal of this exercise is to \n",
    "* explore some of the sklearn functionality for training a MLP classifier (see https://scikit-learn.org/stable/modules/generated/sklearn.neural_network.MLPClassifier.html#sklearn.neural_network.MLPClassifier)  \n",
    "* by using cross validation \n",
    "* learn how to compute the confusion matrix and its derived quantities and how to interpret them\n",
    "* explore the test error as a function of the complexity (number of units, number of layers)\n",
    "* explore the impact of L2 regularisation\n",
    "\n",
    "__IMPORTANT REMARK__: We here follow the convention of sklearn to enumerate the samples with the first index. "
   ]
  },
  {
   "cell_type": "code",
   "execution_count": 33,
   "metadata": {
    "ExecuteTime": {
     "end_time": "2021-03-30T18:13:16.224326Z",
     "start_time": "2021-03-30T18:13:16.217706Z"
    }
   },
   "outputs": [],
   "source": [
    "import numpy as np\n",
    "import matplotlib\n",
    "import matplotlib.pyplot as plt\n",
    "from sklearn.datasets import fetch_openml\n",
    "from sklearn.model_selection import train_test_split"
   ]
  },
  {
   "cell_type": "markdown",
   "metadata": {},
   "source": [
    "## Load and prepare the data "
   ]
  },
  {
   "cell_type": "code",
   "execution_count": 34,
   "metadata": {
    "ExecuteTime": {
     "end_time": "2021-03-30T18:13:17.017064Z",
     "start_time": "2021-03-30T18:13:17.010578Z"
    }
   },
   "outputs": [],
   "source": [
    "datadir = 'data'"
   ]
  },
  {
   "cell_type": "code",
   "execution_count": 35,
   "metadata": {
    "ExecuteTime": {
     "end_time": "2021-03-30T18:13:17.437861Z",
     "start_time": "2021-03-30T18:13:17.431097Z"
    }
   },
   "outputs": [],
   "source": [
    "def normalize(x_train,x_test):\n",
    "    \"\"\"\n",
    "    Normalizes the pixels values of the images - mean and stdev are computed from the training set.\n",
    "    \n",
    "    Parameters:\n",
    "    x_train -- Array of training samples of shape (n,m1) where n,m1 are the number of features and samples, respectively.  \n",
    "    x_test -- Array of test samples of shape (n,m2) where n,m2 are the number of features and samples, respectively. \n",
    "    \n",
    "    Returns:\n",
    "    The arrays with the normalized train and test samples.  \n",
    "    \"\"\"\n",
    "    mean = np.mean(x_train)\n",
    "    std = np.std(x_train)\n",
    "    x_train -= mean\n",
    "    x_test -= mean\n",
    "    x_train /= std\n",
    "    x_test /= std\n",
    "    return x_train, x_test"
   ]
  },
  {
   "cell_type": "code",
   "execution_count": 36,
   "metadata": {
    "ExecuteTime": {
     "end_time": "2021-03-30T18:13:19.287783Z",
     "start_time": "2021-03-30T18:13:19.280312Z"
    }
   },
   "outputs": [],
   "source": [
    "# in case you have trouble with the fetch_openml, use this code\n",
    "import ssl\n",
    "ssl._create_default_https_context = ssl._create_unverified_context"
   ]
  },
  {
   "cell_type": "code",
   "execution_count": 37,
   "metadata": {
    "ExecuteTime": {
     "end_time": "2021-03-30T18:14:06.844181Z",
     "start_time": "2021-03-30T18:13:19.550317Z"
    }
   },
   "outputs": [],
   "source": [
    "x,y = fetch_openml('mnist_784', data_home=datadir, return_X_y=True)\n",
    "x_train0, x_test0, y_train, y_test = train_test_split(x, y, test_size=10000, random_state=1)\n",
    "x_train, x_test = normalize(x_train0, x_test0)"
   ]
  },
  {
   "cell_type": "markdown",
   "metadata": {},
   "source": [
    "## Specify Model Family and learn how to compute the metrics\n",
    "\n",
    "#### Model\n",
    "Use the functionality of scikit learn to configure a MLP and its training procedure with\n",
    "* hidden layers: 0-2 layers with suitable number of units per layer\n",
    "* mini-batch gradient descent with given batch_size (no advanced optimisers)\n",
    "* constant learning rate (no learning rate schedules)\n",
    "* number of epochs\n",
    "* no regularisation such as L2 penalty or early stopping\n",
    "\n",
    "#### Metrics\n",
    "Compute the train and test error resp. accuracy as well as the class precision, recall, f1-score.\n",
    "\n",
    "__See__:\n",
    "* https://scikit-learn.org/stable/modules/generated/sklearn.neural_network.MLPClassifier.html#sklearn.neural_network.MLPClassifier\n",
    "* https://scikit-learn.org/stable/modules/classes.html#module-sklearn.metrics"
   ]
  },
  {
   "cell_type": "markdown",
   "metadata": {},
   "source": [
    "## First Training Run\n",
    "\n",
    "Run the training and plot the training loss with a first set of values:\n",
    "* no hidden layers\n",
    "* mini-batchsize: 64\n",
    "* learning rate: 0.1\n",
    "* 100 epochs\n",
    "\n",
    "Compute the Metrics.\n",
    "Which digits are hard to predict?  "
   ]
  },
  {
   "cell_type": "markdown",
   "metadata": {},
   "source": [
    "#### MODEL"
   ]
  },
  {
   "cell_type": "code",
   "execution_count": 38,
   "metadata": {
    "ExecuteTime": {
     "end_time": "2021-03-30T18:15:08.086036Z",
     "start_time": "2021-03-30T18:14:06.911410Z"
    }
   },
   "outputs": [
    {
     "data": {
      "image/png": "[encoded data removed]",
      "text/plain": [
       "<Figure size 432x288 with 1 Axes>"
      ]
     },
     "metadata": {
      "needs_background": "light"
     },
     "output_type": "display_data"
    }
   ],
   "source": [
    "from sklearn.neural_network import MLPClassifier\n",
    "\n",
    "# Basic Hyperparameters\n",
    "hidden_layer_sizes = ()\n",
    "batch_size = 64\n",
    "learning_rate = 0.1\n",
    "nepochs = 100\n",
    "\n",
    "# Regularisation:\n",
    "alpha = 0.0 # L2 regularisation constant\n",
    "early_stopping = False\n",
    "n_iter_no_change = 10\n",
    "\n",
    "### START YOUR CODE ###\n",
    "# Model instantiation and training\n",
    "\n",
    "clf = MLPClassifier(hidden_layer_sizes=hidden_layer_sizes,\n",
    "                    alpha=alpha,\n",
    "                    batch_size=batch_size,\n",
    "                    learning_rate='constant',\n",
    "                    learning_rate_init=learning_rate,\n",
    "                    max_iter=nepochs,\n",
    "                    early_stopping=early_stopping,\n",
    "                    n_iter_no_change=n_iter_no_change,\n",
    "                    random_state=1\n",
    "                   )\n",
    "clf.fit(x_train, y_train)\n",
    "clf.predict_proba(x_test)\n",
    "\n",
    "# Plot loss curve\n",
    "\n",
    "plt.plot(clf.loss_curve_)\n",
    "plt.xlabel(\"Number of epochs\")\n",
    "plt.ylabel(\"Loss\")\n",
    "plt.show()\n",
    "\n",
    "### END YOUR CODE ###"
   ]
  },
  {
   "cell_type": "markdown",
   "metadata": {},
   "source": [
    "#### METRICS"
   ]
  },
  {
   "cell_type": "code",
   "execution_count": 40,
   "metadata": {
    "ExecuteTime": {
     "end_time": "2021-03-30T18:15:08.377769Z",
     "start_time": "2021-03-30T18:15:08.144106Z"
    }
   },
   "outputs": [
    {
     "name": "stdout",
     "output_type": "stream",
     "text": [
      "              precision    recall  f1-score   support\n",
      "\n",
      "           0       0.95      0.94      0.95       959\n",
      "           1       0.96      0.94      0.95      1186\n",
      "           2       0.91      0.89      0.90      1035\n",
      "           3       0.88      0.86      0.87      1031\n",
      "           4       0.80      0.95      0.87       941\n",
      "           5       0.86      0.84      0.85       930\n",
      "           6       0.92      0.94      0.93       942\n",
      "           7       0.90      0.92      0.91      1050\n",
      "           8       0.89      0.82      0.85       936\n",
      "           9       0.87      0.86      0.86       990\n",
      "\n",
      "    accuracy                           0.90     10000\n",
      "   macro avg       0.90      0.89      0.89     10000\n",
      "weighted avg       0.90      0.90      0.90     10000\n",
      "\n"
     ]
    }
   ],
   "source": [
    "### START YOUR CODE ###\n",
    "\n",
    "# train and test error, accuracy\n",
    "# per class accuracy, precision, f1 score\n",
    "\n",
    "from sklearn.metrics import classification_report\n",
    "\n",
    "ypred_test = clf.predict(x_test)\n",
    "print(classification_report(y_test, ypred_test))\n",
    "\n",
    "### END YOUR CODE ###"
   ]
  },
  {
   "cell_type": "markdown",
   "metadata": {},
   "source": [
    "## Best Model without Hidden Layer\n",
    "\n",
    "By first varying just the parameters \n",
    "* mini-batchsize\n",
    "* learning rate\n",
    "* epochs\n",
    "\n",
    "with adding any hidden layer.\n",
    "\n",
    "Summarize what the best combination of the abover hyper-parameters is."
   ]
  },
  {
   "cell_type": "code",
   "execution_count": 41,
   "metadata": {
    "ExecuteTime": {
     "end_time": "2021-03-30T18:25:16.733152Z",
     "start_time": "2021-03-30T18:15:08.401333Z"
    }
   },
   "outputs": [
    {
     "name": "stderr",
     "output_type": "stream",
     "text": [
      "/home/flo/.local/lib/python3.8/site-packages/sklearn/neural_network/_multilayer_perceptron.py:582: ConvergenceWarning: Stochastic Optimizer: Maximum iterations (10) reached and the optimization hasn't converged yet.\n",
      "  warnings.warn(\n"
     ]
    },
    {
     "data": {
      "text/plain": [
       "GridSearchCV(cv=StratifiedShuffleSplit(n_splits=3, random_state=None, test_size=None,\n",
       "            train_size=None),\n",
       "             estimator=MLPClassifier(alpha=0.0, batch_size=64,\n",
       "                                     hidden_layer_sizes=(),\n",
       "                                     learning_rate_init=0.1, max_iter=100,\n",
       "                                     random_state=1),\n",
       "             n_jobs=-1,\n",
       "             param_grid={'batch_size': [16, 32, 64],\n",
       "                         'learning_rate_init': [0.01, 0.05, 0.1],\n",
       "                         'max_iter': [10, 20, 40]})"
      ]
     },
     "execution_count": 41,
     "metadata": {},
     "output_type": "execute_result"
    }
   ],
   "source": [
    "### START YOUR CODE ###\n",
    "\n",
    "# Keep hidden_layer_sizes = () \n",
    "# Vary the following\n",
    "\n",
    "from sklearn.model_selection import StratifiedShuffleSplit, GridSearchCV\n",
    "\n",
    "param_grid  = dict(\n",
    "    batch_size = [16, 32, 64],\n",
    "    learning_rate_init = [0.01, 0.05, 0.1],\n",
    "    max_iter = [10, 20, 40]\n",
    ")\n",
    "\n",
    "cv = StratifiedShuffleSplit(n_splits=3)\n",
    "grid = GridSearchCV(clf, param_grid=param_grid, cv=cv,n_jobs=-1)\n",
    "grid.fit(x_train, y_train)\n",
    "\n",
    "### END YOUR CODE ###"
   ]
  },
  {
   "cell_type": "code",
   "execution_count": 42,
   "metadata": {
    "ExecuteTime": {
     "end_time": "2021-03-30T18:25:16.840856Z",
     "start_time": "2021-03-30T18:25:16.832254Z"
    }
   },
   "outputs": [
    {
     "name": "stdout",
     "output_type": "stream",
     "text": [
      "The best parameters are {'batch_size': 64, 'learning_rate_init': 0.01, 'max_iter': 10} with a score of 0.90\n"
     ]
    }
   ],
   "source": [
    "print(\"The best parameters are %s with a score of %0.2f\"\n",
    "      % (grid.best_params_, grid.best_score_))"
   ]
  },
  {
   "cell_type": "markdown",
   "metadata": {},
   "source": [
    "__BEST MODEL__ (no hidden layer)\n",
    "\n",
    "batch_size = 64\n",
    "\n",
    "learning_rate = 0.01\n",
    "\n",
    "nepochs = 10\n",
    "\n",
    "train / validation error : 0.10"
   ]
  },
  {
   "cell_type": "markdown",
   "metadata": {},
   "source": [
    "## Adding one Hidden layer\n",
    "\n",
    "Explore the performance of the model by varying the parameters \n",
    "* mini-batchsize\n",
    "* learning rate\n",
    "* epochs\n",
    "* complexity (number of units in the one hidden layer)\n",
    "\n",
    "For given complexity, summarize what the best combination of other hyper-parameters is - compute this for several complexities.\n",
    "\n",
    "Compute also the \"best\" train and validation error (or accuracy) for given complexity - as a function of the complexity and plot the curve (for selected number of units - e.g. 10 different values). \n"
   ]
  },
  {
   "cell_type": "code",
   "execution_count": 127,
   "metadata": {
    "ExecuteTime": {
     "end_time": "2021-03-30T20:21:32.839669Z",
     "start_time": "2021-03-30T20:18:01.525804Z"
    }
   },
   "outputs": [
    {
     "name": "stderr",
     "output_type": "stream",
     "text": [
      "/home/flo/.local/lib/python3.8/site-packages/sklearn/neural_network/_multilayer_perceptron.py:582: ConvergenceWarning: Stochastic Optimizer: Maximum iterations (20) reached and the optimization hasn't converged yet.\n",
      "  warnings.warn(\n",
      "/home/flo/.local/lib/python3.8/site-packages/sklearn/neural_network/_multilayer_perceptron.py:582: ConvergenceWarning: Stochastic Optimizer: Maximum iterations (20) reached and the optimization hasn't converged yet.\n",
      "  warnings.warn(\n",
      "/home/flo/.local/lib/python3.8/site-packages/sklearn/neural_network/_multilayer_perceptron.py:582: ConvergenceWarning: Stochastic Optimizer: Maximum iterations (20) reached and the optimization hasn't converged yet.\n",
      "  warnings.warn(\n",
      "/home/flo/.local/lib/python3.8/site-packages/sklearn/neural_network/_multilayer_perceptron.py:582: ConvergenceWarning: Stochastic Optimizer: Maximum iterations (20) reached and the optimization hasn't converged yet.\n",
      "  warnings.warn(\n",
      "/home/flo/.local/lib/python3.8/site-packages/sklearn/neural_network/_multilayer_perceptron.py:582: ConvergenceWarning: Stochastic Optimizer: Maximum iterations (20) reached and the optimization hasn't converged yet.\n",
      "  warnings.warn(\n"
     ]
    }
   ],
   "source": [
    "### START YOUR CODE ###\n",
    "\n",
    "# Keep hidden_layer_sizes = () \n",
    "# Vary the following\n",
    "\n",
    "hidden_layer_sizes = (100,) # just one layer \n",
    "batch_size = 64\n",
    "learning_rate = 0.1\n",
    "nepochs = 100\n",
    "\n",
    "from sklearn.model_selection import StratifiedShuffleSplit, GridSearchCV\n",
    "\n",
    "hidden_layer_sizes = [(20,), (40,), (60,), (80,), (100,), (120,), (140,), (160,), (180,), (200,)]\n",
    "\n",
    "param_grid  = dict(    \n",
    "    batch_size = [32, 64],\n",
    "    learning_rate_init = [0.01, 0.1],\n",
    "    max_iter = [20, 40]\n",
    ")\n",
    "\n",
    "best_scores=[]\n",
    "for hidden_layer_size in hidden_layer_sizes:\n",
    "    param_grid.update(hidden_layer_sizes = [hidden_layer_size])\n",
    "    cv = StratifiedShuffleSplit(n_splits=3)\n",
    "    grid = GridSearchCV(clf, param_grid=param_grid, cv=cv,n_jobs=-1)\n",
    "    grid.fit(x_train[:1000], y_train[:1000])\n",
    "    best_scores.append(dict(\n",
    "        hidden_layer_size = hidden_layer_size,\n",
    "        params = grid.best_params_,\n",
    "        error_rate = 1 - grid.best_score_\n",
    "    ))\n",
    "\n",
    "### END YOUR CODE ###"
   ]
  },
  {
   "cell_type": "markdown",
   "metadata": {},
   "source": [
    "__Error vs Complexity__:\n",
    "\n",
    "Plot with the train and test error vs complexity (number of units in the hidden layer)"
   ]
  },
  {
   "cell_type": "code",
   "execution_count": 128,
   "metadata": {
    "ExecuteTime": {
     "end_time": "2021-03-30T20:21:33.213908Z",
     "start_time": "2021-03-30T20:21:32.949779Z"
    }
   },
   "outputs": [
    {
     "data": {
      "image/png": "[encoded data removed]",
      "text/plain": [
       "<Figure size 432x288 with 1 Axes>"
      ]
     },
     "metadata": {
      "needs_background": "light"
     },
     "output_type": "display_data"
    },
    {
     "name": "stdout",
     "output_type": "stream",
     "text": [
      "The best parameters are {'batch_size': 32, 'hidden_layer_sizes': (80,), 'learning_rate_init': 0.01, 'max_iter': 40} with a score of 0.06\n"
     ]
    }
   ],
   "source": [
    "### START YOUR CODE ###\n",
    "import pandas as pd\n",
    "\n",
    "best_scores = pd.DataFrame(best_scores)\n",
    "\n",
    "plt.plot(best_scores['hidden_layer_size'].apply(lambda x: x[0]), best_scores['error_rate'])\n",
    "plt.xlabel(\"Hidden Layer Size\")\n",
    "plt.ylabel(\"Error\")\n",
    "plt.show()\n",
    "\n",
    "best_error = best_scores['error_rate'].min()\n",
    "best_params = best_scores[best_scores['error_rate']==best_error]['params'].values[0]\n",
    "print(\"The best parameters are %s with a score of %0.2f\"\n",
    "      % (best_params, best_error))\n",
    "\n",
    "### END YOUR CODE ###"
   ]
  },
  {
   "cell_type": "markdown",
   "metadata": {},
   "source": [
    "__BEST MODEL__ (one hidden layer)\n",
    "\n",
    "hidden_layer_sizes = (80,)\n",
    "\n",
    "batch_size = 32\n",
    "\n",
    "learning_rate = 0.01\n",
    "\n",
    "nepochs = 40\n",
    "\n",
    "train / validation error : 0.06\n"
   ]
  },
  {
   "cell_type": "markdown",
   "metadata": {},
   "source": [
    "## Impact of Regularisation\n",
    "\n",
    "Explore the Impact of Using L2 Regularisation (still adding just one hidden layer) again by varying mini-batchsize, learning rate, epochs, complexity.\n",
    "\n",
    "Can you reach a better best model performance (on validation set)?"
   ]
  },
  {
   "cell_type": "code",
   "execution_count": 129,
   "metadata": {
    "ExecuteTime": {
     "end_time": "2021-03-30T20:28:37.527790Z",
     "start_time": "2021-03-30T20:21:33.271919Z"
    }
   },
   "outputs": [
    {
     "name": "stderr",
     "output_type": "stream",
     "text": [
      "/home/flo/.local/lib/python3.8/site-packages/sklearn/neural_network/_multilayer_perceptron.py:582: ConvergenceWarning: Stochastic Optimizer: Maximum iterations (20) reached and the optimization hasn't converged yet.\n",
      "  warnings.warn(\n",
      "/home/flo/.local/lib/python3.8/site-packages/sklearn/neural_network/_multilayer_perceptron.py:582: ConvergenceWarning: Stochastic Optimizer: Maximum iterations (40) reached and the optimization hasn't converged yet.\n",
      "  warnings.warn(\n",
      "/home/flo/.local/lib/python3.8/site-packages/sklearn/neural_network/_multilayer_perceptron.py:582: ConvergenceWarning: Stochastic Optimizer: Maximum iterations (20) reached and the optimization hasn't converged yet.\n",
      "  warnings.warn(\n",
      "/home/flo/.local/lib/python3.8/site-packages/sklearn/neural_network/_multilayer_perceptron.py:582: ConvergenceWarning: Stochastic Optimizer: Maximum iterations (20) reached and the optimization hasn't converged yet.\n",
      "  warnings.warn(\n",
      "/home/flo/.local/lib/python3.8/site-packages/sklearn/neural_network/_multilayer_perceptron.py:582: ConvergenceWarning: Stochastic Optimizer: Maximum iterations (40) reached and the optimization hasn't converged yet.\n",
      "  warnings.warn(\n",
      "/home/flo/.local/lib/python3.8/site-packages/sklearn/neural_network/_multilayer_perceptron.py:582: ConvergenceWarning: Stochastic Optimizer: Maximum iterations (40) reached and the optimization hasn't converged yet.\n",
      "  warnings.warn(\n",
      "/home/flo/.local/lib/python3.8/site-packages/sklearn/neural_network/_multilayer_perceptron.py:582: ConvergenceWarning: Stochastic Optimizer: Maximum iterations (20) reached and the optimization hasn't converged yet.\n",
      "  warnings.warn(\n",
      "/home/flo/.local/lib/python3.8/site-packages/sklearn/neural_network/_multilayer_perceptron.py:582: ConvergenceWarning: Stochastic Optimizer: Maximum iterations (20) reached and the optimization hasn't converged yet.\n",
      "  warnings.warn(\n"
     ]
    }
   ],
   "source": [
    "### START YOUR CODE ###\n",
    "\n",
    "# Vary the following\n",
    "\n",
    "# Basic Hyperparameters\n",
    "hidden_layer_sizes = (100,)\n",
    "batch_size = 64\n",
    "learning_rate = 0.1\n",
    "nepochs = 100\n",
    "\n",
    "# Regularisation:\n",
    "alpha = 0.0 # L2 regularisation constant\n",
    "\n",
    "from sklearn.model_selection import StratifiedShuffleSplit, GridSearchCV\n",
    "\n",
    "hidden_layer_sizes = [(20,), (40,), (60,), (80,), (100,), (120,), (140,), (160,), (180,), (200,)]\n",
    "\n",
    "param_grid  = dict(\n",
    "    alpha = [0.01, 0.1],\n",
    "    batch_size = [32, 64],\n",
    "    learning_rate_init = [0.01, 0.1],\n",
    "    max_iter = [20, 40]\n",
    ")\n",
    "\n",
    "best_scores=[]\n",
    "for hidden_layer_size in hidden_layer_sizes:\n",
    "    param_grid.update(hidden_layer_sizes = [hidden_layer_size])\n",
    "    cv = StratifiedShuffleSplit(n_splits=3)\n",
    "    grid = GridSearchCV(clf, param_grid=param_grid, cv=cv,n_jobs=-1)\n",
    "    grid.fit(x_train[:1000], y_train[:1000])\n",
    "    best_scores.append(dict(\n",
    "        hidden_layer_size = hidden_layer_size,\n",
    "        params = grid.best_params_,\n",
    "        error_rate = 1 - grid.best_score_\n",
    "    ))\n",
    "\n",
    "### END YOUR CODE ###"
   ]
  },
  {
   "cell_type": "markdown",
   "metadata": {},
   "source": [
    "__Error vs Complexity__:\n",
    "\n",
    "Plot with the train and test error vs complexity (number of units in the hidden layer)"
   ]
  },
  {
   "cell_type": "code",
   "execution_count": 130,
   "metadata": {
    "ExecuteTime": {
     "end_time": "2021-03-30T20:28:37.792386Z",
     "start_time": "2021-03-30T20:28:37.584624Z"
    }
   },
   "outputs": [
    {
     "data": {
      "image/png": "[encoded data removed]",
      "text/plain": [
       "<Figure size 432x288 with 1 Axes>"
      ]
     },
     "metadata": {
      "needs_background": "light"
     },
     "output_type": "display_data"
    },
    {
     "name": "stdout",
     "output_type": "stream",
     "text": [
      "The best parameters are {'alpha': 0.01, 'batch_size': 64, 'hidden_layer_sizes': (100,), 'learning_rate_init': 0.01, 'max_iter': 40} with a score of 0.06\n"
     ]
    }
   ],
   "source": [
    "### START YOUR CODE ###\n",
    "\n",
    "import pandas as pd\n",
    "\n",
    "best_scores = pd.DataFrame(best_scores)\n",
    "\n",
    "plt.plot(best_scores['hidden_layer_size'].apply(lambda x: x[0]), best_scores['error_rate'])\n",
    "plt.xlabel(\"Hidden Layer Size\")\n",
    "plt.ylabel(\"Error\")\n",
    "plt.show()\n",
    "\n",
    "best_error = best_scores['error_rate'].min()\n",
    "best_params = best_scores[best_scores['error_rate']==best_error]['params'].values[0]\n",
    "print(\"The best parameters are %s with a score of %0.2f\"\n",
    "      % (best_params, best_error))\n",
    "\n",
    "### END YOUR CODE ###"
   ]
  },
  {
   "cell_type": "markdown",
   "metadata": {},
   "source": [
    "__BEST MODEL__ (one hidden layer)\n",
    "\n",
    "hidden_layer_sizes = (100,)\n",
    "\n",
    "batch_size = 64\n",
    "\n",
    "learning_rate = 0.01 \n",
    "\n",
    "nepochs = 40\n",
    "\n",
    "alpha = 0.01 # L2 regularisation constant\n",
    "\n",
    "train / validation error : 0.06"
   ]
  },
  {
   "cell_type": "markdown",
   "metadata": {},
   "source": [
    "## Adding up to 3 Hidden Layers\n",
    "\n",
    "Now consider using a model with more than one hidden layer (at max 3).\n"
   ]
  },
  {
   "cell_type": "code",
   "execution_count": 132,
   "metadata": {
    "ExecuteTime": {
     "end_time": "2021-03-30T20:37:24.093149Z",
     "start_time": "2021-03-30T20:30:15.065512Z"
    }
   },
   "outputs": [
    {
     "name": "stderr",
     "output_type": "stream",
     "text": [
      "/home/flo/.local/lib/python3.8/site-packages/sklearn/neural_network/_multilayer_perceptron.py:582: ConvergenceWarning: Stochastic Optimizer: Maximum iterations (20) reached and the optimization hasn't converged yet.\n",
      "  warnings.warn(\n",
      "/home/flo/.local/lib/python3.8/site-packages/sklearn/neural_network/_multilayer_perceptron.py:582: ConvergenceWarning: Stochastic Optimizer: Maximum iterations (20) reached and the optimization hasn't converged yet.\n",
      "  warnings.warn(\n",
      "/home/flo/.local/lib/python3.8/site-packages/sklearn/neural_network/_multilayer_perceptron.py:582: ConvergenceWarning: Stochastic Optimizer: Maximum iterations (40) reached and the optimization hasn't converged yet.\n",
      "  warnings.warn(\n",
      "/home/flo/.local/lib/python3.8/site-packages/sklearn/neural_network/_multilayer_perceptron.py:582: ConvergenceWarning: Stochastic Optimizer: Maximum iterations (20) reached and the optimization hasn't converged yet.\n",
      "  warnings.warn(\n",
      "/home/flo/.local/lib/python3.8/site-packages/sklearn/neural_network/_multilayer_perceptron.py:582: ConvergenceWarning: Stochastic Optimizer: Maximum iterations (20) reached and the optimization hasn't converged yet.\n",
      "  warnings.warn(\n",
      "/home/flo/.local/lib/python3.8/site-packages/sklearn/neural_network/_multilayer_perceptron.py:582: ConvergenceWarning: Stochastic Optimizer: Maximum iterations (20) reached and the optimization hasn't converged yet.\n",
      "  warnings.warn(\n",
      "/home/flo/.local/lib/python3.8/site-packages/sklearn/neural_network/_multilayer_perceptron.py:582: ConvergenceWarning: Stochastic Optimizer: Maximum iterations (40) reached and the optimization hasn't converged yet.\n",
      "  warnings.warn(\n",
      "/home/flo/.local/lib/python3.8/site-packages/sklearn/neural_network/_multilayer_perceptron.py:582: ConvergenceWarning: Stochastic Optimizer: Maximum iterations (20) reached and the optimization hasn't converged yet.\n",
      "  warnings.warn(\n"
     ]
    }
   ],
   "source": [
    "### START YOUR CODE ###\n",
    "\n",
    "# Vary the following\n",
    "\n",
    "# Basic Hyperparameters\n",
    "hidden_layer_sizes = (100,0,0)\n",
    "batch_size = 64\n",
    "learning_rate = 0.1\n",
    "nepochs = 100\n",
    "\n",
    "# Regularisation:\n",
    "alpha = 0.0 # L2 regularisation constant\n",
    "\n",
    "from sklearn.model_selection import StratifiedShuffleSplit, GridSearchCV\n",
    "\n",
    "hidden_layer_sizes = [\n",
    "    (20,40,),\n",
    "    (40,80,),\n",
    "    (60,120,),\n",
    "    (80,160,),\n",
    "    (100,200,),\n",
    "    (20,40,80),\n",
    "    (40,80,160),\n",
    "    (80,140,200),\n",
    "    (100,200,200),\n",
    "    (200,200,200),\n",
    "]\n",
    "\n",
    "param_grid  = dict(\n",
    "    alpha = [0.01, 0.1],\n",
    "    batch_size = [32, 64],\n",
    "    learning_rate_init = [0.01, 0.1],\n",
    "    max_iter = [20, 40]\n",
    ")\n",
    "\n",
    "best_scores=[]\n",
    "for hidden_layer_size in hidden_layer_sizes:\n",
    "    param_grid.update(hidden_layer_sizes = [hidden_layer_size])\n",
    "    cv = StratifiedShuffleSplit(n_splits=3)\n",
    "    grid = GridSearchCV(clf, param_grid=param_grid, cv=cv,n_jobs=-1)\n",
    "    grid.fit(x_train[:1000], y_train[:1000])\n",
    "    best_scores.append(dict(\n",
    "        hidden_layer_size = hidden_layer_size,\n",
    "        params = grid.best_params_,\n",
    "        error_rate = 1 - grid.best_score_\n",
    "    ))\n",
    "\n",
    "\n",
    "### END YOUR CODE ###"
   ]
  },
  {
   "cell_type": "markdown",
   "metadata": {},
   "source": [
    "__Error vs Complexity__:\n",
    "\n",
    "Plot with the train and test error vs complexity (number of units in the hidden layer)"
   ]
  },
  {
   "cell_type": "code",
   "execution_count": 133,
   "metadata": {
    "ExecuteTime": {
     "end_time": "2021-03-30T20:37:24.392951Z",
     "start_time": "2021-03-30T20:37:24.160794Z"
    }
   },
   "outputs": [
    {
     "data": {
      "image/png": "[encoded data removed]",
      "text/plain": [
       "<Figure size 432x288 with 1 Axes>"
      ]
     },
     "metadata": {
      "needs_background": "light"
     },
     "output_type": "display_data"
    },
    {
     "name": "stdout",
     "output_type": "stream",
     "text": [
      "The best parameters are {'alpha': 0.1, 'batch_size': 32, 'hidden_layer_sizes': (40, 80), 'learning_rate_init': 0.01, 'max_iter': 40} with a score of 0.09\n"
     ]
    }
   ],
   "source": [
    "### START YOUR CODE ###\n",
    "\n",
    "import pandas as pd\n",
    "\n",
    "best_scores = pd.DataFrame(best_scores)\n",
    "\n",
    "plt.plot(best_scores['hidden_layer_size'].apply(sum), best_scores['error_rate'])\n",
    "plt.xlabel(\"Hidden Layer Size\")\n",
    "plt.ylabel(\"Error\")\n",
    "plt.show()\n",
    "\n",
    "best_error = best_scores['error_rate'].min()\n",
    "best_params = best_scores[best_scores['error_rate']==best_error]['params'].values[0]\n",
    "print(\"The best parameters are %s with a score of %0.2f\"\n",
    "      % (best_params, best_error))\n",
    "\n",
    "\n",
    "### END YOUR CODE ###"
   ]
  },
  {
   "cell_type": "markdown",
   "metadata": {},
   "source": [
    "__BEST MODEL__ (1-3 hidden layers)\n",
    "\n",
    "hidden_layer_sizes = (40,80)\n",
    "\n",
    "batch_size = 32\n",
    "\n",
    "learning_rate = 0.01 \n",
    "\n",
    "nepochs = 40\n",
    "\n",
    "alpha = 0.1 # L2 regularisation constant\n",
    "\n",
    "train / validation error : 0.09"
   ]
  },
  {
   "cell_type": "markdown",
   "metadata": {},
   "source": [
    "## Test Performance of Best Model\n",
    "\n",
    "Test Error: "
   ]
  },
  {
   "cell_type": "code",
   "execution_count": 136,
   "metadata": {
    "ExecuteTime": {
     "end_time": "2021-03-30T20:40:33.036671Z",
     "start_time": "2021-03-30T20:39:15.827932Z"
    }
   },
   "outputs": [
    {
     "name": "stdout",
     "output_type": "stream",
     "text": [
      "              precision    recall  f1-score   support\n",
      "\n",
      "           0       0.95      0.96      0.96       959\n",
      "           1       0.95      0.98      0.97      1186\n",
      "           2       0.90      0.91      0.91      1035\n",
      "           3       0.87      0.85      0.86      1031\n",
      "           4       0.94      0.83      0.88       941\n",
      "           5       0.89      0.84      0.86       930\n",
      "           6       0.90      0.95      0.92       942\n",
      "           7       0.89      0.95      0.92      1050\n",
      "           8       0.93      0.85      0.89       936\n",
      "           9       0.82      0.91      0.86       990\n",
      "\n",
      "    accuracy                           0.90     10000\n",
      "   macro avg       0.91      0.90      0.90     10000\n",
      "weighted avg       0.91      0.90      0.90     10000\n",
      "\n"
     ]
    }
   ],
   "source": [
    "# Basic Hyperparameters\n",
    "hidden_layer_sizes = (40,80)\n",
    "batch_size = 32\n",
    "learning_rate = 0.01\n",
    "nepochs = 40\n",
    "\n",
    "# Regularisation:\n",
    "alpha = 0.1 # L2 regularisation constant\n",
    "early_stopping = True\n",
    "n_iter_no_change = 10\n",
    "\n",
    "### START YOUR CODE ###\n",
    "# Model instantiation and training\n",
    "\n",
    "clf = MLPClassifier(hidden_layer_sizes=hidden_layer_sizes,\n",
    "                    alpha=alpha,\n",
    "                    batch_size=batch_size,\n",
    "                    learning_rate='constant',\n",
    "                    learning_rate_init=learning_rate,\n",
    "                    max_iter=nepochs,\n",
    "                    early_stopping=early_stopping,\n",
    "                    n_iter_no_change=n_iter_no_change,\n",
    "                    random_state=1\n",
    "                   )\n",
    "clf.fit(x_train, y_train)\n",
    "ypred_test = clf.predict(x_test)\n",
    "print(classification_report(y_test, ypred_test))"
   ]
  },
  {
   "cell_type": "code",
   "execution_count": null,
   "metadata": {},
   "outputs": [],
   "source": []
  }
 ],
 "metadata": {
  "kernelspec": {
   "display_name": "Python 3",
   "language": "python",
   "name": "python3"
  },
  "language_info": {
   "codemirror_mode": {
    "name": "ipython",
    "version": 3
   },
   "file_extension": ".py",
   "mimetype": "text/x-python",
   "name": "python",
   "nbconvert_exporter": "python",
   "pygments_lexer": "ipython3",
   "version": "3.8.8"
  },
  "varInspector": {
   "cols": {
    "lenName": 16,
    "lenType": 16,
    "lenVar": 40
   },
   "kernels_config": {
    "python": {
     "delete_cmd_postfix": "",
     "delete_cmd_prefix": "del ",
     "library": "var_list.py",
     "varRefreshCmd": "print(var_dic_list())"
    },
    "r": {
     "delete_cmd_postfix": ") ",
     "delete_cmd_prefix": "rm(",
     "library": "var_list.r",
     "varRefreshCmd": "cat(var_dic_list()) "
    }
   },
   "types_to_exclude": [
    "module",
    "function",
    "builtin_function_or_method",
    "instance",
    "_Feature"
   ],
   "window_display": false
  }
 },
 "nbformat": 4,
 "nbformat_minor": 4
}
