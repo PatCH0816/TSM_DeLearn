{
 "cells": [
  {
   "cell_type": "markdown",
   "metadata": {},
   "source": [
    "# Sentiment Classification for IMDB Movie Reviews\n"
   ]
  },
  {
   "cell_type": "code",
   "execution_count": 1,
   "metadata": {},
   "outputs": [],
   "source": [
    "import pandas as pd\n",
    "import numpy as np\n",
    "import re\n",
    "import matplotlib.pyplot as plt\n",
    "\n",
    "import nltk\n",
    "from nltk.corpus import stopwords\n",
    "\n",
    "from sklearn.model_selection import train_test_split\n",
    "\n",
    "from numpy import array\n",
    "import tensorflow as tf\n",
    "from tensorflow.keras.preprocessing.text import one_hot\n",
    "from tensorflow.keras.preprocessing.sequence import pad_sequences\n",
    "from tensorflow.keras.models import Sequential\n",
    "from tensorflow.keras.layers import Flatten, Dense, Dropout, GlobalMaxPooling1D, Conv1D, SimpleRNN, LSTM\n",
    "from tensorflow.keras.layers import Embedding\n",
    "from tensorflow.keras.preprocessing.text import Tokenizer"
   ]
  },
  {
   "cell_type": "markdown",
   "metadata": {},
   "source": [
    "## Loading the Data"
   ]
  },
  {
   "cell_type": "markdown",
   "metadata": {},
   "source": [
    "You will need to load the reviews. These are provided in the zip.\n",
    "In addition, you will use pretrained embeddings (GloVe, 100d) which you need to download e.g. from https://nlp.stanford.edu/projects/glove/ ."
   ]
  },
  {
   "cell_type": "code",
   "execution_count": 2,
   "metadata": {},
   "outputs": [
    {
     "data": {
      "text/plain": [
       "(50000, 2)"
      ]
     },
     "execution_count": 2,
     "metadata": {},
     "output_type": "execute_result"
    }
   ],
   "source": [
    "movie_reviews = pd.read_csv(\"imdb_data/IMDB Dataset.csv\")\n",
    "movie_reviews.isnull().values.any()\n",
    "movie_reviews.shape"
   ]
  },
  {
   "cell_type": "code",
   "execution_count": 3,
   "metadata": {},
   "outputs": [
    {
     "data": {
      "text/html": [
       "<div>\n",
       "<style scoped>\n",
       "    .dataframe tbody tr th:only-of-type {\n",
       "        vertical-align: middle;\n",
       "    }\n",
       "\n",
       "    .dataframe tbody tr th {\n",
       "        vertical-align: top;\n",
       "    }\n",
       "\n",
       "    .dataframe thead th {\n",
       "        text-align: right;\n",
       "    }\n",
       "</style>\n",
       "<table border=\"1\" class=\"dataframe\">\n",
       "  <thead>\n",
       "    <tr style=\"text-align: right;\">\n",
       "      <th></th>\n",
       "      <th>review</th>\n",
       "      <th>sentiment</th>\n",
       "    </tr>\n",
       "  </thead>\n",
       "  <tbody>\n",
       "    <tr>\n",
       "      <th>0</th>\n",
       "      <td>One of the other reviewers has mentioned that ...</td>\n",
       "      <td>positive</td>\n",
       "    </tr>\n",
       "    <tr>\n",
       "      <th>1</th>\n",
       "      <td>A wonderful little production. &lt;br /&gt;&lt;br /&gt;The...</td>\n",
       "      <td>positive</td>\n",
       "    </tr>\n",
       "    <tr>\n",
       "      <th>2</th>\n",
       "      <td>I thought this was a wonderful way to spend ti...</td>\n",
       "      <td>positive</td>\n",
       "    </tr>\n",
       "    <tr>\n",
       "      <th>3</th>\n",
       "      <td>Basically there's a family where a little boy ...</td>\n",
       "      <td>negative</td>\n",
       "    </tr>\n",
       "    <tr>\n",
       "      <th>4</th>\n",
       "      <td>Petter Mattei's \"Love in the Time of Money\" is...</td>\n",
       "      <td>positive</td>\n",
       "    </tr>\n",
       "  </tbody>\n",
       "</table>\n",
       "</div>"
      ],
      "text/plain": [
       "                                              review sentiment\n",
       "0  One of the other reviewers has mentioned that ...  positive\n",
       "1  A wonderful little production. <br /><br />The...  positive\n",
       "2  I thought this was a wonderful way to spend ti...  positive\n",
       "3  Basically there's a family where a little boy ...  negative\n",
       "4  Petter Mattei's \"Love in the Time of Money\" is...  positive"
      ]
     },
     "execution_count": 3,
     "metadata": {},
     "output_type": "execute_result"
    }
   ],
   "source": [
    "movie_reviews.head()"
   ]
  },
  {
   "cell_type": "code",
   "execution_count": 4,
   "metadata": {},
   "outputs": [
    {
     "data": {
      "text/plain": [
       "\"Basically there's a family where a little boy (Jake) thinks there's a zombie in his closet & his parents are fighting all the time.<br /><br />This movie is slower than a soap opera... and suddenly, Jake decides to become Rambo and kill the zombie.<br /><br />OK, first of all when you're going to make a film you must Decide if its a thriller or a drama! As a drama the movie is watchable. Parents are divorcing & arguing like in real life. And then we have Jake with his closet which totally ruins all the film! I expected to see a BOOGEYMAN similar movie, and instead i watched a drama with some meaningless thriller spots.<br /><br />3 out of 10 just for the well playing parents & descent dialogs. As for the shots with Jake: just ignore them.\""
      ]
     },
     "execution_count": 4,
     "metadata": {},
     "output_type": "execute_result"
    }
   ],
   "source": [
    "movie_reviews[\"review\"][3]"
   ]
  },
  {
   "cell_type": "code",
   "execution_count": 5,
   "metadata": {},
   "outputs": [
    {
     "data": {
      "text/plain": [
       "<AxesSubplot:xlabel='sentiment', ylabel='count'>"
      ]
     },
     "execution_count": 5,
     "metadata": {},
     "output_type": "execute_result"
    },
    {
     "data": {
      "image/png": "[encoded data removed]",
      "text/plain": [
       "<Figure size 432x288 with 1 Axes>"
      ]
     },
     "metadata": {
      "needs_background": "light"
     },
     "output_type": "display_data"
    }
   ],
   "source": [
    "import seaborn as sns\n",
    "sns.countplot(x='sentiment', data=movie_reviews)\n"
   ]
  },
  {
   "cell_type": "markdown",
   "metadata": {},
   "source": [
    "## Preprocessing\n",
    "\n",
    "__Prepare the review content__:\n",
    "\n",
    "Remove \n",
    "* html tags\n",
    "* replace punctuation with a space\n",
    "* remove single characters\n",
    "* remove multiple spaces\n",
    "\n",
    "Split into train/test.\n",
    "\n",
    "Tokenize the reviews - i.e. mapping the words to integers by using a vocabulary of the most frequent words.\n",
    "\n",
    "Cut and pad the sequences to a given fixed length."
   ]
  },
  {
   "cell_type": "code",
   "execution_count": 6,
   "metadata": {},
   "outputs": [],
   "source": [
    "num_words = 5000\n",
    "maxlen = 100"
   ]
  },
  {
   "cell_type": "code",
   "execution_count": 7,
   "metadata": {},
   "outputs": [],
   "source": [
    "TAG_RE = re.compile(r'<[^>]+>')\n",
    "\n",
    "def remove_tags(text):\n",
    "    return TAG_RE.sub('', text)"
   ]
  },
  {
   "cell_type": "code",
   "execution_count": 8,
   "metadata": {},
   "outputs": [],
   "source": [
    "def preprocess_text(sen):\n",
    "    # Removing html tags\n",
    "    sentence = remove_tags(sen)\n",
    "\n",
    "    # Remove punctuations and numbers\n",
    "    sentence = re.sub('[^a-zA-Z]', ' ', sentence)\n",
    "\n",
    "    # Single character removal\n",
    "    sentence = re.sub(r\"\\s+[a-zA-Z]\\s+\", ' ', sentence)\n",
    "\n",
    "    # Removing multiple spaces\n",
    "    sentence = re.sub(r'\\s+', ' ', sentence)\n",
    "\n",
    "    return sentence\n"
   ]
  },
  {
   "cell_type": "code",
   "execution_count": 9,
   "metadata": {},
   "outputs": [],
   "source": [
    "X = []\n",
    "sentences = list(movie_reviews['review'])\n",
    "for sen in sentences:\n",
    "    X.append(preprocess_text(sen))"
   ]
  },
  {
   "cell_type": "markdown",
   "metadata": {},
   "source": [
    "Now the above sample review looks as follows - e.g. in teh first sentence, \"there's a zombie\" is replaced by just \"there a zombie\""
   ]
  },
  {
   "cell_type": "code",
   "execution_count": 10,
   "metadata": {},
   "outputs": [
    {
     "data": {
      "text/plain": [
       "'Basically there a family where little boy Jake thinks there a zombie in his closet his parents are fighting all the time This movie is slower than soap opera and suddenly Jake decides to become Rambo and kill the zombie OK first of all when you re going to make film you must Decide if its thriller or drama As drama the movie is watchable Parents are divorcing arguing like in real life And then we have Jake with his closet which totally ruins all the film expected to see BOOGEYMAN similar movie and instead watched drama with some meaningless thriller spots out of just for the well playing parents descent dialogs As for the shots with Jake just ignore them '"
      ]
     },
     "execution_count": 10,
     "metadata": {},
     "output_type": "execute_result"
    }
   ],
   "source": [
    "X[3]"
   ]
  },
  {
   "cell_type": "markdown",
   "metadata": {},
   "source": [
    "__Prepare the labels__"
   ]
  },
  {
   "cell_type": "code",
   "execution_count": 11,
   "metadata": {},
   "outputs": [],
   "source": [
    "y = movie_reviews['sentiment']\n",
    "y = np.array(list(map(lambda x: 1 if x==\"positive\" else 0, y)))"
   ]
  },
  {
   "cell_type": "markdown",
   "metadata": {},
   "source": [
    "__Split into train/test__"
   ]
  },
  {
   "cell_type": "code",
   "execution_count": 12,
   "metadata": {},
   "outputs": [],
   "source": [
    "X_train, X_test, y_train, y_test = train_test_split(X, y, test_size=0.20, random_state=42)"
   ]
  },
  {
   "cell_type": "markdown",
   "metadata": {},
   "source": [
    "__Tokenize__"
   ]
  },
  {
   "cell_type": "code",
   "execution_count": 13,
   "metadata": {},
   "outputs": [],
   "source": [
    "tokenizer = Tokenizer(num_words=num_words)\n",
    "tokenizer.fit_on_texts(X_train)\n",
    "\n",
    "X_train = tokenizer.texts_to_sequences(X_train)\n",
    "X_test = tokenizer.texts_to_sequences(X_test)"
   ]
  },
  {
   "cell_type": "code",
   "execution_count": 14,
   "metadata": {},
   "outputs": [
    {
     "name": "stdout",
     "output_type": "stream",
     "text": [
      "Tokenizer has found 92547 words. When transforming texts to sequences words that have an index above 5000 are just ignored.\n"
     ]
    }
   ],
   "source": [
    "vocab_size = len(tokenizer.word_index) + 1\n",
    "print(\"Tokenizer has found %i words. When transforming texts to sequences words that have an index above %i are just ignored.\"%(vocab_size, num_words))"
   ]
  },
  {
   "cell_type": "code",
   "execution_count": 15,
   "metadata": {},
   "outputs": [
    {
     "name": "stdout",
     "output_type": "stream",
     "text": [
      "the : 1\n",
      "and : 2\n",
      "of : 3\n",
      "to : 4\n",
      "is : 5\n",
      "it : 6\n",
      "secretly : 4999\n",
      "joins : 5000\n",
      "shattering : 10000\n"
     ]
    }
   ],
   "source": [
    "indices = [0,1,2,3,4,5,6,4999,5000,10000]\n",
    "for word, index in tokenizer.word_index.items():\n",
    "    if index in indices:\n",
    "        print(\"%s : %i\"%(word,index))"
   ]
  },
  {
   "cell_type": "code",
   "execution_count": 16,
   "metadata": {},
   "outputs": [
    {
     "data": {
      "text/plain": [
       "[[8, 5]]"
      ]
     },
     "execution_count": 16,
     "metadata": {},
     "output_type": "execute_result"
    }
   ],
   "source": [
    "tokenizer.texts_to_sequences([\"This is %s.\"%tokenizer.index_word[10000]])"
   ]
  },
  {
   "cell_type": "markdown",
   "metadata": {},
   "source": [
    "__Cutting and Padding__"
   ]
  },
  {
   "cell_type": "code",
   "execution_count": 17,
   "metadata": {},
   "outputs": [],
   "source": [
    "X_train = pad_sequences(X_train, padding='post', maxlen=maxlen)\n",
    "X_test = pad_sequences(X_test, padding='post', maxlen=maxlen)"
   ]
  },
  {
   "cell_type": "markdown",
   "metadata": {},
   "source": [
    "### Utility"
   ]
  },
  {
   "cell_type": "code",
   "execution_count": 18,
   "metadata": {},
   "outputs": [],
   "source": [
    "def performance_plots(model, X_test, Y_test, log, epochs):    \n",
    "    acc = log.history['accuracy']\n",
    "    val_acc = log.history['val_accuracy']\n",
    "    print('Train accuracy (end):', acc[-1])\n",
    "    print('Train accuracy (max):', np.max(acc))\n",
    "    print('Test accuracy (end) :', val_acc[-1])\n",
    "    print('Test accuracy (max) :', np.max(val_acc))\n",
    "\n",
    "    plt.plot(log.history['accuracy'])\n",
    "    plt.plot(log.history['val_accuracy'])\n",
    "    plt.title('model accuracy')\n",
    "    plt.ylabel('accuracy')\n",
    "    plt.xlabel('epoch')\n",
    "    plt.legend(['train','test'], loc='upper left')\n",
    "    plt.axis([0,epochs,0.0,1.0])\n",
    "    plt.show()\n",
    "\n",
    "    plt.plot(log.history['loss'])\n",
    "    plt.plot(log.history['val_loss'])\n",
    "    plt.title('model loss')\n",
    "    plt.ylabel('loss')\n",
    "    plt.xlabel('epoch')\n",
    "    plt.legend(['train','test'], loc = 'upper left')\n",
    "    plt.axis([0,epochs,0.0,2.0])\n",
    "    plt.show()"
   ]
  },
  {
   "cell_type": "code",
   "execution_count": 19,
   "metadata": {},
   "outputs": [],
   "source": [
    "import sklearn\n",
    "import pandas as pd\n",
    "activities = [\"neg\", \"pos\"]\n",
    "\n",
    "def confusion_matrix(model, X_test, Y_test):\n",
    "    scores = model.predict(X_test)\n",
    "    predictions = np.round(scores)\n",
    "    labels = Y_test\n",
    "    cm = sklearn.metrics.confusion_matrix(labels, predictions)\n",
    "    df = pd.DataFrame({activities[i] : cm[:,i] for i in range(len(activities))}, activities)\n",
    "    return df"
   ]
  },
  {
   "cell_type": "markdown",
   "metadata": {},
   "source": [
    "## A First Simple Model: Just an embedding layer and a dense layer "
   ]
  },
  {
   "cell_type": "code",
   "execution_count": 20,
   "metadata": {},
   "outputs": [
    {
     "name": "stdout",
     "output_type": "stream",
     "text": [
      "Model: \"sequential\"\n",
      "_________________________________________________________________\n",
      "Layer (type)                 Output Shape              Param #   \n",
      "=================================================================\n",
      "embedding (Embedding)        (None, 100, 32)           2961504   \n",
      "_________________________________________________________________\n",
      "flatten (Flatten)            (None, 3200)              0         \n",
      "_________________________________________________________________\n",
      "dense (Dense)                (None, 1)                 3201      \n",
      "=================================================================\n",
      "Total params: 2,964,705\n",
      "Trainable params: 2,964,705\n",
      "Non-trainable params: 0\n",
      "_________________________________________________________________\n",
      "None\n"
     ]
    }
   ],
   "source": [
    "# START YOUR CODE\n",
    "\n",
    "nepochs = 10\n",
    "embedding_dim = 32\n",
    "batchsize = 32\n",
    "\n",
    "model = Sequential()\n",
    "model.add(Embedding(vocab_size, embedding_dim, input_length=maxlen))\n",
    "model.add(Flatten())\n",
    "model.add(Dense(1, activation='sigmoid'))\n",
    "\n",
    "model.compile(loss='binary_crossentropy',\n",
    "              optimizer='adam', \n",
    "              metrics=['accuracy'])\n",
    "\n",
    "# END YOUR CODE\n",
    "\n",
    "print(model.summary())"
   ]
  },
  {
   "cell_type": "code",
   "execution_count": 21,
   "metadata": {},
   "outputs": [
    {
     "name": "stdout",
     "output_type": "stream",
     "text": [
      "Epoch 1/10\n",
      "1250/1250 [==============================] - 18s 15ms/step - loss: 0.5450 - accuracy: 0.7056 - val_loss: 0.3096 - val_accuracy: 0.8632\n",
      "Epoch 2/10\n",
      "1250/1250 [==============================] - 18s 14ms/step - loss: 0.2666 - accuracy: 0.8918 - val_loss: 0.3123 - val_accuracy: 0.8640\n",
      "Epoch 3/10\n",
      "1250/1250 [==============================] - 18s 14ms/step - loss: 0.1931 - accuracy: 0.9305 - val_loss: 0.3328 - val_accuracy: 0.8553\n",
      "Epoch 4/10\n",
      "1250/1250 [==============================] - 18s 14ms/step - loss: 0.1153 - accuracy: 0.9710 - val_loss: 0.3679 - val_accuracy: 0.8495\n",
      "Epoch 5/10\n",
      "1250/1250 [==============================] - 18s 14ms/step - loss: 0.0553 - accuracy: 0.9936 - val_loss: 0.4074 - val_accuracy: 0.8437\n",
      "Epoch 6/10\n",
      "1250/1250 [==============================] - 18s 14ms/step - loss: 0.0250 - accuracy: 0.9991 - val_loss: 0.4569 - val_accuracy: 0.8453\n",
      "Epoch 7/10\n",
      "1250/1250 [==============================] - 18s 14ms/step - loss: 0.0113 - accuracy: 0.9999 - val_loss: 0.5060 - val_accuracy: 0.8462\n",
      "Epoch 8/10\n",
      "1250/1250 [==============================] - 18s 14ms/step - loss: 0.0052 - accuracy: 1.0000 - val_loss: 0.5577 - val_accuracy: 0.8437\n",
      "Epoch 9/10\n",
      "1250/1250 [==============================] - 18s 14ms/step - loss: 0.0025 - accuracy: 1.0000 - val_loss: 0.6067 - val_accuracy: 0.8453\n",
      "Epoch 10/10\n",
      "1250/1250 [==============================] - 18s 14ms/step - loss: 0.0013 - accuracy: 1.0000 - val_loss: 0.6574 - val_accuracy: 0.8444\n"
     ]
    }
   ],
   "source": [
    "history = model.fit(X_train, y_train, batch_size=batchsize, epochs=nepochs, verbose=1, validation_data=(X_test, y_test))"
   ]
  },
  {
   "cell_type": "code",
   "execution_count": 22,
   "metadata": {},
   "outputs": [
    {
     "name": "stdout",
     "output_type": "stream",
     "text": [
      "Train accuracy (end): 1.0\n",
      "Train accuracy (max): 1.0\n",
      "Test accuracy (end) : 0.8443999886512756\n",
      "Test accuracy (max) : 0.8640000224113464\n"
     ]
    },
    {
     "data": {
      "image/png": "[encoded data removed]",
      "text/plain": [
       "<Figure size 432x288 with 1 Axes>"
      ]
     },
     "metadata": {
      "needs_background": "light"
     },
     "output_type": "display_data"
    },
    {
     "data": {
      "image/png": "[encoded data removed]",
      "text/plain": [
       "<Figure size 432x288 with 1 Axes>"
      ]
     },
     "metadata": {
      "needs_background": "light"
     },
     "output_type": "display_data"
    },
    {
     "data": {
      "text/html": [
       "<div>\n",
       "<style scoped>\n",
       "    .dataframe tbody tr th:only-of-type {\n",
       "        vertical-align: middle;\n",
       "    }\n",
       "\n",
       "    .dataframe tbody tr th {\n",
       "        vertical-align: top;\n",
       "    }\n",
       "\n",
       "    .dataframe thead th {\n",
       "        text-align: right;\n",
       "    }\n",
       "</style>\n",
       "<table border=\"1\" class=\"dataframe\">\n",
       "  <thead>\n",
       "    <tr style=\"text-align: right;\">\n",
       "      <th></th>\n",
       "      <th>neg</th>\n",
       "      <th>pos</th>\n",
       "    </tr>\n",
       "  </thead>\n",
       "  <tbody>\n",
       "    <tr>\n",
       "      <th>neg</th>\n",
       "      <td>4154</td>\n",
       "      <td>807</td>\n",
       "    </tr>\n",
       "    <tr>\n",
       "      <th>pos</th>\n",
       "      <td>749</td>\n",
       "      <td>4290</td>\n",
       "    </tr>\n",
       "  </tbody>\n",
       "</table>\n",
       "</div>"
      ],
      "text/plain": [
       "      neg   pos\n",
       "neg  4154   807\n",
       "pos   749  4290"
      ]
     },
     "execution_count": 22,
     "metadata": {},
     "output_type": "execute_result"
    }
   ],
   "source": [
    "performance_plots(model, X_test, y_test, history, nepochs)\n",
    "confusion_matrix(model, X_test, y_test)"
   ]
  },
  {
   "cell_type": "markdown",
   "metadata": {},
   "source": [
    "We easily get into the overfitting regime since we have a huge amount of parameters."
   ]
  },
  {
   "cell_type": "markdown",
   "metadata": {},
   "source": [
    "## Using GloVe as pretrained embedding"
   ]
  },
  {
   "cell_type": "code",
   "execution_count": 23,
   "metadata": {},
   "outputs": [],
   "source": [
    "embeddings_dictionary = dict()\n",
    "glove_file = open('./glove.6B.100d.txt', encoding=\"utf8\")\n",
    "\n",
    "for line in glove_file:\n",
    "    records = line.split()\n",
    "    word = records[0]\n",
    "    vector_dimensions = np.asarray(records[1:], dtype='float32')\n",
    "    embeddings_dictionary [word] = vector_dimensions\n",
    "glove_file.close()"
   ]
  },
  {
   "cell_type": "code",
   "execution_count": 24,
   "metadata": {},
   "outputs": [],
   "source": [
    "embedding_matrix = np.zeros((num_words, maxlen))\n",
    "for word, index in tokenizer.word_index.items():\n",
    "    embedding_vector = embeddings_dictionary.get(word)\n",
    "    if embedding_vector is not None and index<num_words:\n",
    "        embedding_matrix[index] = embedding_vector"
   ]
  },
  {
   "cell_type": "code",
   "execution_count": 25,
   "metadata": {},
   "outputs": [
    {
     "name": "stdout",
     "output_type": "stream",
     "text": [
      "Model: \"sequential_1\"\n",
      "_________________________________________________________________\n",
      "Layer (type)                 Output Shape              Param #   \n",
      "=================================================================\n",
      "embedding_1 (Embedding)      (None, 100, 100)          500000    \n",
      "_________________________________________________________________\n",
      "flatten_1 (Flatten)          (None, 10000)             0         \n",
      "_________________________________________________________________\n",
      "dense_1 (Dense)              (None, 1)                 10001     \n",
      "=================================================================\n",
      "Total params: 510,001\n",
      "Trainable params: 10,001\n",
      "Non-trainable params: 500,000\n",
      "_________________________________________________________________\n",
      "None\n"
     ]
    }
   ],
   "source": [
    "# START YOUR CODE\n",
    "nepochs = 10\n",
    "embedding_dim = 100\n",
    "batchsize = 32\n",
    "embedding_layer = Embedding(num_words, embedding_dim, weights=[embedding_matrix], input_length=maxlen, trainable=False)\n",
    "\n",
    "model = Sequential()\n",
    "model.add(embedding_layer)\n",
    "model.add(Flatten())\n",
    "model.add(Dense(1, activation='sigmoid'))\n",
    "\n",
    "model.compile(loss='binary_crossentropy',\n",
    "             optimizer='adam',\n",
    "             metrics=['accuracy'])\n",
    "\n",
    "# START YOUR CODE\n",
    "\n",
    "print(model.summary())"
   ]
  },
  {
   "cell_type": "code",
   "execution_count": 26,
   "metadata": {},
   "outputs": [
    {
     "name": "stdout",
     "output_type": "stream",
     "text": [
      "Epoch 1/10\n",
      "1250/1250 [==============================] - 2s 1ms/step - loss: 0.6269 - accuracy: 0.6597 - val_loss: 0.5420 - val_accuracy: 0.7364\n",
      "Epoch 2/10\n",
      "1250/1250 [==============================] - 2s 2ms/step - loss: 0.4802 - accuracy: 0.7750 - val_loss: 0.6551 - val_accuracy: 0.6948\n",
      "Epoch 3/10\n",
      "1250/1250 [==============================] - 2s 2ms/step - loss: 0.4494 - accuracy: 0.7924 - val_loss: 0.5962 - val_accuracy: 0.7258\n",
      "Epoch 4/10\n",
      "1250/1250 [==============================] - 2s 2ms/step - loss: 0.4306 - accuracy: 0.8036 - val_loss: 0.6006 - val_accuracy: 0.7289\n",
      "Epoch 5/10\n",
      "1250/1250 [==============================] - 3s 2ms/step - loss: 0.4151 - accuracy: 0.8111 - val_loss: 0.5965 - val_accuracy: 0.7302\n",
      "Epoch 6/10\n",
      "1250/1250 [==============================] - 2s 2ms/step - loss: 0.4171 - accuracy: 0.8106 - val_loss: 0.6244 - val_accuracy: 0.7328\n",
      "Epoch 7/10\n",
      "1250/1250 [==============================] - 2s 2ms/step - loss: 0.4023 - accuracy: 0.8207 - val_loss: 0.6128 - val_accuracy: 0.7275\n",
      "Epoch 8/10\n",
      "1250/1250 [==============================] - 2s 2ms/step - loss: 0.4031 - accuracy: 0.8189 - val_loss: 0.6349 - val_accuracy: 0.7296\n",
      "Epoch 9/10\n",
      "1250/1250 [==============================] - 2s 2ms/step - loss: 0.3921 - accuracy: 0.8236 - val_loss: 0.6262 - val_accuracy: 0.7290\n",
      "Epoch 10/10\n",
      "1250/1250 [==============================] - 2s 2ms/step - loss: 0.3875 - accuracy: 0.8253 - val_loss: 0.6389 - val_accuracy: 0.7307\n"
     ]
    }
   ],
   "source": [
    "history = model.fit(X_train, y_train, batch_size=batchsize, epochs=nepochs, verbose=1, validation_data=(X_test, y_test))"
   ]
  },
  {
   "cell_type": "code",
   "execution_count": 27,
   "metadata": {},
   "outputs": [
    {
     "name": "stdout",
     "output_type": "stream",
     "text": [
      "Train accuracy (end): 0.8131999969482422\n",
      "Train accuracy (max): 0.8131999969482422\n",
      "Test accuracy (end) : 0.7307000160217285\n",
      "Test accuracy (max) : 0.7364000082015991\n"
     ]
    },
    {
     "data": {
      "image/png": "[encoded data removed]",
      "text/plain": [
       "<Figure size 432x288 with 1 Axes>"
      ]
     },
     "metadata": {
      "needs_background": "light"
     },
     "output_type": "display_data"
    },
    {
     "data": {
      "image/png": "[encoded data removed]",
      "text/plain": [
       "<Figure size 432x288 with 1 Axes>"
      ]
     },
     "metadata": {
      "needs_background": "light"
     },
     "output_type": "display_data"
    },
    {
     "data": {
      "text/html": [
       "<div>\n",
       "<style scoped>\n",
       "    .dataframe tbody tr th:only-of-type {\n",
       "        vertical-align: middle;\n",
       "    }\n",
       "\n",
       "    .dataframe tbody tr th {\n",
       "        vertical-align: top;\n",
       "    }\n",
       "\n",
       "    .dataframe thead th {\n",
       "        text-align: right;\n",
       "    }\n",
       "</style>\n",
       "<table border=\"1\" class=\"dataframe\">\n",
       "  <thead>\n",
       "    <tr style=\"text-align: right;\">\n",
       "      <th></th>\n",
       "      <th>neg</th>\n",
       "      <th>pos</th>\n",
       "    </tr>\n",
       "  </thead>\n",
       "  <tbody>\n",
       "    <tr>\n",
       "      <th>neg</th>\n",
       "      <td>3640</td>\n",
       "      <td>1321</td>\n",
       "    </tr>\n",
       "    <tr>\n",
       "      <th>pos</th>\n",
       "      <td>1372</td>\n",
       "      <td>3667</td>\n",
       "    </tr>\n",
       "  </tbody>\n",
       "</table>\n",
       "</div>"
      ],
      "text/plain": [
       "      neg   pos\n",
       "neg  3640  1321\n",
       "pos  1372  3667"
      ]
     },
     "execution_count": 27,
     "metadata": {},
     "output_type": "execute_result"
    }
   ],
   "source": [
    "performance_plots(model, X_test, y_test, history, nepochs)\n",
    "confusion_matrix(model, X_test, y_test)"
   ]
  },
  {
   "cell_type": "code",
   "execution_count": null,
   "metadata": {},
   "outputs": [],
   "source": [
    "model.evaluate(X_test, y_test)"
   ]
  },
  {
   "cell_type": "markdown",
   "metadata": {},
   "source": [
    "## Further Model / Hyper Parameter Combinations\n",
    "\n",
    "Examples:\n",
    "\n",
    "* Pretrained embedding (with GloVe), possibly fine-tuned\n",
    "* dito + (SimpleRNN | LSTM | GRU | Conv1D)\n",
    "* dito + stacked layers\n",
    "\n",
    "For each combination, specify a cell with the model specification, one with the training and one with the evaluation (use for the latter the utilities provided).  \n"
   ]
  },
  {
   "cell_type": "code",
   "execution_count": 42,
   "metadata": {},
   "outputs": [
    {
     "name": "stdout",
     "output_type": "stream",
     "text": [
      "Model: \"sequential_8\"\n",
      "_________________________________________________________________\n",
      "Layer (type)                 Output Shape              Param #   \n",
      "=================================================================\n",
      "embedding_1 (Embedding)      (None, 100, 100)          500000    \n",
      "_________________________________________________________________\n",
      "simple_rnn_5 (SimpleRNN)     (None, 32)                4256      \n",
      "_________________________________________________________________\n",
      "flatten_7 (Flatten)          (None, 32)                0         \n",
      "_________________________________________________________________\n",
      "dense_7 (Dense)              (None, 1)                 33        \n",
      "=================================================================\n",
      "Total params: 504,289\n",
      "Trainable params: 4,289\n",
      "Non-trainable params: 500,000\n",
      "_________________________________________________________________\n",
      "None\n"
     ]
    }
   ],
   "source": [
    "model = Sequential()\n",
    "model.add(embedding_layer)\n",
    "model.add(SimpleRNN(32))\n",
    "model.add(Flatten())\n",
    "model.add(Dense(1, activation='sigmoid'))\n",
    "\n",
    "model.compile(loss='binary_crossentropy',\n",
    "             optimizer='adam',\n",
    "             metrics=['accuracy'])\n",
    "\n",
    "# START YOUR CODE\n",
    "\n",
    "print(model.summary())"
   ]
  },
  {
   "cell_type": "code",
   "execution_count": 43,
   "metadata": {},
   "outputs": [
    {
     "name": "stdout",
     "output_type": "stream",
     "text": [
      "Epoch 1/10\n",
      "1250/1250 [==============================] - 11s 8ms/step - loss: 0.6818 - accuracy: 0.5627 - val_loss: 0.6453 - val_accuracy: 0.6159\n",
      "Epoch 2/10\n",
      "1250/1250 [==============================] - 11s 8ms/step - loss: 0.6398 - accuracy: 0.6346 - val_loss: 0.6618 - val_accuracy: 0.5893\n",
      "Epoch 3/10\n",
      "1250/1250 [==============================] - 11s 9ms/step - loss: 0.6509 - accuracy: 0.6151 - val_loss: 0.6862 - val_accuracy: 0.5512\n",
      "Epoch 4/10\n",
      "1250/1250 [==============================] - 11s 8ms/step - loss: 0.6819 - accuracy: 0.5588 - val_loss: 0.6696 - val_accuracy: 0.5857\n",
      "Epoch 5/10\n",
      "1250/1250 [==============================] - 11s 8ms/step - loss: 0.6612 - accuracy: 0.5995 - val_loss: 0.6631 - val_accuracy: 0.6012\n",
      "Epoch 6/10\n",
      "1250/1250 [==============================] - 10s 8ms/step - loss: 0.6663 - accuracy: 0.5882 - val_loss: 0.6638 - val_accuracy: 0.5890\n",
      "Epoch 7/10\n",
      "1250/1250 [==============================] - 11s 8ms/step - loss: 0.6518 - accuracy: 0.6132 - val_loss: 0.6632 - val_accuracy: 0.5761\n",
      "Epoch 8/10\n",
      "1250/1250 [==============================] - 11s 8ms/step - loss: 0.6495 - accuracy: 0.6131 - val_loss: 0.6325 - val_accuracy: 0.6408\n",
      "Epoch 9/10\n",
      "1250/1250 [==============================] - 10s 8ms/step - loss: 0.6242 - accuracy: 0.6453 - val_loss: 0.6638 - val_accuracy: 0.5846\n",
      "Epoch 10/10\n",
      "1250/1250 [==============================] - 11s 8ms/step - loss: 0.6366 - accuracy: 0.6291 - val_loss: 0.6171 - val_accuracy: 0.6585\n"
     ]
    }
   ],
   "source": [
    "history = model.fit(X_train, y_train, batch_size=batchsize, epochs=nepochs, verbose=1, validation_data=(X_test, y_test))"
   ]
  },
  {
   "cell_type": "code",
   "execution_count": 46,
   "metadata": {},
   "outputs": [
    {
     "name": "stdout",
     "output_type": "stream",
     "text": [
      "Train accuracy (end): 0.6292250156402588\n",
      "Train accuracy (max): 0.6450999975204468\n",
      "Test accuracy (end) : 0.6585000157356262\n",
      "Test accuracy (max) : 0.6585000157356262\n"
     ]
    },
    {
     "data": {
      "image/png": "[encoded data removed]",
      "text/plain": [
       "<Figure size 432x288 with 1 Axes>"
      ]
     },
     "metadata": {
      "needs_background": "light"
     },
     "output_type": "display_data"
    },
    {
     "data": {
      "image/png": "[encoded data removed]",
      "text/plain": [
       "<Figure size 432x288 with 1 Axes>"
      ]
     },
     "metadata": {
      "needs_background": "light"
     },
     "output_type": "display_data"
    },
    {
     "data": {
      "text/html": [
       "<div>\n",
       "<style scoped>\n",
       "    .dataframe tbody tr th:only-of-type {\n",
       "        vertical-align: middle;\n",
       "    }\n",
       "\n",
       "    .dataframe tbody tr th {\n",
       "        vertical-align: top;\n",
       "    }\n",
       "\n",
       "    .dataframe thead th {\n",
       "        text-align: right;\n",
       "    }\n",
       "</style>\n",
       "<table border=\"1\" class=\"dataframe\">\n",
       "  <thead>\n",
       "    <tr style=\"text-align: right;\">\n",
       "      <th></th>\n",
       "      <th>neg</th>\n",
       "      <th>pos</th>\n",
       "    </tr>\n",
       "  </thead>\n",
       "  <tbody>\n",
       "    <tr>\n",
       "      <th>neg</th>\n",
       "      <td>3676</td>\n",
       "      <td>1285</td>\n",
       "    </tr>\n",
       "    <tr>\n",
       "      <th>pos</th>\n",
       "      <td>2130</td>\n",
       "      <td>2909</td>\n",
       "    </tr>\n",
       "  </tbody>\n",
       "</table>\n",
       "</div>"
      ],
      "text/plain": [
       "      neg   pos\n",
       "neg  3676  1285\n",
       "pos  2130  2909"
      ]
     },
     "execution_count": 46,
     "metadata": {},
     "output_type": "execute_result"
    }
   ],
   "source": [
    "performance_plots(model, X_test, y_test, history, nepochs)\n",
    "confusion_matrix(model, X_test, y_test)"
   ]
  },
  {
   "cell_type": "code",
   "execution_count": 47,
   "metadata": {},
   "outputs": [
    {
     "name": "stdout",
     "output_type": "stream",
     "text": [
      "313/313 [==============================] - 1s 3ms/step - loss: 0.6171 - accuracy: 0.6585\n"
     ]
    },
    {
     "data": {
      "text/plain": [
       "[0.6170698404312134, 0.6585000157356262]"
      ]
     },
     "execution_count": 47,
     "metadata": {},
     "output_type": "execute_result"
    }
   ],
   "source": [
    "model.evaluate(X_test, y_test)"
   ]
  },
  {
   "cell_type": "code",
   "execution_count": 54,
   "metadata": {},
   "outputs": [
    {
     "name": "stdout",
     "output_type": "stream",
     "text": [
      "Model: \"sequential_14\"\n",
      "_________________________________________________________________\n",
      "Layer (type)                 Output Shape              Param #   \n",
      "=================================================================\n",
      "embedding_1 (Embedding)      (None, 100, 100)          500000    \n",
      "_________________________________________________________________\n",
      "simple_rnn_15 (SimpleRNN)    (None, 100, 32)           4256      \n",
      "_________________________________________________________________\n",
      "simple_rnn_16 (SimpleRNN)    (None, 32)                2080      \n",
      "_________________________________________________________________\n",
      "flatten_8 (Flatten)          (None, 32)                0         \n",
      "_________________________________________________________________\n",
      "dense_8 (Dense)              (None, 1)                 33        \n",
      "=================================================================\n",
      "Total params: 506,369\n",
      "Trainable params: 6,369\n",
      "Non-trainable params: 500,000\n",
      "_________________________________________________________________\n",
      "None\n"
     ]
    }
   ],
   "source": [
    "model = Sequential()\n",
    "model.add(embedding_layer)\n",
    "model.add(SimpleRNN(32, return_sequences=True))\n",
    "model.add(SimpleRNN(32, return_sequences=True))\n",
    "model.add(SimpleRNN(32))\n",
    "model.add(Flatten())\n",
    "model.add(Dense(1, activation='sigmoid'))\n",
    "\n",
    "model.compile(loss='binary_crossentropy',\n",
    "             optimizer='adam',\n",
    "             metrics=['accuracy'])\n",
    "\n",
    "# START YOUR CODE\n",
    "\n",
    "print(model.summary())"
   ]
  },
  {
   "cell_type": "code",
   "execution_count": 55,
   "metadata": {},
   "outputs": [
    {
     "name": "stdout",
     "output_type": "stream",
     "text": [
      "Epoch 1/10\n",
      "1250/1250 [==============================] - 23s 18ms/step - loss: 0.6819 - accuracy: 0.5577 - val_loss: 0.6686 - val_accuracy: 0.5862\n",
      "Epoch 2/10\n",
      "1250/1250 [==============================] - 23s 18ms/step - loss: 0.6499 - accuracy: 0.6148 - val_loss: 0.6570 - val_accuracy: 0.6050\n",
      "Epoch 3/10\n",
      "1250/1250 [==============================] - 23s 18ms/step - loss: 0.6563 - accuracy: 0.6034 - val_loss: 0.6269 - val_accuracy: 0.6476\n",
      "Epoch 4/10\n",
      "1250/1250 [==============================] - 23s 18ms/step - loss: 0.6606 - accuracy: 0.6015 - val_loss: 0.6636 - val_accuracy: 0.6015\n",
      "Epoch 5/10\n",
      "1250/1250 [==============================] - 23s 18ms/step - loss: 0.6481 - accuracy: 0.6162 - val_loss: 0.6316 - val_accuracy: 0.6466\n",
      "Epoch 6/10\n",
      "1250/1250 [==============================] - 23s 18ms/step - loss: 0.6420 - accuracy: 0.6306 - val_loss: 0.6277 - val_accuracy: 0.6559\n",
      "Epoch 7/10\n",
      "1250/1250 [==============================] - 23s 18ms/step - loss: 0.6396 - accuracy: 0.6394 - val_loss: 0.6855 - val_accuracy: 0.6084\n",
      "Epoch 8/10\n",
      "1250/1250 [==============================] - 23s 18ms/step - loss: 0.6394 - accuracy: 0.6344 - val_loss: 0.6222 - val_accuracy: 0.6693\n",
      "Epoch 9/10\n",
      "1250/1250 [==============================] - 23s 18ms/step - loss: 0.6580 - accuracy: 0.6127 - val_loss: 0.6581 - val_accuracy: 0.5853\n",
      "Epoch 10/10\n",
      "1250/1250 [==============================] - 23s 18ms/step - loss: 0.6441 - accuracy: 0.6296 - val_loss: 0.6629 - val_accuracy: 0.6493\n"
     ]
    }
   ],
   "source": [
    "history = model.fit(X_train, y_train, batch_size=batchsize, epochs=nepochs, verbose=1, validation_data=(X_test, y_test))"
   ]
  },
  {
   "cell_type": "code",
   "execution_count": 56,
   "metadata": {},
   "outputs": [
    {
     "name": "stdout",
     "output_type": "stream",
     "text": [
      "Train accuracy (end): 0.6402249932289124\n",
      "Train accuracy (max): 0.6439499855041504\n",
      "Test accuracy (end) : 0.6492999792098999\n",
      "Test accuracy (max) : 0.6693000197410583\n"
     ]
    },
    {
     "data": {
      "image/png": "[encoded data removed]",
      "text/plain": [
       "<Figure size 432x288 with 1 Axes>"
      ]
     },
     "metadata": {
      "needs_background": "light"
     },
     "output_type": "display_data"
    },
    {
     "data": {
      "image/png": "[encoded data removed]",
      "text/plain": [
       "<Figure size 432x288 with 1 Axes>"
      ]
     },
     "metadata": {
      "needs_background": "light"
     },
     "output_type": "display_data"
    },
    {
     "data": {
      "text/html": [
       "<div>\n",
       "<style scoped>\n",
       "    .dataframe tbody tr th:only-of-type {\n",
       "        vertical-align: middle;\n",
       "    }\n",
       "\n",
       "    .dataframe tbody tr th {\n",
       "        vertical-align: top;\n",
       "    }\n",
       "\n",
       "    .dataframe thead th {\n",
       "        text-align: right;\n",
       "    }\n",
       "</style>\n",
       "<table border=\"1\" class=\"dataframe\">\n",
       "  <thead>\n",
       "    <tr style=\"text-align: right;\">\n",
       "      <th></th>\n",
       "      <th>neg</th>\n",
       "      <th>pos</th>\n",
       "    </tr>\n",
       "  </thead>\n",
       "  <tbody>\n",
       "    <tr>\n",
       "      <th>neg</th>\n",
       "      <td>4161</td>\n",
       "      <td>800</td>\n",
       "    </tr>\n",
       "    <tr>\n",
       "      <th>pos</th>\n",
       "      <td>2707</td>\n",
       "      <td>2332</td>\n",
       "    </tr>\n",
       "  </tbody>\n",
       "</table>\n",
       "</div>"
      ],
      "text/plain": [
       "      neg   pos\n",
       "neg  4161   800\n",
       "pos  2707  2332"
      ]
     },
     "execution_count": 56,
     "metadata": {},
     "output_type": "execute_result"
    }
   ],
   "source": [
    "performance_plots(model, X_test, y_test, history, nepochs)\n",
    "confusion_matrix(model, X_test, y_test)"
   ]
  },
  {
   "cell_type": "code",
   "execution_count": 57,
   "metadata": {},
   "outputs": [
    {
     "name": "stdout",
     "output_type": "stream",
     "text": [
      "313/313 [==============================] - 2s 6ms/step - loss: 0.6629 - accuracy: 0.6493\n"
     ]
    },
    {
     "data": {
      "text/plain": [
       "[0.6628775000572205, 0.6492999792098999]"
      ]
     },
     "execution_count": 57,
     "metadata": {},
     "output_type": "execute_result"
    }
   ],
   "source": [
    "model.evaluate(X_test, y_test)"
   ]
  },
  {
   "cell_type": "code",
   "execution_count": 61,
   "metadata": {},
   "outputs": [
    {
     "name": "stdout",
     "output_type": "stream",
     "text": [
      "Model: \"sequential_17\"\n",
      "_________________________________________________________________\n",
      "Layer (type)                 Output Shape              Param #   \n",
      "=================================================================\n",
      "embedding_1 (Embedding)      (None, 100, 100)          500000    \n",
      "_________________________________________________________________\n",
      "lstm_2 (LSTM)                (None, 32)                17024     \n",
      "_________________________________________________________________\n",
      "flatten_11 (Flatten)         (None, 32)                0         \n",
      "_________________________________________________________________\n",
      "dense_11 (Dense)             (None, 1)                 33        \n",
      "=================================================================\n",
      "Total params: 517,057\n",
      "Trainable params: 17,057\n",
      "Non-trainable params: 500,000\n",
      "_________________________________________________________________\n",
      "None\n"
     ]
    }
   ],
   "source": [
    "model = Sequential()\n",
    "model.add(embedding_layer)\n",
    "model.add(LSTM(32))\n",
    "model.add(Flatten())\n",
    "model.add(Dense(1, activation='sigmoid'))\n",
    "\n",
    "model.compile(loss='binary_crossentropy',\n",
    "             optimizer='adam',\n",
    "             metrics=['accuracy'])\n",
    "\n",
    "# START YOUR CODE\n",
    "\n",
    "print(model.summary())"
   ]
  },
  {
   "cell_type": "code",
   "execution_count": 62,
   "metadata": {},
   "outputs": [
    {
     "name": "stdout",
     "output_type": "stream",
     "text": [
      "Epoch 1/10\n",
      "1250/1250 [==============================] - 20s 15ms/step - loss: 0.5751 - accuracy: 0.6914 - val_loss: 0.4069 - val_accuracy: 0.8167\n",
      "Epoch 2/10\n",
      "1250/1250 [==============================] - 19s 15ms/step - loss: 0.3964 - accuracy: 0.8219 - val_loss: 0.3739 - val_accuracy: 0.8335\n",
      "Epoch 3/10\n",
      "1250/1250 [==============================] - 19s 15ms/step - loss: 0.3611 - accuracy: 0.8402 - val_loss: 0.3676 - val_accuracy: 0.8356\n",
      "Epoch 4/10\n",
      "1250/1250 [==============================] - 19s 15ms/step - loss: 0.3369 - accuracy: 0.8528 - val_loss: 0.3389 - val_accuracy: 0.8489\n",
      "Epoch 5/10\n",
      "1250/1250 [==============================] - 19s 15ms/step - loss: 0.3165 - accuracy: 0.8625 - val_loss: 0.3277 - val_accuracy: 0.8557\n",
      "Epoch 6/10\n",
      "1250/1250 [==============================] - 19s 15ms/step - loss: 0.3085 - accuracy: 0.8641 - val_loss: 0.3276 - val_accuracy: 0.8546\n",
      "Epoch 7/10\n",
      "1250/1250 [==============================] - 19s 15ms/step - loss: 0.2957 - accuracy: 0.8743 - val_loss: 0.3240 - val_accuracy: 0.8554\n",
      "Epoch 8/10\n",
      "1250/1250 [==============================] - 19s 15ms/step - loss: 0.2840 - accuracy: 0.8804 - val_loss: 0.3265 - val_accuracy: 0.8542\n",
      "Epoch 9/10\n",
      "1250/1250 [==============================] - 19s 15ms/step - loss: 0.2751 - accuracy: 0.8836 - val_loss: 0.3145 - val_accuracy: 0.8643\n",
      "Epoch 10/10\n",
      "1250/1250 [==============================] - 19s 15ms/step - loss: 0.2599 - accuracy: 0.8926 - val_loss: 0.3242 - val_accuracy: 0.8613\n",
      "Train accuracy (end): 0.8906999826431274\n",
      "Train accuracy (max): 0.8906999826431274\n",
      "Test accuracy (end) : 0.861299991607666\n",
      "Test accuracy (max) : 0.864300012588501\n"
     ]
    },
    {
     "data": {
      "image/png": "[encoded data removed]",
      "text/plain": [
       "<Figure size 432x288 with 1 Axes>"
      ]
     },
     "metadata": {
      "needs_background": "light"
     },
     "output_type": "display_data"
    },
    {
     "data": {
      "image/png": "[encoded data removed]",
      "text/plain": [
       "<Figure size 432x288 with 1 Axes>"
      ]
     },
     "metadata": {
      "needs_background": "light"
     },
     "output_type": "display_data"
    },
    {
     "name": "stdout",
     "output_type": "stream",
     "text": [
      "313/313 [==============================] - 2s 7ms/step - loss: 0.3242 - accuracy: 0.8613\n"
     ]
    },
    {
     "data": {
      "text/plain": [
       "[0.32420551776885986, 0.861299991607666]"
      ]
     },
     "execution_count": 62,
     "metadata": {},
     "output_type": "execute_result"
    }
   ],
   "source": [
    "history = model.fit(X_train, y_train, batch_size=batchsize, epochs=nepochs, verbose=1, validation_data=(X_test, y_test))\n",
    "\n",
    "performance_plots(model, X_test, y_test, history, nepochs)\n",
    "confusion_matrix(model, X_test, y_test)\n",
    "\n",
    "model.evaluate(X_test, y_test)"
   ]
  },
  {
   "cell_type": "code",
   "execution_count": 64,
   "metadata": {},
   "outputs": [
    {
     "name": "stdout",
     "output_type": "stream",
     "text": [
      "Model: \"sequential_19\"\n",
      "_________________________________________________________________\n",
      "Layer (type)                 Output Shape              Param #   \n",
      "=================================================================\n",
      "embedding_1 (Embedding)      (None, 100, 100)          500000    \n",
      "_________________________________________________________________\n",
      "lstm_5 (LSTM)                (None, 100, 32)           17024     \n",
      "_________________________________________________________________\n",
      "lstm_6 (LSTM)                (None, 100, 32)           8320      \n",
      "_________________________________________________________________\n",
      "lstm_7 (LSTM)                (None, 32)                8320      \n",
      "_________________________________________________________________\n",
      "flatten_12 (Flatten)         (None, 32)                0         \n",
      "_________________________________________________________________\n",
      "dense_12 (Dense)             (None, 1)                 33        \n",
      "=================================================================\n",
      "Total params: 533,697\n",
      "Trainable params: 33,697\n",
      "Non-trainable params: 500,000\n",
      "_________________________________________________________________\n",
      "None\n"
     ]
    }
   ],
   "source": [
    "model = Sequential()\n",
    "model.add(embedding_layer)\n",
    "model.add(LSTM(32, return_sequences=True))\n",
    "model.add(LSTM(32, return_sequences=True))\n",
    "model.add(LSTM(32))\n",
    "model.add(Flatten())\n",
    "model.add(Dense(1, activation='sigmoid'))\n",
    "\n",
    "model.compile(loss='binary_crossentropy',\n",
    "             optimizer='adam',\n",
    "             metrics=['accuracy'])\n",
    "\n",
    "# START YOUR CODE\n",
    "\n",
    "print(model.summary())"
   ]
  },
  {
   "cell_type": "code",
   "execution_count": 65,
   "metadata": {},
   "outputs": [
    {
     "name": "stdout",
     "output_type": "stream",
     "text": [
      "Epoch 1/10\n",
      "1250/1250 [==============================] - 57s 44ms/step - loss: 0.5677 - accuracy: 0.6886 - val_loss: 0.4196 - val_accuracy: 0.8086\n",
      "Epoch 2/10\n",
      "1250/1250 [==============================] - 54s 43ms/step - loss: 0.3968 - accuracy: 0.8219 - val_loss: 0.3716 - val_accuracy: 0.8326\n",
      "Epoch 3/10\n",
      "1250/1250 [==============================] - 54s 43ms/step - loss: 0.3657 - accuracy: 0.8374 - val_loss: 0.3516 - val_accuracy: 0.8400\n",
      "Epoch 4/10\n",
      "1250/1250 [==============================] - 54s 44ms/step - loss: 0.3400 - accuracy: 0.8495 - val_loss: 0.3440 - val_accuracy: 0.8480\n",
      "Epoch 5/10\n",
      "1250/1250 [==============================] - 54s 43ms/step - loss: 0.3284 - accuracy: 0.8577 - val_loss: 0.3431 - val_accuracy: 0.8472\n",
      "Epoch 6/10\n",
      "1250/1250 [==============================] - 54s 44ms/step - loss: 0.3091 - accuracy: 0.8667 - val_loss: 0.3338 - val_accuracy: 0.8522\n",
      "Epoch 7/10\n",
      "1250/1250 [==============================] - 54s 44ms/step - loss: 0.3008 - accuracy: 0.8700 - val_loss: 0.3214 - val_accuracy: 0.8561\n",
      "Epoch 8/10\n",
      "1250/1250 [==============================] - 56s 45ms/step - loss: 0.2861 - accuracy: 0.8779 - val_loss: 0.3436 - val_accuracy: 0.8542\n",
      "Epoch 9/10\n",
      "1250/1250 [==============================] - 54s 43ms/step - loss: 0.2686 - accuracy: 0.8864 - val_loss: 0.3186 - val_accuracy: 0.8588\n",
      "Epoch 10/10\n",
      "1250/1250 [==============================] - 55s 44ms/step - loss: 0.2649 - accuracy: 0.8879 - val_loss: 0.3389 - val_accuracy: 0.8607\n",
      "Train accuracy (end): 0.887624979019165\n",
      "Train accuracy (max): 0.887624979019165\n",
      "Test accuracy (end) : 0.8607000112533569\n",
      "Test accuracy (max) : 0.8607000112533569\n"
     ]
    },
    {
     "data": {
      "image/png": "[encoded data removed]",
      "text/plain": [
       "<Figure size 432x288 with 1 Axes>"
      ]
     },
     "metadata": {
      "needs_background": "light"
     },
     "output_type": "display_data"
    },
    {
     "data": {
      "image/png": "[encoded data removed]",
      "text/plain": [
       "<Figure size 432x288 with 1 Axes>"
      ]
     },
     "metadata": {
      "needs_background": "light"
     },
     "output_type": "display_data"
    },
    {
     "name": "stdout",
     "output_type": "stream",
     "text": [
      "313/313 [==============================] - 5s 15ms/step - loss: 0.3389 - accuracy: 0.8607\n"
     ]
    },
    {
     "data": {
      "text/plain": [
       "[0.33894458413124084, 0.8607000112533569]"
      ]
     },
     "execution_count": 65,
     "metadata": {},
     "output_type": "execute_result"
    }
   ],
   "source": [
    "history = model.fit(X_train, y_train, batch_size=batchsize, epochs=nepochs, verbose=1, validation_data=(X_test, y_test))\n",
    "\n",
    "performance_plots(model, X_test, y_test, history, nepochs)\n",
    "confusion_matrix(model, X_test, y_test)\n",
    "\n",
    "model.evaluate(X_test, y_test)"
   ]
  },
  {
   "cell_type": "code",
   "execution_count": 68,
   "metadata": {},
   "outputs": [
    {
     "name": "stdout",
     "output_type": "stream",
     "text": [
      "Model: \"sequential_22\"\n",
      "_________________________________________________________________\n",
      "Layer (type)                 Output Shape              Param #   \n",
      "=================================================================\n",
      "embedding_1 (Embedding)      (None, 100, 100)          500000    \n",
      "_________________________________________________________________\n",
      "gru_3 (GRU)                  (None, 32)                12864     \n",
      "_________________________________________________________________\n",
      "flatten_14 (Flatten)         (None, 32)                0         \n",
      "_________________________________________________________________\n",
      "dense_14 (Dense)             (None, 1)                 33        \n",
      "=================================================================\n",
      "Total params: 512,897\n",
      "Trainable params: 12,897\n",
      "Non-trainable params: 500,000\n",
      "_________________________________________________________________\n",
      "None\n"
     ]
    }
   ],
   "source": [
    "from tensorflow.keras.layers import GRU\n",
    "\n",
    "model = Sequential()\n",
    "model.add(embedding_layer)\n",
    "model.add(GRU(32))\n",
    "model.add(Flatten())\n",
    "model.add(Dense(1, activation='sigmoid'))\n",
    "\n",
    "model.compile(loss='binary_crossentropy',\n",
    "             optimizer='adam',\n",
    "             metrics=['accuracy'])\n",
    "\n",
    "# START YOUR CODE\n",
    "\n",
    "print(model.summary())"
   ]
  },
  {
   "cell_type": "code",
   "execution_count": 69,
   "metadata": {},
   "outputs": [
    {
     "name": "stdout",
     "output_type": "stream",
     "text": [
      "Epoch 1/10\n",
      "1250/1250 [==============================] - 18s 14ms/step - loss: 0.5676 - accuracy: 0.6775 - val_loss: 0.3730 - val_accuracy: 0.8305\n",
      "Epoch 2/10\n",
      "1250/1250 [==============================] - 18s 14ms/step - loss: 0.3687 - accuracy: 0.8344 - val_loss: 0.3417 - val_accuracy: 0.8448\n",
      "Epoch 3/10\n",
      "1250/1250 [==============================] - 18s 14ms/step - loss: 0.3336 - accuracy: 0.8543 - val_loss: 0.3262 - val_accuracy: 0.8576\n",
      "Epoch 4/10\n",
      "1250/1250 [==============================] - 18s 14ms/step - loss: 0.3145 - accuracy: 0.8623 - val_loss: 0.3209 - val_accuracy: 0.8577\n",
      "Epoch 5/10\n",
      "1250/1250 [==============================] - 18s 14ms/step - loss: 0.3025 - accuracy: 0.8689 - val_loss: 0.3314 - val_accuracy: 0.8566\n",
      "Epoch 6/10\n",
      "1250/1250 [==============================] - 18s 14ms/step - loss: 0.2910 - accuracy: 0.8757 - val_loss: 0.3293 - val_accuracy: 0.8590\n",
      "Epoch 7/10\n",
      "1250/1250 [==============================] - 18s 14ms/step - loss: 0.2765 - accuracy: 0.8845 - val_loss: 0.3096 - val_accuracy: 0.8650\n",
      "Epoch 8/10\n",
      "1250/1250 [==============================] - 18s 14ms/step - loss: 0.2760 - accuracy: 0.8813 - val_loss: 0.3099 - val_accuracy: 0.8635\n",
      "Epoch 9/10\n",
      "1250/1250 [==============================] - 18s 14ms/step - loss: 0.2612 - accuracy: 0.8905 - val_loss: 0.3090 - val_accuracy: 0.8643\n",
      "Epoch 10/10\n",
      "1250/1250 [==============================] - 18s 14ms/step - loss: 0.2492 - accuracy: 0.8968 - val_loss: 0.3220 - val_accuracy: 0.8664\n",
      "Train accuracy (end): 0.8947499990463257\n",
      "Train accuracy (max): 0.8947499990463257\n",
      "Test accuracy (end) : 0.8664000034332275\n",
      "Test accuracy (max) : 0.8664000034332275\n"
     ]
    },
    {
     "data": {
      "image/png": "[encoded data removed]",
      "text/plain": [
       "<Figure size 432x288 with 1 Axes>"
      ]
     },
     "metadata": {
      "needs_background": "light"
     },
     "output_type": "display_data"
    },
    {
     "data": {
      "image/png": "[encoded data removed]",
      "text/plain": [
       "<Figure size 432x288 with 1 Axes>"
      ]
     },
     "metadata": {
      "needs_background": "light"
     },
     "output_type": "display_data"
    },
    {
     "name": "stdout",
     "output_type": "stream",
     "text": [
      "313/313 [==============================] - 1s 5ms/step - loss: 0.3220 - accuracy: 0.8664\n"
     ]
    },
    {
     "data": {
      "text/plain": [
       "[0.3219767212867737, 0.8664000034332275]"
      ]
     },
     "execution_count": 69,
     "metadata": {},
     "output_type": "execute_result"
    }
   ],
   "source": [
    "history = model.fit(X_train, y_train, batch_size=batchsize, epochs=nepochs, verbose=1, validation_data=(X_test, y_test))\n",
    "\n",
    "performance_plots(model, X_test, y_test, history, nepochs)\n",
    "confusion_matrix(model, X_test, y_test)\n",
    "\n",
    "model.evaluate(X_test, y_test)"
   ]
  },
  {
   "cell_type": "code",
   "execution_count": 70,
   "metadata": {},
   "outputs": [
    {
     "name": "stdout",
     "output_type": "stream",
     "text": [
      "Model: \"sequential_23\"\n",
      "_________________________________________________________________\n",
      "Layer (type)                 Output Shape              Param #   \n",
      "=================================================================\n",
      "embedding_1 (Embedding)      (None, 100, 100)          500000    \n",
      "_________________________________________________________________\n",
      "gru_4 (GRU)                  (None, 100, 32)           12864     \n",
      "_________________________________________________________________\n",
      "gru_5 (GRU)                  (None, 100, 32)           6336      \n",
      "_________________________________________________________________\n",
      "gru_6 (GRU)                  (None, 32)                6336      \n",
      "_________________________________________________________________\n",
      "flatten_15 (Flatten)         (None, 32)                0         \n",
      "_________________________________________________________________\n",
      "dense_15 (Dense)             (None, 1)                 33        \n",
      "=================================================================\n",
      "Total params: 525,569\n",
      "Trainable params: 25,569\n",
      "Non-trainable params: 500,000\n",
      "_________________________________________________________________\n",
      "None\n"
     ]
    }
   ],
   "source": [
    "model = Sequential()\n",
    "model.add(embedding_layer)\n",
    "model.add(GRU(32, return_sequences=True))\n",
    "model.add(GRU(32, return_sequences=True))\n",
    "model.add(GRU(32))\n",
    "model.add(Flatten())\n",
    "model.add(Dense(1, activation='sigmoid'))\n",
    "\n",
    "model.compile(loss='binary_crossentropy',\n",
    "             optimizer='adam',\n",
    "             metrics=['accuracy'])\n",
    "\n",
    "# START YOUR CODE\n",
    "\n",
    "print(model.summary())"
   ]
  },
  {
   "cell_type": "code",
   "execution_count": 71,
   "metadata": {},
   "outputs": [
    {
     "name": "stdout",
     "output_type": "stream",
     "text": [
      "Epoch 1/10\n",
      "1250/1250 [==============================] - 55s 43ms/step - loss: 0.5611 - accuracy: 0.6865 - val_loss: 0.3717 - val_accuracy: 0.8306\n",
      "Epoch 2/10\n",
      "1250/1250 [==============================] - 53s 42ms/step - loss: 0.3670 - accuracy: 0.8350 - val_loss: 0.3779 - val_accuracy: 0.8258\n",
      "Epoch 3/10\n",
      "1250/1250 [==============================] - 63s 51ms/step - loss: 0.3397 - accuracy: 0.8479 - val_loss: 0.3298 - val_accuracy: 0.8543\n",
      "Epoch 4/10\n",
      "1250/1250 [==============================] - 101s 81ms/step - loss: 0.3113 - accuracy: 0.8628 - val_loss: 0.3201 - val_accuracy: 0.8591\n",
      "Epoch 5/10\n",
      "1250/1250 [==============================] - 47s 37ms/step - loss: 0.2971 - accuracy: 0.8728 - val_loss: 0.3081 - val_accuracy: 0.8665\n",
      "Epoch 6/10\n",
      "1250/1250 [==============================] - 47s 38ms/step - loss: 0.2827 - accuracy: 0.8792 - val_loss: 0.3163 - val_accuracy: 0.8614\n",
      "Epoch 7/10\n",
      "1250/1250 [==============================] - 47s 38ms/step - loss: 0.2748 - accuracy: 0.8823 - val_loss: 0.3175 - val_accuracy: 0.8635\n",
      "Epoch 8/10\n",
      "1250/1250 [==============================] - 47s 37ms/step - loss: 0.2578 - accuracy: 0.8921 - val_loss: 0.3011 - val_accuracy: 0.8734\n",
      "Epoch 9/10\n",
      "1250/1250 [==============================] - 47s 37ms/step - loss: 0.2483 - accuracy: 0.8965 - val_loss: 0.3105 - val_accuracy: 0.8697\n",
      "Epoch 10/10\n",
      "1250/1250 [==============================] - 47s 38ms/step - loss: 0.2310 - accuracy: 0.9057 - val_loss: 0.3096 - val_accuracy: 0.8701\n",
      "Train accuracy (end): 0.9033750295639038\n",
      "Train accuracy (max): 0.9033750295639038\n",
      "Test accuracy (end) : 0.8701000213623047\n",
      "Test accuracy (max) : 0.8733999729156494\n"
     ]
    },
    {
     "data": {
      "image/png": "[encoded data removed]",
      "text/plain": [
       "<Figure size 432x288 with 1 Axes>"
      ]
     },
     "metadata": {
      "needs_background": "light"
     },
     "output_type": "display_data"
    },
    {
     "data": {
      "image/png": "[encoded data removed]",
      "text/plain": [
       "<Figure size 432x288 with 1 Axes>"
      ]
     },
     "metadata": {
      "needs_background": "light"
     },
     "output_type": "display_data"
    },
    {
     "name": "stdout",
     "output_type": "stream",
     "text": [
      "313/313 [==============================] - 3s 11ms/step - loss: 0.3096 - accuracy: 0.8701\n"
     ]
    },
    {
     "data": {
      "text/plain": [
       "[0.30958104133605957, 0.8701000213623047]"
      ]
     },
     "execution_count": 71,
     "metadata": {},
     "output_type": "execute_result"
    }
   ],
   "source": [
    "history = model.fit(X_train, y_train, batch_size=batchsize, epochs=nepochs, verbose=1, validation_data=(X_test, y_test))\n",
    "\n",
    "performance_plots(model, X_test, y_test, history, nepochs)\n",
    "confusion_matrix(model, X_test, y_test)\n",
    "\n",
    "model.evaluate(X_test, y_test)"
   ]
  },
  {
   "cell_type": "code",
   "execution_count": 72,
   "metadata": {},
   "outputs": [
    {
     "name": "stdout",
     "output_type": "stream",
     "text": [
      "Model: \"sequential_24\"\n",
      "_________________________________________________________________\n",
      "Layer (type)                 Output Shape              Param #   \n",
      "=================================================================\n",
      "embedding_1 (Embedding)      (None, 100, 100)          500000    \n",
      "_________________________________________________________________\n",
      "conv1d (Conv1D)              (None, 98, 32)            9632      \n",
      "_________________________________________________________________\n",
      "dense_16 (Dense)             (None, 98, 32)            1056      \n",
      "_________________________________________________________________\n",
      "flatten_16 (Flatten)         (None, 3136)              0         \n",
      "_________________________________________________________________\n",
      "dense_17 (Dense)             (None, 1)                 3137      \n",
      "=================================================================\n",
      "Total params: 513,825\n",
      "Trainable params: 13,825\n",
      "Non-trainable params: 500,000\n",
      "_________________________________________________________________\n",
      "None\n"
     ]
    }
   ],
   "source": [
    "model = Sequential()\n",
    "model.add(embedding_layer)\n",
    "model.add(Conv1D(32, 3, activation='relu'))\n",
    "model.add(Dense(32))\n",
    "model.add(Flatten())\n",
    "model.add(Dense(1, activation='sigmoid'))\n",
    "\n",
    "model.compile(loss='binary_crossentropy',\n",
    "             optimizer='adam',\n",
    "             metrics=['accuracy'])\n",
    "\n",
    "# START YOUR CODE\n",
    "\n",
    "print(model.summary())"
   ]
  },
  {
   "cell_type": "code",
   "execution_count": 73,
   "metadata": {},
   "outputs": [
    {
     "name": "stdout",
     "output_type": "stream",
     "text": [
      "Epoch 1/10\n",
      "1250/1250 [==============================] - 3s 2ms/step - loss: 0.5597 - accuracy: 0.6909 - val_loss: 0.3987 - val_accuracy: 0.8181\n",
      "Epoch 2/10\n",
      "1250/1250 [==============================] - 3s 2ms/step - loss: 0.3857 - accuracy: 0.8255 - val_loss: 0.3698 - val_accuracy: 0.8318\n",
      "Epoch 3/10\n",
      "1250/1250 [==============================] - 3s 2ms/step - loss: 0.3495 - accuracy: 0.8426 - val_loss: 0.3665 - val_accuracy: 0.8344\n",
      "Epoch 4/10\n",
      "1250/1250 [==============================] - 3s 2ms/step - loss: 0.3188 - accuracy: 0.8618 - val_loss: 0.3650 - val_accuracy: 0.8334\n",
      "Epoch 5/10\n",
      "1250/1250 [==============================] - 3s 2ms/step - loss: 0.2943 - accuracy: 0.8765 - val_loss: 0.3682 - val_accuracy: 0.8388\n",
      "Epoch 6/10\n",
      "1250/1250 [==============================] - 3s 2ms/step - loss: 0.2719 - accuracy: 0.8884 - val_loss: 0.3717 - val_accuracy: 0.8362\n",
      "Epoch 7/10\n",
      "1250/1250 [==============================] - 3s 2ms/step - loss: 0.2533 - accuracy: 0.8965 - val_loss: 0.4236 - val_accuracy: 0.8210\n",
      "Epoch 8/10\n",
      "1250/1250 [==============================] - 3s 2ms/step - loss: 0.2375 - accuracy: 0.9034 - val_loss: 0.4124 - val_accuracy: 0.8234\n",
      "Epoch 9/10\n",
      "1250/1250 [==============================] - 3s 2ms/step - loss: 0.2245 - accuracy: 0.9075 - val_loss: 0.4207 - val_accuracy: 0.8300\n",
      "Epoch 10/10\n",
      "1250/1250 [==============================] - 3s 2ms/step - loss: 0.2132 - accuracy: 0.9127 - val_loss: 0.4215 - val_accuracy: 0.8279\n",
      "Train accuracy (end): 0.9067249894142151\n",
      "Train accuracy (max): 0.9067249894142151\n",
      "Test accuracy (end) : 0.8278999924659729\n",
      "Test accuracy (max) : 0.8388000130653381\n"
     ]
    },
    {
     "data": {
      "image/png": "[encoded data removed]",
      "text/plain": [
       "<Figure size 432x288 with 1 Axes>"
      ]
     },
     "metadata": {
      "needs_background": "light"
     },
     "output_type": "display_data"
    },
    {
     "data": {
      "image/png": "[encoded data removed]",
      "text/plain": [
       "<Figure size 432x288 with 1 Axes>"
      ]
     },
     "metadata": {
      "needs_background": "light"
     },
     "output_type": "display_data"
    },
    {
     "name": "stdout",
     "output_type": "stream",
     "text": [
      "313/313 [==============================] - 0s 1ms/step - loss: 0.4215 - accuracy: 0.8279\n"
     ]
    },
    {
     "data": {
      "text/plain": [
       "[0.42145028710365295, 0.8278999924659729]"
      ]
     },
     "execution_count": 73,
     "metadata": {},
     "output_type": "execute_result"
    }
   ],
   "source": [
    "history = model.fit(X_train, y_train, batch_size=batchsize, epochs=nepochs, verbose=1, validation_data=(X_test, y_test))\n",
    "\n",
    "performance_plots(model, X_test, y_test, history, nepochs)\n",
    "confusion_matrix(model, X_test, y_test)\n",
    "\n",
    "model.evaluate(X_test, y_test)"
   ]
  },
  {
   "cell_type": "markdown",
   "metadata": {},
   "source": [
    "## Report with your Findings"
   ]
  },
  {
   "cell_type": "markdown",
   "metadata": {},
   "source": [
    "Embedding -> \n",
    "SimpleRNN(32) -> \n",
    "Train: 64.51%\n",
    "Test: 65.85%\n",
    "\n",
    "Embedding -> \n",
    "SimpleRNN(32) -> \n",
    "SimpleRNN(32) -> \n",
    "SimpleRNN(32) -> \n",
    "Train: 64.39%\n",
    "Test: 64.93%\n",
    "\n",
    "Embedding -> \n",
    "LSTM(32) -> \n",
    "Train: 89.07%\n",
    "Test: 86.43%\n",
    "\n",
    "Embedding -> \n",
    "LSTM(32) -> \n",
    "LSTM(32) -> \n",
    "LSTM(32) -> \n",
    "Train: 88.76%\n",
    "Test: 86.07%\n",
    "\n",
    "Embedding -> \n",
    "GRU(32) -> \n",
    "Train: 89.47%\n",
    "Test: 86.64%\n",
    "\n",
    "Embedding -> \n",
    "GRU(32) -> \n",
    "GRU(32) -> \n",
    "GRU(32) -> \n",
    "Train: 90.34%\n",
    "Test: 87.34%\n",
    "\n",
    "Embedding -> \n",
    "Conv1D(32,3) -> \n",
    "Dense(32) -> \n",
    "Train: 90.67%\n",
    "Test: 83.88%\n",
    "\n",
    "We found that GRU and stacked GRU layers after the embedding layers have a performance of about 64%, which is the lowest score of our observed models. Using one simple LSTM layer improves the score to 86%. Stacking the LSTM layers on top of each other did not improve the accuracy at all, so we would prefer the simpler one LSTM layer model. A simple one GRU layer model has a similar performance as the one LSTM layer model, but if the GRU layers are stacked on top of each other, the performance improves slightly. One needs to analyse, if the additional complexity is worth the slight improvement.\n",
    "\n",
    "We ran out of time for further tests, but our next step would be to take the high-bias-low-variance stacked GRU model and play with the number of units and number of layers until we would reach a low bias and low variance as possible. Next, we would add a more complex Conv/Dense/Dropout combination on top, to obtain a nice classifier."
   ]
  },
  {
   "cell_type": "code",
   "execution_count": null,
   "metadata": {},
   "outputs": [],
   "source": []
  }
 ],
 "metadata": {
  "kernelspec": {
   "display_name": "Python 3",
   "language": "python",
   "name": "python3"
  },
  "language_info": {
   "codemirror_mode": {
    "name": "ipython",
    "version": 3
   },
   "file_extension": ".py",
   "mimetype": "text/x-python",
   "name": "python",
   "nbconvert_exporter": "python",
   "pygments_lexer": "ipython3",
   "version": "3.8.5"
  }
 },
 "nbformat": 4,
 "nbformat_minor": 4
}
