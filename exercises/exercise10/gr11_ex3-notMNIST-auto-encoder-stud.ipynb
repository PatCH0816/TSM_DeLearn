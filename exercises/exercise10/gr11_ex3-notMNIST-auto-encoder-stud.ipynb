{
  "nbformat": 4,
  "nbformat_minor": 0,
  "metadata": {
    "kernelspec": {
      "display_name": "Python 3",
      "language": "python",
      "name": "python3"
    },
    "language_info": {
      "codemirror_mode": {
        "name": "ipython",
        "version": 3
      },
      "file_extension": ".py",
      "mimetype": "text/x-python",
      "name": "python",
      "nbconvert_exporter": "python",
      "pygments_lexer": "ipython3",
      "version": "3.7.3"
    },
    "colab": {
      "name": "gr11_ex3-notMNIST-auto-encoder-stud.ipynb",
      "provenance": [],
      "collapsed_sections": [],
      "toc_visible": true
    }
  },
  "cells": [
    {
      "cell_type": "code",
      "metadata": {
        "id": "HZCq6lXwcmWH"
      },
      "source": [
        "from matplotlib import pyplot as plt\n",
        "import numpy as np\n",
        "import gzip\n",
        "from sklearn.preprocessing import StandardScaler\n",
        "from sklearn.svm import SVC\n",
        "from sklearn import metrics\n",
        "import tensorflow as tf\n",
        "from tensorflow.keras.models import Sequential, Model\n",
        "from tensorflow.keras.layers import Input, Conv2D, MaxPooling2D, UpSampling2D\n",
        "from tensorflow.keras.layers import Dense, Dropout, Flatten, Activation\n",
        "from tensorflow.keras.optimizers import RMSprop\n",
        "from tensorflow.keras import utils\n",
        "import urllib.request\n",
        "\n",
        "%matplotlib inline"
      ],
      "execution_count": 1,
      "outputs": []
    },
    {
      "cell_type": "code",
      "metadata": {
        "id": "NCH5zRHSd85e"
      },
      "source": [
        "files = [\n",
        "  't10k-images-idx3-ubyte.gz',\n",
        "  't10k-labels-idx1-ubyte.gz',\n",
        "  'train-images-idx3-ubyte.gz',\n",
        "  'train-labels-idx1-ubyte.gz'\n",
        "]\n",
        "for file in files: urllib.request.urlretrieve('https://github.com/davidflanagan/notMNIST-to-MNIST/blob/master/'+file+'?raw=true', '/content/'+file)"
      ],
      "execution_count": 2,
      "outputs": []
    },
    {
      "cell_type": "code",
      "metadata": {
        "id": "CUy_mh9IcmWg"
      },
      "source": [
        "def extract_data(filename, num_images):\n",
        "    with gzip.open(filename) as bytestream:\n",
        "        bytestream.read(16)\n",
        "        buf = bytestream.read(28 * 28 * num_images)\n",
        "        data = np.frombuffer(buf, dtype=np.uint8).astype(np.float32)\n",
        "        data = data.reshape(num_images, 28,28)\n",
        "        return data\n",
        "\n",
        "def extract_labels(filename, num_images):\n",
        "    with gzip.open(filename) as bytestream:\n",
        "        bytestream.read(8)\n",
        "        buf = bytestream.read(1 * num_images)\n",
        "        labels = np.frombuffer(buf, dtype=np.uint8).astype(np.int64)\n",
        "        return labels\n",
        "\n",
        "# Create dictionary of target classes\n",
        "label_dict = {\n",
        " 0: 'A',\n",
        " 1: 'B',\n",
        " 2: 'C',\n",
        " 3: 'D',\n",
        " 4: 'E',\n",
        " 5: 'F',\n",
        " 6: 'G',\n",
        " 7: 'H',\n",
        " 8: 'I',\n",
        " 9: 'J',\n",
        "}"
      ],
      "execution_count": 3,
      "outputs": []
    },
    {
      "cell_type": "code",
      "metadata": {
        "colab": {
          "base_uri": "https://localhost:8080/"
        },
        "id": "g0fAEnUecmWj",
        "outputId": "c2080f57-d43e-481b-921c-a8168f317a6d"
      },
      "source": [
        "train_data = extract_data('train-images-idx3-ubyte.gz', 60000)\n",
        "test_data = extract_data('t10k-images-idx3-ubyte.gz', 10000)\n",
        "\n",
        "train_labels = extract_labels('train-labels-idx1-ubyte.gz',60000)\n",
        "test_labels = extract_labels('t10k-labels-idx1-ubyte.gz',10000)\n",
        "\n",
        "X_train = train_data.reshape(-1, 28,28, 1)  # add grey channel\n",
        "X_test = test_data.reshape(-1, 28,28, 1)\n",
        "\n",
        "n_classes = 10\n",
        "Y_train = utils.to_categorical(train_labels, n_classes) # 1-hot\n",
        "Y_test = utils.to_categorical(test_labels, n_classes)\n",
        "print(Y_train[:10])"
      ],
      "execution_count": 4,
      "outputs": [
        {
          "output_type": "stream",
          "text": [
            "[[0. 0. 0. 0. 0. 1. 0. 0. 0. 0.]\n",
            " [0. 0. 0. 0. 0. 0. 0. 0. 1. 0.]\n",
            " [0. 0. 0. 0. 0. 0. 0. 0. 1. 0.]\n",
            " [0. 0. 0. 0. 0. 0. 1. 0. 0. 0.]\n",
            " [0. 0. 0. 1. 0. 0. 0. 0. 0. 0.]\n",
            " [1. 0. 0. 0. 0. 0. 0. 0. 0. 0.]\n",
            " [0. 0. 0. 0. 0. 0. 0. 0. 1. 0.]\n",
            " [1. 0. 0. 0. 0. 0. 0. 0. 0. 0.]\n",
            " [0. 1. 0. 0. 0. 0. 0. 0. 0. 0.]\n",
            " [0. 0. 0. 0. 0. 1. 0. 0. 0. 0.]]\n"
          ],
          "name": "stdout"
        }
      ]
    },
    {
      "cell_type": "code",
      "metadata": {
        "colab": {
          "base_uri": "https://localhost:8080/"
        },
        "id": "5H5IcSQNcmWn",
        "outputId": "f7da6699-ff61-44da-c5cb-a7dc2e4c8dd7"
      },
      "source": [
        "# Shape of training set\n",
        "print(\"Training set (images) shape: {shape}\".format(shape=X_train.shape))\n",
        "# Shape of test set\n",
        "print(\"Test set (images) shape: {shape}\".format(shape=X_test.shape))\n",
        "# Type of data - should be float32\n",
        "print('data type: ', X_train.dtype, X_test.dtype)"
      ],
      "execution_count": 5,
      "outputs": [
        {
          "output_type": "stream",
          "text": [
            "Training set (images) shape: (60000, 28, 28, 1)\n",
            "Test set (images) shape: (10000, 28, 28, 1)\n",
            "data type:  float32 float32\n"
          ],
          "name": "stdout"
        }
      ]
    },
    {
      "cell_type": "code",
      "metadata": {
        "colab": {
          "base_uri": "https://localhost:8080/",
          "height": 233
        },
        "id": "AUTy8Y2ncmWq",
        "outputId": "5d5fc2b0-faa9-4909-dc1b-a4f54da91d56"
      },
      "source": [
        "# Display the first image in training data\n",
        "plt.subplot(121)\n",
        "curr_img = np.reshape(X_train[0], (28,28))\n",
        "curr_lbl = train_labels[0]\n",
        "plt.imshow(curr_img, cmap='gray')\n",
        "plt.title(\"(Label: \" + str(label_dict[curr_lbl]) + \")\")\n",
        "\n",
        "# Display the first image in testing data\n",
        "plt.subplot(122)\n",
        "curr_img = np.reshape(X_test[0], (28,28))\n",
        "curr_lbl = test_labels[0]\n",
        "plt.imshow(curr_img, cmap='gray')\n",
        "plt.title(\"(Label: \" + str(label_dict[curr_lbl]) + \")\")"
      ],
      "execution_count": 6,
      "outputs": [
        {
          "output_type": "execute_result",
          "data": {
            "text/plain": [
              "Text(0.5, 1.0, '(Label: D)')"
            ]
          },
          "metadata": {
            "tags": []
          },
          "execution_count": 6
        },
        {
          "output_type": "display_data",
          "data": {
            "image/png": "[encoded data removed]",
            "text/plain": [
              "<Figure size 432x288 with 2 Axes>"
            ]
          },
          "metadata": {
            "tags": [],
            "needs_background": "light"
          }
        }
      ]
    },
    {
      "cell_type": "code",
      "metadata": {
        "id": "KVkIG6MpcmWt"
      },
      "source": [
        "# rescale the data in range 0-1\n",
        "X_train = X_train / 255.0\n",
        "X_test = X_test / 255.0"
      ],
      "execution_count": 7,
      "outputs": []
    },
    {
      "cell_type": "markdown",
      "metadata": {
        "id": "BrGrf_c-cmWv"
      },
      "source": [
        "## Create a shallow MLP encoder"
      ]
    },
    {
      "cell_type": "code",
      "metadata": {
        "colab": {
          "base_uri": "https://localhost:8080/"
        },
        "id": "GedXtjnMcmWx",
        "outputId": "f5158154-0cbb-48f0-b788-b59bec064de5"
      },
      "source": [
        "# STARTING FROM HERE, COMPLETE THE CODE WHERE YOU SEE ...\n",
        "# size of our encoded representation\n",
        "encoding_dim = 32  # this is the number of neurons you chose to encode\n",
        "\n",
        "# define input layer, encoded layer and decoded layer\n",
        "input_img = Input((784))\n",
        "dense_down = Dense(100, activation='relu')(input_img)\n",
        "encoded = Dense(encoding_dim, activation='relu')(dense_down)\n",
        "dense_up = Dense(100, activation='relu')(encoded)\n",
        "decoded = Dense(784, activation='sigmoid')(dense_up)\n",
        "\n",
        "# define autoencoder model \n",
        "autoencoder = Model(inputs=input_img, outputs=decoded)\n",
        "encoder = Model(inputs=input_img, outputs=encoded)\n",
        "\n",
        "# create a placeholder for an encoded (32-dimensional) input\n",
        "encoded_input = Input((encoding_dim))\n",
        "\n",
        "# retrieve the last layer of the autoencoder model\n",
        "decoder_dense_up = autoencoder.layers[-2](encoded_input)\n",
        "decoder_decoded = autoencoder.layers[-1](decoder_dense_up)\n",
        "\n",
        "# create the decoder model\n",
        "decoder = Model(inputs=encoded_input, outputs=decoder_decoded)\n",
        "\n",
        "print(autoencoder.summary())\n",
        "print(encoder.summary())\n",
        "print(decoder.summary())"
      ],
      "execution_count": 72,
      "outputs": [
        {
          "output_type": "stream",
          "text": [
            "Model: \"model_34\"\n",
            "_________________________________________________________________\n",
            "Layer (type)                 Output Shape              Param #   \n",
            "=================================================================\n",
            "input_27 (InputLayer)        [(None, 784)]             0         \n",
            "_________________________________________________________________\n",
            "dense_52 (Dense)             (None, 100)               78500     \n",
            "_________________________________________________________________\n",
            "dense_53 (Dense)             (None, 32)                3232      \n",
            "_________________________________________________________________\n",
            "dense_54 (Dense)             (None, 100)               3300      \n",
            "_________________________________________________________________\n",
            "dense_55 (Dense)             (None, 784)               79184     \n",
            "=================================================================\n",
            "Total params: 164,216\n",
            "Trainable params: 164,216\n",
            "Non-trainable params: 0\n",
            "_________________________________________________________________\n",
            "None\n",
            "Model: \"model_35\"\n",
            "_________________________________________________________________\n",
            "Layer (type)                 Output Shape              Param #   \n",
            "=================================================================\n",
            "input_27 (InputLayer)        [(None, 784)]             0         \n",
            "_________________________________________________________________\n",
            "dense_52 (Dense)             (None, 100)               78500     \n",
            "_________________________________________________________________\n",
            "dense_53 (Dense)             (None, 32)                3232      \n",
            "=================================================================\n",
            "Total params: 81,732\n",
            "Trainable params: 81,732\n",
            "Non-trainable params: 0\n",
            "_________________________________________________________________\n",
            "None\n",
            "Model: \"model_36\"\n",
            "_________________________________________________________________\n",
            "Layer (type)                 Output Shape              Param #   \n",
            "=================================================================\n",
            "input_28 (InputLayer)        [(None, 32)]              0         \n",
            "_________________________________________________________________\n",
            "dense_54 (Dense)             (None, 100)               3300      \n",
            "_________________________________________________________________\n",
            "dense_55 (Dense)             (None, 784)               79184     \n",
            "=================================================================\n",
            "Total params: 82,484\n",
            "Trainable params: 82,484\n",
            "Non-trainable params: 0\n",
            "_________________________________________________________________\n",
            "None\n"
          ],
          "name": "stdout"
        }
      ]
    },
    {
      "cell_type": "code",
      "metadata": {
        "id": "tc4q_SAocmWy"
      },
      "source": [
        "# compile the network - use adam optimizer, beware to use the good loss function\n",
        "autoencoder.compile(\n",
        "    loss='mse',\n",
        "    optimizer=tf.keras.optimizers.Adam(learning_rate=0.001)\n",
        ")"
      ],
      "execution_count": 73,
      "outputs": []
    },
    {
      "cell_type": "code",
      "metadata": {
        "id": "Y4d-c4i3cmWz"
      },
      "source": [
        "# for visualisation\n",
        "def plot_result(x_test,decoded_imgs):\n",
        "    n = 10\n",
        "    plt.figure(figsize=(20, 4))\n",
        "    for i in range(n):\n",
        "        # display original\n",
        "        ax = plt.subplot(2, n, i + 1)\n",
        "        plt.imshow(x_test[i].reshape(28, 28))\n",
        "        plt.gray()\n",
        "        ax.get_xaxis().set_visible(False)\n",
        "        ax.get_yaxis().set_visible(False)\n",
        "\n",
        "        # display reconstruction\n",
        "        ax = plt.subplot(2, n, i + 1 + n)\n",
        "        plt.imshow(decoded_imgs[i].reshape(28, 28))\n",
        "        plt.gray()\n",
        "        ax.get_xaxis().set_visible(False)\n",
        "        ax.get_yaxis().set_visible(False)\n",
        "    plt.show()"
      ],
      "execution_count": 74,
      "outputs": []
    },
    {
      "cell_type": "code",
      "metadata": {
        "id": "WcjjokTNcmW1"
      },
      "source": [
        "X_train_flat = X_train.reshape(60000,784)\n",
        "X_test_flat = X_test.reshape(10000,784)"
      ],
      "execution_count": 75,
      "outputs": []
    },
    {
      "cell_type": "code",
      "metadata": {
        "scrolled": true,
        "colab": {
          "base_uri": "https://localhost:8080/"
        },
        "id": "RqPps6IEcmW7",
        "outputId": "26f1d2bf-2438-4d82-ea6e-ea259d5586cf"
      },
      "source": [
        "# train the network\n",
        "EPOCHS = 1000\n",
        "BATCH_SIZE = 32\n",
        "\n",
        "early_stopping = tf.keras.callbacks.EarlyStopping(\n",
        "    monitor='val_loss',\n",
        "    patience=10,\n",
        "    verbose=1,\n",
        "    restore_best_weights=True\n",
        ")\n",
        "\n",
        "log = autoencoder.fit(\n",
        "    X_train_flat, X_train_flat,\n",
        "    batch_size=BATCH_SIZE,\n",
        "    epochs=EPOCHS,\n",
        "    verbose=1,\n",
        "    validation_data=(X_test_flat, X_test_flat),\n",
        "    callbacks=[early_stopping]\n",
        ")"
      ],
      "execution_count": 76,
      "outputs": [
        {
          "output_type": "stream",
          "text": [
            "Epoch 1/1000\n",
            "1875/1875 [==============================] - 4s 2ms/step - loss: 0.0781 - val_loss: 0.0311\n",
            "Epoch 2/1000\n",
            "1875/1875 [==============================] - 4s 2ms/step - loss: 0.0341 - val_loss: 0.0271\n",
            "Epoch 3/1000\n",
            "1875/1875 [==============================] - 4s 2ms/step - loss: 0.0314 - val_loss: 0.0260\n",
            "Epoch 4/1000\n",
            "1875/1875 [==============================] - 4s 2ms/step - loss: 0.0304 - val_loss: 0.0252\n",
            "Epoch 5/1000\n",
            "1875/1875 [==============================] - 4s 2ms/step - loss: 0.0296 - val_loss: 0.0242\n",
            "Epoch 6/1000\n",
            "1875/1875 [==============================] - 4s 2ms/step - loss: 0.0288 - val_loss: 0.0236\n",
            "Epoch 7/1000\n",
            "1875/1875 [==============================] - 4s 2ms/step - loss: 0.0275 - val_loss: 0.0225\n",
            "Epoch 8/1000\n",
            "1875/1875 [==============================] - 4s 2ms/step - loss: 0.0270 - val_loss: 0.0223\n",
            "Epoch 9/1000\n",
            "1875/1875 [==============================] - 4s 2ms/step - loss: 0.0264 - val_loss: 0.0222\n",
            "Epoch 10/1000\n",
            "1875/1875 [==============================] - 4s 2ms/step - loss: 0.0261 - val_loss: 0.0213\n",
            "Epoch 11/1000\n",
            "1875/1875 [==============================] - 4s 2ms/step - loss: 0.0256 - val_loss: 0.0213\n",
            "Epoch 12/1000\n",
            "1875/1875 [==============================] - 4s 2ms/step - loss: 0.0255 - val_loss: 0.0211\n",
            "Epoch 13/1000\n",
            "1875/1875 [==============================] - 4s 2ms/step - loss: 0.0252 - val_loss: 0.0209\n",
            "Epoch 14/1000\n",
            "1875/1875 [==============================] - 4s 2ms/step - loss: 0.0249 - val_loss: 0.0207\n",
            "Epoch 15/1000\n",
            "1875/1875 [==============================] - 4s 2ms/step - loss: 0.0247 - val_loss: 0.0208\n",
            "Epoch 16/1000\n",
            "1875/1875 [==============================] - 4s 2ms/step - loss: 0.0246 - val_loss: 0.0206\n",
            "Epoch 17/1000\n",
            "1875/1875 [==============================] - 4s 2ms/step - loss: 0.0244 - val_loss: 0.0205\n",
            "Epoch 18/1000\n",
            "1875/1875 [==============================] - 4s 2ms/step - loss: 0.0245 - val_loss: 0.0201\n",
            "Epoch 19/1000\n",
            "1875/1875 [==============================] - 4s 2ms/step - loss: 0.0244 - val_loss: 0.0200\n",
            "Epoch 20/1000\n",
            "1875/1875 [==============================] - 4s 2ms/step - loss: 0.0241 - val_loss: 0.0202\n",
            "Epoch 21/1000\n",
            "1875/1875 [==============================] - 4s 2ms/step - loss: 0.0239 - val_loss: 0.0199\n",
            "Epoch 22/1000\n",
            "1875/1875 [==============================] - 4s 2ms/step - loss: 0.0238 - val_loss: 0.0197\n",
            "Epoch 23/1000\n",
            "1875/1875 [==============================] - 4s 2ms/step - loss: 0.0238 - val_loss: 0.0200\n",
            "Epoch 24/1000\n",
            "1875/1875 [==============================] - 4s 2ms/step - loss: 0.0239 - val_loss: 0.0196\n",
            "Epoch 25/1000\n",
            "1875/1875 [==============================] - 4s 2ms/step - loss: 0.0235 - val_loss: 0.0195\n",
            "Epoch 26/1000\n",
            "1875/1875 [==============================] - 4s 2ms/step - loss: 0.0235 - val_loss: 0.0200\n",
            "Epoch 27/1000\n",
            "1875/1875 [==============================] - 4s 2ms/step - loss: 0.0234 - val_loss: 0.0193\n",
            "Epoch 28/1000\n",
            "1875/1875 [==============================] - 4s 2ms/step - loss: 0.0234 - val_loss: 0.0193\n",
            "Epoch 29/1000\n",
            "1875/1875 [==============================] - 4s 2ms/step - loss: 0.0233 - val_loss: 0.0190\n",
            "Epoch 30/1000\n",
            "1875/1875 [==============================] - 4s 2ms/step - loss: 0.0230 - val_loss: 0.0188\n",
            "Epoch 31/1000\n",
            "1875/1875 [==============================] - 4s 2ms/step - loss: 0.0229 - val_loss: 0.0187\n",
            "Epoch 32/1000\n",
            "1875/1875 [==============================] - 4s 2ms/step - loss: 0.0227 - val_loss: 0.0191\n",
            "Epoch 33/1000\n",
            "1875/1875 [==============================] - 4s 2ms/step - loss: 0.0227 - val_loss: 0.0186\n",
            "Epoch 34/1000\n",
            "1875/1875 [==============================] - 4s 2ms/step - loss: 0.0225 - val_loss: 0.0187\n",
            "Epoch 35/1000\n",
            "1875/1875 [==============================] - 4s 2ms/step - loss: 0.0225 - val_loss: 0.0186\n",
            "Epoch 36/1000\n",
            "1875/1875 [==============================] - 4s 2ms/step - loss: 0.0224 - val_loss: 0.0186\n",
            "Epoch 37/1000\n",
            "1875/1875 [==============================] - 4s 2ms/step - loss: 0.0224 - val_loss: 0.0184\n",
            "Epoch 38/1000\n",
            "1875/1875 [==============================] - 4s 2ms/step - loss: 0.0223 - val_loss: 0.0182\n",
            "Epoch 39/1000\n",
            "1875/1875 [==============================] - 4s 2ms/step - loss: 0.0221 - val_loss: 0.0183\n",
            "Epoch 40/1000\n",
            "1875/1875 [==============================] - 4s 2ms/step - loss: 0.0220 - val_loss: 0.0181\n",
            "Epoch 41/1000\n",
            "1875/1875 [==============================] - 4s 2ms/step - loss: 0.0221 - val_loss: 0.0182\n",
            "Epoch 42/1000\n",
            "1875/1875 [==============================] - 4s 2ms/step - loss: 0.0220 - val_loss: 0.0184\n",
            "Epoch 43/1000\n",
            "1875/1875 [==============================] - 4s 2ms/step - loss: 0.0220 - val_loss: 0.0183\n",
            "Epoch 44/1000\n",
            "1875/1875 [==============================] - 4s 2ms/step - loss: 0.0221 - val_loss: 0.0183\n",
            "Epoch 45/1000\n",
            "1875/1875 [==============================] - 4s 2ms/step - loss: 0.0220 - val_loss: 0.0181\n",
            "Epoch 46/1000\n",
            "1875/1875 [==============================] - 4s 2ms/step - loss: 0.0220 - val_loss: 0.0180\n",
            "Epoch 47/1000\n",
            "1875/1875 [==============================] - 4s 2ms/step - loss: 0.0219 - val_loss: 0.0180\n",
            "Epoch 48/1000\n",
            "1875/1875 [==============================] - 4s 2ms/step - loss: 0.0219 - val_loss: 0.0179\n",
            "Epoch 49/1000\n",
            "1875/1875 [==============================] - 4s 2ms/step - loss: 0.0216 - val_loss: 0.0180\n",
            "Epoch 50/1000\n",
            "1875/1875 [==============================] - 4s 2ms/step - loss: 0.0218 - val_loss: 0.0182\n",
            "Epoch 51/1000\n",
            "1875/1875 [==============================] - 4s 2ms/step - loss: 0.0217 - val_loss: 0.0183\n",
            "Epoch 52/1000\n",
            "1875/1875 [==============================] - 4s 2ms/step - loss: 0.0218 - val_loss: 0.0179\n",
            "Epoch 53/1000\n",
            "1875/1875 [==============================] - 4s 2ms/step - loss: 0.0218 - val_loss: 0.0178\n",
            "Epoch 54/1000\n",
            "1875/1875 [==============================] - 4s 2ms/step - loss: 0.0216 - val_loss: 0.0179\n",
            "Epoch 55/1000\n",
            "1875/1875 [==============================] - 4s 2ms/step - loss: 0.0216 - val_loss: 0.0179\n",
            "Epoch 56/1000\n",
            "1875/1875 [==============================] - 4s 2ms/step - loss: 0.0216 - val_loss: 0.0178\n",
            "Epoch 57/1000\n",
            "1875/1875 [==============================] - 4s 2ms/step - loss: 0.0216 - val_loss: 0.0178\n",
            "Epoch 58/1000\n",
            "1875/1875 [==============================] - 4s 2ms/step - loss: 0.0216 - val_loss: 0.0178\n",
            "Epoch 59/1000\n",
            "1875/1875 [==============================] - 4s 2ms/step - loss: 0.0214 - val_loss: 0.0180\n",
            "Epoch 60/1000\n",
            "1875/1875 [==============================] - 4s 2ms/step - loss: 0.0215 - val_loss: 0.0178\n",
            "Epoch 61/1000\n",
            "1875/1875 [==============================] - 4s 2ms/step - loss: 0.0216 - val_loss: 0.0177\n",
            "Epoch 62/1000\n",
            "1875/1875 [==============================] - 4s 2ms/step - loss: 0.0215 - val_loss: 0.0177\n",
            "Epoch 63/1000\n",
            "1875/1875 [==============================] - 4s 2ms/step - loss: 0.0215 - val_loss: 0.0175\n",
            "Epoch 64/1000\n",
            "1875/1875 [==============================] - 4s 2ms/step - loss: 0.0215 - val_loss: 0.0178\n",
            "Epoch 65/1000\n",
            "1875/1875 [==============================] - 4s 2ms/step - loss: 0.0212 - val_loss: 0.0178\n",
            "Epoch 66/1000\n",
            "1875/1875 [==============================] - 4s 2ms/step - loss: 0.0214 - val_loss: 0.0180\n",
            "Epoch 67/1000\n",
            "1875/1875 [==============================] - 4s 2ms/step - loss: 0.0213 - val_loss: 0.0178\n",
            "Epoch 68/1000\n",
            "1875/1875 [==============================] - 4s 2ms/step - loss: 0.0213 - val_loss: 0.0177\n",
            "Epoch 69/1000\n",
            "1875/1875 [==============================] - 4s 2ms/step - loss: 0.0214 - val_loss: 0.0176\n",
            "Epoch 70/1000\n",
            "1875/1875 [==============================] - 4s 2ms/step - loss: 0.0214 - val_loss: 0.0176\n",
            "Epoch 71/1000\n",
            "1875/1875 [==============================] - 4s 2ms/step - loss: 0.0214 - val_loss: 0.0176\n",
            "Epoch 72/1000\n",
            "1875/1875 [==============================] - 4s 2ms/step - loss: 0.0212 - val_loss: 0.0174\n",
            "Epoch 73/1000\n",
            "1875/1875 [==============================] - 4s 2ms/step - loss: 0.0213 - val_loss: 0.0174\n",
            "Epoch 74/1000\n",
            "1875/1875 [==============================] - 4s 2ms/step - loss: 0.0213 - val_loss: 0.0177\n",
            "Epoch 75/1000\n",
            "1875/1875 [==============================] - 4s 2ms/step - loss: 0.0213 - val_loss: 0.0176\n",
            "Epoch 76/1000\n",
            "1875/1875 [==============================] - 4s 2ms/step - loss: 0.0212 - val_loss: 0.0176\n",
            "Epoch 77/1000\n",
            "1875/1875 [==============================] - 4s 2ms/step - loss: 0.0212 - val_loss: 0.0177\n",
            "Epoch 78/1000\n",
            "1875/1875 [==============================] - 4s 2ms/step - loss: 0.0211 - val_loss: 0.0178\n",
            "Epoch 79/1000\n",
            "1875/1875 [==============================] - 4s 2ms/step - loss: 0.0212 - val_loss: 0.0174\n",
            "Epoch 80/1000\n",
            "1875/1875 [==============================] - 4s 2ms/step - loss: 0.0211 - val_loss: 0.0178\n",
            "Epoch 81/1000\n",
            "1875/1875 [==============================] - 4s 2ms/step - loss: 0.0212 - val_loss: 0.0176\n",
            "Epoch 82/1000\n",
            "1875/1875 [==============================] - 4s 2ms/step - loss: 0.0211 - val_loss: 0.0177\n",
            "Restoring model weights from the end of the best epoch.\n",
            "Epoch 00082: early stopping\n"
          ],
          "name": "stdout"
        }
      ]
    },
    {
      "cell_type": "code",
      "metadata": {
        "colab": {
          "base_uri": "https://localhost:8080/",
          "height": 265
        },
        "id": "aEzcDstLcmW9",
        "outputId": "9aee77c7-ac96-406c-8bb2-49ce5bdda8cc"
      },
      "source": [
        "plt.plot(log.history['loss'], label='Training')\n",
        "plt.plot(log.history['val_loss'], label='Testing')\n",
        "plt.legend()\n",
        "plt.grid()"
      ],
      "execution_count": 77,
      "outputs": [
        {
          "output_type": "display_data",
          "data": {
            "image/png": "[encoded data removed]",
            "text/plain": [
              "<Figure size 432x288 with 1 Axes>"
            ]
          },
          "metadata": {
            "tags": [],
            "needs_background": "light"
          }
        }
      ]
    },
    {
      "cell_type": "code",
      "metadata": {
        "colab": {
          "base_uri": "https://localhost:8080/",
          "height": 219
        },
        "id": "Y4ipgsI_cmW_",
        "outputId": "67f49401-9da6-400b-d69a-330604920300"
      },
      "source": [
        "# encode and decode some digits\n",
        "# note that we take them from the *test* set\n",
        "encoded_imgs = encoder.predict(X_test_flat)\n",
        "decoded_imgs = decoder.predict(encoded_imgs)\n",
        "plot_result(X_test_flat,decoded_imgs)"
      ],
      "execution_count": 78,
      "outputs": [
        {
          "output_type": "display_data",
          "data": {
            "image/png": "[encoded data removed]",
            "text/plain": [
              "<Figure size 1440x288 with 20 Axes>"
            ]
          },
          "metadata": {
            "tags": [],
            "needs_background": "light"
          }
        }
      ]
    },
    {
      "cell_type": "markdown",
      "metadata": {
        "id": "QA7GdyjxcmXA"
      },
      "source": [
        "### Use the encoded features to train another classifier"
      ]
    },
    {
      "cell_type": "code",
      "metadata": {
        "colab": {
          "base_uri": "https://localhost:8080/"
        },
        "id": "LrbRt7HncmXB",
        "outputId": "a10e8cd0-9d58-4d44-92a5-9d41dc8758c5"
      },
      "source": [
        "X_train_feat = encoder.predict(X_train_flat)\n",
        "X_test_feat = encoder.predict(X_test_flat)\n",
        "\n",
        "# Normalization (standardization) of training and test sets\n",
        "scaler = StandardScaler()  \n",
        "scaler.fit(X_train_feat)\n",
        "X_train_feat = scaler.transform(X_train_feat)  \n",
        "X_test_feat = scaler.transform(X_test_feat)\n",
        "\n",
        "print(X_train_feat.shape)\n",
        "print(Y_train.shape)\n",
        "print(X_test_feat.shape)\n",
        "print(Y_test.shape)"
      ],
      "execution_count": 79,
      "outputs": [
        {
          "output_type": "stream",
          "text": [
            "(60000, 32)\n",
            "(60000, 10)\n",
            "(10000, 32)\n",
            "(10000, 10)\n"
          ],
          "name": "stdout"
        }
      ]
    },
    {
      "cell_type": "code",
      "metadata": {
        "colab": {
          "base_uri": "https://localhost:8080/"
        },
        "id": "XQYdYBfScmXD",
        "outputId": "ffba319a-9708-4be6-cdb3-4855b1833c66"
      },
      "source": [
        "# using the features to train a SVM\n",
        "clf = SVC(kernel='linear', cache_size=7000)\n",
        "clf.fit(X_train_feat, train_labels)"
      ],
      "execution_count": 80,
      "outputs": [
        {
          "output_type": "execute_result",
          "data": {
            "text/plain": [
              "SVC(C=1.0, break_ties=False, cache_size=7000, class_weight=None, coef0=0.0,\n",
              "    decision_function_shape='ovr', degree=3, gamma='scale', kernel='linear',\n",
              "    max_iter=-1, probability=False, random_state=None, shrinking=True,\n",
              "    tol=0.001, verbose=False)"
            ]
          },
          "metadata": {
            "tags": []
          },
          "execution_count": 80
        }
      ]
    },
    {
      "cell_type": "code",
      "metadata": {
        "colab": {
          "base_uri": "https://localhost:8080/"
        },
        "id": "nk7inN79cmXE",
        "outputId": "0f155cf4-4c72-46d3-c852-c5a5380d3ea6"
      },
      "source": [
        "y_pred = clf.predict(X_test_feat)\n",
        "\n",
        "# Print classification results with confusion matrix\n",
        "print(\"Classification report for classifier %s:\\n%s\\n\" %\n",
        "      (clf, metrics.classification_report(test_labels, y_pred)))\n",
        "# print(\"\\nConfusion matrix:\\n%s\" % metrics.confusion_matrix(test_labels, y_pred))"
      ],
      "execution_count": 81,
      "outputs": [
        {
          "output_type": "stream",
          "text": [
            "Classification report for classifier SVC(C=1.0, break_ties=False, cache_size=7000, class_weight=None, coef0=0.0,\n",
            "    decision_function_shape='ovr', degree=3, gamma='scale', kernel='linear',\n",
            "    max_iter=-1, probability=False, random_state=None, shrinking=True,\n",
            "    tol=0.001, verbose=False):\n",
            "              precision    recall  f1-score   support\n",
            "\n",
            "           0       0.92      0.90      0.91      1000\n",
            "           1       0.88      0.88      0.88      1000\n",
            "           2       0.91      0.91      0.91      1000\n",
            "           3       0.93      0.90      0.92      1000\n",
            "           4       0.88      0.85      0.86      1000\n",
            "           5       0.89      0.93      0.91      1000\n",
            "           6       0.88      0.89      0.88      1000\n",
            "           7       0.89      0.89      0.89      1000\n",
            "           8       0.86      0.85      0.86      1000\n",
            "           9       0.88      0.92      0.90      1000\n",
            "\n",
            "    accuracy                           0.89     10000\n",
            "   macro avg       0.89      0.89      0.89     10000\n",
            "weighted avg       0.89      0.89      0.89     10000\n",
            "\n",
            "\n"
          ],
          "name": "stdout"
        }
      ]
    },
    {
      "cell_type": "markdown",
      "metadata": {
        "id": "UD0ojJjTcmXG"
      },
      "source": [
        "## Create a conv autoencoder"
      ]
    },
    {
      "cell_type": "code",
      "metadata": {
        "colab": {
          "base_uri": "https://localhost:8080/"
        },
        "id": "S33kvbREcmXH",
        "outputId": "b0a949a7-b0df-4315-b97b-6350c92b1cb4"
      },
      "source": [
        "input_img = Input((28,28,1))\n",
        "# encoder\n",
        "conv1 = Conv2D(32, kernel_size=3, padding='same', activation='relu')(input_img) #28 x 28 x 32\n",
        "pool1 = MaxPooling2D()(conv1) #14 x 14 x 32\n",
        "conv2 = Conv2D(64, kernel_size=3, padding='same', activation='relu')(pool1) #14 x 14 x 64\n",
        "pool2 = MaxPooling2D()(conv2) #7 x 7 x 64\n",
        "conv3 = Conv2D(128, kernel_size=3, padding='same', activation='relu')(pool2) #7 x 7 x 128 (small and thick)\n",
        "# decoder\n",
        "conv4 = Conv2D(128, kernel_size=3, padding='same', activation='relu')(conv3) #7 x 7 x 128\n",
        "up1 = UpSampling2D()(conv4) # 14 x 14 x 128 (UpSampling2D())\n",
        "conv5 = Conv2D(64, kernel_size=3, padding='same', activation='relu')(up1) # 14 x 14 x 64\n",
        "up2 = UpSampling2D()(conv5) # 28 x 28 x 64\n",
        "decoded = Conv2D(1, kernel_size=1, padding='same', activation='relu')(up2) # 28 x 28 x 1\n",
        "# autoencoder\n",
        "autoencoder = Model(inputs=input_img, outputs=decoded)\n",
        "autoencoder.compile(\n",
        "    loss='mse',\n",
        "    optimizer=tf.keras.optimizers.Adam()\n",
        ")\n",
        "autoencoder.summary()"
      ],
      "execution_count": 105,
      "outputs": [
        {
          "output_type": "stream",
          "text": [
            "Model: \"model_45\"\n",
            "_________________________________________________________________\n",
            "Layer (type)                 Output Shape              Param #   \n",
            "=================================================================\n",
            "input_37 (InputLayer)        [(None, 28, 28, 1)]       0         \n",
            "_________________________________________________________________\n",
            "conv2d_48 (Conv2D)           (None, 28, 28, 32)        320       \n",
            "_________________________________________________________________\n",
            "max_pooling2d_16 (MaxPooling (None, 14, 14, 32)        0         \n",
            "_________________________________________________________________\n",
            "conv2d_49 (Conv2D)           (None, 14, 14, 64)        18496     \n",
            "_________________________________________________________________\n",
            "max_pooling2d_17 (MaxPooling (None, 7, 7, 64)          0         \n",
            "_________________________________________________________________\n",
            "conv2d_50 (Conv2D)           (None, 7, 7, 128)         73856     \n",
            "_________________________________________________________________\n",
            "conv2d_51 (Conv2D)           (None, 7, 7, 128)         147584    \n",
            "_________________________________________________________________\n",
            "up_sampling2d_16 (UpSampling (None, 14, 14, 128)       0         \n",
            "_________________________________________________________________\n",
            "conv2d_52 (Conv2D)           (None, 14, 14, 64)        73792     \n",
            "_________________________________________________________________\n",
            "up_sampling2d_17 (UpSampling (None, 28, 28, 64)        0         \n",
            "_________________________________________________________________\n",
            "conv2d_53 (Conv2D)           (None, 28, 28, 1)         65        \n",
            "=================================================================\n",
            "Total params: 314,113\n",
            "Trainable params: 314,113\n",
            "Non-trainable params: 0\n",
            "_________________________________________________________________\n"
          ],
          "name": "stdout"
        }
      ]
    },
    {
      "cell_type": "code",
      "metadata": {
        "colab": {
          "base_uri": "https://localhost:8080/"
        },
        "id": "hi3uUSYEcmXJ",
        "outputId": "229db171-a4ca-4e36-ab73-d95225af3bb8"
      },
      "source": [
        "EPOCHS = 10\n",
        "BATCH_SIZE = 128\n",
        "\n",
        "log = autoencoder.fit(\n",
        "    X_train, X_train,\n",
        "    batch_size=BATCH_SIZE,\n",
        "    epochs=EPOCHS,\n",
        "    verbose=1,\n",
        "    validation_data=(X_test, X_test)\n",
        ")"
      ],
      "execution_count": 106,
      "outputs": [
        {
          "output_type": "stream",
          "text": [
            "Epoch 1/10\n",
            "469/469 [==============================] - 232s 493ms/step - loss: 0.0538 - val_loss: 0.0252\n",
            "Epoch 2/10\n",
            "469/469 [==============================] - 232s 494ms/step - loss: 0.0262 - val_loss: 0.0249\n",
            "Epoch 3/10\n",
            "469/469 [==============================] - 231s 493ms/step - loss: 0.0255 - val_loss: 0.0246\n",
            "Epoch 4/10\n",
            "469/469 [==============================] - 231s 493ms/step - loss: 0.0252 - val_loss: 0.0243\n",
            "Epoch 5/10\n",
            "469/469 [==============================] - 231s 493ms/step - loss: 0.0250 - val_loss: 0.0239\n",
            "Epoch 6/10\n",
            "469/469 [==============================] - 231s 493ms/step - loss: 0.0249 - val_loss: 0.0244\n",
            "Epoch 7/10\n",
            "469/469 [==============================] - 231s 493ms/step - loss: 0.0250 - val_loss: 0.0239\n",
            "Epoch 8/10\n",
            "469/469 [==============================] - 231s 493ms/step - loss: 0.0250 - val_loss: 0.0238\n",
            "Epoch 9/10\n",
            "469/469 [==============================] - 231s 493ms/step - loss: 0.0248 - val_loss: 0.0239\n",
            "Epoch 10/10\n",
            "469/469 [==============================] - 231s 493ms/step - loss: 0.0247 - val_loss: 0.0237\n"
          ],
          "name": "stdout"
        }
      ]
    },
    {
      "cell_type": "markdown",
      "metadata": {
        "id": "q7Y-8a3TcmXK"
      },
      "source": [
        "### Predict on test data"
      ]
    },
    {
      "cell_type": "code",
      "metadata": {
        "colab": {
          "base_uri": "https://localhost:8080/"
        },
        "id": "36OTya97cmXM",
        "outputId": "1b4be28e-9059-42ee-8026-82f7b1d8ab41"
      },
      "source": [
        "decoded_imgs = autoencoder.predict(X_test, verbose=0)\n",
        "print(decoded_imgs.shape)"
      ],
      "execution_count": 107,
      "outputs": [
        {
          "output_type": "stream",
          "text": [
            "(10000, 28, 28, 1)\n"
          ],
          "name": "stdout"
        }
      ]
    },
    {
      "cell_type": "code",
      "metadata": {
        "colab": {
          "base_uri": "https://localhost:8080/",
          "height": 219
        },
        "id": "zox62FVscmXO",
        "outputId": "5da54458-0481-48c7-caa2-77702cc67468"
      },
      "source": [
        "plot_result(X_test_flat,decoded_imgs)"
      ],
      "execution_count": 108,
      "outputs": [
        {
          "output_type": "display_data",
          "data": {
            "image/png": "[encoded data removed]",
            "text/plain": [
              "<Figure size 1440x288 with 20 Axes>"
            ]
          },
          "metadata": {
            "tags": [],
            "needs_background": "light"
          }
        }
      ]
    },
    {
      "cell_type": "markdown",
      "metadata": {
        "id": "bmRYGlPmcmXP"
      },
      "source": [
        "## Denoising autoencoder\n",
        "First add some noise."
      ]
    },
    {
      "cell_type": "code",
      "metadata": {
        "id": "1A2cVbMCcmXR"
      },
      "source": [
        "noise_factor = 0.25 #chose a noise factor between 0.0 and 1.0\n",
        "X_train_noisy = X_train + noise_factor * np.random.normal(loc=0.0, scale=1.0, size=X_train.shape)\n",
        "X_test_noisy = X_test + noise_factor * np.random.normal(loc=0.0, scale=1.0, size=X_test.shape)\n",
        "X_train_noisy = np.clip(X_train_noisy, 0., 1.)\n",
        "X_test_noisy = np.clip(X_test_noisy, 0., 1.)"
      ],
      "execution_count": 119,
      "outputs": []
    },
    {
      "cell_type": "code",
      "metadata": {
        "colab": {
          "base_uri": "https://localhost:8080/",
          "height": 193
        },
        "id": "N2yR1_W4cmXS",
        "outputId": "be7f5368-891d-4589-9447-da164ca1957f"
      },
      "source": [
        "plt.figure(figsize=[5,5])\n",
        "\n",
        "# Display the first image in training data\n",
        "plt.subplot(121)\n",
        "curr_img = np.reshape(X_train_noisy[1], (28,28))\n",
        "plt.imshow(curr_img, cmap='gray')\n",
        "\n",
        "# Display the first image in testing data\n",
        "plt.subplot(122)\n",
        "curr_img = np.reshape(X_test_noisy[1], (28,28))\n",
        "plt.imshow(curr_img, cmap='gray')"
      ],
      "execution_count": 120,
      "outputs": [
        {
          "output_type": "execute_result",
          "data": {
            "text/plain": [
              "<matplotlib.image.AxesImage at 0x7fdec9e83910>"
            ]
          },
          "metadata": {
            "tags": []
          },
          "execution_count": 120
        },
        {
          "output_type": "display_data",
          "data": {
            "image/png": "[encoded data removed]",
            "text/plain": [
              "<Figure size 360x360 with 2 Axes>"
            ]
          },
          "metadata": {
            "tags": [],
            "needs_background": "light"
          }
        }
      ]
    },
    {
      "cell_type": "code",
      "metadata": {
        "colab": {
          "base_uri": "https://localhost:8080/"
        },
        "id": "Ip8YCfHicmXT",
        "outputId": "36581699-78a1-4aef-f02b-c6d0f9c2cdd1"
      },
      "source": [
        "# REDEFINE HERE A CONV AUTOENCODER FOR THE DENOISING WITH A SIMILAR ARCHITECTURE\n",
        "input_img = Input((28,28,1))\n",
        "# encoder\n",
        "conv1 = Conv2D(32, kernel_size=3, padding='same', activation='relu')(input_img) #28 x 28 x 32\n",
        "pool1 = MaxPooling2D()(conv1) #14 x 14 x 32\n",
        "conv2 = Conv2D(64, kernel_size=3, padding='same', activation='relu')(pool1) #14 x 14 x 64\n",
        "pool2 = MaxPooling2D()(conv2) #7 x 7 x 64\n",
        "conv3 = Conv2D(128, kernel_size=3, padding='same', activation='relu')(pool2) #7 x 7 x 128 (small and thick)\n",
        "# decoder\n",
        "conv4 = Conv2D(128, kernel_size=3, padding='same', activation='relu')(conv3) #7 x 7 x 128\n",
        "up1 = UpSampling2D()(conv4) # 14 x 14 x 128 (UpSampling2D())\n",
        "conv5 = Conv2D(64, kernel_size=3, padding='same', activation='relu')(up1) # 14 x 14 x 64\n",
        "up2 = UpSampling2D()(conv5) # 28 x 28 x 64\n",
        "decoded = Conv2D(1, kernel_size=1, padding='same', activation='relu')(up2) # 28 x 28 x 1\n",
        "# autoencoder\n",
        "autoencoder = Model(inputs=input_img, outputs=decoded)\n",
        "autoencoder.compile(\n",
        "    loss='mse',\n",
        "    optimizer=tf.keras.optimizers.Adam()\n",
        ")\n",
        "autoencoder.summary()"
      ],
      "execution_count": 121,
      "outputs": [
        {
          "output_type": "stream",
          "text": [
            "Model: \"model_46\"\n",
            "_________________________________________________________________\n",
            "Layer (type)                 Output Shape              Param #   \n",
            "=================================================================\n",
            "input_38 (InputLayer)        [(None, 28, 28, 1)]       0         \n",
            "_________________________________________________________________\n",
            "conv2d_54 (Conv2D)           (None, 28, 28, 32)        320       \n",
            "_________________________________________________________________\n",
            "max_pooling2d_18 (MaxPooling (None, 14, 14, 32)        0         \n",
            "_________________________________________________________________\n",
            "conv2d_55 (Conv2D)           (None, 14, 14, 64)        18496     \n",
            "_________________________________________________________________\n",
            "max_pooling2d_19 (MaxPooling (None, 7, 7, 64)          0         \n",
            "_________________________________________________________________\n",
            "conv2d_56 (Conv2D)           (None, 7, 7, 128)         73856     \n",
            "_________________________________________________________________\n",
            "conv2d_57 (Conv2D)           (None, 7, 7, 128)         147584    \n",
            "_________________________________________________________________\n",
            "up_sampling2d_18 (UpSampling (None, 14, 14, 128)       0         \n",
            "_________________________________________________________________\n",
            "conv2d_58 (Conv2D)           (None, 14, 14, 64)        73792     \n",
            "_________________________________________________________________\n",
            "up_sampling2d_19 (UpSampling (None, 28, 28, 64)        0         \n",
            "_________________________________________________________________\n",
            "conv2d_59 (Conv2D)           (None, 28, 28, 1)         65        \n",
            "=================================================================\n",
            "Total params: 314,113\n",
            "Trainable params: 314,113\n",
            "Non-trainable params: 0\n",
            "_________________________________________________________________\n"
          ],
          "name": "stdout"
        }
      ]
    },
    {
      "cell_type": "code",
      "metadata": {
        "colab": {
          "base_uri": "https://localhost:8080/"
        },
        "id": "kiwrZ7dKcmXU",
        "outputId": "44f2daf5-f700-44d2-da92-0c4a4f28768a"
      },
      "source": [
        "# train on the noisy images and use as target the original clean images\n",
        "log = autoencoder.fit(X_train_noisy, X_train, batch_size=128, epochs=1,\n",
        "                        verbose=1, validation_data=(X_test_noisy, X_test))"
      ],
      "execution_count": 122,
      "outputs": [
        {
          "output_type": "stream",
          "text": [
            "469/469 [==============================] - 228s 486ms/step - loss: 0.0689 - val_loss: 0.0281\n"
          ],
          "name": "stdout"
        }
      ]
    },
    {
      "cell_type": "code",
      "metadata": {
        "colab": {
          "base_uri": "https://localhost:8080/"
        },
        "id": "7AwScEv0cmXV",
        "outputId": "d9ae652a-7304-4c5c-a397-547da875850f"
      },
      "source": [
        "decoded_imgs = autoencoder.predict(X_test_noisy, verbose=0)\n",
        "print(decoded_imgs.shape)"
      ],
      "execution_count": 123,
      "outputs": [
        {
          "output_type": "stream",
          "text": [
            "(10000, 28, 28, 1)\n"
          ],
          "name": "stdout"
        }
      ]
    },
    {
      "cell_type": "code",
      "metadata": {
        "colab": {
          "base_uri": "https://localhost:8080/",
          "height": 219
        },
        "id": "LK-pzRWqcmXW",
        "outputId": "1bd7b790-acf1-4a7c-9dee-1b4c9af474a3"
      },
      "source": [
        "plot_result(X_test_noisy,decoded_imgs)"
      ],
      "execution_count": 124,
      "outputs": [
        {
          "output_type": "display_data",
          "data": {
            "image/png": "[encoded data removed]",
            "text/plain": [
              "<Figure size 1440x288 with 20 Axes>"
            ]
          },
          "metadata": {
            "tags": [],
            "needs_background": "light"
          }
        }
      ]
    },
    {
      "cell_type": "code",
      "metadata": {
        "id": "KeD6F2aT0AUm"
      },
      "source": [
        ""
      ],
      "execution_count": null,
      "outputs": []
    }
  ]
}