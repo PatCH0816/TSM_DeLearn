{
 "cells": [
  {
   "cell_type": "code",
   "execution_count": 1,
   "metadata": {
    "scrolled": true
   },
   "outputs": [],
   "source": [
    "import glob\n",
    "import os\n",
    "import string\n",
    "\n",
    "import numpy as np\n",
    "import pandas as pd\n",
    "\n",
    "from matplotlib import pyplot as plt\n",
    "import matplotlib.ticker as ticker\n",
    "\n",
    "from sklearn.metrics import confusion_matrix"
   ]
  },
  {
   "cell_type": "markdown",
   "metadata": {},
   "source": [
    "### Load Data\n",
    "\n",
    "The names can be found in text files in a src directory, one file per language.\n",
    "\n",
    "In the following you can find some utilities to load the data into pandas data frames. \n",
    "\n",
    "We will restrict to some common European languages. \n",
    "\n",
    "With the given selection, we will identify all the occurring characters and initialize an alphabet.<br>\n",
    "For this alphabet, we will use a one-hot-encoding to map them into a vector space representation. \n",
    "\n",
    "Foresee a suitable character for the end of the word, e.g. 'END'."
   ]
  },
  {
   "cell_type": "code",
   "execution_count": 2,
   "metadata": {},
   "outputs": [],
   "source": [
    "srcdir = 'data/names'\n",
    "languages = [\"English\",\"French\",\"Italian\",\"German\",\"Spanish\"]"
   ]
  },
  {
   "cell_type": "code",
   "execution_count": 3,
   "metadata": {},
   "outputs": [],
   "source": [
    "# inspect the data directory\n",
    "def findFiles(path): \n",
    "    return glob.glob(path)"
   ]
  },
  {
   "cell_type": "code",
   "execution_count": 4,
   "metadata": {},
   "outputs": [
    {
     "name": "stdout",
     "output_type": "stream",
     "text": [
      "data/names/Scottish.txt\n",
      "data/names/Vietnamese.txt\n",
      "data/names/English.txt\n",
      "data/names/Italian.txt\n",
      "data/names/Dutch.txt\n",
      "data/names/Portuguese.txt\n",
      "data/names/German.txt\n",
      "data/names/Polish.txt\n",
      "data/names/Irish.txt\n",
      "data/names/Russian.txt\n",
      "data/names/Greek.txt\n",
      "data/names/Czech.txt\n",
      "data/names/Chinese.txt\n",
      "data/names/Japanese.txt\n",
      "data/names/Arabic.txt\n",
      "data/names/Spanish.txt\n",
      "data/names/Korean.txt\n",
      "data/names/French.txt\n"
     ]
    }
   ],
   "source": [
    "print('\\n'.join(findFiles(os.path.join(srcdir,'*.txt'))))"
   ]
  },
  {
   "cell_type": "code",
   "execution_count": 5,
   "metadata": {},
   "outputs": [],
   "source": [
    "# Read a file and split into lines\n",
    "def readLines(filename):\n",
    "    lines = open(filename, encoding='utf-8').read().strip().split('\\n')\n",
    "    return lines\n",
    "\n",
    "def load_data(srcdir, categories=None):\n",
    "    names_list = []\n",
    "    for filename in findFiles(os.path.join(srcdir,'*.txt')):\n",
    "        category = os.path.splitext(os.path.basename(filename))[0]\n",
    "        if not categories or category in categories: \n",
    "            names = readLines(filename)\n",
    "            names_list.extend([(name,category) for name in names])\n",
    "    df = pd.DataFrame(names_list)\n",
    "    df.columns = [\"name\",\"lang\"]\n",
    "    return df"
   ]
  },
  {
   "cell_type": "code",
   "execution_count": 6,
   "metadata": {},
   "outputs": [
    {
     "data": {
      "text/html": [
       "<div>\n",
       "<style scoped>\n",
       "    .dataframe tbody tr th:only-of-type {\n",
       "        vertical-align: middle;\n",
       "    }\n",
       "\n",
       "    .dataframe tbody tr th {\n",
       "        vertical-align: top;\n",
       "    }\n",
       "\n",
       "    .dataframe thead th {\n",
       "        text-align: right;\n",
       "    }\n",
       "</style>\n",
       "<table border=\"1\" class=\"dataframe\">\n",
       "  <thead>\n",
       "    <tr style=\"text-align: right;\">\n",
       "      <th></th>\n",
       "      <th>name</th>\n",
       "      <th>lang</th>\n",
       "    </tr>\n",
       "  </thead>\n",
       "  <tbody>\n",
       "    <tr>\n",
       "      <th>0</th>\n",
       "      <td>Abbas</td>\n",
       "      <td>English</td>\n",
       "    </tr>\n",
       "    <tr>\n",
       "      <th>1</th>\n",
       "      <td>Abbey</td>\n",
       "      <td>English</td>\n",
       "    </tr>\n",
       "    <tr>\n",
       "      <th>2</th>\n",
       "      <td>Abbott</td>\n",
       "      <td>English</td>\n",
       "    </tr>\n",
       "    <tr>\n",
       "      <th>3</th>\n",
       "      <td>Abdi</td>\n",
       "      <td>English</td>\n",
       "    </tr>\n",
       "    <tr>\n",
       "      <th>4</th>\n",
       "      <td>Abel</td>\n",
       "      <td>English</td>\n",
       "    </tr>\n",
       "  </tbody>\n",
       "</table>\n",
       "</div>"
      ],
      "text/plain": [
       "     name     lang\n",
       "0   Abbas  English\n",
       "1   Abbey  English\n",
       "2  Abbott  English\n",
       "3    Abdi  English\n",
       "4    Abel  English"
      ]
     },
     "execution_count": 6,
     "metadata": {},
     "output_type": "execute_result"
    }
   ],
   "source": [
    "names = load_data(srcdir,categories=languages)\n",
    "names.head()"
   ]
  },
  {
   "cell_type": "code",
   "execution_count": 7,
   "metadata": {},
   "outputs": [
    {
     "name": "stdout",
     "output_type": "stream",
     "text": [
      "Maximum name length:  18\n"
     ]
    }
   ],
   "source": [
    "maxlen = np.max([len(name) for name in names.name])\n",
    "print(\"Maximum name length: \", maxlen)"
   ]
  },
  {
   "cell_type": "code",
   "execution_count": 8,
   "metadata": {},
   "outputs": [
    {
     "name": "stdout",
     "output_type": "stream",
     "text": [
      "Size of alphabet:  74\n",
      "[' ', \"'\", 'A', 'B', 'C', 'D', 'E', 'F', 'G', 'H', 'I', 'J', 'K', 'L', 'M', 'N', 'O', 'P', 'Q', 'R', 'S', 'T', 'U', 'V', 'W', 'X', 'Y', 'Z', 'a', 'b', 'c', 'd', 'e', 'f', 'g', 'h', 'i', 'j', 'k', 'l', 'm', 'n', 'o', 'p', 'q', 'r', 's', 't', 'u', 'v', 'w', 'x', 'y', 'z', 'Á', 'É', 'ß', 'à', 'á', 'ä', 'ç', 'è', 'é', 'ê', 'ì', 'í', 'ñ', 'ò', 'ó', 'ö', 'ù', 'ú', 'ü', 'END']\n"
     ]
    }
   ],
   "source": [
    "alphabet = sorted(list(set(''.join([name for name in names.name]))))\n",
    "alphabet.append('END')\n",
    "len_alphabet = len(alphabet)\n",
    "char_index = dict((c, i) for i, c in enumerate(alphabet))\n",
    "print(\"Size of alphabet: \",len_alphabet)\n",
    "print(alphabet)"
   ]
  },
  {
   "cell_type": "code",
   "execution_count": 9,
   "metadata": {},
   "outputs": [
    {
     "data": {
      "text/plain": [
       "lang\n",
       "English    0.646230\n",
       "French     0.048802\n",
       "German     0.127555\n",
       "Italian    0.124912\n",
       "Spanish    0.052502\n",
       "Name: name, dtype: float64"
      ]
     },
     "execution_count": 9,
     "metadata": {},
     "output_type": "execute_result"
    }
   ],
   "source": [
    "names.groupby('lang')['name'].count()/len(names)"
   ]
  },
  {
   "cell_type": "markdown",
   "metadata": {},
   "source": [
    "### Vector Representations\n",
    "\n",
    "Now construct the vector representation by using one-hot-vectors. "
   ]
  },
  {
   "cell_type": "code",
   "execution_count": 10,
   "metadata": {},
   "outputs": [],
   "source": [
    "language_to_index = {country:index for index,country in enumerate(names.lang.unique())}\n",
    "index_to_language = {index:country for index,country in enumerate(names.lang.unique())}\n",
    "\n",
    "def onehot(i, length):\n",
    "    v = np.zeros(length);\n",
    "    v[i] = 1\n",
    "    return v\n",
    "\n",
    "def name_representation(name, maxlen):\n",
    "    ### START YOUR CODE\n",
    "    name_trunc = str(name)[0:maxlen]\n",
    "    size = len(char_index)\n",
    "    vector = [onehot(char_index[j], size) for j in str(name)]\n",
    "    # fill the rest with \n",
    "    for k in range(0,maxlen - len(str(name))):\n",
    "        vector.append(onehot(char_index['END'], size))\n",
    "    return vector\n",
    "    ### START YOUR CODE\n",
    "\n",
    "def lang_representation(language, language_to_index):\n",
    "    y = np.zeros(len(language_to_index))\n",
    "    y[language_to_index[language]]=1\n",
    "    return y\n",
    "\n",
    "def lang_from_output(score):\n",
    "    return index_to_language[np.argmax(score)]\n",
    "\n",
    "def predict(name, model):\n",
    "    score = model.predict(np.array([name_representation(name, maxlen)]))[0]\n",
    "    return lang_from_output(score)"
   ]
  },
  {
   "cell_type": "markdown",
   "metadata": {},
   "source": [
    "### Prepare train/test\n",
    "\n",
    "Split the data into train/test\n",
    "\n",
    "Shuffle the data\n",
    "\n",
    "Transform the names data into a suitable vector respresentation:\n",
    "* names into numpy arrays of shape (*,maxlen,len_alphabet)\n",
    "* language into numpy array of shape (*,len(languages))\n",
    "\n"
   ]
  },
  {
   "cell_type": "code",
   "execution_count": 11,
   "metadata": {},
   "outputs": [],
   "source": [
    "from sklearn.model_selection import train_test_split\n",
    "\n",
    "test_split = 0.2\n",
    "\n",
    "### START YOUR CODE\n",
    "# Shuffle and split names data\n",
    "\n",
    "X_train, X_test, y_train, y_test = train_test_split(names['name'],\n",
    "                                                    names['lang'],\n",
    "                                                    test_size=test_split,\n",
    "                                                    shuffle=True)\n",
    "\n",
    "### END YOUR CODE"
   ]
  },
  {
   "cell_type": "code",
   "execution_count": 12,
   "metadata": {},
   "outputs": [],
   "source": [
    "### START YOUR CODE\n",
    "\n",
    "## Run this cell only once!\n",
    "\n",
    "# Map train data into vector space (one-hot-vectors)\n",
    "X_train_tmp = []\n",
    "y_train_tmp = []\n",
    "\n",
    "for idx in range(len(X_train)):\n",
    "  X_train_tmp.append(name_representation(X_train.iloc[idx], maxlen))\n",
    "  y_train_tmp.append(lang_representation(y_train.iloc[idx], language_to_index))\n",
    "\n",
    "X_train = np.array(X_train_tmp)\n",
    "Y_train = np.vstack(y_train_tmp)\n",
    "\n",
    "# Map test data into vector space (one-hot-vectors)\n",
    "X_test_tmp = []\n",
    "y_test_tmp = []\n",
    "\n",
    "for idx in range(len(X_test)):\n",
    "  X_test_tmp.append(name_representation(X_test.iloc[idx], maxlen))\n",
    "  y_test_tmp.append(lang_representation(y_test.iloc[idx], language_to_index))\n",
    "\n",
    "X_test = np.array(X_test_tmp)\n",
    "Y_test = np.vstack(y_test_tmp)\n",
    "\n",
    "### END YOUR CODE"
   ]
  },
  {
   "cell_type": "code",
   "execution_count": 13,
   "metadata": {},
   "outputs": [],
   "source": [
    "# Check X_train and X_test shapes:\n",
    "# names into numpy arrays of shape (*,maxlen,len_alphabet)\n",
    "np.testing.assert_array_equal(X_train.shape, [4540, 18, 74])\n",
    "np.testing.assert_array_equal(X_test.shape, [1136, 18, 74])\n"
   ]
  },
  {
   "cell_type": "code",
   "execution_count": 14,
   "metadata": {},
   "outputs": [],
   "source": [
    "# Check Y_train and Y_test:\n",
    "# language into numpy array of shape (*,len(languages))\n",
    "np.testing.assert_array_equal(Y_train.shape, [4540, 5])\n",
    "np.testing.assert_array_equal(Y_test.shape, [1136, 5])\n"
   ]
  },
  {
   "cell_type": "markdown",
   "metadata": {},
   "source": [
    "### Utilities"
   ]
  },
  {
   "cell_type": "code",
   "execution_count": 15,
   "metadata": {},
   "outputs": [],
   "source": [
    "def performance_plots(model, X_test, Y_test, log, epochs):    \n",
    "    acc = log.history['accuracy']\n",
    "    val_acc = log.history['val_accuracy']\n",
    "    print('Train accuracy (end):', acc[-1])\n",
    "    print('Train accuracy (max):', np.max(acc))\n",
    "    print('Test accuracy (end) :', val_acc[-1])\n",
    "    print('Test accuracy (max) :', np.max(val_acc))\n",
    "\n",
    "    plt.plot(log.history['accuracy'])\n",
    "    plt.plot(log.history['val_accuracy'])\n",
    "    plt.title('model accuracy')\n",
    "    plt.ylabel('accuracy')\n",
    "    plt.xlabel('epoch')\n",
    "    plt.legend(['train','test'], loc='upper left')\n",
    "    plt.axis([0,epochs,0.0,1.0])\n",
    "    plt.show()\n",
    "\n",
    "    plt.plot(log.history['loss'])\n",
    "    plt.plot(log.history['val_loss'])\n",
    "    plt.title('model loss')\n",
    "    plt.ylabel('loss')\n",
    "    plt.xlabel('epoch')\n",
    "    plt.legend(['train','test'], loc = 'upper left')\n",
    "    plt.axis([0,epochs,0.0,2.0])\n",
    "    plt.show()"
   ]
  },
  {
   "cell_type": "code",
   "execution_count": 16,
   "metadata": {},
   "outputs": [],
   "source": [
    "import sklearn\n",
    "import pandas as pd\n",
    "\n",
    "def confusion_matrix(model, X_test, Y_test):\n",
    "    scores = model.predict(X_test)\n",
    "    predictions = np.argmax(scores, axis=1)\n",
    "    labels = np.argmax(Y_test, axis=1)\n",
    "    nsamples = Y_test.shape[0]\n",
    "    cm = sklearn.metrics.confusion_matrix(labels, predictions)\n",
    "    df = pd.DataFrame({languages[i] : cm[:,i] for i in range(len(languages))}, languages)\n",
    "    return df, cm"
   ]
  },
  {
   "cell_type": "markdown",
   "metadata": {},
   "source": [
    "### Define and Train Model: Single Layer with SimpleRNN\n",
    "\n",
    "Create an RNN consisting of a single layer with a SimpleRNN (keras) and a softmax.\n",
    "\n",
    "Then train the model. Play with different number of hidden units in the layer to obtain a good accuracy."
   ]
  },
  {
   "cell_type": "code",
   "execution_count": 17,
   "metadata": {
    "tags": []
   },
   "outputs": [
    {
     "name": "stdout",
     "output_type": "stream",
     "text": [
      "Model: \"sequential\"\n",
      "_________________________________________________________________\n",
      "Layer (type)                 Output Shape              Param #   \n",
      "=================================================================\n",
      "simple_rnn (SimpleRNN)       (None, 128)               25984     \n",
      "_________________________________________________________________\n",
      "dense (Dense)                (None, 5)                 645       \n",
      "=================================================================\n",
      "Total params: 26,629\n",
      "Trainable params: 26,629\n",
      "Non-trainable params: 0\n",
      "_________________________________________________________________\n"
     ]
    }
   ],
   "source": [
    "### START YOUR CODE\n",
    "\n",
    "import tensorflow as tf\n",
    "from tensorflow.keras.models import Sequential\n",
    "from tensorflow.keras.layers import Input,\\\n",
    "                                    Dense,\\\n",
    "                                    SimpleRNN\n",
    "\n",
    "# SImpleRNN, single layer with tf.keras....\n",
    "\n",
    "model = Sequential()\n",
    "\n",
    "# Input: names in numpy arrays of shape (*,maxlen,len_alphabet)\n",
    "# Input: names in numpy arrays of shape (*,18,74)\n",
    "model.add(Input((maxlen,len_alphabet)))\n",
    "\n",
    "model.add(SimpleRNN(128))\n",
    "model.add(Dense(len(languages), activation='softmax'))\n",
    "\n",
    "model.summary()\n",
    "\n",
    "### END YOUR CODE"
   ]
  },
  {
   "cell_type": "code",
   "execution_count": 18,
   "metadata": {},
   "outputs": [],
   "source": [
    "# Training parameters\n",
    "batch_size = 64\n",
    "nepochs = 50\n",
    "patience = 10\n",
    "\n",
    "early_stopping = tf.keras.callbacks.EarlyStopping(\n",
    "    monitor='val_loss',\n",
    "    patience=10,\n",
    "    restore_best_weights=True,\n",
    "    verbose=1\n",
    ")\n"
   ]
  },
  {
   "cell_type": "code",
   "execution_count": 19,
   "metadata": {
    "scrolled": false
   },
   "outputs": [
    {
     "name": "stdout",
     "output_type": "stream",
     "text": [
      "Epoch 1/50\n",
      "71/71 [==============================] - 1s 9ms/step - loss: 1.2023 - accuracy: 0.5822 - val_loss: 0.8490 - val_accuracy: 0.7148\n",
      "Epoch 2/50\n",
      "71/71 [==============================] - 0s 4ms/step - loss: 0.8794 - accuracy: 0.6856 - val_loss: 0.7987 - val_accuracy: 0.7148\n",
      "Epoch 3/50\n",
      "71/71 [==============================] - 0s 4ms/step - loss: 0.7966 - accuracy: 0.7174 - val_loss: 0.7296 - val_accuracy: 0.7359\n",
      "Epoch 4/50\n",
      "71/71 [==============================] - 0s 4ms/step - loss: 0.7118 - accuracy: 0.7407 - val_loss: 0.6830 - val_accuracy: 0.7667\n",
      "Epoch 5/50\n",
      "71/71 [==============================] - 0s 4ms/step - loss: 0.6758 - accuracy: 0.7555 - val_loss: 0.6694 - val_accuracy: 0.7650\n",
      "Epoch 6/50\n",
      "71/71 [==============================] - 0s 4ms/step - loss: 0.6587 - accuracy: 0.7622 - val_loss: 0.6623 - val_accuracy: 0.7588\n",
      "Epoch 7/50\n",
      "71/71 [==============================] - 0s 4ms/step - loss: 0.6347 - accuracy: 0.7658 - val_loss: 0.6267 - val_accuracy: 0.7826\n",
      "Epoch 8/50\n",
      "71/71 [==============================] - 0s 4ms/step - loss: 0.5682 - accuracy: 0.7978 - val_loss: 0.6527 - val_accuracy: 0.7755\n",
      "Epoch 9/50\n",
      "71/71 [==============================] - 0s 4ms/step - loss: 0.5619 - accuracy: 0.8010 - val_loss: 0.6374 - val_accuracy: 0.7606\n",
      "Epoch 10/50\n",
      "71/71 [==============================] - 0s 4ms/step - loss: 0.5199 - accuracy: 0.8151 - val_loss: 0.6953 - val_accuracy: 0.7324\n",
      "Epoch 11/50\n",
      "71/71 [==============================] - 0s 4ms/step - loss: 0.5246 - accuracy: 0.8045 - val_loss: 0.6852 - val_accuracy: 0.7535\n",
      "Epoch 12/50\n",
      "71/71 [==============================] - 0s 4ms/step - loss: 0.4817 - accuracy: 0.8248 - val_loss: 0.6391 - val_accuracy: 0.7711\n",
      "Epoch 13/50\n",
      "71/71 [==============================] - 0s 4ms/step - loss: 0.4419 - accuracy: 0.8420 - val_loss: 0.7039 - val_accuracy: 0.7606\n",
      "Epoch 14/50\n",
      "71/71 [==============================] - 0s 4ms/step - loss: 0.4226 - accuracy: 0.8492 - val_loss: 0.6613 - val_accuracy: 0.7685\n",
      "Epoch 15/50\n",
      "71/71 [==============================] - 0s 4ms/step - loss: 0.3844 - accuracy: 0.8675 - val_loss: 0.6535 - val_accuracy: 0.7773\n",
      "Epoch 16/50\n",
      "71/71 [==============================] - 0s 4ms/step - loss: 0.3942 - accuracy: 0.8586 - val_loss: 0.6886 - val_accuracy: 0.7553\n",
      "Epoch 17/50\n",
      "71/71 [==============================] - 0s 4ms/step - loss: 0.3665 - accuracy: 0.8712 - val_loss: 0.6580 - val_accuracy: 0.7905\n",
      "Restoring model weights from the end of the best epoch.\n",
      "Epoch 00017: early stopping\n"
     ]
    }
   ],
   "source": [
    "### START YOUR CODE\n",
    "\n",
    "# train model\n",
    "model.compile(loss=tf.keras.losses.CategoricalCrossentropy(),\n",
    "              optimizer=\"adam\",\n",
    "              metrics=[\"accuracy\"])\n",
    "\n",
    "log = model.fit(X_train, Y_train, \\\n",
    "                batch_size=batch_size, \\\n",
    "                epochs=nepochs, \\\n",
    "                validation_data=(X_test, Y_test), \\\n",
    "                callbacks=[early_stopping])\n",
    "\n",
    "### END YOUR CODE"
   ]
  },
  {
   "cell_type": "code",
   "execution_count": 20,
   "metadata": {},
   "outputs": [
    {
     "name": "stdout",
     "output_type": "stream",
     "text": [
      "Train accuracy (end): 0.8674008846282959\n",
      "Train accuracy (max): 0.8674008846282959\n",
      "Test accuracy (end) : 0.7904929518699646\n",
      "Test accuracy (max) : 0.7904929518699646\n"
     ]
    },
    {
     "data": {
      "image/png": "[encoded data removed]",
      "text/plain": [
       "<Figure size 432x288 with 1 Axes>"
      ]
     },
     "metadata": {
      "needs_background": "light"
     },
     "output_type": "display_data"
    },
    {
     "data": {
      "image/png": "[encoded data removed]",
      "text/plain": [
       "<Figure size 432x288 with 1 Axes>"
      ]
     },
     "metadata": {
      "needs_background": "light"
     },
     "output_type": "display_data"
    },
    {
     "data": {
      "text/html": [
       "<div>\n",
       "<style scoped>\n",
       "    .dataframe tbody tr th:only-of-type {\n",
       "        vertical-align: middle;\n",
       "    }\n",
       "\n",
       "    .dataframe tbody tr th {\n",
       "        vertical-align: top;\n",
       "    }\n",
       "\n",
       "    .dataframe thead th {\n",
       "        text-align: right;\n",
       "    }\n",
       "</style>\n",
       "<table border=\"1\" class=\"dataframe\">\n",
       "  <thead>\n",
       "    <tr style=\"text-align: right;\">\n",
       "      <th></th>\n",
       "      <th>English</th>\n",
       "      <th>French</th>\n",
       "      <th>Italian</th>\n",
       "      <th>German</th>\n",
       "      <th>Spanish</th>\n",
       "    </tr>\n",
       "  </thead>\n",
       "  <tbody>\n",
       "    <tr>\n",
       "      <th>English</th>\n",
       "      <td>719</td>\n",
       "      <td>23</td>\n",
       "      <td>16</td>\n",
       "      <td>4</td>\n",
       "      <td>0</td>\n",
       "    </tr>\n",
       "    <tr>\n",
       "      <th>French</th>\n",
       "      <td>26</td>\n",
       "      <td>101</td>\n",
       "      <td>1</td>\n",
       "      <td>3</td>\n",
       "      <td>1</td>\n",
       "    </tr>\n",
       "    <tr>\n",
       "      <th>Italian</th>\n",
       "      <td>72</td>\n",
       "      <td>7</td>\n",
       "      <td>51</td>\n",
       "      <td>0</td>\n",
       "      <td>0</td>\n",
       "    </tr>\n",
       "    <tr>\n",
       "      <th>German</th>\n",
       "      <td>15</td>\n",
       "      <td>24</td>\n",
       "      <td>5</td>\n",
       "      <td>11</td>\n",
       "      <td>1</td>\n",
       "    </tr>\n",
       "    <tr>\n",
       "      <th>Spanish</th>\n",
       "      <td>41</td>\n",
       "      <td>4</td>\n",
       "      <td>1</td>\n",
       "      <td>3</td>\n",
       "      <td>7</td>\n",
       "    </tr>\n",
       "  </tbody>\n",
       "</table>\n",
       "</div>"
      ],
      "text/plain": [
       "         English  French  Italian  German  Spanish\n",
       "English      719      23       16       4        0\n",
       "French        26     101        1       3        1\n",
       "Italian       72       7       51       0        0\n",
       "German        15      24        5      11        1\n",
       "Spanish       41       4        1       3        7"
      ]
     },
     "execution_count": 20,
     "metadata": {},
     "output_type": "execute_result"
    }
   ],
   "source": [
    "performance_plots(model, X_test, Y_test, log, nepochs)\n",
    "df, cm = confusion_matrix(model, X_test, Y_test)\n",
    "df"
   ]
  },
  {
   "cell_type": "markdown",
   "metadata": {},
   "source": [
    "#### Findings\n",
    "A test accuracy of about 79% for such a small RNN is very good! Nevertheless, there seems to be a large confusion with italian/french, french/english, english/french, etc.  \n",
    "Since we assume, that all names are equally likely to be observed, we need to handle our class inbalance in our dataset. Let's do this in the following sections:"
   ]
  },
  {
   "cell_type": "markdown",
   "metadata": {},
   "source": [
    "### Handle Class Imbalance, Resampling\n",
    "\n",
    "We can observe a quite significant class imbalance in the data.<br>\n",
    "\n",
    "One way to compensate for that would be to use resampling."
   ]
  },
  {
   "cell_type": "code",
   "execution_count": 21,
   "metadata": {},
   "outputs": [],
   "source": [
    "def handle_imbalance(names, languages):\n",
    "\n",
    "    ### START YOUR CODE\n",
    "    \n",
    "    # find max. number of samples of all languages\n",
    "    max_nr_samples = names.groupby('lang')['name'].count().max()\n",
    "\n",
    "    # treat class imbalance\n",
    "    for lang in languages:\n",
    "      act_lang = names.loc[names['lang'] == lang]\n",
    "      nr_samples = act_lang.count()[0]\n",
    "      \n",
    "      # resampling\n",
    "      if (nr_samples < max_nr_samples):\n",
    "        nr_resampled_samples = max_nr_samples - nr_samples\n",
    "        \n",
    "        resamples = act_lang.sample(nr_resampled_samples,\n",
    "                                    replace=True)\n",
    "        names = names.append(resamples)\n",
    "      \n",
    "    names_upsampled = names\n",
    "\n",
    "    ### END YOUR CODE    \n",
    "    return names_upsampled\n"
   ]
  },
  {
   "cell_type": "code",
   "execution_count": 22,
   "metadata": {},
   "outputs": [
    {
     "data": {
      "text/plain": [
       "lang\n",
       "English    0.2\n",
       "French     0.2\n",
       "German     0.2\n",
       "Italian    0.2\n",
       "Spanish    0.2\n",
       "Name: name, dtype: float64"
      ]
     },
     "execution_count": 22,
     "metadata": {},
     "output_type": "execute_result"
    }
   ],
   "source": [
    "names_upsampled = handle_imbalance(names, languages)\n",
    "names_upsampled.groupby('lang')['name'].count()/len(names_upsampled)"
   ]
  },
  {
   "cell_type": "markdown",
   "metadata": {},
   "source": [
    "#### Train Model\n",
    "\n",
    "Again prepare train and test data (X_train, X_test, Y_train, Y_test)\n",
    "\n",
    "Train the same model as above with the new data."
   ]
  },
  {
   "cell_type": "code",
   "execution_count": 23,
   "metadata": {},
   "outputs": [],
   "source": [
    "### START YOUR CODE\n",
    "\n",
    "X_train, X_test, y_train, y_test = train_test_split(names_upsampled['name'],\n",
    "                                                    names_upsampled['lang'],\n",
    "                                                    test_size=test_split,\n",
    "                                                    shuffle=True)\n",
    "\n",
    "## Run this cell only once!\n",
    "\n",
    "# Map train data into vector space (one-hot-vectors)\n",
    "X_train_tmp = []\n",
    "y_train_tmp = []\n",
    "\n",
    "for idx in range(len(X_train)):\n",
    "  X_train_tmp.append(name_representation(X_train.iloc[idx], maxlen))\n",
    "  y_train_tmp.append(lang_representation(y_train.iloc[idx], language_to_index))\n",
    "\n",
    "X_train = np.array(X_train_tmp)\n",
    "Y_train = np.vstack(y_train_tmp)\n",
    "\n",
    "# Map test data into vector space (one-hot-vectors)\n",
    "X_test_tmp = []\n",
    "y_test_tmp = []\n",
    "\n",
    "for idx in range(len(X_test)):\n",
    "  X_test_tmp.append(name_representation(X_test.iloc[idx], maxlen))\n",
    "  y_test_tmp.append(lang_representation(y_test.iloc[idx], language_to_index))\n",
    "\n",
    "X_test = np.array(X_test_tmp)\n",
    "Y_test = np.vstack(y_test_tmp)\n",
    "\n",
    "### END YOUR CODE"
   ]
  },
  {
   "cell_type": "code",
   "execution_count": 24,
   "metadata": {
    "scrolled": true
   },
   "outputs": [
    {
     "name": "stdout",
     "output_type": "stream",
     "text": [
      "Epoch 1/50\n",
      "230/230 [==============================] - 1s 4ms/step - loss: 0.8342 - accuracy: 0.6739 - val_loss: 0.6398 - val_accuracy: 0.7565\n",
      "Epoch 2/50\n",
      "230/230 [==============================] - 1s 4ms/step - loss: 0.6233 - accuracy: 0.7595 - val_loss: 0.5164 - val_accuracy: 0.7974\n",
      "Epoch 3/50\n",
      "230/230 [==============================] - 1s 4ms/step - loss: 0.4504 - accuracy: 0.8399 - val_loss: 0.3583 - val_accuracy: 0.8721\n",
      "Epoch 4/50\n",
      "230/230 [==============================] - 1s 4ms/step - loss: 0.3723 - accuracy: 0.8703 - val_loss: 0.3390 - val_accuracy: 0.8721\n",
      "Epoch 5/50\n",
      "230/230 [==============================] - 1s 4ms/step - loss: 0.3050 - accuracy: 0.8979 - val_loss: 0.3173 - val_accuracy: 0.8997\n",
      "Epoch 6/50\n",
      "230/230 [==============================] - 1s 4ms/step - loss: 0.2770 - accuracy: 0.9072 - val_loss: 0.2907 - val_accuracy: 0.9005\n",
      "Epoch 7/50\n",
      "230/230 [==============================] - 1s 4ms/step - loss: 0.2328 - accuracy: 0.9209 - val_loss: 0.2786 - val_accuracy: 0.9076\n",
      "Epoch 8/50\n",
      "230/230 [==============================] - 1s 5ms/step - loss: 0.2160 - accuracy: 0.9274 - val_loss: 0.2522 - val_accuracy: 0.9152\n",
      "Epoch 9/50\n",
      "230/230 [==============================] - 1s 5ms/step - loss: 0.2018 - accuracy: 0.9316 - val_loss: 0.2364 - val_accuracy: 0.9223\n",
      "Epoch 10/50\n",
      "230/230 [==============================] - 1s 4ms/step - loss: 0.1933 - accuracy: 0.9339 - val_loss: 0.2457 - val_accuracy: 0.9155\n",
      "Epoch 11/50\n",
      "230/230 [==============================] - 1s 4ms/step - loss: 0.1715 - accuracy: 0.9442 - val_loss: 0.2266 - val_accuracy: 0.9278\n",
      "Epoch 12/50\n",
      "230/230 [==============================] - 1s 4ms/step - loss: 0.1660 - accuracy: 0.9475 - val_loss: 0.2229 - val_accuracy: 0.9321\n",
      "Epoch 13/50\n",
      "230/230 [==============================] - 1s 4ms/step - loss: 0.1712 - accuracy: 0.9446 - val_loss: 0.2330 - val_accuracy: 0.9209\n",
      "Epoch 14/50\n",
      "230/230 [==============================] - 1s 4ms/step - loss: 0.1679 - accuracy: 0.9443 - val_loss: 0.2491 - val_accuracy: 0.9215\n",
      "Epoch 15/50\n",
      "230/230 [==============================] - 1s 4ms/step - loss: 0.1611 - accuracy: 0.9464 - val_loss: 0.2222 - val_accuracy: 0.9256\n",
      "Epoch 16/50\n",
      "230/230 [==============================] - 1s 4ms/step - loss: 0.1390 - accuracy: 0.9529 - val_loss: 0.2041 - val_accuracy: 0.9384\n",
      "Epoch 17/50\n",
      "230/230 [==============================] - 1s 4ms/step - loss: 0.1487 - accuracy: 0.9488 - val_loss: 0.2156 - val_accuracy: 0.9275\n",
      "Epoch 18/50\n",
      "230/230 [==============================] - 1s 4ms/step - loss: 0.1277 - accuracy: 0.9537 - val_loss: 0.1943 - val_accuracy: 0.9351\n",
      "Epoch 19/50\n",
      "230/230 [==============================] - 1s 5ms/step - loss: 0.1351 - accuracy: 0.9533 - val_loss: 0.2189 - val_accuracy: 0.9332\n",
      "Epoch 20/50\n",
      "230/230 [==============================] - 1s 4ms/step - loss: 0.1499 - accuracy: 0.9491 - val_loss: 0.1938 - val_accuracy: 0.9392\n",
      "Epoch 21/50\n",
      "230/230 [==============================] - 1s 4ms/step - loss: 0.1314 - accuracy: 0.9560 - val_loss: 0.1996 - val_accuracy: 0.9354\n",
      "Epoch 22/50\n",
      "230/230 [==============================] - 1s 4ms/step - loss: 0.1335 - accuracy: 0.9557 - val_loss: 0.1819 - val_accuracy: 0.9365\n",
      "Epoch 23/50\n",
      "230/230 [==============================] - 1s 4ms/step - loss: 0.1251 - accuracy: 0.9565 - val_loss: 0.1972 - val_accuracy: 0.9343\n",
      "Epoch 24/50\n",
      "230/230 [==============================] - 1s 4ms/step - loss: 0.1126 - accuracy: 0.9605 - val_loss: 0.2025 - val_accuracy: 0.9357\n",
      "Epoch 25/50\n",
      "230/230 [==============================] - 1s 4ms/step - loss: 0.1262 - accuracy: 0.9536 - val_loss: 0.2134 - val_accuracy: 0.9228\n",
      "Epoch 26/50\n",
      "230/230 [==============================] - 1s 4ms/step - loss: 0.1463 - accuracy: 0.9492 - val_loss: 0.2090 - val_accuracy: 0.9275\n",
      "Epoch 27/50\n",
      "230/230 [==============================] - 1s 4ms/step - loss: 0.1272 - accuracy: 0.9529 - val_loss: 0.2013 - val_accuracy: 0.9378\n",
      "Epoch 28/50\n",
      "230/230 [==============================] - 1s 4ms/step - loss: 0.1141 - accuracy: 0.9606 - val_loss: 0.2011 - val_accuracy: 0.9346\n",
      "Epoch 29/50\n",
      "230/230 [==============================] - 1s 4ms/step - loss: 0.1277 - accuracy: 0.9546 - val_loss: 0.1923 - val_accuracy: 0.9346\n",
      "Epoch 30/50\n",
      "230/230 [==============================] - 1s 4ms/step - loss: 0.1207 - accuracy: 0.9564 - val_loss: 0.1804 - val_accuracy: 0.9400\n",
      "Epoch 31/50\n",
      "230/230 [==============================] - 1s 4ms/step - loss: 0.1101 - accuracy: 0.9601 - val_loss: 0.2323 - val_accuracy: 0.9294\n",
      "Epoch 32/50\n",
      "230/230 [==============================] - 1s 4ms/step - loss: 0.1401 - accuracy: 0.9496 - val_loss: 0.2255 - val_accuracy: 0.9324\n",
      "Epoch 33/50\n",
      "230/230 [==============================] - 1s 4ms/step - loss: 0.1272 - accuracy: 0.9542 - val_loss: 0.1980 - val_accuracy: 0.9376\n",
      "Epoch 34/50\n",
      "230/230 [==============================] - 1s 4ms/step - loss: 0.1213 - accuracy: 0.9550 - val_loss: 0.1782 - val_accuracy: 0.9433\n",
      "Epoch 35/50\n",
      "230/230 [==============================] - 1s 4ms/step - loss: 0.1107 - accuracy: 0.9582 - val_loss: 0.1830 - val_accuracy: 0.9425\n",
      "Epoch 36/50\n",
      "230/230 [==============================] - 1s 5ms/step - loss: 0.0969 - accuracy: 0.9636 - val_loss: 0.2206 - val_accuracy: 0.9272\n",
      "Epoch 37/50\n",
      "230/230 [==============================] - 1s 4ms/step - loss: 0.1207 - accuracy: 0.9553 - val_loss: 0.1597 - val_accuracy: 0.9447\n",
      "Epoch 38/50\n",
      "230/230 [==============================] - 1s 5ms/step - loss: 0.1098 - accuracy: 0.9579 - val_loss: 0.1960 - val_accuracy: 0.9365\n",
      "Epoch 39/50\n",
      "230/230 [==============================] - 1s 4ms/step - loss: 0.1107 - accuracy: 0.9587 - val_loss: 0.1909 - val_accuracy: 0.9370\n",
      "Epoch 40/50\n",
      "230/230 [==============================] - 1s 4ms/step - loss: 0.1165 - accuracy: 0.9568 - val_loss: 0.2312 - val_accuracy: 0.9258\n",
      "Epoch 41/50\n",
      "230/230 [==============================] - 1s 5ms/step - loss: 0.1315 - accuracy: 0.9513 - val_loss: 0.2066 - val_accuracy: 0.9329\n",
      "Epoch 42/50\n",
      "230/230 [==============================] - 1s 4ms/step - loss: 0.1071 - accuracy: 0.9605 - val_loss: 0.1784 - val_accuracy: 0.9433\n",
      "Epoch 43/50\n",
      "230/230 [==============================] - 1s 5ms/step - loss: 0.1102 - accuracy: 0.9585 - val_loss: 0.1874 - val_accuracy: 0.9449\n",
      "Epoch 44/50\n",
      "230/230 [==============================] - 1s 5ms/step - loss: 0.1013 - accuracy: 0.9623 - val_loss: 0.1988 - val_accuracy: 0.9308\n",
      "Epoch 45/50\n",
      "230/230 [==============================] - 1s 4ms/step - loss: 0.1014 - accuracy: 0.9629 - val_loss: 0.1970 - val_accuracy: 0.9346\n",
      "Epoch 46/50\n",
      "230/230 [==============================] - 1s 5ms/step - loss: 0.2056 - accuracy: 0.9239 - val_loss: 0.2204 - val_accuracy: 0.9316\n",
      "Epoch 47/50\n",
      "230/230 [==============================] - 1s 4ms/step - loss: 0.1201 - accuracy: 0.9571 - val_loss: 0.1748 - val_accuracy: 0.9408\n",
      "Restoring model weights from the end of the best epoch.\n",
      "Epoch 00047: early stopping\n"
     ]
    }
   ],
   "source": [
    "### START YOUR CODE\n",
    "\n",
    "# train model\n",
    "model.compile(loss=tf.keras.losses.CategoricalCrossentropy(),\n",
    "              optimizer=\"adam\",\n",
    "              metrics=[\"accuracy\"])\n",
    "\n",
    "log = model.fit(X_train, Y_train, \\\n",
    "                batch_size=batch_size, \\\n",
    "                epochs=nepochs, \\\n",
    "                validation_data=(X_test, Y_test), \\\n",
    "                callbacks=[early_stopping])\n",
    "\n",
    "### END YOUR CODE"
   ]
  },
  {
   "cell_type": "code",
   "execution_count": 25,
   "metadata": {},
   "outputs": [
    {
     "name": "stdout",
     "output_type": "stream",
     "text": [
      "Train accuracy (end): 0.959719181060791\n",
      "Train accuracy (max): 0.9620365500450134\n",
      "Test accuracy (end) : 0.9408397078514099\n",
      "Test accuracy (max) : 0.9449291229248047\n"
     ]
    },
    {
     "data": {
      "image/png": "[encoded data removed]",
      "text/plain": [
       "<Figure size 432x288 with 1 Axes>"
      ]
     },
     "metadata": {
      "needs_background": "light"
     },
     "output_type": "display_data"
    },
    {
     "data": {
      "image/png": "[encoded data removed]",
      "text/plain": [
       "<Figure size 432x288 with 1 Axes>"
      ]
     },
     "metadata": {
      "needs_background": "light"
     },
     "output_type": "display_data"
    },
    {
     "data": {
      "text/html": [
       "<div>\n",
       "<style scoped>\n",
       "    .dataframe tbody tr th:only-of-type {\n",
       "        vertical-align: middle;\n",
       "    }\n",
       "\n",
       "    .dataframe tbody tr th {\n",
       "        vertical-align: top;\n",
       "    }\n",
       "\n",
       "    .dataframe thead th {\n",
       "        text-align: right;\n",
       "    }\n",
       "</style>\n",
       "<table border=\"1\" class=\"dataframe\">\n",
       "  <thead>\n",
       "    <tr style=\"text-align: right;\">\n",
       "      <th></th>\n",
       "      <th>English</th>\n",
       "      <th>French</th>\n",
       "      <th>Italian</th>\n",
       "      <th>German</th>\n",
       "      <th>Spanish</th>\n",
       "    </tr>\n",
       "  </thead>\n",
       "  <tbody>\n",
       "    <tr>\n",
       "      <th>English</th>\n",
       "      <td>669</td>\n",
       "      <td>12</td>\n",
       "      <td>49</td>\n",
       "      <td>6</td>\n",
       "      <td>17</td>\n",
       "    </tr>\n",
       "    <tr>\n",
       "      <th>French</th>\n",
       "      <td>3</td>\n",
       "      <td>687</td>\n",
       "      <td>0</td>\n",
       "      <td>28</td>\n",
       "      <td>1</td>\n",
       "    </tr>\n",
       "    <tr>\n",
       "      <th>Italian</th>\n",
       "      <td>12</td>\n",
       "      <td>0</td>\n",
       "      <td>705</td>\n",
       "      <td>2</td>\n",
       "      <td>15</td>\n",
       "    </tr>\n",
       "    <tr>\n",
       "      <th>German</th>\n",
       "      <td>8</td>\n",
       "      <td>13</td>\n",
       "      <td>5</td>\n",
       "      <td>705</td>\n",
       "      <td>7</td>\n",
       "    </tr>\n",
       "    <tr>\n",
       "      <th>Spanish</th>\n",
       "      <td>12</td>\n",
       "      <td>0</td>\n",
       "      <td>10</td>\n",
       "      <td>3</td>\n",
       "      <td>699</td>\n",
       "    </tr>\n",
       "  </tbody>\n",
       "</table>\n",
       "</div>"
      ],
      "text/plain": [
       "         English  French  Italian  German  Spanish\n",
       "English      669      12       49       6       17\n",
       "French         3     687        0      28        1\n",
       "Italian       12       0      705       2       15\n",
       "German         8      13        5     705        7\n",
       "Spanish       12       0       10       3      699"
      ]
     },
     "execution_count": 25,
     "metadata": {},
     "output_type": "execute_result"
    }
   ],
   "source": [
    "performance_plots(model, X_test, Y_test, log, nepochs)\n",
    "df, cm = confusion_matrix(model, X_test, Y_test)\n",
    "df"
   ]
  },
  {
   "cell_type": "markdown",
   "metadata": {},
   "source": [
    "#### Findings\n",
    "A test accuracy of 95% is a very good result! We improved our test-accuracy by about 25%, just by balancing our dataset. This tells us, we should use a balanced dataset, if this represents the real world behaviour. (Imbalanced classes could be reasonable while detecting rare-diseases, spam and other rare events)  \n",
    "Nevertheless, we would like to try to squeeze our test-accuracy even further on behalf of a deeper RNN. Let's have a look how it is turning out in the following sections:"
   ]
  },
  {
   "cell_type": "markdown",
   "metadata": {},
   "source": [
    "#### In which situations is class imbalance treatment important and why?  \n",
    "If the classes are theoretically balanced in the real world, the the sample distribution needs to be balanced as well. This name/language classification problem is a perfect example for this situation.  \n",
    "Nevertheless, there are other problems, like the detection of a rare disease, where the sample should represent the real life probability to have the rare disease, so no class balancing should be done. If the classes would be balanced, this would mean, the rare disease would have the same probability to occure as the other diseases."
   ]
  },
  {
   "cell_type": "markdown",
   "metadata": {},
   "source": [
    "### Implement Model with several SimpleRNN Layers"
   ]
  },
  {
   "cell_type": "code",
   "execution_count": 26,
   "metadata": {},
   "outputs": [
    {
     "name": "stdout",
     "output_type": "stream",
     "text": [
      "Model: \"sequential_1\"\n",
      "_________________________________________________________________\n",
      "Layer (type)                 Output Shape              Param #   \n",
      "=================================================================\n",
      "simple_rnn_1 (SimpleRNN)     (None, 18, 128)           25984     \n",
      "_________________________________________________________________\n",
      "simple_rnn_2 (SimpleRNN)     (None, 18, 128)           32896     \n",
      "_________________________________________________________________\n",
      "simple_rnn_3 (SimpleRNN)     (None, 18, 128)           32896     \n",
      "_________________________________________________________________\n",
      "simple_rnn_4 (SimpleRNN)     (None, 128)               32896     \n",
      "_________________________________________________________________\n",
      "dense_1 (Dense)              (None, 5)                 645       \n",
      "=================================================================\n",
      "Total params: 125,317\n",
      "Trainable params: 125,317\n",
      "Non-trainable params: 0\n",
      "_________________________________________________________________\n"
     ]
    }
   ],
   "source": [
    "### START YOUR CODE\n",
    "\n",
    "model = Sequential()\n",
    "\n",
    "# Input: names in numpy arrays of shape (*,maxlen,len_alphabet)\n",
    "# Input: names in numpy arrays of shape (*,18,74)\n",
    "model.add(Input((maxlen,len_alphabet)))\n",
    "\n",
    "model.add(SimpleRNN(128, return_sequences=True))\n",
    "model.add(SimpleRNN(128, return_sequences=True))\n",
    "model.add(SimpleRNN(128, return_sequences=True))\n",
    "model.add(SimpleRNN(128))\n",
    "model.add(Dense(len(languages), activation='softmax'))\n",
    "\n",
    "### END YOUR CODE\n",
    "\n",
    "model.summary()"
   ]
  },
  {
   "cell_type": "code",
   "execution_count": 27,
   "metadata": {
    "scrolled": false
   },
   "outputs": [
    {
     "name": "stdout",
     "output_type": "stream",
     "text": [
      "Epoch 1/50\n",
      "230/230 [==============================] - 4s 14ms/step - loss: 1.2729 - accuracy: 0.4653 - val_loss: 0.6199 - val_accuracy: 0.7669\n",
      "Epoch 2/50\n",
      "230/230 [==============================] - 3s 13ms/step - loss: 0.5619 - accuracy: 0.7961 - val_loss: 0.4462 - val_accuracy: 0.8372\n",
      "Epoch 3/50\n",
      "230/230 [==============================] - 3s 13ms/step - loss: 0.3653 - accuracy: 0.8725 - val_loss: 0.4053 - val_accuracy: 0.8566\n",
      "Epoch 4/50\n",
      "230/230 [==============================] - 3s 14ms/step - loss: 0.3274 - accuracy: 0.8878 - val_loss: 0.2911 - val_accuracy: 0.8948\n",
      "Epoch 5/50\n",
      "230/230 [==============================] - 3s 13ms/step - loss: 0.2452 - accuracy: 0.9123 - val_loss: 0.2582 - val_accuracy: 0.9106\n",
      "Epoch 6/50\n",
      "230/230 [==============================] - 3s 13ms/step - loss: 0.2119 - accuracy: 0.9277 - val_loss: 0.2411 - val_accuracy: 0.9207\n",
      "Epoch 7/50\n",
      "230/230 [==============================] - 3s 13ms/step - loss: 0.2439 - accuracy: 0.9138 - val_loss: 0.2537 - val_accuracy: 0.9160\n",
      "Epoch 8/50\n",
      "230/230 [==============================] - 3s 13ms/step - loss: 0.1863 - accuracy: 0.9389 - val_loss: 0.2266 - val_accuracy: 0.9286\n",
      "Epoch 9/50\n",
      "230/230 [==============================] - 3s 13ms/step - loss: 0.2169 - accuracy: 0.9254 - val_loss: 0.2817 - val_accuracy: 0.8994\n",
      "Epoch 10/50\n",
      "230/230 [==============================] - 3s 13ms/step - loss: 0.2160 - accuracy: 0.9216 - val_loss: 0.2805 - val_accuracy: 0.9010\n",
      "Epoch 11/50\n",
      "230/230 [==============================] - 3s 14ms/step - loss: 0.1821 - accuracy: 0.9377 - val_loss: 0.2160 - val_accuracy: 0.9253\n",
      "Epoch 12/50\n",
      "230/230 [==============================] - 3s 14ms/step - loss: 0.1813 - accuracy: 0.9373 - val_loss: 0.1980 - val_accuracy: 0.9297\n",
      "Epoch 13/50\n",
      "230/230 [==============================] - 3s 14ms/step - loss: 0.1784 - accuracy: 0.9353 - val_loss: 0.2287 - val_accuracy: 0.9196\n",
      "Epoch 14/50\n",
      "230/230 [==============================] - 3s 14ms/step - loss: 0.1332 - accuracy: 0.9540 - val_loss: 0.1969 - val_accuracy: 0.9297\n",
      "Epoch 15/50\n",
      "230/230 [==============================] - 3s 14ms/step - loss: 0.1558 - accuracy: 0.9431 - val_loss: 0.2046 - val_accuracy: 0.9332\n",
      "Epoch 16/50\n",
      "230/230 [==============================] - 3s 14ms/step - loss: 0.1544 - accuracy: 0.9434 - val_loss: 0.3075 - val_accuracy: 0.8967\n",
      "Epoch 17/50\n",
      "230/230 [==============================] - 3s 14ms/step - loss: 0.2476 - accuracy: 0.9098 - val_loss: 0.1916 - val_accuracy: 0.9365\n",
      "Epoch 18/50\n",
      "230/230 [==============================] - 3s 14ms/step - loss: 0.1486 - accuracy: 0.9467 - val_loss: 0.2326 - val_accuracy: 0.9218\n",
      "Epoch 19/50\n",
      "230/230 [==============================] - 3s 14ms/step - loss: 0.1630 - accuracy: 0.9413 - val_loss: 0.2015 - val_accuracy: 0.9253\n",
      "Epoch 20/50\n",
      "230/230 [==============================] - 3s 14ms/step - loss: 0.1239 - accuracy: 0.9530 - val_loss: 0.1846 - val_accuracy: 0.9376\n",
      "Epoch 21/50\n",
      "230/230 [==============================] - 3s 14ms/step - loss: 0.1323 - accuracy: 0.9521 - val_loss: 0.2405 - val_accuracy: 0.9149\n",
      "Epoch 22/50\n",
      "230/230 [==============================] - 3s 14ms/step - loss: 0.2458 - accuracy: 0.9100 - val_loss: 0.2249 - val_accuracy: 0.9218\n",
      "Epoch 23/50\n",
      "230/230 [==============================] - 3s 14ms/step - loss: 0.1444 - accuracy: 0.9460 - val_loss: 0.2402 - val_accuracy: 0.9196\n",
      "Epoch 24/50\n",
      "230/230 [==============================] - 3s 13ms/step - loss: 0.1734 - accuracy: 0.9372 - val_loss: 0.2503 - val_accuracy: 0.9174\n",
      "Epoch 25/50\n",
      "230/230 [==============================] - 3s 13ms/step - loss: 0.1357 - accuracy: 0.9515 - val_loss: 0.1878 - val_accuracy: 0.9332\n",
      "Epoch 26/50\n",
      "230/230 [==============================] - 3s 14ms/step - loss: 0.1358 - accuracy: 0.9494 - val_loss: 0.2304 - val_accuracy: 0.9234\n",
      "Epoch 27/50\n",
      "230/230 [==============================] - 3s 13ms/step - loss: 0.1329 - accuracy: 0.9517 - val_loss: 0.2353 - val_accuracy: 0.9166\n",
      "Epoch 28/50\n",
      "230/230 [==============================] - 3s 14ms/step - loss: 0.1703 - accuracy: 0.9372 - val_loss: 0.2319 - val_accuracy: 0.9149\n",
      "Epoch 29/50\n",
      "230/230 [==============================] - 3s 14ms/step - loss: 0.1419 - accuracy: 0.9499 - val_loss: 0.2261 - val_accuracy: 0.9283\n",
      "Epoch 30/50\n",
      "230/230 [==============================] - 3s 14ms/step - loss: 0.1751 - accuracy: 0.9356 - val_loss: 0.2074 - val_accuracy: 0.9250\n",
      "Restoring model weights from the end of the best epoch.\n",
      "Epoch 00030: early stopping\n"
     ]
    }
   ],
   "source": [
    "### START YOUR CODE\n",
    "\n",
    "# train model\n",
    "model.compile(loss=tf.keras.losses.CategoricalCrossentropy(),\n",
    "              optimizer=\"adam\",\n",
    "              metrics=[\"accuracy\"])\n",
    "\n",
    "log = model.fit(X_train, Y_train, \\\n",
    "                batch_size=batch_size, \\\n",
    "                epochs=nepochs, \\\n",
    "                validation_data=(X_test, Y_test), \\\n",
    "                callbacks=[early_stopping])\n",
    "\n",
    "### END YOUR CODE"
   ]
  },
  {
   "cell_type": "code",
   "execution_count": 28,
   "metadata": {},
   "outputs": [
    {
     "name": "stdout",
     "output_type": "stream",
     "text": [
      "Train accuracy (end): 0.9309569001197815\n",
      "Train accuracy (max): 0.9528353214263916\n",
      "Test accuracy (end) : 0.9250272512435913\n",
      "Test accuracy (max) : 0.9375681281089783\n"
     ]
    },
    {
     "data": {
      "image/png": "[encoded data removed]",
      "text/plain": [
       "<Figure size 432x288 with 1 Axes>"
      ]
     },
     "metadata": {
      "needs_background": "light"
     },
     "output_type": "display_data"
    },
    {
     "data": {
      "image/png": "[encoded data removed]",
      "text/plain": [
       "<Figure size 432x288 with 1 Axes>"
      ]
     },
     "metadata": {
      "needs_background": "light"
     },
     "output_type": "display_data"
    },
    {
     "data": {
      "text/html": [
       "<div>\n",
       "<style scoped>\n",
       "    .dataframe tbody tr th:only-of-type {\n",
       "        vertical-align: middle;\n",
       "    }\n",
       "\n",
       "    .dataframe tbody tr th {\n",
       "        vertical-align: top;\n",
       "    }\n",
       "\n",
       "    .dataframe thead th {\n",
       "        text-align: right;\n",
       "    }\n",
       "</style>\n",
       "<table border=\"1\" class=\"dataframe\">\n",
       "  <thead>\n",
       "    <tr style=\"text-align: right;\">\n",
       "      <th></th>\n",
       "      <th>English</th>\n",
       "      <th>French</th>\n",
       "      <th>Italian</th>\n",
       "      <th>German</th>\n",
       "      <th>Spanish</th>\n",
       "    </tr>\n",
       "  </thead>\n",
       "  <tbody>\n",
       "    <tr>\n",
       "      <th>English</th>\n",
       "      <td>657</td>\n",
       "      <td>9</td>\n",
       "      <td>46</td>\n",
       "      <td>10</td>\n",
       "      <td>31</td>\n",
       "    </tr>\n",
       "    <tr>\n",
       "      <th>French</th>\n",
       "      <td>1</td>\n",
       "      <td>693</td>\n",
       "      <td>1</td>\n",
       "      <td>18</td>\n",
       "      <td>6</td>\n",
       "    </tr>\n",
       "    <tr>\n",
       "      <th>Italian</th>\n",
       "      <td>28</td>\n",
       "      <td>0</td>\n",
       "      <td>688</td>\n",
       "      <td>2</td>\n",
       "      <td>16</td>\n",
       "    </tr>\n",
       "    <tr>\n",
       "      <th>German</th>\n",
       "      <td>3</td>\n",
       "      <td>29</td>\n",
       "      <td>0</td>\n",
       "      <td>696</td>\n",
       "      <td>10</td>\n",
       "    </tr>\n",
       "    <tr>\n",
       "      <th>Spanish</th>\n",
       "      <td>4</td>\n",
       "      <td>0</td>\n",
       "      <td>9</td>\n",
       "      <td>6</td>\n",
       "      <td>705</td>\n",
       "    </tr>\n",
       "  </tbody>\n",
       "</table>\n",
       "</div>"
      ],
      "text/plain": [
       "         English  French  Italian  German  Spanish\n",
       "English      657       9       46      10       31\n",
       "French         1     693        1      18        6\n",
       "Italian       28       0      688       2       16\n",
       "German         3      29        0     696       10\n",
       "Spanish        4       0        9       6      705"
      ]
     },
     "execution_count": 28,
     "metadata": {},
     "output_type": "execute_result"
    }
   ],
   "source": [
    "performance_plots(model, X_test, Y_test, log, nepochs)\n",
    "df, cm = confusion_matrix(model, X_test, Y_test)\n",
    "df"
   ]
  },
  {
   "cell_type": "markdown",
   "metadata": {},
   "source": [
    "#### Findings\n",
    "Disappointment, disillusionment, anticlimax, call it as you want,  we did not improve our test-accuracy. On behalf of a deeper RNN (With a significantly longer training time) we did achieve a test-accuracy of 94%. This is roughly the same results as the shallow-RNN. In this case, we would prefer the shallow-RNN with the advantage of a lower capacity."
   ]
  },
  {
   "cell_type": "markdown",
   "metadata": {},
   "source": [
    "#### Question\n",
    "Should we use \"names\" or our manipulated \"names_upsampled\" for testing? Because we are assuming, that we have absolutly no class imbalances in the real world, but what would happen, if we are wrong? Of course, it is bad, if the assumptions are wrong for any model, but is there a prefered process for testing?"
   ]
  },
  {
   "cell_type": "code",
   "execution_count": null,
   "metadata": {},
   "outputs": [],
   "source": []
  }
 ],
 "metadata": {
  "kernelspec": {
   "display_name": "Python 3",
   "language": "python",
   "name": "python3"
  },
  "language_info": {
   "codemirror_mode": {
    "name": "ipython",
    "version": 3
   },
   "file_extension": ".py",
   "mimetype": "text/x-python",
   "name": "python",
   "nbconvert_exporter": "python",
   "pygments_lexer": "ipython3",
   "version": "3.8.5"
  }
 },
 "nbformat": 4,
 "nbformat_minor": 4
}
