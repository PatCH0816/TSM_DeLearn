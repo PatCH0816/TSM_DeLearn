{
 "cells": [
  {
   "cell_type": "code",
   "execution_count": 1,
   "metadata": {
    "scrolled": true
   },
   "outputs": [],
   "source": [
    "import glob\n",
    "import os\n",
    "import string\n",
    "\n",
    "import numpy as np\n",
    "import pandas as pd\n",
    "\n",
    "from matplotlib import pyplot as plt\n",
    "import matplotlib.ticker as ticker\n",
    "\n",
    "from sklearn.metrics import confusion_matrix"
   ]
  },
  {
   "cell_type": "markdown",
   "metadata": {},
   "source": [
    "### Load Data\n",
    "\n",
    "The names can be found in text files in a src directory, one file per language.\n",
    "\n",
    "In the following you can find some utilities to load the data into pandas data frames. \n",
    "\n",
    "We will restrict to some common European languages. \n",
    "\n",
    "With the given selection, we will identify all the occurring characters and initialize an alphabet.<br>\n",
    "For this alphabet, we will use a one-hot-encoding to map them into a vector space representation. \n",
    "\n",
    "Foresee a suitable character for the end of the word, e.g. 'END'."
   ]
  },
  {
   "cell_type": "code",
   "execution_count": 2,
   "metadata": {},
   "outputs": [],
   "source": [
    "srcdir = 'data/names'\n",
    "languages = [\"English\",\"French\",\"Italian\",\"German\",\"Spanish\"]"
   ]
  },
  {
   "cell_type": "code",
   "execution_count": 3,
   "metadata": {},
   "outputs": [],
   "source": [
    "# inspect the data directory\n",
    "def findFiles(path): \n",
    "    return glob.glob(path)"
   ]
  },
  {
   "cell_type": "code",
   "execution_count": 4,
   "metadata": {},
   "outputs": [
    {
     "name": "stdout",
     "output_type": "stream",
     "text": [
      "data/names/Scottish.txt\n",
      "data/names/Vietnamese.txt\n",
      "data/names/English.txt\n",
      "data/names/Italian.txt\n",
      "data/names/Dutch.txt\n",
      "data/names/Portuguese.txt\n",
      "data/names/German.txt\n",
      "data/names/Polish.txt\n",
      "data/names/Irish.txt\n",
      "data/names/Russian.txt\n",
      "data/names/Greek.txt\n",
      "data/names/Czech.txt\n",
      "data/names/Chinese.txt\n",
      "data/names/Japanese.txt\n",
      "data/names/Arabic.txt\n",
      "data/names/Spanish.txt\n",
      "data/names/Korean.txt\n",
      "data/names/French.txt\n"
     ]
    }
   ],
   "source": [
    "print('\\n'.join(findFiles(os.path.join(srcdir,'*.txt'))))"
   ]
  },
  {
   "cell_type": "code",
   "execution_count": 5,
   "metadata": {},
   "outputs": [],
   "source": [
    "# Read a file and split into lines\n",
    "def readLines(filename):\n",
    "    lines = open(filename, encoding='utf-8').read().strip().split('\\n')\n",
    "    return lines\n",
    "\n",
    "def load_data(srcdir, categories=None):\n",
    "    names_list = []\n",
    "    for filename in findFiles(os.path.join(srcdir,'*.txt')):\n",
    "        category = os.path.splitext(os.path.basename(filename))[0]\n",
    "        if not categories or category in categories: \n",
    "            names = readLines(filename)\n",
    "            names_list.extend([(name,category) for name in names])\n",
    "    df = pd.DataFrame(names_list)\n",
    "    df.columns = [\"name\",\"lang\"]\n",
    "    return df"
   ]
  },
  {
   "cell_type": "code",
   "execution_count": 6,
   "metadata": {},
   "outputs": [
    {
     "data": {
      "text/html": [
       "<div>\n",
       "<style scoped>\n",
       "    .dataframe tbody tr th:only-of-type {\n",
       "        vertical-align: middle;\n",
       "    }\n",
       "\n",
       "    .dataframe tbody tr th {\n",
       "        vertical-align: top;\n",
       "    }\n",
       "\n",
       "    .dataframe thead th {\n",
       "        text-align: right;\n",
       "    }\n",
       "</style>\n",
       "<table border=\"1\" class=\"dataframe\">\n",
       "  <thead>\n",
       "    <tr style=\"text-align: right;\">\n",
       "      <th></th>\n",
       "      <th>name</th>\n",
       "      <th>lang</th>\n",
       "    </tr>\n",
       "  </thead>\n",
       "  <tbody>\n",
       "    <tr>\n",
       "      <th>0</th>\n",
       "      <td>Abbas</td>\n",
       "      <td>English</td>\n",
       "    </tr>\n",
       "    <tr>\n",
       "      <th>1</th>\n",
       "      <td>Abbey</td>\n",
       "      <td>English</td>\n",
       "    </tr>\n",
       "    <tr>\n",
       "      <th>2</th>\n",
       "      <td>Abbott</td>\n",
       "      <td>English</td>\n",
       "    </tr>\n",
       "    <tr>\n",
       "      <th>3</th>\n",
       "      <td>Abdi</td>\n",
       "      <td>English</td>\n",
       "    </tr>\n",
       "    <tr>\n",
       "      <th>4</th>\n",
       "      <td>Abel</td>\n",
       "      <td>English</td>\n",
       "    </tr>\n",
       "  </tbody>\n",
       "</table>\n",
       "</div>"
      ],
      "text/plain": [
       "     name     lang\n",
       "0   Abbas  English\n",
       "1   Abbey  English\n",
       "2  Abbott  English\n",
       "3    Abdi  English\n",
       "4    Abel  English"
      ]
     },
     "execution_count": 6,
     "metadata": {},
     "output_type": "execute_result"
    }
   ],
   "source": [
    "names = load_data(srcdir,categories=languages)\n",
    "names.head()"
   ]
  },
  {
   "cell_type": "code",
   "execution_count": 7,
   "metadata": {},
   "outputs": [
    {
     "name": "stdout",
     "output_type": "stream",
     "text": [
      "Maximum name length:  18\n"
     ]
    }
   ],
   "source": [
    "maxlen = np.max([len(name) for name in names.name])\n",
    "print(\"Maximum name length: \", maxlen)"
   ]
  },
  {
   "cell_type": "code",
   "execution_count": 8,
   "metadata": {},
   "outputs": [
    {
     "name": "stdout",
     "output_type": "stream",
     "text": [
      "Size of alphabet:  74\n",
      "[' ', \"'\", 'A', 'B', 'C', 'D', 'E', 'F', 'G', 'H', 'I', 'J', 'K', 'L', 'M', 'N', 'O', 'P', 'Q', 'R', 'S', 'T', 'U', 'V', 'W', 'X', 'Y', 'Z', 'a', 'b', 'c', 'd', 'e', 'f', 'g', 'h', 'i', 'j', 'k', 'l', 'm', 'n', 'o', 'p', 'q', 'r', 's', 't', 'u', 'v', 'w', 'x', 'y', 'z', 'Á', 'É', 'ß', 'à', 'á', 'ä', 'ç', 'è', 'é', 'ê', 'ì', 'í', 'ñ', 'ò', 'ó', 'ö', 'ù', 'ú', 'ü', 'END']\n"
     ]
    }
   ],
   "source": [
    "alphabet = sorted(list(set(''.join([name for name in names.name]))))\n",
    "alphabet.append('END')\n",
    "len_alphabet = len(alphabet)\n",
    "char_index = dict((c, i) for i, c in enumerate(alphabet))\n",
    "print(\"Size of alphabet: \",len_alphabet)\n",
    "print(alphabet)"
   ]
  },
  {
   "cell_type": "code",
   "execution_count": 9,
   "metadata": {},
   "outputs": [
    {
     "data": {
      "text/plain": [
       "lang\n",
       "English    0.646230\n",
       "French     0.048802\n",
       "German     0.127555\n",
       "Italian    0.124912\n",
       "Spanish    0.052502\n",
       "Name: name, dtype: float64"
      ]
     },
     "execution_count": 9,
     "metadata": {},
     "output_type": "execute_result"
    }
   ],
   "source": [
    "names.groupby('lang')['name'].count()/len(names)"
   ]
  },
  {
   "cell_type": "markdown",
   "metadata": {},
   "source": [
    "### Vector Representations\n",
    "\n",
    "Now construct the vector representation by using one-hot-vectors. "
   ]
  },
  {
   "cell_type": "code",
   "execution_count": 10,
   "metadata": {},
   "outputs": [],
   "source": [
    "language_to_index = {country:index for index,country in enumerate(names.lang.unique())}\n",
    "index_to_language = {index:country for index,country in enumerate(names.lang.unique())}\n",
    "\n",
    "def onehot(i, length):\n",
    "    v = np.zeros(length);\n",
    "    v[i] = 1\n",
    "    return v\n",
    "\n",
    "def name_representation(name, maxlen):\n",
    "    ### START YOUR CODE\n",
    "    name_trunc = str(name)[0:maxlen]\n",
    "    size = len(char_index)\n",
    "    vector = [onehot(char_index[j], size) for j in str(name)]\n",
    "    # fill the rest with \n",
    "    for k in range(0,maxlen - len(str(name))):\n",
    "        vector.append(onehot(char_index['END'], size))\n",
    "    return vector\n",
    "    ### START YOUR CODE\n",
    "\n",
    "def lang_representation(language, language_to_index):\n",
    "    y = np.zeros(len(language_to_index))\n",
    "    y[language_to_index[language]]=1\n",
    "    return y\n",
    "\n",
    "def lang_from_output(score):\n",
    "    return index_to_language[np.argmax(score)]\n",
    "\n",
    "def predict(name, model):\n",
    "    score = model.predict(np.array([name_representation(name, maxlen)]))[0]\n",
    "    return lang_from_output(score)"
   ]
  },
  {
   "cell_type": "markdown",
   "metadata": {},
   "source": [
    "### Prepare train/test\n",
    "\n",
    "Split the data into train/test\n",
    "\n",
    "Shuffle the data\n",
    "\n",
    "Transform the names data into a suitable vector respresentation:\n",
    "* names into numpy arrays of shape (*,maxlen,len_alphabet)\n",
    "* language into numpy array of shape (*,len(languages))\n",
    "\n"
   ]
  },
  {
   "cell_type": "code",
   "execution_count": 11,
   "metadata": {},
   "outputs": [],
   "source": [
    "from sklearn.model_selection import train_test_split\n",
    "\n",
    "test_split = 0.2\n",
    "\n",
    "### START YOUR CODE\n",
    "# Shuffle and split names data\n",
    "\n",
    "X_train, X_test, y_train, y_test = train_test_split(names['name'],\n",
    "                                                    names['lang'],\n",
    "                                                    test_size=test_split,\n",
    "                                                    shuffle=True)\n",
    "\n",
    "### END YOUR CODE"
   ]
  },
  {
   "cell_type": "code",
   "execution_count": 12,
   "metadata": {},
   "outputs": [],
   "source": [
    "### START YOUR CODE\n",
    "\n",
    "## Run this cell only once!\n",
    "\n",
    "# Map train data into vector space (one-hot-vectors)\n",
    "X_train_tmp = []\n",
    "y_train_tmp = []\n",
    "\n",
    "for idx in range(len(X_train)):\n",
    "  X_train_tmp.append(name_representation(X_train.iloc[idx], maxlen))\n",
    "  y_train_tmp.append(lang_representation(y_train.iloc[idx], language_to_index))\n",
    "\n",
    "X_train = np.array(X_train_tmp)\n",
    "Y_train = np.vstack(y_train_tmp)\n",
    "\n",
    "# Map test data into vector space (one-hot-vectors)\n",
    "X_test_tmp = []\n",
    "y_test_tmp = []\n",
    "\n",
    "for idx in range(len(X_test)):\n",
    "  X_test_tmp.append(name_representation(X_test.iloc[idx], maxlen))\n",
    "  y_test_tmp.append(lang_representation(y_test.iloc[idx], language_to_index))\n",
    "\n",
    "X_test = np.array(X_test_tmp)\n",
    "Y_test = np.vstack(y_test_tmp)\n",
    "\n",
    "### END YOUR CODE"
   ]
  },
  {
   "cell_type": "code",
   "execution_count": 13,
   "metadata": {},
   "outputs": [],
   "source": [
    "# Check X_train and Y_train shapes:\n",
    "# language into numpy array of shape (*,len(languages))\n",
    "\n",
    "np.testing.assert_array_equal(X_train.shape, [4540, 18, 74])\n"
   ]
  },
  {
   "cell_type": "code",
   "execution_count": 14,
   "metadata": {},
   "outputs": [
    {
     "name": "stdout",
     "output_type": "stream",
     "text": [
      "Number of samples:  1136\n",
      "len(languages):  5\n"
     ]
    }
   ],
   "source": [
    "# Check Y_train and Y_test:\n",
    "# language into numpy array of shape (*,len(languages))\n",
    "\n",
    "print(\"Number of samples: \", Y_test.shape[0])\n",
    "print(\"len(languages): \", len(languages))\n",
    "\n",
    "np.testing.assert_array_equal(Y_test.shape, [1136, 5])\n"
   ]
  },
  {
   "cell_type": "markdown",
   "metadata": {},
   "source": [
    "### Utilities"
   ]
  },
  {
   "cell_type": "code",
   "execution_count": 15,
   "metadata": {},
   "outputs": [],
   "source": [
    "def performance_plots(model, X_test, Y_test, log, epochs):    \n",
    "    acc = log.history['accuracy']\n",
    "    val_acc = log.history['val_accuracy']\n",
    "    print('Train accuracy (end):', acc[-1])\n",
    "    print('Train accuracy (max):', np.max(acc))\n",
    "    print('Test accuracy (end) :', val_acc[-1])\n",
    "    print('Test accuracy (max) :', np.max(val_acc))\n",
    "\n",
    "    plt.plot(log.history['accuracy'])\n",
    "    plt.plot(log.history['val_accuracy'])\n",
    "    plt.title('model accuracy')\n",
    "    plt.ylabel('accuracy')\n",
    "    plt.xlabel('epoch')\n",
    "    plt.legend(['train','test'], loc='upper left')\n",
    "    plt.axis([0,epochs,0.0,1.0])\n",
    "    plt.show()\n",
    "\n",
    "    plt.plot(log.history['loss'])\n",
    "    plt.plot(log.history['val_loss'])\n",
    "    plt.title('model loss')\n",
    "    plt.ylabel('loss')\n",
    "    plt.xlabel('epoch')\n",
    "    plt.legend(['train','test'], loc = 'upper left')\n",
    "    plt.axis([0,epochs,0.0,2.0])\n",
    "    plt.show()"
   ]
  },
  {
   "cell_type": "code",
   "execution_count": 16,
   "metadata": {},
   "outputs": [],
   "source": [
    "import sklearn\n",
    "import pandas as pd\n",
    "\n",
    "def confusion_matrix(model, X_test, Y_test):\n",
    "    scores = model.predict(X_test)\n",
    "    predictions = np.argmax(scores, axis=1)\n",
    "    labels = np.argmax(Y_test, axis=1)\n",
    "    nsamples = Y_test.shape[0]\n",
    "    cm = sklearn.metrics.confusion_matrix(labels, predictions)\n",
    "    df = pd.DataFrame({languages[i] : cm[:,i] for i in range(len(languages))}, languages)\n",
    "    return df, cm"
   ]
  },
  {
   "cell_type": "markdown",
   "metadata": {},
   "source": [
    "### Define and Train Model: Single Layer with SimpleRNN\n",
    "\n",
    "Create an RNN consisting of a single layer with a SimpleRNN (keras) and a softmax.\n",
    "\n",
    "Then train the model. Play with different number of hidden units in the layer to obtain a good accuracy."
   ]
  },
  {
   "cell_type": "code",
   "execution_count": 17,
   "metadata": {
    "tags": []
   },
   "outputs": [
    {
     "name": "stdout",
     "output_type": "stream",
     "text": [
      "Model: \"sequential\"\n",
      "_________________________________________________________________\n",
      "Layer (type)                 Output Shape              Param #   \n",
      "=================================================================\n",
      "simple_rnn (SimpleRNN)       (None, 128)               25984     \n",
      "_________________________________________________________________\n",
      "dense (Dense)                (None, 5)                 645       \n",
      "=================================================================\n",
      "Total params: 26,629\n",
      "Trainable params: 26,629\n",
      "Non-trainable params: 0\n",
      "_________________________________________________________________\n"
     ]
    }
   ],
   "source": [
    "### START YOUR CODE\n",
    "\n",
    "import tensorflow as tf\n",
    "from tensorflow.keras.models import Sequential\n",
    "from tensorflow.keras.layers import Input,\\\n",
    "                                    Dense,\\\n",
    "                                    SimpleRNN\n",
    "\n",
    "# SImpleRNN, single layer with tf.keras....\n",
    "\n",
    "model = Sequential()\n",
    "\n",
    "# Input: names in numpy arrays of shape (*,maxlen,len_alphabet)\n",
    "# Input: names in numpy arrays of shape (*,18,74)\n",
    "model.add(Input((maxlen,len_alphabet)))\n",
    "\n",
    "model.add(SimpleRNN(128))\n",
    "model.add(Dense(len(languages)))\n",
    "\n",
    "model.summary()\n",
    "\n",
    "### END YOUR CODE"
   ]
  },
  {
   "cell_type": "code",
   "execution_count": 18,
   "metadata": {},
   "outputs": [
    {
     "name": "stdout",
     "output_type": "stream",
     "text": [
      "Epoch 1/10\n",
      "36/36 [==============================] - 1s 17ms/step - loss: 7.2297 - accuracy: 0.4443 - val_loss: 14.1887 - val_accuracy: 0.1329\n",
      "Epoch 2/10\n",
      "36/36 [==============================] - 0s 6ms/step - loss: 14.5458 - accuracy: 0.1243 - val_loss: 14.1885 - val_accuracy: 0.1320\n",
      "Epoch 3/10\n",
      "36/36 [==============================] - 0s 7ms/step - loss: 14.6138 - accuracy: 0.1264 - val_loss: 14.1885 - val_accuracy: 0.1320\n",
      "Epoch 4/10\n",
      "36/36 [==============================] - 0s 7ms/step - loss: 14.6588 - accuracy: 0.1251 - val_loss: 14.1885 - val_accuracy: 0.1320\n",
      "Epoch 5/10\n",
      "36/36 [==============================] - 0s 6ms/step - loss: 14.6661 - accuracy: 0.1153 - val_loss: 14.1885 - val_accuracy: 0.1320\n",
      "Epoch 6/10\n",
      "36/36 [==============================] - 0s 7ms/step - loss: 14.6635 - accuracy: 0.1269 - val_loss: 14.1885 - val_accuracy: 0.1320\n",
      "Epoch 7/10\n",
      "36/36 [==============================] - 0s 7ms/step - loss: 14.6207 - accuracy: 0.1220 - val_loss: 14.1885 - val_accuracy: 0.1320\n",
      "Epoch 8/10\n",
      "36/36 [==============================] - 0s 6ms/step - loss: 14.5815 - accuracy: 0.1242 - val_loss: 14.1885 - val_accuracy: 0.1320\n",
      "Epoch 9/10\n",
      "36/36 [==============================] - 0s 7ms/step - loss: 14.5961 - accuracy: 0.1291 - val_loss: 14.1885 - val_accuracy: 0.1320\n",
      "Epoch 10/10\n",
      "36/36 [==============================] - 0s 7ms/step - loss: 14.5096 - accuracy: 0.1148 - val_loss: 14.1885 - val_accuracy: 0.1320\n"
     ]
    }
   ],
   "source": [
    "### START YOUR CODE\n",
    "batch_size = 128\n",
    "nepochs = 10 \n",
    "\n",
    "model.compile(loss=tf.keras.losses.CategoricalCrossentropy(),\n",
    "              optimizer=\"adam\",\n",
    "              metrics=[\"accuracy\"])\n",
    "\n",
    "log = model.fit(X_train, Y_train, batch_size=batch_size, \\\n",
    "                epochs=nepochs, validation_data=(X_test, Y_test))\n",
    "\n",
    "### END YOUR CODE"
   ]
  },
  {
   "cell_type": "code",
   "execution_count": 19,
   "metadata": {},
   "outputs": [
    {
     "name": "stdout",
     "output_type": "stream",
     "text": [
      "Train accuracy (end): 0.12356828153133392\n",
      "Train accuracy (max): 0.3339207172393799\n",
      "Test accuracy (end) : 0.13204225897789001\n",
      "Test accuracy (max) : 0.13292253017425537\n"
     ]
    },
    {
     "data": {
      "image/png": "[encoded data removed]",
      "text/plain": [
       "<Figure size 432x288 with 1 Axes>"
      ]
     },
     "metadata": {
      "needs_background": "light"
     },
     "output_type": "display_data"
    },
    {
     "data": {
      "image/png": "[encoded data removed]",
      "text/plain": [
       "<Figure size 432x288 with 1 Axes>"
      ]
     },
     "metadata": {
      "needs_background": "light"
     },
     "output_type": "display_data"
    },
    {
     "data": {
      "text/html": [
       "<div>\n",
       "<style scoped>\n",
       "    .dataframe tbody tr th:only-of-type {\n",
       "        vertical-align: middle;\n",
       "    }\n",
       "\n",
       "    .dataframe tbody tr th {\n",
       "        vertical-align: top;\n",
       "    }\n",
       "\n",
       "    .dataframe thead th {\n",
       "        text-align: right;\n",
       "    }\n",
       "</style>\n",
       "<table border=\"1\" class=\"dataframe\">\n",
       "  <thead>\n",
       "    <tr style=\"text-align: right;\">\n",
       "      <th></th>\n",
       "      <th>English</th>\n",
       "      <th>French</th>\n",
       "      <th>Italian</th>\n",
       "      <th>German</th>\n",
       "      <th>Spanish</th>\n",
       "    </tr>\n",
       "  </thead>\n",
       "  <tbody>\n",
       "    <tr>\n",
       "      <th>English</th>\n",
       "      <td>0</td>\n",
       "      <td>723</td>\n",
       "      <td>2</td>\n",
       "      <td>0</td>\n",
       "      <td>0</td>\n",
       "    </tr>\n",
       "    <tr>\n",
       "      <th>French</th>\n",
       "      <td>0</td>\n",
       "      <td>150</td>\n",
       "      <td>0</td>\n",
       "      <td>0</td>\n",
       "      <td>0</td>\n",
       "    </tr>\n",
       "    <tr>\n",
       "      <th>Italian</th>\n",
       "      <td>0</td>\n",
       "      <td>124</td>\n",
       "      <td>0</td>\n",
       "      <td>0</td>\n",
       "      <td>0</td>\n",
       "    </tr>\n",
       "    <tr>\n",
       "      <th>German</th>\n",
       "      <td>0</td>\n",
       "      <td>70</td>\n",
       "      <td>0</td>\n",
       "      <td>0</td>\n",
       "      <td>0</td>\n",
       "    </tr>\n",
       "    <tr>\n",
       "      <th>Spanish</th>\n",
       "      <td>0</td>\n",
       "      <td>67</td>\n",
       "      <td>0</td>\n",
       "      <td>0</td>\n",
       "      <td>0</td>\n",
       "    </tr>\n",
       "  </tbody>\n",
       "</table>\n",
       "</div>"
      ],
      "text/plain": [
       "         English  French  Italian  German  Spanish\n",
       "English        0     723        2       0        0\n",
       "French         0     150        0       0        0\n",
       "Italian        0     124        0       0        0\n",
       "German         0      70        0       0        0\n",
       "Spanish        0      67        0       0        0"
      ]
     },
     "execution_count": 19,
     "metadata": {},
     "output_type": "execute_result"
    }
   ],
   "source": [
    "performance_plots(model, X_test, Y_test, log, nepochs)\n",
    "df, cm = confusion_matrix(model, X_test, Y_test)\n",
    "df"
   ]
  },
  {
   "cell_type": "markdown",
   "metadata": {},
   "source": [
    "### Handle Class Imbalance, Resampling\n",
    "\n",
    "We can observe a quite significant class imbalance in the data.<br>\n",
    "\n",
    "One way to compensate for that would be to use resampling."
   ]
  },
  {
   "cell_type": "code",
   "execution_count": 20,
   "metadata": {},
   "outputs": [
    {
     "data": {
      "text/plain": [
       "name    15676\n",
       "lang    15676\n",
       "dtype: int64"
      ]
     },
     "execution_count": 20,
     "metadata": {},
     "output_type": "execute_result"
    }
   ],
   "source": [
    "names = names.append(names.sample(10000, replace=True))\n",
    "names.count()"
   ]
  },
  {
   "cell_type": "code",
   "execution_count": 21,
   "metadata": {},
   "outputs": [],
   "source": [
    "def handle_imbalance(names, languages):\n",
    "\n",
    "    ### START YOUR CODE\n",
    "    \n",
    "    # find max. number of samples of all languages\n",
    "    max_nr_samples = names.groupby('lang')['name'].count().max()\n",
    "\n",
    "    # treat class imbalance\n",
    "    for lang in languages:\n",
    "      act_lang = names.loc[names['lang'] == lang]\n",
    "      nr_samples = act_lang.count()[0]\n",
    "      \n",
    "      # resampling\n",
    "      if (nr_samples < max_nr_samples):\n",
    "        nr_resampled_samples = max_nr_samples - nr_samples\n",
    "        \n",
    "        resamples = act_lang.sample(nr_resampled_samples,\n",
    "                                    replace=True)\n",
    "        names = names.append(resamples)\n",
    "      \n",
    "    names_upsampled = names\n",
    "\n",
    "    ### END YOUR CODE    \n",
    "    return names_upsampled\n"
   ]
  },
  {
   "cell_type": "code",
   "execution_count": 22,
   "metadata": {},
   "outputs": [
    {
     "data": {
      "text/plain": [
       "lang\n",
       "English    0.2\n",
       "French     0.2\n",
       "German     0.2\n",
       "Italian    0.2\n",
       "Spanish    0.2\n",
       "Name: name, dtype: float64"
      ]
     },
     "execution_count": 22,
     "metadata": {},
     "output_type": "execute_result"
    }
   ],
   "source": [
    "names_upsampled = handle_imbalance(names, languages)\n",
    "names_upsampled.groupby('lang')['name'].count()/len(names_upsampled)"
   ]
  },
  {
   "cell_type": "markdown",
   "metadata": {},
   "source": [
    "#### Train Model\n",
    "\n",
    "Again prepare train and test data (X_train, X_test, Y_train, Y_test)\n",
    "\n",
    "Train the same model as above with the new data."
   ]
  },
  {
   "cell_type": "code",
   "execution_count": 23,
   "metadata": {},
   "outputs": [],
   "source": [
    "### START YOUR CODE\n",
    "\n",
    "X_train, X_test, y_train, y_test = train_test_split(names['name'],\n",
    "                                                    names['lang'],\n",
    "                                                    test_size=test_split,\n",
    "                                                    shuffle=True)\n",
    "\n",
    "## Run this cell only once!\n",
    "\n",
    "# Map train data into vector space (one-hot-vectors)\n",
    "X_train_tmp = []\n",
    "y_train_tmp = []\n",
    "\n",
    "for idx in range(len(X_train)):\n",
    "  X_train_tmp.append(name_representation(X_train.iloc[idx], maxlen))\n",
    "  y_train_tmp.append(lang_representation(y_train.iloc[idx], language_to_index))\n",
    "\n",
    "X_train = np.array(X_train_tmp)\n",
    "Y_train = np.vstack(y_train_tmp)\n",
    "\n",
    "# Map test data into vector space (one-hot-vectors)\n",
    "X_test_tmp = []\n",
    "y_test_tmp = []\n",
    "\n",
    "for idx in range(len(X_test)):\n",
    "  X_test_tmp.append(name_representation(X_test.iloc[idx], maxlen))\n",
    "  y_test_tmp.append(lang_representation(y_test.iloc[idx], language_to_index))\n",
    "\n",
    "X_test = np.array(X_test_tmp)\n",
    "Y_test = np.vstack(y_test_tmp)\n",
    "\n",
    "### END YOUR CODE"
   ]
  },
  {
   "cell_type": "code",
   "execution_count": 24,
   "metadata": {},
   "outputs": [
    {
     "name": "stdout",
     "output_type": "stream",
     "text": [
      "Epoch 1/10\n",
      "98/98 [==============================] - 1s 8ms/step - loss: 14.4791 - accuracy: 0.1199 - val_loss: 14.5351 - val_accuracy: 0.1288\n",
      "Epoch 2/10\n",
      "98/98 [==============================] - 1s 6ms/step - loss: 14.5162 - accuracy: 0.1243 - val_loss: 14.5351 - val_accuracy: 0.1288\n",
      "Epoch 3/10\n",
      "98/98 [==============================] - 1s 7ms/step - loss: 14.4540 - accuracy: 0.1299 - val_loss: 14.5351 - val_accuracy: 0.1288\n",
      "Epoch 4/10\n",
      "98/98 [==============================] - 1s 6ms/step - loss: 14.5259 - accuracy: 0.1245 - val_loss: 14.5351 - val_accuracy: 0.1288\n",
      "Epoch 5/10\n",
      "98/98 [==============================] - 1s 6ms/step - loss: 14.4960 - accuracy: 0.1224 - val_loss: 14.5351 - val_accuracy: 0.1288\n",
      "Epoch 6/10\n",
      "98/98 [==============================] - 1s 6ms/step - loss: 14.6145 - accuracy: 0.1211 - val_loss: 14.5351 - val_accuracy: 0.1288\n",
      "Epoch 7/10\n",
      "98/98 [==============================] - 1s 6ms/step - loss: 14.5344 - accuracy: 0.1223 - val_loss: 14.5351 - val_accuracy: 0.1288\n",
      "Epoch 8/10\n",
      "98/98 [==============================] - 1s 7ms/step - loss: 14.4463 - accuracy: 0.1235 - val_loss: 14.5351 - val_accuracy: 0.1288\n",
      "Epoch 9/10\n",
      "98/98 [==============================] - 1s 6ms/step - loss: 14.4719 - accuracy: 0.1237 - val_loss: 14.5351 - val_accuracy: 0.1288\n",
      "Epoch 10/10\n",
      "98/98 [==============================] - 1s 6ms/step - loss: 14.4736 - accuracy: 0.1223 - val_loss: 14.5351 - val_accuracy: 0.1288\n"
     ]
    }
   ],
   "source": [
    "### START YOUR CODE\n",
    "\n",
    "# train model\n",
    "model.compile(loss=tf.keras.losses.CategoricalCrossentropy(),\n",
    "              optimizer=\"adam\",\n",
    "              metrics=[\"accuracy\"])\n",
    "\n",
    "log = model.fit(X_train, Y_train, batch_size=batch_size, \\\n",
    "                epochs=nepochs, validation_data=(X_test, Y_test))\n",
    "\n",
    "### END YOUR CODE"
   ]
  },
  {
   "cell_type": "code",
   "execution_count": 25,
   "metadata": {},
   "outputs": [
    {
     "name": "stdout",
     "output_type": "stream",
     "text": [
      "Train accuracy (end): 0.12368421256542206\n",
      "Train accuracy (max): 0.12368421256542206\n",
      "Test accuracy (end) : 0.12882652878761292\n",
      "Test accuracy (max) : 0.12882652878761292\n"
     ]
    },
    {
     "data": {
      "image/png": "[encoded data removed]",
      "text/plain": [
       "<Figure size 432x288 with 1 Axes>"
      ]
     },
     "metadata": {
      "needs_background": "light"
     },
     "output_type": "display_data"
    },
    {
     "data": {
      "image/png": "[encoded data removed]",
      "text/plain": [
       "<Figure size 432x288 with 1 Axes>"
      ]
     },
     "metadata": {
      "needs_background": "light"
     },
     "output_type": "display_data"
    },
    {
     "data": {
      "text/html": [
       "<div>\n",
       "<style scoped>\n",
       "    .dataframe tbody tr th:only-of-type {\n",
       "        vertical-align: middle;\n",
       "    }\n",
       "\n",
       "    .dataframe tbody tr th {\n",
       "        vertical-align: top;\n",
       "    }\n",
       "\n",
       "    .dataframe thead th {\n",
       "        text-align: right;\n",
       "    }\n",
       "</style>\n",
       "<table border=\"1\" class=\"dataframe\">\n",
       "  <thead>\n",
       "    <tr style=\"text-align: right;\">\n",
       "      <th></th>\n",
       "      <th>English</th>\n",
       "      <th>French</th>\n",
       "      <th>Italian</th>\n",
       "      <th>German</th>\n",
       "      <th>Spanish</th>\n",
       "    </tr>\n",
       "  </thead>\n",
       "  <tbody>\n",
       "    <tr>\n",
       "      <th>English</th>\n",
       "      <td>1</td>\n",
       "      <td>2020</td>\n",
       "      <td>4</td>\n",
       "      <td>0</td>\n",
       "      <td>0</td>\n",
       "    </tr>\n",
       "    <tr>\n",
       "      <th>French</th>\n",
       "      <td>1</td>\n",
       "      <td>402</td>\n",
       "      <td>2</td>\n",
       "      <td>0</td>\n",
       "      <td>0</td>\n",
       "    </tr>\n",
       "    <tr>\n",
       "      <th>Italian</th>\n",
       "      <td>0</td>\n",
       "      <td>396</td>\n",
       "      <td>1</td>\n",
       "      <td>0</td>\n",
       "      <td>0</td>\n",
       "    </tr>\n",
       "    <tr>\n",
       "      <th>German</th>\n",
       "      <td>1</td>\n",
       "      <td>162</td>\n",
       "      <td>0</td>\n",
       "      <td>0</td>\n",
       "      <td>0</td>\n",
       "    </tr>\n",
       "    <tr>\n",
       "      <th>Spanish</th>\n",
       "      <td>0</td>\n",
       "      <td>146</td>\n",
       "      <td>0</td>\n",
       "      <td>0</td>\n",
       "      <td>0</td>\n",
       "    </tr>\n",
       "  </tbody>\n",
       "</table>\n",
       "</div>"
      ],
      "text/plain": [
       "         English  French  Italian  German  Spanish\n",
       "English        1    2020        4       0        0\n",
       "French         1     402        2       0        0\n",
       "Italian        0     396        1       0        0\n",
       "German         1     162        0       0        0\n",
       "Spanish        0     146        0       0        0"
      ]
     },
     "execution_count": 25,
     "metadata": {},
     "output_type": "execute_result"
    }
   ],
   "source": [
    "performance_plots(model, X_test, Y_test, log, nepochs)\n",
    "df, cm = confusion_matrix(model, X_test, Y_test)\n",
    "df"
   ]
  },
  {
   "cell_type": "markdown",
   "metadata": {},
   "source": [
    "#### Findings\n",
    "\n",
    "...\n"
   ]
  },
  {
   "cell_type": "markdown",
   "metadata": {},
   "source": [
    "#### In which situations is class imbalance treatment important and why?  \n",
    "\n",
    "...."
   ]
  },
  {
   "cell_type": "markdown",
   "metadata": {},
   "source": [
    "### Implement Model with several SimpleRNN Layers"
   ]
  },
  {
   "cell_type": "code",
   "execution_count": 26,
   "metadata": {},
   "outputs": [
    {
     "name": "stdout",
     "output_type": "stream",
     "text": [
      "Model: \"sequential_1\"\n",
      "_________________________________________________________________\n",
      "Layer (type)                 Output Shape              Param #   \n",
      "=================================================================\n",
      "simple_rnn_1 (SimpleRNN)     (None, 18, 128)           25984     \n",
      "_________________________________________________________________\n",
      "simple_rnn_2 (SimpleRNN)     (None, 18, 128)           32896     \n",
      "_________________________________________________________________\n",
      "simple_rnn_3 (SimpleRNN)     (None, 18, 128)           32896     \n",
      "_________________________________________________________________\n",
      "simple_rnn_4 (SimpleRNN)     (None, 128)               32896     \n",
      "_________________________________________________________________\n",
      "dense_1 (Dense)              (None, 5)                 645       \n",
      "=================================================================\n",
      "Total params: 125,317\n",
      "Trainable params: 125,317\n",
      "Non-trainable params: 0\n",
      "_________________________________________________________________\n"
     ]
    }
   ],
   "source": [
    "### START YOUR CODE\n",
    "\n",
    "model = Sequential()\n",
    "\n",
    "# Input: names in numpy arrays of shape (*,maxlen,len_alphabet)\n",
    "# Input: names in numpy arrays of shape (*,18,74)\n",
    "model.add(Input((maxlen,len_alphabet)))\n",
    "\n",
    "model.add(SimpleRNN(128, return_sequences=True))\n",
    "model.add(SimpleRNN(128, return_sequences=True))\n",
    "model.add(SimpleRNN(128, return_sequences=True))\n",
    "model.add(SimpleRNN(128))\n",
    "model.add(Dense(len(languages)))\n",
    "\n",
    "### END YOUR CODE\n",
    "\n",
    "model.summary()"
   ]
  },
  {
   "cell_type": "code",
   "execution_count": 27,
   "metadata": {},
   "outputs": [
    {
     "name": "stdout",
     "output_type": "stream",
     "text": [
      "Epoch 1/10\n",
      "98/98 [==============================] - 4s 24ms/step - loss: 9.4654 - accuracy: 0.5767 - val_loss: 10.4079 - val_accuracy: 0.6454\n",
      "Epoch 2/10\n",
      "98/98 [==============================] - 2s 21ms/step - loss: 5.9144 - accuracy: 0.6486 - val_loss: 5.7102 - val_accuracy: 0.6457\n",
      "Epoch 3/10\n",
      "98/98 [==============================] - 2s 22ms/step - loss: 5.7186 - accuracy: 0.6450 - val_loss: 5.7102 - val_accuracy: 0.6457\n",
      "Epoch 4/10\n",
      "98/98 [==============================] - 2s 22ms/step - loss: 5.6159 - accuracy: 0.6517 - val_loss: 5.7102 - val_accuracy: 0.6457\n",
      "Epoch 5/10\n",
      "98/98 [==============================] - 2s 21ms/step - loss: 5.6498 - accuracy: 0.6490 - val_loss: 5.7102 - val_accuracy: 0.6457\n",
      "Epoch 6/10\n",
      "98/98 [==============================] - 2s 21ms/step - loss: 5.6287 - accuracy: 0.6505 - val_loss: 5.7102 - val_accuracy: 0.6457\n",
      "Epoch 7/10\n",
      "98/98 [==============================] - 2s 21ms/step - loss: 5.7281 - accuracy: 0.6446 - val_loss: 5.7102 - val_accuracy: 0.6457\n",
      "Epoch 8/10\n",
      "98/98 [==============================] - 2s 22ms/step - loss: 5.7269 - accuracy: 0.6446 - val_loss: 5.7102 - val_accuracy: 0.6457\n",
      "Epoch 9/10\n",
      "98/98 [==============================] - 2s 22ms/step - loss: 5.7785 - accuracy: 0.6415 - val_loss: 5.7102 - val_accuracy: 0.6457\n",
      "Epoch 10/10\n",
      "98/98 [==============================] - 2s 21ms/step - loss: 5.7749 - accuracy: 0.6417 - val_loss: 5.7102 - val_accuracy: 0.6457\n"
     ]
    }
   ],
   "source": [
    "### START YOUR CODE\n",
    "\n",
    "# train model\n",
    "model.compile(loss=tf.keras.losses.CategoricalCrossentropy(),\n",
    "              optimizer=\"adam\",\n",
    "              metrics=[\"accuracy\"])\n",
    "\n",
    "log = model.fit(X_train, Y_train, batch_size=batch_size, \\\n",
    "                epochs=nepochs, validation_data=(X_test, Y_test))\n",
    "\n",
    "### END YOUR CODE"
   ]
  },
  {
   "cell_type": "code",
   "execution_count": 28,
   "metadata": {},
   "outputs": [
    {
     "name": "stdout",
     "output_type": "stream",
     "text": [
      "Train accuracy (end): 0.6469696760177612\n",
      "Train accuracy (max): 0.6469696760177612\n",
      "Test accuracy (end) : 0.6457270383834839\n",
      "Test accuracy (max) : 0.6457270383834839\n"
     ]
    },
    {
     "data": {
      "image/png": "[encoded data removed]",
      "text/plain": [
       "<Figure size 432x288 with 1 Axes>"
      ]
     },
     "metadata": {
      "needs_background": "light"
     },
     "output_type": "display_data"
    },
    {
     "data": {
      "image/png": "[encoded data removed]",
      "text/plain": [
       "<Figure size 432x288 with 1 Axes>"
      ]
     },
     "metadata": {
      "needs_background": "light"
     },
     "output_type": "display_data"
    },
    {
     "data": {
      "text/html": [
       "<div>\n",
       "<style scoped>\n",
       "    .dataframe tbody tr th:only-of-type {\n",
       "        vertical-align: middle;\n",
       "    }\n",
       "\n",
       "    .dataframe tbody tr th {\n",
       "        vertical-align: top;\n",
       "    }\n",
       "\n",
       "    .dataframe thead th {\n",
       "        text-align: right;\n",
       "    }\n",
       "</style>\n",
       "<table border=\"1\" class=\"dataframe\">\n",
       "  <thead>\n",
       "    <tr style=\"text-align: right;\">\n",
       "      <th></th>\n",
       "      <th>English</th>\n",
       "      <th>French</th>\n",
       "      <th>Italian</th>\n",
       "      <th>German</th>\n",
       "      <th>Spanish</th>\n",
       "    </tr>\n",
       "  </thead>\n",
       "  <tbody>\n",
       "    <tr>\n",
       "      <th>English</th>\n",
       "      <td>2024</td>\n",
       "      <td>0</td>\n",
       "      <td>1</td>\n",
       "      <td>0</td>\n",
       "      <td>0</td>\n",
       "    </tr>\n",
       "    <tr>\n",
       "      <th>French</th>\n",
       "      <td>404</td>\n",
       "      <td>1</td>\n",
       "      <td>0</td>\n",
       "      <td>0</td>\n",
       "      <td>0</td>\n",
       "    </tr>\n",
       "    <tr>\n",
       "      <th>Italian</th>\n",
       "      <td>397</td>\n",
       "      <td>0</td>\n",
       "      <td>0</td>\n",
       "      <td>0</td>\n",
       "      <td>0</td>\n",
       "    </tr>\n",
       "    <tr>\n",
       "      <th>German</th>\n",
       "      <td>163</td>\n",
       "      <td>0</td>\n",
       "      <td>0</td>\n",
       "      <td>0</td>\n",
       "      <td>0</td>\n",
       "    </tr>\n",
       "    <tr>\n",
       "      <th>Spanish</th>\n",
       "      <td>146</td>\n",
       "      <td>0</td>\n",
       "      <td>0</td>\n",
       "      <td>0</td>\n",
       "      <td>0</td>\n",
       "    </tr>\n",
       "  </tbody>\n",
       "</table>\n",
       "</div>"
      ],
      "text/plain": [
       "         English  French  Italian  German  Spanish\n",
       "English     2024       0        1       0        0\n",
       "French       404       1        0       0        0\n",
       "Italian      397       0        0       0        0\n",
       "German       163       0        0       0        0\n",
       "Spanish      146       0        0       0        0"
      ]
     },
     "execution_count": 28,
     "metadata": {},
     "output_type": "execute_result"
    }
   ],
   "source": [
    "performance_plots(model, X_test, Y_test, log, nepochs)\n",
    "df, cm = confusion_matrix(model, X_test, Y_test)\n",
    "df"
   ]
  },
  {
   "cell_type": "markdown",
   "metadata": {},
   "source": [
    "#### Findings\n",
    "\n",
    "...\n"
   ]
  }
 ],
 "metadata": {
  "kernelspec": {
   "display_name": "Python 3",
   "language": "python",
   "name": "python3"
  },
  "language_info": {
   "codemirror_mode": {
    "name": "ipython",
    "version": 3
   },
   "file_extension": ".py",
   "mimetype": "text/x-python",
   "name": "python",
   "nbconvert_exporter": "python",
   "pygments_lexer": "ipython3",
   "version": "3.8.5"
  }
 },
 "nbformat": 4,
 "nbformat_minor": 4
}
