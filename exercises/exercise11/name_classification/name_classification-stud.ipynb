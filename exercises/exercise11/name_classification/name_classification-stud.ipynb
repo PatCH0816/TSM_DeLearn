{
 "cells": [
  {
   "cell_type": "code",
   "execution_count": 1,
   "metadata": {
    "scrolled": true
   },
   "outputs": [],
   "source": [
    "import glob\n",
    "import os\n",
    "import string\n",
    "\n",
    "import numpy as np\n",
    "import pandas as pd\n",
    "\n",
    "from matplotlib import pyplot as plt\n",
    "import matplotlib.ticker as ticker\n",
    "\n",
    "from sklearn.metrics import confusion_matrix"
   ]
  },
  {
   "cell_type": "markdown",
   "metadata": {},
   "source": [
    "### Load Data\n",
    "\n",
    "The names can be found in text files in a src directory, one file per language.\n",
    "\n",
    "In the following you can find some utilities to load the data into pandas data frames. \n",
    "\n",
    "We will restrict to some common European languages. \n",
    "\n",
    "With the given selection, we will identify all the occurring characters and initialize an alphabet.<br>\n",
    "For this alphabet, we will use a one-hot-encoding to map them into a vector space representation. \n",
    "\n",
    "Foresee a suitable character for the end of the word, e.g. 'END'."
   ]
  },
  {
   "cell_type": "code",
   "execution_count": 2,
   "metadata": {},
   "outputs": [],
   "source": [
    "srcdir = 'data/names'\n",
    "languages = [\"English\",\"French\",\"Italian\",\"German\",\"Spanish\"]"
   ]
  },
  {
   "cell_type": "code",
   "execution_count": 3,
   "metadata": {},
   "outputs": [],
   "source": [
    "# inspect the data directory\n",
    "def findFiles(path): \n",
    "    return glob.glob(path)"
   ]
  },
  {
   "cell_type": "code",
   "execution_count": 4,
   "metadata": {},
   "outputs": [
    {
     "name": "stdout",
     "output_type": "stream",
     "text": [
      "data/names/Scottish.txt\n",
      "data/names/Vietnamese.txt\n",
      "data/names/English.txt\n",
      "data/names/Italian.txt\n",
      "data/names/Dutch.txt\n",
      "data/names/Portuguese.txt\n",
      "data/names/German.txt\n",
      "data/names/Polish.txt\n",
      "data/names/Irish.txt\n",
      "data/names/Russian.txt\n",
      "data/names/Greek.txt\n",
      "data/names/Czech.txt\n",
      "data/names/Chinese.txt\n",
      "data/names/Japanese.txt\n",
      "data/names/Arabic.txt\n",
      "data/names/Spanish.txt\n",
      "data/names/Korean.txt\n",
      "data/names/French.txt\n"
     ]
    }
   ],
   "source": [
    "print('\\n'.join(findFiles(os.path.join(srcdir,'*.txt'))))"
   ]
  },
  {
   "cell_type": "code",
   "execution_count": 5,
   "metadata": {},
   "outputs": [],
   "source": [
    "# Read a file and split into lines\n",
    "def readLines(filename):\n",
    "    lines = open(filename, encoding='utf-8').read().strip().split('\\n')\n",
    "    return lines\n",
    "\n",
    "def load_data(srcdir, categories=None):\n",
    "    names_list = []\n",
    "    for filename in findFiles(os.path.join(srcdir,'*.txt')):\n",
    "        category = os.path.splitext(os.path.basename(filename))[0]\n",
    "        if not categories or category in categories: \n",
    "            names = readLines(filename)\n",
    "            names_list.extend([(name,category) for name in names])\n",
    "    df = pd.DataFrame(names_list)\n",
    "    df.columns = [\"name\",\"lang\"]\n",
    "    return df"
   ]
  },
  {
   "cell_type": "code",
   "execution_count": 6,
   "metadata": {},
   "outputs": [
    {
     "data": {
      "text/html": [
       "<div>\n",
       "<style scoped>\n",
       "    .dataframe tbody tr th:only-of-type {\n",
       "        vertical-align: middle;\n",
       "    }\n",
       "\n",
       "    .dataframe tbody tr th {\n",
       "        vertical-align: top;\n",
       "    }\n",
       "\n",
       "    .dataframe thead th {\n",
       "        text-align: right;\n",
       "    }\n",
       "</style>\n",
       "<table border=\"1\" class=\"dataframe\">\n",
       "  <thead>\n",
       "    <tr style=\"text-align: right;\">\n",
       "      <th></th>\n",
       "      <th>name</th>\n",
       "      <th>lang</th>\n",
       "    </tr>\n",
       "  </thead>\n",
       "  <tbody>\n",
       "    <tr>\n",
       "      <th>0</th>\n",
       "      <td>Abbas</td>\n",
       "      <td>English</td>\n",
       "    </tr>\n",
       "    <tr>\n",
       "      <th>1</th>\n",
       "      <td>Abbey</td>\n",
       "      <td>English</td>\n",
       "    </tr>\n",
       "    <tr>\n",
       "      <th>2</th>\n",
       "      <td>Abbott</td>\n",
       "      <td>English</td>\n",
       "    </tr>\n",
       "    <tr>\n",
       "      <th>3</th>\n",
       "      <td>Abdi</td>\n",
       "      <td>English</td>\n",
       "    </tr>\n",
       "    <tr>\n",
       "      <th>4</th>\n",
       "      <td>Abel</td>\n",
       "      <td>English</td>\n",
       "    </tr>\n",
       "  </tbody>\n",
       "</table>\n",
       "</div>"
      ],
      "text/plain": [
       "     name     lang\n",
       "0   Abbas  English\n",
       "1   Abbey  English\n",
       "2  Abbott  English\n",
       "3    Abdi  English\n",
       "4    Abel  English"
      ]
     },
     "execution_count": 6,
     "metadata": {},
     "output_type": "execute_result"
    }
   ],
   "source": [
    "names = load_data(srcdir,categories=languages)\n",
    "names.head()"
   ]
  },
  {
   "cell_type": "code",
   "execution_count": 7,
   "metadata": {},
   "outputs": [
    {
     "name": "stdout",
     "output_type": "stream",
     "text": [
      "Maximum name length:  18\n"
     ]
    }
   ],
   "source": [
    "maxlen = np.max([len(name) for name in names.name])\n",
    "print(\"Maximum name length: \", maxlen)"
   ]
  },
  {
   "cell_type": "code",
   "execution_count": 8,
   "metadata": {},
   "outputs": [
    {
     "name": "stdout",
     "output_type": "stream",
     "text": [
      "Size of alphabet:  74\n",
      "[' ', \"'\", 'A', 'B', 'C', 'D', 'E', 'F', 'G', 'H', 'I', 'J', 'K', 'L', 'M', 'N', 'O', 'P', 'Q', 'R', 'S', 'T', 'U', 'V', 'W', 'X', 'Y', 'Z', 'a', 'b', 'c', 'd', 'e', 'f', 'g', 'h', 'i', 'j', 'k', 'l', 'm', 'n', 'o', 'p', 'q', 'r', 's', 't', 'u', 'v', 'w', 'x', 'y', 'z', 'Á', 'É', 'ß', 'à', 'á', 'ä', 'ç', 'è', 'é', 'ê', 'ì', 'í', 'ñ', 'ò', 'ó', 'ö', 'ù', 'ú', 'ü', 'END']\n"
     ]
    }
   ],
   "source": [
    "alphabet = sorted(list(set(''.join([name for name in names.name]))))\n",
    "alphabet.append('END')\n",
    "len_alphabet = len(alphabet)\n",
    "char_index = dict((c, i) for i, c in enumerate(alphabet))\n",
    "print(\"Size of alphabet: \",len_alphabet)\n",
    "print(alphabet)"
   ]
  },
  {
   "cell_type": "code",
   "execution_count": 9,
   "metadata": {},
   "outputs": [
    {
     "data": {
      "text/plain": [
       "lang\n",
       "English    0.646230\n",
       "French     0.048802\n",
       "German     0.127555\n",
       "Italian    0.124912\n",
       "Spanish    0.052502\n",
       "Name: name, dtype: float64"
      ]
     },
     "execution_count": 9,
     "metadata": {},
     "output_type": "execute_result"
    }
   ],
   "source": [
    "names.groupby('lang')['name'].count()/len(names)"
   ]
  },
  {
   "cell_type": "markdown",
   "metadata": {},
   "source": [
    "### Vector Representations\n",
    "\n",
    "Now construct the vector representation by using one-hot-vectors. "
   ]
  },
  {
   "cell_type": "code",
   "execution_count": 10,
   "metadata": {},
   "outputs": [],
   "source": [
    "language_to_index = {country:index for index,country in enumerate(names.lang.unique())}\n",
    "index_to_language = {index:country for index,country in enumerate(names.lang.unique())}\n",
    "\n",
    "def onehot(i, length):\n",
    "    v = np.zeros(length);\n",
    "    v[i] = 1\n",
    "    return v\n",
    "\n",
    "def name_representation(name, maxlen):\n",
    "    ### START YOUR CODE\n",
    "    name_trunc = str(name)[0:maxlen]\n",
    "    size = len(char_index)\n",
    "    vector = [onehot(char_index[j], size) for j in str(name)]\n",
    "    # fill the rest with \n",
    "    for k in range(0,maxlen - len(str(name))):\n",
    "        vector.append(onehot(char_index['END'], size))\n",
    "    return vector\n",
    "    ### START YOUR CODE\n",
    "\n",
    "def lang_representation(language, language_to_index):\n",
    "    y = np.zeros(len(language_to_index))\n",
    "    y[language_to_index[language]]=1\n",
    "    return y\n",
    "\n",
    "def lang_from_output(score):\n",
    "    return index_to_language[np.argmax(score)]\n",
    "\n",
    "def predict(name, model):\n",
    "    score = model.predict(np.array([name_representation(name, maxlen)]))[0]\n",
    "    return lang_from_output(score)"
   ]
  },
  {
   "cell_type": "markdown",
   "metadata": {},
   "source": [
    "### Prepare train/test\n",
    "\n",
    "Split the data into train/test\n",
    "\n",
    "Shuffle the data\n",
    "\n",
    "Transform the names data into a suitable vector respresentation:\n",
    "* names into numpy arrays of shape (*,maxlen,len_alphabet)\n",
    "* language into numpy array of shape (*,len(languages))\n",
    "\n"
   ]
  },
  {
   "cell_type": "code",
   "execution_count": 11,
   "metadata": {},
   "outputs": [],
   "source": [
    "from sklearn.model_selection import train_test_split\n",
    "\n",
    "test_split = 0.2\n",
    "\n",
    "### START YOUR CODE\n",
    "# Shuffle and split names data\n",
    "\n",
    "X_train, X_test, y_train, y_test = train_test_split(names['name'],\n",
    "                                                    names['lang'],\n",
    "                                                    test_size=test_split,\n",
    "                                                    shuffle=True)\n",
    "\n",
    "### END YOUR CODE"
   ]
  },
  {
   "cell_type": "code",
   "execution_count": 12,
   "metadata": {},
   "outputs": [],
   "source": [
    "### START YOUR CODE\n",
    "\n",
    "## Run this cell only once!\n",
    "\n",
    "# Map train data into vector space (one-hot-vectors)\n",
    "X_train_tmp = []\n",
    "y_train_tmp = []\n",
    "\n",
    "for idx in range(len(X_train)):\n",
    "  X_train_tmp.append(name_representation(X_train.iloc[idx], maxlen))\n",
    "  y_train_tmp.append(lang_representation(y_train.iloc[idx], language_to_index))\n",
    "\n",
    "X_train = np.array(X_train_tmp)\n",
    "Y_train = np.vstack(y_train_tmp)\n",
    "\n",
    "# Map test data into vector space (one-hot-vectors)\n",
    "X_test_tmp = []\n",
    "y_test_tmp = []\n",
    "\n",
    "for idx in range(len(X_test)):\n",
    "  X_test_tmp.append(name_representation(X_test.iloc[idx], maxlen))\n",
    "  y_test_tmp.append(lang_representation(y_test.iloc[idx], language_to_index))\n",
    "\n",
    "X_test = np.array(X_test_tmp)\n",
    "Y_test = np.vstack(y_test_tmp)\n",
    "\n",
    "### END YOUR CODE"
   ]
  },
  {
   "cell_type": "code",
   "execution_count": 13,
   "metadata": {},
   "outputs": [],
   "source": [
    "# Check X_train and X_test shapes:\n",
    "# names into numpy arrays of shape (*,maxlen,len_alphabet)\n",
    "np.testing.assert_array_equal(X_train.shape, [4540, 18, 74])\n",
    "np.testing.assert_array_equal(X_test.shape, [1136, 18, 74])\n"
   ]
  },
  {
   "cell_type": "code",
   "execution_count": 14,
   "metadata": {},
   "outputs": [],
   "source": [
    "# Check Y_train and Y_test:\n",
    "# language into numpy array of shape (*,len(languages))\n",
    "np.testing.assert_array_equal(Y_train.shape, [4540, 5])\n",
    "np.testing.assert_array_equal(Y_test.shape, [1136, 5])\n"
   ]
  },
  {
   "cell_type": "markdown",
   "metadata": {},
   "source": [
    "### Utilities"
   ]
  },
  {
   "cell_type": "code",
   "execution_count": 15,
   "metadata": {},
   "outputs": [],
   "source": [
    "def performance_plots(model, X_test, Y_test, log, epochs):    \n",
    "    acc = log.history['accuracy']\n",
    "    val_acc = log.history['val_accuracy']\n",
    "    print('Train accuracy (end):', acc[-1])\n",
    "    print('Train accuracy (max):', np.max(acc))\n",
    "    print('Test accuracy (end) :', val_acc[-1])\n",
    "    print('Test accuracy (max) :', np.max(val_acc))\n",
    "\n",
    "    plt.plot(log.history['accuracy'])\n",
    "    plt.plot(log.history['val_accuracy'])\n",
    "    plt.title('model accuracy')\n",
    "    plt.ylabel('accuracy')\n",
    "    plt.xlabel('epoch')\n",
    "    plt.legend(['train','test'], loc='upper left')\n",
    "    plt.axis([0,epochs,0.0,1.0])\n",
    "    plt.show()\n",
    "\n",
    "    plt.plot(log.history['loss'])\n",
    "    plt.plot(log.history['val_loss'])\n",
    "    plt.title('model loss')\n",
    "    plt.ylabel('loss')\n",
    "    plt.xlabel('epoch')\n",
    "    plt.legend(['train','test'], loc = 'upper left')\n",
    "    plt.axis([0,epochs,0.0,2.0])\n",
    "    plt.show()"
   ]
  },
  {
   "cell_type": "code",
   "execution_count": 16,
   "metadata": {},
   "outputs": [],
   "source": [
    "import sklearn\n",
    "import pandas as pd\n",
    "\n",
    "def confusion_matrix(model, X_test, Y_test):\n",
    "    scores = model.predict(X_test)\n",
    "    predictions = np.argmax(scores, axis=1)\n",
    "    labels = np.argmax(Y_test, axis=1)\n",
    "    nsamples = Y_test.shape[0]\n",
    "    cm = sklearn.metrics.confusion_matrix(labels, predictions)\n",
    "    df = pd.DataFrame({languages[i] : cm[:,i] for i in range(len(languages))}, languages)\n",
    "    return df, cm"
   ]
  },
  {
   "cell_type": "markdown",
   "metadata": {},
   "source": [
    "### Define and Train Model: Single Layer with SimpleRNN\n",
    "\n",
    "Create an RNN consisting of a single layer with a SimpleRNN (keras) and a softmax.\n",
    "\n",
    "Then train the model. Play with different number of hidden units in the layer to obtain a good accuracy."
   ]
  },
  {
   "cell_type": "code",
   "execution_count": 17,
   "metadata": {
    "tags": []
   },
   "outputs": [
    {
     "name": "stdout",
     "output_type": "stream",
     "text": [
      "Model: \"sequential\"\n",
      "_________________________________________________________________\n",
      "Layer (type)                 Output Shape              Param #   \n",
      "=================================================================\n",
      "simple_rnn (SimpleRNN)       (None, 128)               25984     \n",
      "_________________________________________________________________\n",
      "dense (Dense)                (None, 5)                 645       \n",
      "=================================================================\n",
      "Total params: 26,629\n",
      "Trainable params: 26,629\n",
      "Non-trainable params: 0\n",
      "_________________________________________________________________\n"
     ]
    }
   ],
   "source": [
    "### START YOUR CODE\n",
    "\n",
    "import tensorflow as tf\n",
    "from tensorflow.keras.models import Sequential\n",
    "from tensorflow.keras.layers import Input,\\\n",
    "                                    Dense,\\\n",
    "                                    SimpleRNN\n",
    "\n",
    "# SImpleRNN, single layer with tf.keras....\n",
    "\n",
    "model = Sequential()\n",
    "\n",
    "# Input: names in numpy arrays of shape (*,maxlen,len_alphabet)\n",
    "# Input: names in numpy arrays of shape (*,18,74)\n",
    "model.add(Input((maxlen,len_alphabet)))\n",
    "\n",
    "model.add(SimpleRNN(128))\n",
    "model.add(Dense(len(languages)))\n",
    "\n",
    "model.summary()\n",
    "\n",
    "### END YOUR CODE"
   ]
  },
  {
   "cell_type": "code",
   "execution_count": 18,
   "metadata": {},
   "outputs": [],
   "source": [
    "# Training parameters\n",
    "batch_size = 64\n",
    "nepochs = 50\n"
   ]
  },
  {
   "cell_type": "code",
   "execution_count": 19,
   "metadata": {
    "scrolled": false
   },
   "outputs": [
    {
     "name": "stdout",
     "output_type": "stream",
     "text": [
      "Epoch 1/50\n",
      "71/71 [==============================] - 1s 9ms/step - loss: 5.8698 - accuracy: 0.0583 - val_loss: 10.9961 - val_accuracy: 0.0555\n",
      "Epoch 2/50\n",
      "71/71 [==============================] - 0s 4ms/step - loss: 11.3901 - accuracy: 0.0512 - val_loss: 11.0244 - val_accuracy: 0.0555\n",
      "Epoch 3/50\n",
      "71/71 [==============================] - 0s 4ms/step - loss: 11.3337 - accuracy: 0.0509 - val_loss: 11.0244 - val_accuracy: 0.0555\n",
      "Epoch 4/50\n",
      "71/71 [==============================] - 0s 4ms/step - loss: 11.4978 - accuracy: 0.0532 - val_loss: 11.0244 - val_accuracy: 0.0555\n",
      "Epoch 5/50\n",
      "71/71 [==============================] - 0s 4ms/step - loss: 11.2661 - accuracy: 0.0515 - val_loss: 11.0244 - val_accuracy: 0.0555\n",
      "Epoch 6/50\n",
      "71/71 [==============================] - 0s 4ms/step - loss: 11.2590 - accuracy: 0.0555 - val_loss: 11.0244 - val_accuracy: 0.0555\n",
      "Epoch 7/50\n",
      "71/71 [==============================] - 0s 4ms/step - loss: 11.4237 - accuracy: 0.0496 - val_loss: 11.0244 - val_accuracy: 0.0555\n",
      "Epoch 8/50\n",
      "71/71 [==============================] - 0s 4ms/step - loss: 11.2877 - accuracy: 0.0511 - val_loss: 11.0244 - val_accuracy: 0.0555\n",
      "Epoch 9/50\n",
      "71/71 [==============================] - 0s 4ms/step - loss: 11.4057 - accuracy: 0.0462 - val_loss: 11.0244 - val_accuracy: 0.0555\n",
      "Epoch 10/50\n",
      "71/71 [==============================] - 0s 4ms/step - loss: 11.3415 - accuracy: 0.0558 - val_loss: 11.0244 - val_accuracy: 0.0555\n",
      "Epoch 11/50\n",
      "71/71 [==============================] - 0s 4ms/step - loss: 11.5400 - accuracy: 0.0533 - val_loss: 11.0244 - val_accuracy: 0.0555\n",
      "Epoch 12/50\n",
      "71/71 [==============================] - 0s 4ms/step - loss: 11.2784 - accuracy: 0.0507 - val_loss: 11.0244 - val_accuracy: 0.0555\n",
      "Epoch 13/50\n",
      "71/71 [==============================] - 0s 4ms/step - loss: 11.3680 - accuracy: 0.0529 - val_loss: 11.0244 - val_accuracy: 0.0555\n",
      "Epoch 14/50\n",
      "71/71 [==============================] - 0s 4ms/step - loss: 11.4441 - accuracy: 0.0471 - val_loss: 11.0244 - val_accuracy: 0.0555\n",
      "Epoch 15/50\n",
      "71/71 [==============================] - 0s 4ms/step - loss: 11.3975 - accuracy: 0.0478 - val_loss: 11.0244 - val_accuracy: 0.0555\n",
      "Epoch 16/50\n",
      "71/71 [==============================] - 0s 4ms/step - loss: 11.3422 - accuracy: 0.0507 - val_loss: 11.0244 - val_accuracy: 0.0555\n",
      "Epoch 17/50\n",
      "71/71 [==============================] - 0s 4ms/step - loss: 11.1050 - accuracy: 0.0530 - val_loss: 11.0244 - val_accuracy: 0.0555\n",
      "Epoch 18/50\n",
      "71/71 [==============================] - 0s 4ms/step - loss: 11.3015 - accuracy: 0.0510 - val_loss: 11.0244 - val_accuracy: 0.0555\n",
      "Epoch 19/50\n",
      "71/71 [==============================] - 0s 4ms/step - loss: 11.3588 - accuracy: 0.0557 - val_loss: 11.0244 - val_accuracy: 0.0555\n",
      "Epoch 20/50\n",
      "71/71 [==============================] - 0s 4ms/step - loss: 11.5266 - accuracy: 0.0486 - val_loss: 11.0244 - val_accuracy: 0.0555\n",
      "Epoch 21/50\n",
      "71/71 [==============================] - 0s 4ms/step - loss: 11.3378 - accuracy: 0.0574 - val_loss: 11.0244 - val_accuracy: 0.0555\n",
      "Epoch 22/50\n",
      "71/71 [==============================] - 0s 4ms/step - loss: 11.2709 - accuracy: 0.0473 - val_loss: 11.0244 - val_accuracy: 0.0555\n",
      "Epoch 23/50\n",
      "71/71 [==============================] - 0s 4ms/step - loss: 11.4875 - accuracy: 0.0469 - val_loss: 11.0244 - val_accuracy: 0.0555\n",
      "Epoch 24/50\n",
      "71/71 [==============================] - 0s 4ms/step - loss: 11.2581 - accuracy: 0.0520 - val_loss: 11.0244 - val_accuracy: 0.0555\n",
      "Epoch 25/50\n",
      "71/71 [==============================] - 0s 4ms/step - loss: 11.3647 - accuracy: 0.0514 - val_loss: 11.0244 - val_accuracy: 0.0555\n",
      "Epoch 26/50\n",
      "71/71 [==============================] - 0s 4ms/step - loss: 11.4633 - accuracy: 0.0476 - val_loss: 11.0244 - val_accuracy: 0.0555\n",
      "Epoch 27/50\n",
      "71/71 [==============================] - 0s 4ms/step - loss: 11.2284 - accuracy: 0.0551 - val_loss: 11.0244 - val_accuracy: 0.0555\n",
      "Epoch 28/50\n",
      "71/71 [==============================] - 0s 4ms/step - loss: 11.3394 - accuracy: 0.0514 - val_loss: 11.0244 - val_accuracy: 0.0555\n",
      "Epoch 29/50\n",
      "71/71 [==============================] - 0s 4ms/step - loss: 11.3904 - accuracy: 0.0468 - val_loss: 11.0244 - val_accuracy: 0.0555\n",
      "Epoch 30/50\n",
      "71/71 [==============================] - 0s 4ms/step - loss: 11.3362 - accuracy: 0.0534 - val_loss: 11.0244 - val_accuracy: 0.0555\n",
      "Epoch 31/50\n",
      "71/71 [==============================] - 0s 4ms/step - loss: 11.3919 - accuracy: 0.0470 - val_loss: 11.0244 - val_accuracy: 0.0555\n",
      "Epoch 32/50\n",
      "71/71 [==============================] - 0s 4ms/step - loss: 11.5241 - accuracy: 0.0516 - val_loss: 11.0244 - val_accuracy: 0.0555\n",
      "Epoch 33/50\n",
      "71/71 [==============================] - 0s 4ms/step - loss: 11.2826 - accuracy: 0.0466 - val_loss: 11.0244 - val_accuracy: 0.0555\n",
      "Epoch 34/50\n",
      "71/71 [==============================] - 0s 4ms/step - loss: 11.4649 - accuracy: 0.0492 - val_loss: 11.0244 - val_accuracy: 0.0555\n",
      "Epoch 35/50\n",
      "71/71 [==============================] - 0s 4ms/step - loss: 11.4164 - accuracy: 0.0505 - val_loss: 11.0244 - val_accuracy: 0.0555\n",
      "Epoch 36/50\n",
      "71/71 [==============================] - 0s 4ms/step - loss: 11.2442 - accuracy: 0.0515 - val_loss: 11.0244 - val_accuracy: 0.0555\n",
      "Epoch 37/50\n",
      "71/71 [==============================] - 0s 4ms/step - loss: 11.4248 - accuracy: 0.0520 - val_loss: 11.0244 - val_accuracy: 0.0555\n",
      "Epoch 38/50\n",
      "71/71 [==============================] - 0s 4ms/step - loss: 11.2135 - accuracy: 0.0500 - val_loss: 11.0244 - val_accuracy: 0.0555\n",
      "Epoch 39/50\n",
      "71/71 [==============================] - 0s 4ms/step - loss: 11.4716 - accuracy: 0.0499 - val_loss: 11.0244 - val_accuracy: 0.0555\n",
      "Epoch 40/50\n",
      "71/71 [==============================] - 0s 4ms/step - loss: 11.4921 - accuracy: 0.0527 - val_loss: 11.0244 - val_accuracy: 0.0555\n",
      "Epoch 41/50\n",
      "71/71 [==============================] - 0s 4ms/step - loss: 11.3098 - accuracy: 0.0541 - val_loss: 11.0244 - val_accuracy: 0.0555\n",
      "Epoch 42/50\n",
      "71/71 [==============================] - 0s 4ms/step - loss: 11.4547 - accuracy: 0.0514 - val_loss: 11.0244 - val_accuracy: 0.0555\n",
      "Epoch 43/50\n",
      "71/71 [==============================] - 0s 4ms/step - loss: 11.3330 - accuracy: 0.0517 - val_loss: 11.0244 - val_accuracy: 0.0555\n",
      "Epoch 44/50\n",
      "71/71 [==============================] - 0s 4ms/step - loss: 11.3389 - accuracy: 0.0536 - val_loss: 11.0244 - val_accuracy: 0.0555\n",
      "Epoch 45/50\n",
      "71/71 [==============================] - 0s 4ms/step - loss: 11.2604 - accuracy: 0.0556 - val_loss: 11.0244 - val_accuracy: 0.0555\n",
      "Epoch 46/50\n",
      "71/71 [==============================] - 0s 4ms/step - loss: 11.3472 - accuracy: 0.0513 - val_loss: 11.0244 - val_accuracy: 0.0555\n",
      "Epoch 47/50\n",
      "71/71 [==============================] - 0s 4ms/step - loss: 11.3125 - accuracy: 0.0559 - val_loss: 11.0244 - val_accuracy: 0.0555\n",
      "Epoch 48/50\n",
      "71/71 [==============================] - 0s 4ms/step - loss: 11.3765 - accuracy: 0.0497 - val_loss: 11.0244 - val_accuracy: 0.0555\n",
      "Epoch 49/50\n",
      "71/71 [==============================] - 0s 4ms/step - loss: 11.2761 - accuracy: 0.0514 - val_loss: 11.0244 - val_accuracy: 0.0555\n",
      "Epoch 50/50\n",
      "71/71 [==============================] - 0s 4ms/step - loss: 11.2976 - accuracy: 0.0492 - val_loss: 11.0244 - val_accuracy: 0.0555\n"
     ]
    }
   ],
   "source": [
    "### START YOUR CODE\n",
    "\n",
    "# train model\n",
    "model.compile(loss=tf.keras.losses.CategoricalCrossentropy(),\n",
    "              optimizer=\"adam\",\n",
    "              metrics=[\"accuracy\"])\n",
    "\n",
    "log = model.fit(X_train, Y_train, batch_size=batch_size, \\\n",
    "                epochs=nepochs, validation_data=(X_test, Y_test))\n",
    "\n",
    "### END YOUR CODE"
   ]
  },
  {
   "cell_type": "code",
   "execution_count": 20,
   "metadata": {},
   "outputs": [
    {
     "name": "stdout",
     "output_type": "stream",
     "text": [
      "Train accuracy (end): 0.05132158473134041\n",
      "Train accuracy (max): 0.051762115210294724\n",
      "Test accuracy (end) : 0.055457744747400284\n",
      "Test accuracy (max) : 0.055457744747400284\n"
     ]
    },
    {
     "data": {
      "image/png": "[encoded data removed]",
      "text/plain": [
       "<Figure size 432x288 with 1 Axes>"
      ]
     },
     "metadata": {
      "needs_background": "light"
     },
     "output_type": "display_data"
    },
    {
     "data": {
      "image/png": "[encoded data removed]",
      "text/plain": [
       "<Figure size 432x288 with 1 Axes>"
      ]
     },
     "metadata": {
      "needs_background": "light"
     },
     "output_type": "display_data"
    },
    {
     "data": {
      "text/html": [
       "<div>\n",
       "<style scoped>\n",
       "    .dataframe tbody tr th:only-of-type {\n",
       "        vertical-align: middle;\n",
       "    }\n",
       "\n",
       "    .dataframe tbody tr th {\n",
       "        vertical-align: top;\n",
       "    }\n",
       "\n",
       "    .dataframe thead th {\n",
       "        text-align: right;\n",
       "    }\n",
       "</style>\n",
       "<table border=\"1\" class=\"dataframe\">\n",
       "  <thead>\n",
       "    <tr style=\"text-align: right;\">\n",
       "      <th></th>\n",
       "      <th>English</th>\n",
       "      <th>French</th>\n",
       "      <th>Italian</th>\n",
       "      <th>German</th>\n",
       "      <th>Spanish</th>\n",
       "    </tr>\n",
       "  </thead>\n",
       "  <tbody>\n",
       "    <tr>\n",
       "      <th>English</th>\n",
       "      <td>0</td>\n",
       "      <td>0</td>\n",
       "      <td>0</td>\n",
       "      <td>717</td>\n",
       "      <td>4</td>\n",
       "    </tr>\n",
       "    <tr>\n",
       "      <th>French</th>\n",
       "      <td>0</td>\n",
       "      <td>0</td>\n",
       "      <td>0</td>\n",
       "      <td>152</td>\n",
       "      <td>3</td>\n",
       "    </tr>\n",
       "    <tr>\n",
       "      <th>Italian</th>\n",
       "      <td>0</td>\n",
       "      <td>0</td>\n",
       "      <td>0</td>\n",
       "      <td>141</td>\n",
       "      <td>1</td>\n",
       "    </tr>\n",
       "    <tr>\n",
       "      <th>German</th>\n",
       "      <td>0</td>\n",
       "      <td>0</td>\n",
       "      <td>0</td>\n",
       "      <td>62</td>\n",
       "      <td>1</td>\n",
       "    </tr>\n",
       "    <tr>\n",
       "      <th>Spanish</th>\n",
       "      <td>0</td>\n",
       "      <td>0</td>\n",
       "      <td>0</td>\n",
       "      <td>54</td>\n",
       "      <td>1</td>\n",
       "    </tr>\n",
       "  </tbody>\n",
       "</table>\n",
       "</div>"
      ],
      "text/plain": [
       "         English  French  Italian  German  Spanish\n",
       "English        0       0        0     717        4\n",
       "French         0       0        0     152        3\n",
       "Italian        0       0        0     141        1\n",
       "German         0       0        0      62        1\n",
       "Spanish        0       0        0      54        1"
      ]
     },
     "execution_count": 20,
     "metadata": {},
     "output_type": "execute_result"
    }
   ],
   "source": [
    "performance_plots(model, X_test, Y_test, log, nepochs)\n",
    "df, cm = confusion_matrix(model, X_test, Y_test)\n",
    "df"
   ]
  },
  {
   "cell_type": "markdown",
   "metadata": {},
   "source": [
    "### Handle Class Imbalance, Resampling\n",
    "\n",
    "We can observe a quite significant class imbalance in the data.<br>\n",
    "\n",
    "One way to compensate for that would be to use resampling."
   ]
  },
  {
   "cell_type": "code",
   "execution_count": 21,
   "metadata": {},
   "outputs": [],
   "source": [
    "def handle_imbalance(names, languages):\n",
    "\n",
    "    ### START YOUR CODE\n",
    "    \n",
    "    # find max. number of samples of all languages\n",
    "    max_nr_samples = names.groupby('lang')['name'].count().max()\n",
    "\n",
    "    # treat class imbalance\n",
    "    for lang in languages:\n",
    "      act_lang = names.loc[names['lang'] == lang]\n",
    "      nr_samples = act_lang.count()[0]\n",
    "      \n",
    "      # resampling\n",
    "      if (nr_samples < max_nr_samples):\n",
    "        nr_resampled_samples = max_nr_samples - nr_samples\n",
    "        \n",
    "        resamples = act_lang.sample(nr_resampled_samples,\n",
    "                                    replace=True)\n",
    "        names = names.append(resamples)\n",
    "      \n",
    "    names_upsampled = names\n",
    "\n",
    "    ### END YOUR CODE    \n",
    "    return names_upsampled\n"
   ]
  },
  {
   "cell_type": "code",
   "execution_count": 22,
   "metadata": {},
   "outputs": [
    {
     "data": {
      "text/plain": [
       "lang\n",
       "English    0.2\n",
       "French     0.2\n",
       "German     0.2\n",
       "Italian    0.2\n",
       "Spanish    0.2\n",
       "Name: name, dtype: float64"
      ]
     },
     "execution_count": 22,
     "metadata": {},
     "output_type": "execute_result"
    }
   ],
   "source": [
    "names_upsampled = handle_imbalance(names, languages)\n",
    "names_upsampled.groupby('lang')['name'].count()/len(names_upsampled)"
   ]
  },
  {
   "cell_type": "markdown",
   "metadata": {},
   "source": [
    "#### Train Model\n",
    "\n",
    "Again prepare train and test data (X_train, X_test, Y_train, Y_test)\n",
    "\n",
    "Train the same model as above with the new data."
   ]
  },
  {
   "cell_type": "code",
   "execution_count": 23,
   "metadata": {},
   "outputs": [],
   "source": [
    "### START YOUR CODE\n",
    "\n",
    "X_train, X_test, y_train, y_test = train_test_split(names_upsampled['name'],\n",
    "                                                    names_upsampled['lang'],\n",
    "                                                    test_size=test_split,\n",
    "                                                    shuffle=True)\n",
    "\n",
    "## Run this cell only once!\n",
    "\n",
    "# Map train data into vector space (one-hot-vectors)\n",
    "X_train_tmp = []\n",
    "y_train_tmp = []\n",
    "\n",
    "for idx in range(len(X_train)):\n",
    "  X_train_tmp.append(name_representation(X_train.iloc[idx], maxlen))\n",
    "  y_train_tmp.append(lang_representation(y_train.iloc[idx], language_to_index))\n",
    "\n",
    "X_train = np.array(X_train_tmp)\n",
    "Y_train = np.vstack(y_train_tmp)\n",
    "\n",
    "# Map test data into vector space (one-hot-vectors)\n",
    "X_test_tmp = []\n",
    "y_test_tmp = []\n",
    "\n",
    "for idx in range(len(X_test)):\n",
    "  X_test_tmp.append(name_representation(X_test.iloc[idx], maxlen))\n",
    "  y_test_tmp.append(lang_representation(y_test.iloc[idx], language_to_index))\n",
    "\n",
    "X_test = np.array(X_test_tmp)\n",
    "Y_test = np.vstack(y_test_tmp)\n",
    "\n",
    "### END YOUR CODE"
   ]
  },
  {
   "cell_type": "code",
   "execution_count": 24,
   "metadata": {
    "scrolled": false
   },
   "outputs": [
    {
     "name": "stdout",
     "output_type": "stream",
     "text": [
      "Epoch 1/50\n",
      "230/230 [==============================] - 1s 4ms/step - loss: 8.7241 - accuracy: 0.2000 - val_loss: 8.8852 - val_accuracy: 0.1968\n",
      "Epoch 2/50\n",
      "230/230 [==============================] - 1s 4ms/step - loss: 8.7430 - accuracy: 0.1980 - val_loss: 8.8852 - val_accuracy: 0.1968\n",
      "Epoch 3/50\n",
      "230/230 [==============================] - 1s 6ms/step - loss: 8.7265 - accuracy: 0.2010 - val_loss: 8.8852 - val_accuracy: 0.1968\n",
      "Epoch 4/50\n",
      "230/230 [==============================] - 1s 5ms/step - loss: 8.6353 - accuracy: 0.2038 - val_loss: 8.8852 - val_accuracy: 0.1968\n",
      "Epoch 5/50\n",
      "230/230 [==============================] - 1s 4ms/step - loss: 8.5765 - accuracy: 0.1971 - val_loss: 8.8852 - val_accuracy: 0.1968\n",
      "Epoch 6/50\n",
      "230/230 [==============================] - 1s 5ms/step - loss: 8.6348 - accuracy: 0.1955 - val_loss: 8.8852 - val_accuracy: 0.1968\n",
      "Epoch 7/50\n",
      "230/230 [==============================] - 1s 4ms/step - loss: 8.6634 - accuracy: 0.1994 - val_loss: 8.8852 - val_accuracy: 0.1968\n",
      "Epoch 8/50\n",
      "230/230 [==============================] - 1s 4ms/step - loss: 8.7440 - accuracy: 0.1938 - val_loss: 8.8852 - val_accuracy: 0.1968\n",
      "Epoch 9/50\n",
      "230/230 [==============================] - 1s 4ms/step - loss: 8.7376 - accuracy: 0.1993 - val_loss: 8.8852 - val_accuracy: 0.1968\n",
      "Epoch 10/50\n",
      "230/230 [==============================] - 1s 4ms/step - loss: 8.6296 - accuracy: 0.1978 - val_loss: 8.8852 - val_accuracy: 0.1968\n",
      "Epoch 11/50\n",
      "230/230 [==============================] - 1s 4ms/step - loss: 8.6183 - accuracy: 0.1945 - val_loss: 8.8852 - val_accuracy: 0.1968\n",
      "Epoch 12/50\n",
      "230/230 [==============================] - 1s 4ms/step - loss: 8.7222 - accuracy: 0.1992 - val_loss: 8.8852 - val_accuracy: 0.1968\n",
      "Epoch 13/50\n",
      "230/230 [==============================] - 1s 5ms/step - loss: 8.5849 - accuracy: 0.1999 - val_loss: 8.8852 - val_accuracy: 0.1968\n",
      "Epoch 14/50\n",
      "230/230 [==============================] - 1s 4ms/step - loss: 8.6240 - accuracy: 0.1979 - val_loss: 8.8852 - val_accuracy: 0.1968\n",
      "Epoch 15/50\n",
      "230/230 [==============================] - 1s 5ms/step - loss: 8.6717 - accuracy: 0.2065 - val_loss: 8.8852 - val_accuracy: 0.1968\n",
      "Epoch 16/50\n",
      "230/230 [==============================] - 1s 4ms/step - loss: 8.7642 - accuracy: 0.1945 - val_loss: 8.8852 - val_accuracy: 0.1968\n",
      "Epoch 17/50\n",
      "230/230 [==============================] - 1s 4ms/step - loss: 8.7414 - accuracy: 0.1989 - val_loss: 8.8852 - val_accuracy: 0.1968\n",
      "Epoch 18/50\n",
      "230/230 [==============================] - 1s 4ms/step - loss: 8.6758 - accuracy: 0.2002 - val_loss: 8.8852 - val_accuracy: 0.1968\n",
      "Epoch 19/50\n",
      "230/230 [==============================] - 1s 4ms/step - loss: 8.6142 - accuracy: 0.2031 - val_loss: 8.8852 - val_accuracy: 0.1968\n",
      "Epoch 20/50\n",
      "230/230 [==============================] - 1s 4ms/step - loss: 8.7378 - accuracy: 0.1975 - val_loss: 8.8852 - val_accuracy: 0.1968\n",
      "Epoch 21/50\n",
      "230/230 [==============================] - 1s 4ms/step - loss: 8.7226 - accuracy: 0.1986 - val_loss: 8.8852 - val_accuracy: 0.1968\n",
      "Epoch 22/50\n",
      "230/230 [==============================] - 1s 4ms/step - loss: 8.6380 - accuracy: 0.1986 - val_loss: 8.8852 - val_accuracy: 0.1968\n",
      "Epoch 23/50\n",
      "230/230 [==============================] - 1s 4ms/step - loss: 8.6199 - accuracy: 0.2026 - val_loss: 8.8852 - val_accuracy: 0.1968\n",
      "Epoch 24/50\n",
      "230/230 [==============================] - 1s 5ms/step - loss: 8.6298 - accuracy: 0.1992 - val_loss: 8.8852 - val_accuracy: 0.1968\n",
      "Epoch 25/50\n",
      "230/230 [==============================] - 2s 7ms/step - loss: 8.6309 - accuracy: 0.1977 - val_loss: 8.8852 - val_accuracy: 0.1968\n",
      "Epoch 26/50\n",
      "230/230 [==============================] - 1s 4ms/step - loss: 8.7277 - accuracy: 0.2004 - val_loss: 8.8852 - val_accuracy: 0.1968\n",
      "Epoch 27/50\n",
      "230/230 [==============================] - 1s 5ms/step - loss: 8.6537 - accuracy: 0.1953 - val_loss: 8.8852 - val_accuracy: 0.1968\n",
      "Epoch 28/50\n",
      "230/230 [==============================] - 1s 4ms/step - loss: 8.6711 - accuracy: 0.1970 - val_loss: 8.8852 - val_accuracy: 0.1968\n",
      "Epoch 29/50\n",
      "230/230 [==============================] - 1s 4ms/step - loss: 8.6612 - accuracy: 0.2004 - val_loss: 8.8852 - val_accuracy: 0.1968\n",
      "Epoch 30/50\n",
      "230/230 [==============================] - 1s 5ms/step - loss: 8.6114 - accuracy: 0.2024 - val_loss: 8.8852 - val_accuracy: 0.1968\n",
      "Epoch 31/50\n",
      "230/230 [==============================] - 1s 4ms/step - loss: 8.7605 - accuracy: 0.1985 - val_loss: 8.8852 - val_accuracy: 0.1968\n",
      "Epoch 32/50\n",
      "230/230 [==============================] - 1s 5ms/step - loss: 8.6343 - accuracy: 0.1981 - val_loss: 8.8852 - val_accuracy: 0.1968\n",
      "Epoch 33/50\n",
      "230/230 [==============================] - 1s 4ms/step - loss: 8.6943 - accuracy: 0.2009 - val_loss: 8.8852 - val_accuracy: 0.1968\n",
      "Epoch 34/50\n",
      "230/230 [==============================] - 1s 4ms/step - loss: 8.6436 - accuracy: 0.1991 - val_loss: 8.8852 - val_accuracy: 0.1968\n",
      "Epoch 35/50\n",
      "230/230 [==============================] - 1s 4ms/step - loss: 8.6780 - accuracy: 0.2003 - val_loss: 8.8852 - val_accuracy: 0.1968\n",
      "Epoch 36/50\n",
      "230/230 [==============================] - 1s 4ms/step - loss: 8.5774 - accuracy: 0.2031 - val_loss: 8.8852 - val_accuracy: 0.1968\n",
      "Epoch 37/50\n",
      "230/230 [==============================] - 1s 4ms/step - loss: 8.6839 - accuracy: 0.1982 - val_loss: 8.8852 - val_accuracy: 0.1968\n",
      "Epoch 38/50\n",
      "230/230 [==============================] - 1s 4ms/step - loss: 8.6884 - accuracy: 0.1997 - val_loss: 8.8852 - val_accuracy: 0.1968\n",
      "Epoch 39/50\n",
      "230/230 [==============================] - 1s 4ms/step - loss: 8.5073 - accuracy: 0.2014 - val_loss: 8.8852 - val_accuracy: 0.1968\n",
      "Epoch 40/50\n",
      "230/230 [==============================] - 1s 4ms/step - loss: 8.7512 - accuracy: 0.1955 - val_loss: 8.8852 - val_accuracy: 0.1968\n",
      "Epoch 41/50\n",
      "230/230 [==============================] - 1s 4ms/step - loss: 8.6567 - accuracy: 0.1974 - val_loss: 8.8852 - val_accuracy: 0.1968\n",
      "Epoch 42/50\n",
      "230/230 [==============================] - 1s 4ms/step - loss: 8.7721 - accuracy: 0.1974 - val_loss: 8.8852 - val_accuracy: 0.1968\n",
      "Epoch 43/50\n",
      "230/230 [==============================] - 1s 4ms/step - loss: 8.6542 - accuracy: 0.1992 - val_loss: 8.8852 - val_accuracy: 0.1968\n",
      "Epoch 44/50\n",
      "230/230 [==============================] - 1s 4ms/step - loss: 8.6831 - accuracy: 0.1985 - val_loss: 8.8852 - val_accuracy: 0.1968\n",
      "Epoch 45/50\n",
      "230/230 [==============================] - 1s 4ms/step - loss: 8.7338 - accuracy: 0.1957 - val_loss: 8.8852 - val_accuracy: 0.1968\n",
      "Epoch 46/50\n",
      "230/230 [==============================] - 1s 5ms/step - loss: 8.4771 - accuracy: 0.1962 - val_loss: 8.8852 - val_accuracy: 0.1968\n",
      "Epoch 47/50\n",
      "230/230 [==============================] - 1s 4ms/step - loss: 8.7030 - accuracy: 0.2047 - val_loss: 8.8852 - val_accuracy: 0.1968\n",
      "Epoch 48/50\n",
      "230/230 [==============================] - 1s 4ms/step - loss: 8.6728 - accuracy: 0.1995 - val_loss: 8.8852 - val_accuracy: 0.1968\n",
      "Epoch 49/50\n",
      "230/230 [==============================] - 1s 4ms/step - loss: 8.6642 - accuracy: 0.1996 - val_loss: 8.8852 - val_accuracy: 0.1968\n",
      "Epoch 50/50\n",
      "230/230 [==============================] - 1s 4ms/step - loss: 8.5992 - accuracy: 0.2014 - val_loss: 8.8852 - val_accuracy: 0.1968\n"
     ]
    }
   ],
   "source": [
    "### START YOUR CODE\n",
    "\n",
    "# train model\n",
    "model.compile(loss=tf.keras.losses.CategoricalCrossentropy(),\n",
    "              optimizer=\"adam\",\n",
    "              metrics=[\"accuracy\"])\n",
    "\n",
    "log = model.fit(X_train, Y_train, batch_size=batch_size, \\\n",
    "                epochs=nepochs, validation_data=(X_test, Y_test))\n",
    "\n",
    "### END YOUR CODE"
   ]
  },
  {
   "cell_type": "code",
   "execution_count": 25,
   "metadata": {},
   "outputs": [
    {
     "name": "stdout",
     "output_type": "stream",
     "text": [
      "Train accuracy (end): 0.19942748546600342\n",
      "Train accuracy (max): 0.19942748546600342\n",
      "Test accuracy (end) : 0.19683751463890076\n",
      "Test accuracy (max) : 0.19683751463890076\n"
     ]
    },
    {
     "data": {
      "image/png": "[encoded data removed]",
      "text/plain": [
       "<Figure size 432x288 with 1 Axes>"
      ]
     },
     "metadata": {
      "needs_background": "light"
     },
     "output_type": "display_data"
    },
    {
     "data": {
      "image/png": "[encoded data removed]",
      "text/plain": [
       "<Figure size 432x288 with 1 Axes>"
      ]
     },
     "metadata": {
      "needs_background": "light"
     },
     "output_type": "display_data"
    },
    {
     "data": {
      "text/html": [
       "<div>\n",
       "<style scoped>\n",
       "    .dataframe tbody tr th:only-of-type {\n",
       "        vertical-align: middle;\n",
       "    }\n",
       "\n",
       "    .dataframe tbody tr th {\n",
       "        vertical-align: top;\n",
       "    }\n",
       "\n",
       "    .dataframe thead th {\n",
       "        text-align: right;\n",
       "    }\n",
       "</style>\n",
       "<table border=\"1\" class=\"dataframe\">\n",
       "  <thead>\n",
       "    <tr style=\"text-align: right;\">\n",
       "      <th></th>\n",
       "      <th>English</th>\n",
       "      <th>French</th>\n",
       "      <th>Italian</th>\n",
       "      <th>German</th>\n",
       "      <th>Spanish</th>\n",
       "    </tr>\n",
       "  </thead>\n",
       "  <tbody>\n",
       "    <tr>\n",
       "      <th>English</th>\n",
       "      <td>0</td>\n",
       "      <td>0</td>\n",
       "      <td>0</td>\n",
       "      <td>704</td>\n",
       "      <td>5</td>\n",
       "    </tr>\n",
       "    <tr>\n",
       "      <th>French</th>\n",
       "      <td>0</td>\n",
       "      <td>0</td>\n",
       "      <td>0</td>\n",
       "      <td>767</td>\n",
       "      <td>16</td>\n",
       "    </tr>\n",
       "    <tr>\n",
       "      <th>Italian</th>\n",
       "      <td>0</td>\n",
       "      <td>0</td>\n",
       "      <td>0</td>\n",
       "      <td>707</td>\n",
       "      <td>10</td>\n",
       "    </tr>\n",
       "    <tr>\n",
       "      <th>German</th>\n",
       "      <td>0</td>\n",
       "      <td>0</td>\n",
       "      <td>0</td>\n",
       "      <td>716</td>\n",
       "      <td>11</td>\n",
       "    </tr>\n",
       "    <tr>\n",
       "      <th>Spanish</th>\n",
       "      <td>0</td>\n",
       "      <td>0</td>\n",
       "      <td>0</td>\n",
       "      <td>726</td>\n",
       "      <td>6</td>\n",
       "    </tr>\n",
       "  </tbody>\n",
       "</table>\n",
       "</div>"
      ],
      "text/plain": [
       "         English  French  Italian  German  Spanish\n",
       "English        0       0        0     704        5\n",
       "French         0       0        0     767       16\n",
       "Italian        0       0        0     707       10\n",
       "German         0       0        0     716       11\n",
       "Spanish        0       0        0     726        6"
      ]
     },
     "execution_count": 25,
     "metadata": {},
     "output_type": "execute_result"
    }
   ],
   "source": [
    "performance_plots(model, X_test, Y_test, log, nepochs)\n",
    "df, cm = confusion_matrix(model, X_test, Y_test)\n",
    "df"
   ]
  },
  {
   "cell_type": "markdown",
   "metadata": {},
   "source": [
    "#### Findings\n",
    "\n",
    "...\n"
   ]
  },
  {
   "cell_type": "markdown",
   "metadata": {},
   "source": [
    "#### In which situations is class imbalance treatment important and why?  \n",
    "If the classes are theoretically balanced in the real world, the the sample distribution needs to be balanced as well. This name/language classification problem is a perfect example for this situation.  \n",
    "Nevertheless, there are other problems, like the detection of a rare disease, where the sample should represent the real life probability to have the rare disease, so no class balancing should be done. If the classes would be balanced, this would mean, the rare disease would have the same probability to occure as the other diseases."
   ]
  },
  {
   "cell_type": "markdown",
   "metadata": {},
   "source": [
    "### Implement Model with several SimpleRNN Layers"
   ]
  },
  {
   "cell_type": "code",
   "execution_count": 26,
   "metadata": {},
   "outputs": [
    {
     "name": "stdout",
     "output_type": "stream",
     "text": [
      "Model: \"sequential_1\"\n",
      "_________________________________________________________________\n",
      "Layer (type)                 Output Shape              Param #   \n",
      "=================================================================\n",
      "simple_rnn_1 (SimpleRNN)     (None, 18, 128)           25984     \n",
      "_________________________________________________________________\n",
      "simple_rnn_2 (SimpleRNN)     (None, 18, 128)           32896     \n",
      "_________________________________________________________________\n",
      "simple_rnn_3 (SimpleRNN)     (None, 18, 128)           32896     \n",
      "_________________________________________________________________\n",
      "simple_rnn_4 (SimpleRNN)     (None, 128)               32896     \n",
      "_________________________________________________________________\n",
      "dense_1 (Dense)              (None, 5)                 645       \n",
      "=================================================================\n",
      "Total params: 125,317\n",
      "Trainable params: 125,317\n",
      "Non-trainable params: 0\n",
      "_________________________________________________________________\n"
     ]
    }
   ],
   "source": [
    "### START YOUR CODE\n",
    "\n",
    "model = Sequential()\n",
    "\n",
    "# Input: names in numpy arrays of shape (*,maxlen,len_alphabet)\n",
    "# Input: names in numpy arrays of shape (*,18,74)\n",
    "model.add(Input((maxlen,len_alphabet)))\n",
    "\n",
    "model.add(SimpleRNN(128, return_sequences=True))\n",
    "model.add(SimpleRNN(128, return_sequences=True))\n",
    "model.add(SimpleRNN(128, return_sequences=True))\n",
    "model.add(SimpleRNN(128))\n",
    "model.add(Dense(len(languages)))\n",
    "\n",
    "### END YOUR CODE\n",
    "\n",
    "model.summary()"
   ]
  },
  {
   "cell_type": "code",
   "execution_count": 27,
   "metadata": {
    "scrolled": false
   },
   "outputs": [
    {
     "name": "stdout",
     "output_type": "stream",
     "text": [
      "Epoch 1/50\n",
      "230/230 [==============================] - 5s 14ms/step - loss: 1.9115 - accuracy: 0.2466 - val_loss: 2.5761 - val_accuracy: 0.2448\n",
      "Epoch 2/50\n",
      "230/230 [==============================] - 3s 13ms/step - loss: 2.3047 - accuracy: 0.2351 - val_loss: 1.6499 - val_accuracy: 0.2143\n",
      "Epoch 3/50\n",
      "230/230 [==============================] - 3s 13ms/step - loss: 1.6535 - accuracy: 0.2122 - val_loss: 1.7261 - val_accuracy: 0.1977\n",
      "Epoch 4/50\n",
      "230/230 [==============================] - 3s 13ms/step - loss: 1.6432 - accuracy: 0.1794 - val_loss: 1.5996 - val_accuracy: 0.1813\n",
      "Epoch 5/50\n",
      "230/230 [==============================] - 3s 13ms/step - loss: 1.6753 - accuracy: 0.2039 - val_loss: 1.6126 - val_accuracy: 0.2105\n",
      "Epoch 6/50\n",
      "230/230 [==============================] - 3s 13ms/step - loss: 1.6047 - accuracy: 0.1976 - val_loss: 1.5923 - val_accuracy: 0.2186\n",
      "Epoch 7/50\n",
      "230/230 [==============================] - 3s 13ms/step - loss: 1.5985 - accuracy: 0.2054 - val_loss: 1.6085 - val_accuracy: 0.2167\n",
      "Epoch 8/50\n",
      "230/230 [==============================] - 3s 14ms/step - loss: 1.6038 - accuracy: 0.2160 - val_loss: 1.6087 - val_accuracy: 0.2140\n",
      "Epoch 9/50\n",
      "230/230 [==============================] - 3s 14ms/step - loss: 1.6077 - accuracy: 0.2093 - val_loss: 1.6077 - val_accuracy: 0.2244\n",
      "Epoch 10/50\n",
      "230/230 [==============================] - 3s 14ms/step - loss: 1.6290 - accuracy: 0.2240 - val_loss: 1.6377 - val_accuracy: 0.2113\n",
      "Epoch 11/50\n",
      "230/230 [==============================] - 3s 14ms/step - loss: 1.6709 - accuracy: 0.1934 - val_loss: 1.6031 - val_accuracy: 0.1854\n",
      "Epoch 12/50\n",
      "230/230 [==============================] - 3s 14ms/step - loss: 1.6071 - accuracy: 0.1642 - val_loss: 1.5767 - val_accuracy: 0.1407\n",
      "Epoch 13/50\n",
      "230/230 [==============================] - 3s 14ms/step - loss: 1.5681 - accuracy: 0.1298 - val_loss: 1.5317 - val_accuracy: 0.1475\n",
      "Epoch 14/50\n",
      "230/230 [==============================] - 3s 14ms/step - loss: 1.6513 - accuracy: 0.1420 - val_loss: 1.6033 - val_accuracy: 0.2075\n",
      "Epoch 15/50\n",
      "230/230 [==============================] - 3s 13ms/step - loss: 1.5897 - accuracy: 0.2300 - val_loss: 1.5695 - val_accuracy: 0.2437\n",
      "Epoch 16/50\n",
      "230/230 [==============================] - 3s 13ms/step - loss: 1.5703 - accuracy: 0.2526 - val_loss: 1.5621 - val_accuracy: 0.2585\n",
      "Epoch 17/50\n",
      "230/230 [==============================] - 3s 14ms/step - loss: 1.5646 - accuracy: 0.2601 - val_loss: 1.5535 - val_accuracy: 0.2642\n",
      "Epoch 18/50\n",
      "230/230 [==============================] - 3s 13ms/step - loss: 1.5515 - accuracy: 0.2864 - val_loss: 1.5511 - val_accuracy: 0.2824\n",
      "Epoch 19/50\n",
      "230/230 [==============================] - 3s 13ms/step - loss: 1.5479 - accuracy: 0.2853 - val_loss: 1.5406 - val_accuracy: 0.2844\n",
      "Epoch 20/50\n",
      "230/230 [==============================] - 3s 14ms/step - loss: 1.5381 - accuracy: 0.2933 - val_loss: 1.5182 - val_accuracy: 0.3078\n",
      "Epoch 21/50\n",
      "230/230 [==============================] - 3s 14ms/step - loss: 1.5112 - accuracy: 0.3173 - val_loss: 1.5089 - val_accuracy: 0.3143\n",
      "Epoch 22/50\n",
      "230/230 [==============================] - 3s 14ms/step - loss: 1.5191 - accuracy: 0.3091 - val_loss: 1.5144 - val_accuracy: 0.2939\n",
      "Epoch 23/50\n",
      "230/230 [==============================] - 3s 14ms/step - loss: 1.6011 - accuracy: 0.2210 - val_loss: 1.5792 - val_accuracy: 0.1619\n",
      "Epoch 24/50\n",
      "230/230 [==============================] - 3s 14ms/step - loss: 1.5735 - accuracy: 0.1677 - val_loss: 1.5561 - val_accuracy: 0.1330\n",
      "Epoch 25/50\n",
      "230/230 [==============================] - 3s 14ms/step - loss: 1.5572 - accuracy: 0.1441 - val_loss: 1.5705 - val_accuracy: 0.1483\n",
      "Epoch 26/50\n",
      "230/230 [==============================] - 3s 14ms/step - loss: 1.5916 - accuracy: 0.1656 - val_loss: 1.5840 - val_accuracy: 0.1925\n",
      "Epoch 27/50\n",
      "230/230 [==============================] - 3s 14ms/step - loss: 1.5817 - accuracy: 0.1908 - val_loss: 1.5800 - val_accuracy: 0.1925\n",
      "Epoch 28/50\n",
      "230/230 [==============================] - 3s 14ms/step - loss: 1.5725 - accuracy: 0.1877 - val_loss: 1.5612 - val_accuracy: 0.1903\n",
      "Epoch 29/50\n",
      "230/230 [==============================] - 3s 14ms/step - loss: 1.5540 - accuracy: 0.1746 - val_loss: 1.5475 - val_accuracy: 0.1764\n",
      "Epoch 30/50\n",
      "230/230 [==============================] - 3s 14ms/step - loss: 1.5446 - accuracy: 0.1786 - val_loss: 1.5432 - val_accuracy: 0.1780\n",
      "Epoch 31/50\n",
      "230/230 [==============================] - 3s 14ms/step - loss: 1.5367 - accuracy: 0.1786 - val_loss: 1.5339 - val_accuracy: 0.1780\n",
      "Epoch 32/50\n",
      "230/230 [==============================] - 3s 13ms/step - loss: 1.5271 - accuracy: 0.1786 - val_loss: 1.5276 - val_accuracy: 0.1788\n",
      "Epoch 33/50\n",
      "230/230 [==============================] - 3s 14ms/step - loss: 1.5288 - accuracy: 0.1767 - val_loss: 1.5240 - val_accuracy: 0.1788\n",
      "Epoch 34/50\n",
      "230/230 [==============================] - 3s 14ms/step - loss: 1.5246 - accuracy: 0.1778 - val_loss: 1.5233 - val_accuracy: 0.1788\n",
      "Epoch 35/50\n",
      "230/230 [==============================] - 3s 13ms/step - loss: 1.5271 - accuracy: 0.1902 - val_loss: 1.5197 - val_accuracy: 0.1895\n",
      "Epoch 36/50\n",
      "230/230 [==============================] - 3s 14ms/step - loss: 1.5222 - accuracy: 0.1857 - val_loss: 1.5196 - val_accuracy: 0.1887\n",
      "Epoch 37/50\n",
      "230/230 [==============================] - 3s 14ms/step - loss: 1.5196 - accuracy: 0.1845 - val_loss: 1.5197 - val_accuracy: 0.1887\n",
      "Epoch 38/50\n",
      "230/230 [==============================] - 3s 13ms/step - loss: 1.5829 - accuracy: 0.1911 - val_loss: 1.5974 - val_accuracy: 0.1704\n",
      "Epoch 39/50\n",
      "230/230 [==============================] - 3s 13ms/step - loss: 1.5984 - accuracy: 0.1687 - val_loss: 1.5926 - val_accuracy: 0.1516\n",
      "Epoch 40/50\n",
      "230/230 [==============================] - 3s 14ms/step - loss: 1.5955 - accuracy: 0.1592 - val_loss: 1.5917 - val_accuracy: 0.1538\n",
      "Epoch 41/50\n",
      "230/230 [==============================] - 3s 14ms/step - loss: 1.5937 - accuracy: 0.1641 - val_loss: 1.5932 - val_accuracy: 0.1486\n",
      "Epoch 42/50\n",
      "230/230 [==============================] - 3s 13ms/step - loss: 1.5909 - accuracy: 0.1624 - val_loss: 1.5894 - val_accuracy: 0.1521\n",
      "Epoch 43/50\n",
      "230/230 [==============================] - 3s 14ms/step - loss: 1.5910 - accuracy: 0.1620 - val_loss: 1.5886 - val_accuracy: 0.1603\n",
      "Epoch 44/50\n",
      "230/230 [==============================] - 3s 14ms/step - loss: 1.5903 - accuracy: 0.1629 - val_loss: 1.5882 - val_accuracy: 0.1592\n",
      "Epoch 45/50\n",
      "230/230 [==============================] - 3s 15ms/step - loss: 1.5904 - accuracy: 0.1770 - val_loss: 1.5858 - val_accuracy: 0.1606\n",
      "Epoch 46/50\n",
      "230/230 [==============================] - 3s 15ms/step - loss: 1.5900 - accuracy: 0.1692 - val_loss: 1.5998 - val_accuracy: 0.1519\n",
      "Epoch 47/50\n",
      "230/230 [==============================] - 3s 14ms/step - loss: 1.5994 - accuracy: 0.1720 - val_loss: 1.5971 - val_accuracy: 0.1668\n",
      "Epoch 48/50\n",
      "230/230 [==============================] - 3s 13ms/step - loss: 1.5997 - accuracy: 0.1737 - val_loss: 1.5977 - val_accuracy: 0.1652\n",
      "Epoch 49/50\n",
      "230/230 [==============================] - 3s 14ms/step - loss: 1.5983 - accuracy: 0.1728 - val_loss: 1.5949 - val_accuracy: 0.1649\n",
      "Epoch 50/50\n",
      "230/230 [==============================] - 3s 14ms/step - loss: 1.5950 - accuracy: 0.1763 - val_loss: 1.5932 - val_accuracy: 0.1644\n"
     ]
    }
   ],
   "source": [
    "### START YOUR CODE\n",
    "\n",
    "# train model\n",
    "model.compile(loss=tf.keras.losses.CategoricalCrossentropy(),\n",
    "              optimizer=\"adam\",\n",
    "              metrics=[\"accuracy\"])\n",
    "\n",
    "log = model.fit(X_train, Y_train, batch_size=batch_size, \\\n",
    "                epochs=nepochs, validation_data=(X_test, Y_test))\n",
    "\n",
    "### END YOUR CODE"
   ]
  },
  {
   "cell_type": "code",
   "execution_count": 28,
   "metadata": {},
   "outputs": [
    {
     "name": "stdout",
     "output_type": "stream",
     "text": [
      "Train accuracy (end): 0.17189203202724457\n",
      "Train accuracy (max): 0.31222736835479736\n",
      "Test accuracy (end) : 0.16439476609230042\n",
      "Test accuracy (max) : 0.3143402338027954\n"
     ]
    },
    {
     "data": {
      "image/png": "[encoded data removed]",
      "text/plain": [
       "<Figure size 432x288 with 1 Axes>"
      ]
     },
     "metadata": {
      "needs_background": "light"
     },
     "output_type": "display_data"
    },
    {
     "data": {
      "image/png": "[encoded data removed]",
      "text/plain": [
       "<Figure size 432x288 with 1 Axes>"
      ]
     },
     "metadata": {
      "needs_background": "light"
     },
     "output_type": "display_data"
    },
    {
     "data": {
      "text/html": [
       "<div>\n",
       "<style scoped>\n",
       "    .dataframe tbody tr th:only-of-type {\n",
       "        vertical-align: middle;\n",
       "    }\n",
       "\n",
       "    .dataframe tbody tr th {\n",
       "        vertical-align: top;\n",
       "    }\n",
       "\n",
       "    .dataframe thead th {\n",
       "        text-align: right;\n",
       "    }\n",
       "</style>\n",
       "<table border=\"1\" class=\"dataframe\">\n",
       "  <thead>\n",
       "    <tr style=\"text-align: right;\">\n",
       "      <th></th>\n",
       "      <th>English</th>\n",
       "      <th>French</th>\n",
       "      <th>Italian</th>\n",
       "      <th>German</th>\n",
       "      <th>Spanish</th>\n",
       "    </tr>\n",
       "  </thead>\n",
       "  <tbody>\n",
       "    <tr>\n",
       "      <th>English</th>\n",
       "      <td>240</td>\n",
       "      <td>4</td>\n",
       "      <td>104</td>\n",
       "      <td>307</td>\n",
       "      <td>54</td>\n",
       "    </tr>\n",
       "    <tr>\n",
       "      <th>French</th>\n",
       "      <td>327</td>\n",
       "      <td>2</td>\n",
       "      <td>154</td>\n",
       "      <td>293</td>\n",
       "      <td>7</td>\n",
       "    </tr>\n",
       "    <tr>\n",
       "      <th>Italian</th>\n",
       "      <td>217</td>\n",
       "      <td>6</td>\n",
       "      <td>99</td>\n",
       "      <td>325</td>\n",
       "      <td>70</td>\n",
       "    </tr>\n",
       "    <tr>\n",
       "      <th>German</th>\n",
       "      <td>278</td>\n",
       "      <td>12</td>\n",
       "      <td>177</td>\n",
       "      <td>257</td>\n",
       "      <td>3</td>\n",
       "    </tr>\n",
       "    <tr>\n",
       "      <th>Spanish</th>\n",
       "      <td>258</td>\n",
       "      <td>0</td>\n",
       "      <td>165</td>\n",
       "      <td>304</td>\n",
       "      <td>5</td>\n",
       "    </tr>\n",
       "  </tbody>\n",
       "</table>\n",
       "</div>"
      ],
      "text/plain": [
       "         English  French  Italian  German  Spanish\n",
       "English      240       4      104     307       54\n",
       "French       327       2      154     293        7\n",
       "Italian      217       6       99     325       70\n",
       "German       278      12      177     257        3\n",
       "Spanish      258       0      165     304        5"
      ]
     },
     "execution_count": 28,
     "metadata": {},
     "output_type": "execute_result"
    }
   ],
   "source": [
    "performance_plots(model, X_test, Y_test, log, nepochs)\n",
    "df, cm = confusion_matrix(model, X_test, Y_test)\n",
    "df"
   ]
  },
  {
   "cell_type": "markdown",
   "metadata": {},
   "source": [
    "#### Findings\n",
    "\n",
    "...\n"
   ]
  },
  {
   "cell_type": "code",
   "execution_count": null,
   "metadata": {},
   "outputs": [],
   "source": []
  }
 ],
 "metadata": {
  "kernelspec": {
   "display_name": "Python 3",
   "language": "python",
   "name": "python3"
  },
  "language_info": {
   "codemirror_mode": {
    "name": "ipython",
    "version": 3
   },
   "file_extension": ".py",
   "mimetype": "text/x-python",
   "name": "python",
   "nbconvert_exporter": "python",
   "pygments_lexer": "ipython3",
   "version": "3.8.5"
  }
 },
 "nbformat": 4,
 "nbformat_minor": 4
}
